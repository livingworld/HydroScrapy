{
 "cells": [
  {
   "cell_type": "markdown",
   "metadata": {},
   "source": [
    "## 处理选项 "
   ]
  },
  {
   "cell_type": "code",
   "execution_count": 3,
   "metadata": {},
   "outputs": [],
   "source": [
    "import codecs\n",
    "\n",
    "option_a_file = codecs.open('option_a.txt', 'r','utf-8')\n",
    "option_b_file = codecs.open('option_b.txt', 'r','utf-8')\n",
    "option_c_file = codecs.open('option_c.txt', 'r','utf-8')\n",
    "option_d_file = codecs.open('option_d.txt', 'r','utf-8')\n",
    "\n",
    "option_a = option_a_file.readlines()\n",
    "option_b = option_b_file.readlines()\n",
    "option_c = option_c_file.readlines()\n",
    "option_d = option_d_file.readlines()\n",
    "\n",
    "option_a_file.close()\n",
    "option_b_file.close()\n",
    "option_c_file.close()\n",
    "option_d_file.close()"
   ]
  },
  {
   "cell_type": "code",
   "execution_count": 4,
   "metadata": {
    "scrolled": false
   },
   "outputs": [
    {
     "name": "stdout",
     "output_type": "stream",
     "text": [
      "<open file 'option.txt', mode 'wb' at 0x0000000002CBC930>\n"
     ]
    }
   ],
   "source": [
    "import codecs\n",
    "\n",
    "option= codecs.open('option.txt', 'w','utf-8')\n",
    "\n",
    "for i in range(len(option_a)):\n",
    "    option.write(option_a[i].strip().replace(u'A\\uff0e','')\n",
    "                 +u'<br>'+option_b[i].strip().replace(u'B\\uff0e','')\n",
    "                 +u'<br>'+option_c[i].strip().replace(u'C\\uff0e','')\n",
    "                 +u'<br>'+option_d[i].replace(u'D\\uff0e','')\n",
    "                 )\n",
    "print(option)\n",
    "option.close()"
   ]
  },
  {
   "cell_type": "code",
   "execution_count": 5,
   "metadata": {
    "scrolled": true
   },
   "outputs": [
    {
     "data": {
      "text/plain": [
       "u'A\\uff0e'"
      ]
     },
     "execution_count": 5,
     "metadata": {},
     "output_type": "execute_result"
    }
   ],
   "source": [
    "u'A．'"
   ]
  },
  {
   "cell_type": "markdown",
   "metadata": {},
   "source": [
    "## 处理问题"
   ]
  },
  {
   "cell_type": "code",
   "execution_count": 6,
   "metadata": {
    "collapsed": true
   },
   "outputs": [],
   "source": [
    "import codecs\n",
    "\n",
    "question_file = codecs.open('question.txt', 'r','utf-8')"
   ]
  },
  {
   "cell_type": "code",
   "execution_count": 8,
   "metadata": {},
   "outputs": [],
   "source": [
    "question = question_file.readlines()"
   ]
  },
  {
   "cell_type": "code",
   "execution_count": null,
   "metadata": {},
   "outputs": [],
   "source": [
    "u'（　　）'"
   ]
  },
  {
   "cell_type": "code",
   "execution_count": null,
   "metadata": {},
   "outputs": [],
   "source": [
    "question"
   ]
  }
 ],
 "metadata": {
  "kernelspec": {
   "display_name": "Python 2",
   "language": "python",
   "name": "python2"
  },
  "language_info": {
   "codemirror_mode": {
    "name": "ipython",
    "version": 2
   },
   "file_extension": ".py",
   "mimetype": "text/x-python",
   "name": "python",
   "nbconvert_exporter": "python",
   "pygments_lexer": "ipython2",
   "version": "2.7.13"
  }
 },
 "nbformat": 4,
 "nbformat_minor": 2
}

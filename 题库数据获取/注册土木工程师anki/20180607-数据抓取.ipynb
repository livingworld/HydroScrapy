{
 "cells": [
  {
   "cell_type": "markdown",
   "metadata": {},
   "source": [
    "# 使用selenium和bs4爬虫\n",
    "\n",
    "## 1.selenium的使用"
   ]
  },
  {
   "cell_type": "markdown",
   "metadata": {},
   "source": [
    "import os,time\n",
    "from selenium import webdriver\n",
    "from bs4 import BeautifulSoup\n",
    "chromedriver = \"C:\\\\Program Files (x86)\\\\Google\\\\Chrome\\\\Application\\\\chromedriver.exe\"#chrome所在驱动\n",
    "os.environ[\"webdriver.chrome.driver\"] = chromedriver\n",
    "driver = webdriver.Chrome(chromedriver)\n",
    "driver.get('http://user.100xuexi.com/MyDeal/myEBookPurchase.aspx')\n",
    "time.sleep(2)"
   ]
  },
  {
   "cell_type": "markdown",
   "metadata": {},
   "source": [
    "driver.find_element_by_id('username').send_keys('18775325832')#"
   ]
  },
  {
   "cell_type": "markdown",
   "metadata": {},
   "source": [
    "driver.find_element_by_id('txtVerify').clear()#验证码\n",
    "driver.find_element_by_id('txtVerify').send_keys('69')#验证码"
   ]
  },
  {
   "cell_type": "markdown",
   "metadata": {},
   "source": [
    "#driver.find_element_by_xpath('//*[@id=\"conPurchaseA1\"]/table/tbody/tr[3]/td[2]/a').click();\n",
    "driver.find_element_by_xpath('//*[@id=\"regNow\"]').click();"
   ]
  },
  {
   "cell_type": "markdown",
   "metadata": {},
   "source": [
    "driver.find_element_by_xpath('//*[@id=\"PurchaseA2\"]').click();"
   ]
  },
  {
   "cell_type": "markdown",
   "metadata": {},
   "source": [
    "#接下来会有新的窗口打开，获取所有窗口句柄\n",
    "windows = driver.window_handles\n",
    "driver.switch_to.window(windows[-2])"
   ]
  },
  {
   "cell_type": "markdown",
   "metadata": {},
   "source": [
    "driver.find_element_by_xpath('//*[@id=\"lefter\"]/div/div[1]/a').click();\n",
    "#/PracticeCenter/Chapter/Index?TQuestionPlanID=2997&groupName=&code=&tb_l_PaperQuePlanID=86215&Model=chapter&TypeMenuFlag=2\n",
    "#/PracticeCenter/Chapter/Index?TQuestionPlanID=2997&groupName=&code=&tb_l_PaperQuePlanID=86216&Model=chapter&TypeMenuFlag=2\n",
    "#item表示章，li后的数字表示节"
   ]
  },
  {
   "cell_type": "markdown",
   "metadata": {},
   "source": [
    "#driver.find_element_by_xpath('//*[@id=\"item01\"]/li[2]/a').click();"
   ]
  },
  {
   "cell_type": "markdown",
   "metadata": {},
   "source": [
    "## 2.解析成html"
   ]
  },
  {
   "cell_type": "code",
   "execution_count": 2150,
   "metadata": {
    "collapsed": true
   },
   "outputs": [],
   "source": [
    "html = driver.page_source\n",
    "soup = BeautifulSoup(html, \"html5lib\")"
   ]
  },
  {
   "cell_type": "markdown",
   "metadata": {},
   "source": [
    "## 3.html文件解析"
   ]
  },
  {
   "cell_type": "markdown",
   "metadata": {},
   "source": [
    "### 1.解析问题"
   ]
  },
  {
   "cell_type": "code",
   "execution_count": 2151,
   "metadata": {
    "collapsed": true
   },
   "outputs": [],
   "source": [
    "import re"
   ]
  },
  {
   "cell_type": "code",
   "execution_count": 2152,
   "metadata": {
    "collapsed": true
   },
   "outputs": [],
   "source": [
    "baseurl_item = u'7.6 设计年径流'\n",
    "single_baseurl = u'注册土木工程师anki\\\\专业基础\\\\'+ baseurl_item+ u'\\\\'"
   ]
  },
  {
   "cell_type": "code",
   "execution_count": 2153,
   "metadata": {},
   "outputs": [
    {
     "data": {
      "text/plain": [
       "'注册土木工程师anki\\\\专业基础\\\\7.6 设计年径流\\\\'"
      ]
     },
     "execution_count": 2153,
     "metadata": {},
     "output_type": "execute_result"
    }
   ],
   "source": [
    "single_baseurl"
   ]
  },
  {
   "cell_type": "code",
   "execution_count": 2154,
   "metadata": {
    "collapsed": true
   },
   "outputs": [],
   "source": [
    "content_all = soup.find_all(\"div\",attrs={\"class\":\"nodeItem\"})"
   ]
  },
  {
   "cell_type": "code",
   "execution_count": 2155,
   "metadata": {
    "collapsed": true,
    "scrolled": true
   },
   "outputs": [],
   "source": [
    "#soup.find('div',class_='ItemBotCompose').decompose()"
   ]
  },
  {
   "cell_type": "code",
   "execution_count": 2156,
   "metadata": {
    "collapsed": true,
    "scrolled": true
   },
   "outputs": [],
   "source": [
    "# replace with `soup.findAll` if you are using BeautifulSoup3\n",
    "for div in soup.find_all(\"div\", {'class':'Item config'}): \n",
    "    if len(div.find_all(\"div\", {'class':'ItemBotCompose'}))!=0:\n",
    "        div.decompose() #将满足调节的 div 项删除"
   ]
  },
  {
   "cell_type": "code",
   "execution_count": 2157,
   "metadata": {
    "collapsed": true
   },
   "outputs": [],
   "source": [
    "single_content_all = []\n",
    "\n",
    "single_content_all = content_all[0].find_all(\"div\",attrs={\"class\":\"question config\"})\n",
    "if len(content_all)>1:\n",
    "    multiple_content_all = content_all[1].find_all(\"div\",attrs={\"class\":\"question config\"})"
   ]
  },
  {
   "cell_type": "code",
   "execution_count": 2158,
   "metadata": {},
   "outputs": [
    {
     "data": {
      "text/plain": [
       "46"
      ]
     },
     "execution_count": 2158,
     "metadata": {},
     "output_type": "execute_result"
    }
   ],
   "source": [
    "len(single_content_all)"
   ]
  },
  {
   "cell_type": "markdown",
   "metadata": {},
   "source": [
    "单选"
   ]
  },
  {
   "cell_type": "code",
   "execution_count": 2159,
   "metadata": {
    "collapsed": true,
    "scrolled": true
   },
   "outputs": [],
   "source": [
    "single_question = []\n",
    "\n",
    "for i in range(len(single_content_all)):\n",
    "    single_contents = single_content_all[i].dt.contents\n",
    "    #print(contents_single)\n",
    "    single_s = ''\n",
    "    for j in single_contents:#单选\n",
    "        single_s = single_s+str(j)\n",
    "    single_question.append(re.sub('[\\n]','',single_s))"
   ]
  },
  {
   "cell_type": "code",
   "execution_count": 2160,
   "metadata": {},
   "outputs": [
    {
     "name": "stdout",
     "output_type": "stream",
     "text": [
      "46\n"
     ]
    }
   ],
   "source": [
    "print(len(single_question))"
   ]
  },
  {
   "cell_type": "markdown",
   "metadata": {},
   "source": [
    "保存数据"
   ]
  },
  {
   "cell_type": "code",
   "execution_count": 2161,
   "metadata": {
    "collapsed": true
   },
   "outputs": [],
   "source": [
    "#question_file = open('question_file.txt', 'w')\n",
    "import codecs\n",
    "\n",
    "single_folder = os.path.exists(single_baseurl)\n",
    "#multiple_folder = os.path.exists(multiple_baseurl)\n",
    "if not single_folder:                   #判断是否存在文件夹如果不存在则创建为文件夹\n",
    "    os.makedirs(single_baseurl)\n",
    "                \n",
    "#if not multiple_folder:                   #判断是否存在文件夹如果不存在则创建为文件夹\n",
    "#    os.makedirs(multiple_baseurl)\n",
    "                \n",
    "single_question_file = codecs.open(single_baseurl + 'single_question.txt', 'w','utf-8')\n",
    "#multiple_question_file = codecs.open(multiple_baseurl + 'multiple_question.txt', 'w','utf-8')\n",
    "\n",
    "for item in single_question:\n",
    "    single_question_file.write(\"%s\\r\\n\" % item)\n",
    "    \n",
    "#for item in multiple_question:\n",
    "#    multiple_question_file.write(\"%s\\r\\n\" % item)\n",
    "    \n",
    "single_question_file.close()\n",
    "#multiple_question_file.close()"
   ]
  },
  {
   "cell_type": "markdown",
   "metadata": {},
   "source": [
    "### 2.解析选项"
   ]
  },
  {
   "cell_type": "code",
   "execution_count": 2162,
   "metadata": {
    "collapsed": true
   },
   "outputs": [],
   "source": [
    "option_all = soup.find_all(\"div\",attrs={\"class\":\"nodeItem\"})"
   ]
  },
  {
   "cell_type": "markdown",
   "metadata": {},
   "source": [
    "区别单选和多选"
   ]
  },
  {
   "cell_type": "code",
   "execution_count": 2163,
   "metadata": {
    "collapsed": true,
    "scrolled": true
   },
   "outputs": [],
   "source": [
    "single_option_all = option_all[0].find_all(\"div\",attrs={\"class\":\"question config\"})\n",
    "if len(option_all)>1:\n",
    "    multiple_option_all = option_all[1].find_all(\"div\",attrs={\"class\":\"question config\"})\n",
    "else:\n",
    "    multiple_option_all = []"
   ]
  },
  {
   "cell_type": "code",
   "execution_count": 2164,
   "metadata": {
    "scrolled": false
   },
   "outputs": [
    {
     "data": {
      "text/plain": [
       "46"
      ]
     },
     "execution_count": 2164,
     "metadata": {},
     "output_type": "execute_result"
    }
   ],
   "source": [
    "len(single_option_all)"
   ]
  },
  {
   "cell_type": "code",
   "execution_count": 2165,
   "metadata": {},
   "outputs": [
    {
     "data": {
      "text/plain": [
       "'\\n_single_option_a = \\'\\'\\nfor i in single_option_all[11].table.tbody.find_all(\"label\")[2].children:\\n    if \\'input\\' in str(i):\\n        pass\\n    else:\\n        if \\'A.\\' in str(i):\\n            _single_option_a = _single_option_a + re.sub(\\'[\\r|\\n|\\t|\\\\s]\\', \\'\\',str(i))\\n        else:\\n            if \\'img\\' not in str(i):\\n                _single_option_a = _single_option_a + re.sub(\\'[\\r|\\n|\\t|\\\\s]\\', \\'\\',str(i))\\n            else:\\n                _single_option_a = _single_option_a + str(i)\\n#single_option_a.append(_single_option_a)\\n_single_option_a\\n'"
      ]
     },
     "execution_count": 2165,
     "metadata": {},
     "output_type": "execute_result"
    }
   ],
   "source": [
    "\"\"\"\n",
    "_single_option_a = ''\n",
    "for i in single_option_all[11].table.tbody.find_all(\"label\")[2].children:\n",
    "    if 'input' in str(i):\n",
    "        pass\n",
    "    else:\n",
    "        if 'A.' in str(i):\n",
    "            _single_option_a = _single_option_a + re.sub('[\\r|\\n|\\t|\\\\s]', '',str(i))\n",
    "        else:\n",
    "            if 'img' not in str(i):\n",
    "                _single_option_a = _single_option_a + re.sub('[\\r|\\n|\\t|\\\\s]', '',str(i))\n",
    "            else:\n",
    "                _single_option_a = _single_option_a + str(i)\n",
    "#single_option_a.append(_single_option_a)\n",
    "_single_option_a\n",
    "\"\"\""
   ]
  },
  {
   "cell_type": "markdown",
   "metadata": {},
   "source": [
    "单选"
   ]
  },
  {
   "cell_type": "code",
   "execution_count": 2166,
   "metadata": {
    "scrolled": true
   },
   "outputs": [
    {
     "name": "stdout",
     "output_type": "stream",
     "text": [
      "0\n",
      "1\n",
      "2\n",
      "3\n",
      "4\n",
      "5\n",
      "6\n",
      "7\n",
      "8\n",
      "9\n",
      "10\n",
      "11\n",
      "12\n",
      "13\n",
      "14\n",
      "15\n",
      "16\n",
      "17\n",
      "18\n",
      "19\n",
      "20\n",
      "21\n",
      "22\n",
      "23\n",
      "24\n",
      "25\n",
      "26\n",
      "27\n",
      "28\n",
      "29\n",
      "30\n",
      "31\n",
      "32\n",
      "33\n",
      "34\n",
      "35\n",
      "36\n",
      "37\n",
      "38\n",
      "39\n",
      "40\n",
      "41\n",
      "42\n",
      "43\n",
      "44\n",
      "45\n"
     ]
    },
    {
     "data": {
      "text/plain": [
       "['D．样本分布参数与总体分布参数的接近程度',\n",
       " 'D．年最大的洪水',\n",
       " 'D．可行性、代表性、一致性',\n",
       " 'D．考虑安全',\n",
       " 'D．设计值偏于安全原则',\n",
       " 'D．峰型特征',\n",
       " 'D．涨洪历时',\n",
       " 'D．用相关分析法推求',\n",
       " 'D．固定时段最小值法',\n",
       " 'D．由历史洪水调查考证确定',\n",
       " 'D．经验频率和统计参数的计算',\n",
       " 'D．<img height=\"27\" src=\"http://admintk.100xuexi.com/UpLoadImage/2013-05-07/0a13eaf4-ef0b-4813-b2dd-7f0604da4e56.png\" width=\"81\"/>，C<sub>SN=</sub>C<sub>Sn</sub>',\n",
       " 'D．同一测站，随历时增长，设计洪量增值增大，',\n",
       " 'D．50%',\n",
       " 'D．经验确定',\n",
       " 'D．不能肯定',\n",
       " 'D．不能肯定',\n",
       " 'D．必须是单峰',\n",
       " 'D．频率控制的倍比',\n",
       " 'D．峰和量都不等于设计值',\n",
       " 'D．峰和量都不等于设计值',\n",
       " 'D．峰和量都不等于设计值',\n",
       " 'D．典型洪水历时长，洪量较大',\n",
       " 'D．峰、短历时洪量、长历时洪量',\n",
       " 'D．典型洪水过程线的变化趋势',\n",
       " 'D．成果鉴定验收',\n",
       " 'D．本流域年降水资料',\n",
       " 'D．检查洪水的大小',\n",
       " 'D．检查系列的长短',\n",
       " 'D．检查洪水的大小',\n",
       " 'D．100',\n",
       " 'D．4～5',\n",
       " 'D．参证变量长系列与设计变量非同期的参证变量系列',\n",
       " 'D．年径流的均值、C<sub>v</sub>、最大值和最小值',\n",
       " 'D．经验分析',\n",
       " 'D．水文调查法',\n",
       " 'D．水文调查法',\n",
       " 'D．25%',\n",
       " 'D．年径流量',\n",
       " 'D．相同',\n",
       " 'D．减去',\n",
       " 'D．不宜',\n",
       " 'D．与设计断面距离较近',\n",
       " 'D．大暴雨资料容易收集',\n",
       " 'D．与大洪水时段对应的时段年最大值法',\n",
       " 'D．可以用流域中心站设计点雨量乘以点面折算系数代表']"
      ]
     },
     "execution_count": 2166,
     "metadata": {},
     "output_type": "execute_result"
    }
   ],
   "source": [
    "single_option_a = []\n",
    "single_option_b = []\n",
    "single_option_c = []\n",
    "single_option_d = []\n",
    "for option_i in range(len(single_option_all)):\n",
    "    \n",
    "    print(option_i)\n",
    "    _single_option_a = ''\n",
    "    _single_option_b = ''\n",
    "    _single_option_c = ''\n",
    "    _single_option_d = ''\n",
    "    \n",
    "    for i in single_option_all[option_i].table.tbody.find_all(\"label\")[0].children:\n",
    "        if 'input' in str(i):\n",
    "            pass\n",
    "        else:\n",
    "            if 'img' not in str(i):\n",
    "                _single_option_a = _single_option_a + re.sub('[\\r|\\n|\\t|\\\\s]', '',str(i))\n",
    "            else:\n",
    "                _single_option_a = _single_option_a + str(i)\n",
    "    single_option_a.append(_single_option_a)\n",
    "    \n",
    "    for i in single_option_all[option_i].table.tbody.find_all(\"label\")[1].children:\n",
    "        if 'input' in str(i):\n",
    "            pass\n",
    "        else:\n",
    "            if 'img' not in str(i):\n",
    "                _single_option_b = _single_option_b + re.sub('[\\r|\\n|\\t|\\\\s]', '',str(i))\n",
    "            else:\n",
    "                _single_option_b = _single_option_b + str(i)\n",
    "    single_option_b.append(_single_option_b)\n",
    "    \n",
    "    if len(single_option_all[option_i].table.tbody.find_all(\"label\")) == 2:\n",
    "        single_option_c.append('C．'+'null')\n",
    "    else:\n",
    "        for i in single_option_all[option_i].table.tbody.find_all(\"label\")[2].children:\n",
    "            if 'input' in str(i):\n",
    "                pass\n",
    "            else:\n",
    "                if 'img' not in str(i):\n",
    "                    _single_option_c = _single_option_c + re.sub('[\\r|\\n|\\t|\\\\s]', '',str(i))\n",
    "                else:\n",
    "                    _single_option_c = _single_option_c + str(i)\n",
    "        single_option_c.append(_single_option_c)\n",
    "    \n",
    "    if len(single_option_all[option_i].table.tbody.find_all(\"label\"))!=4:\n",
    "        single_option_d.append('D．'+'null')\n",
    "    else:\n",
    "        for i in single_option_all[option_i].table.tbody.find_all(\"label\")[3].children:\n",
    "            if 'input' in str(i):\n",
    "                pass\n",
    "            else:\n",
    "                if 'img' not in str(i):\n",
    "                    _single_option_d = _single_option_d + re.sub('[\\r|\\n|\\t|\\\\s]', '',str(i))\n",
    "                else:\n",
    "                    _single_option_d = _single_option_d + str(i)\n",
    "        single_option_d.append(_single_option_d)\n",
    "    \n",
    "    \n",
    "    \"\"\"\n",
    "    if single_option_all[option_i].table.tbody.find_all(\"label\")[0].find_all(\"img\") != []:\n",
    "        #print(re.sub('[\\r|\\n|\\t|\\\\s]', '', single_option_all[option_i].table.tbody.find_all(\"label\")[0].find_all(\"img\")))\n",
    "        single_option_a.append('A．'+str(single_option_all[option_i].table.tbody.find_all(\"label\")[0].find_all(\"img\")[0]))\n",
    "    else:\n",
    "        single_option_a.append(re.sub('[\\r|\\n|\\t|\\\\s]', '', single_option_all[option_i].table.tbody.find_all(\"label\")[0].get_text()))\n",
    "        \n",
    "    if single_option_all[option_i].table.tbody.find_all(\"label\")[1].find_all(\"img\") != []:\n",
    "        #print(re.sub('[\\r|\\n|\\t|\\\\s]', '', single_option_all[option_i].table.tbody.find_all(\"label\")[0].find_all(\"img\")))\n",
    "        single_option_b.append('B．'+str(single_option_all[option_i].table.tbody.find_all(\"label\")[1].find_all(\"img\")[0]))\n",
    "    else:\n",
    "        single_option_b.append(re.sub('[\\r|\\n|\\t|\\\\s]', '', single_option_all[option_i].table.tbody.find_all(\"label\")[1].get_text()))\n",
    "    \n",
    "    if single_option_all[option_i].table.tbody.find_all(\"label\")[2].find_all(\"img\") != []:\n",
    "        #print(re.sub('[\\r|\\n|\\t|\\\\s]', '', single_option_all[option_i].table.tbody.find_all(\"label\")[0].find_all(\"img\")))\n",
    "        single_option_c.append('C．'+str(single_option_all[option_i].table.tbody.find_all(\"label\")[2].find_all(\"img\")[0]))\n",
    "    else:\n",
    "        single_option_c.append(re.sub('[\\r|\\n|\\t|\\\\s]', '', single_option_all[option_i].table.tbody.find_all(\"label\")[2].get_text()))\n",
    "    \n",
    "    if len(single_option_all[option_i].table.tbody.find_all(\"label\"))!=4:\n",
    "        single_option_d.append('D．'+'null')\n",
    "    else:\n",
    "        if single_option_all[option_i].table.tbody.find_all(\"label\")[3].find_all(\"img\") != []:\n",
    "            #print(re.sub('[\\r|\\n|\\t|\\\\s]', '', single_option_all[option_i].table.tbody.find_all(\"label\")[0].find_all(\"img\")))\n",
    "            single_option_d.append('D．'+str(single_option_all[option_i].table.tbody.find_all(\"label\")[3].find_all(\"img\")[0]))\n",
    "        else:\n",
    "            single_option_d.append(re.sub('[\\r|\\n|\\t|\\\\s]', '', single_option_all[option_i].table.tbody.find_all(\"label\")[3].get_text()))\n",
    "    \"\"\"\n",
    "    \n",
    "    #single_option_b.append(re.sub('[\\r|\\n|\\t|\\\\s]', '', single_option_all[option_i].table.tbody.find_all(\"label\")[1].get_text()))\n",
    "    #single_option_c.append(re.sub('[\\r|\\n|\\t|\\\\s]', '', single_option_all[option_i].table.tbody.find_all(\"label\")[2].get_text()))\n",
    "    #single_option_d.append(re.sub('[\\r|\\n|\\t|\\\\s]', '', single_option_all[option_i].table.tbody.find_all(\"label\")[3].get_text()))\n",
    "single_option_d"
   ]
  },
  {
   "cell_type": "code",
   "execution_count": 2167,
   "metadata": {
    "scrolled": false
   },
   "outputs": [
    {
     "data": {
      "text/plain": [
       "'A．是否有特大洪水'"
      ]
     },
     "execution_count": 2167,
     "metadata": {},
     "output_type": "execute_result"
    }
   ],
   "source": [
    "single_option_a[0]"
   ]
  },
  {
   "cell_type": "markdown",
   "metadata": {},
   "source": [
    "保存单选选项"
   ]
  },
  {
   "cell_type": "code",
   "execution_count": 2168,
   "metadata": {
    "collapsed": true
   },
   "outputs": [],
   "source": [
    "import codecs\n",
    "\n",
    "single_option_a_file = codecs.open(single_baseurl + 'single_option_a.txt', 'w','utf-8')\n",
    "single_option_b_file = codecs.open(single_baseurl + 'single_option_b.txt', 'w','utf-8')\n",
    "single_option_c_file = codecs.open(single_baseurl + 'single_option_c.txt', 'w','utf-8')\n",
    "single_option_d_file = codecs.open(single_baseurl + 'single_option_d.txt', 'w','utf-8')\n",
    "\n",
    "for item in single_option_a:\n",
    "    single_option_a_file.write(\"%s\\r\\n\" % item)\n",
    "for item in single_option_b:\n",
    "    single_option_b_file.write(\"%s\\r\\n\" % item)\n",
    "    \n",
    "for item in single_option_c:\n",
    "    single_option_c_file.write(\"%s\\r\\n\" % item)\n",
    "    \n",
    "for item in single_option_d:\n",
    "    single_option_d_file.write(\"%s\\r\\n\" % item)\n",
    "\n",
    "single_option_a_file.close()\n",
    "single_option_b_file.close()\n",
    "single_option_c_file.close()\n",
    "single_option_d_file.close()"
   ]
  },
  {
   "cell_type": "markdown",
   "metadata": {},
   "source": [
    "### 解析答案"
   ]
  },
  {
   "cell_type": "code",
   "execution_count": 2169,
   "metadata": {
    "collapsed": true
   },
   "outputs": [],
   "source": [
    "anwser_all = soup.find_all(\"div\",attrs={\"class\":\"nodeItem\"})"
   ]
  },
  {
   "cell_type": "code",
   "execution_count": 2170,
   "metadata": {
    "collapsed": true
   },
   "outputs": [],
   "source": [
    "single_anwser_all = anwser_all[0].find_all(\"div\",attrs={\"class\":\"Item config\"}) #单选\n",
    "if len(anwser_all)>1:\n",
    "    multiple_anwser_all = anwser_all[1].find_all(\"div\",attrs={\"class\":\"Item config\"}) #多选\n",
    "else:\n",
    "    multiple_anwser_all = []"
   ]
  },
  {
   "cell_type": "code",
   "execution_count": 2171,
   "metadata": {},
   "outputs": [
    {
     "data": {
      "text/plain": [
       "46"
      ]
     },
     "execution_count": 2171,
     "metadata": {},
     "output_type": "execute_result"
    }
   ],
   "source": [
    "len(single_anwser_all)"
   ]
  },
  {
   "cell_type": "code",
   "execution_count": 2172,
   "metadata": {
    "scrolled": true
   },
   "outputs": [
    {
     "data": {
      "text/plain": [
       "46"
      ]
     },
     "execution_count": 2172,
     "metadata": {},
     "output_type": "execute_result"
    }
   ],
   "source": [
    "single_answer_right = []\n",
    "#multiple_answer_right = []\n",
    "\n",
    "for answer_i in range(len(single_anwser_all)):\n",
    "    #print(anwser_all[25].find(\"div\",attrs={\"class\":\"config answer\"}))\n",
    "    #print(anwser_all[answer_i].find(\"table\",attrs={\"class\":\"HiddenStart\"}).find(\"div\",attrs={\"class\":\"anser Con\"}))\n",
    "    #print(anwser_all[answer_i].find(\"table\",attrs={\"class\":\"HiddenStart\"}).find(\"div\",attrs={\"class\":\"anser Con\"}).get_text())\n",
    "    single_answer_right.append(single_anwser_all[answer_i].find(\"div\",attrs={\"class\":\"anser Con\"}).string)\n",
    "\n",
    "len(single_answer_right)"
   ]
  },
  {
   "cell_type": "code",
   "execution_count": 2173,
   "metadata": {},
   "outputs": [
    {
     "data": {
      "text/plain": [
       "46"
      ]
     },
     "execution_count": 2173,
     "metadata": {},
     "output_type": "execute_result"
    }
   ],
   "source": [
    "len(single_anwser_all)"
   ]
  },
  {
   "cell_type": "code",
   "execution_count": 2174,
   "metadata": {
    "collapsed": true
   },
   "outputs": [],
   "source": [
    "import codecs\n",
    "\n",
    "single_anwser_file = codecs.open(single_baseurl + 'single_anwser.txt', 'w','utf-8')\n",
    "#multiple_anwser_file = codecs.open(multiple_baseurl + 'multiple_anwser.txt', 'w','utf-8')\n",
    "\n",
    "#for item in multiple_answer_right:\n",
    "#    multiple_anwser_file.write(\"%s\\r\\n\" % item)\n",
    "    \n",
    "single_anwser_file.close()\n",
    "#multiple_anwser_file.close()"
   ]
  },
  {
   "cell_type": "code",
   "execution_count": 2175,
   "metadata": {
    "collapsed": true
   },
   "outputs": [],
   "source": [
    "#print(re.sub('[\\r|\\n|\\t|\\\\s]', '', anwser_1))"
   ]
  },
  {
   "cell_type": "markdown",
   "metadata": {},
   "source": [
    "### 解析解析"
   ]
  },
  {
   "cell_type": "code",
   "execution_count": 2176,
   "metadata": {
    "collapsed": true
   },
   "outputs": [],
   "source": [
    "analysis_all = soup.find_all(\"div\",attrs={\"class\":\"nodeItem\"})"
   ]
  },
  {
   "cell_type": "code",
   "execution_count": 2177,
   "metadata": {},
   "outputs": [
    {
     "data": {
      "text/plain": [
       "46"
      ]
     },
     "execution_count": 2177,
     "metadata": {},
     "output_type": "execute_result"
    }
   ],
   "source": [
    "single_analysis_all = analysis_all[0].find_all(\"div\",attrs={\"class\":\"Item config\"}) #单选\n",
    "if len(analysis_all)>1:\n",
    "    multiple_analysis_all = analysis_all[1].find_all(\"div\",attrs={\"class\":\"Item config\"}) #多选\n",
    "else:\n",
    "    multiple_analysis_all = []\n",
    "len(single_analysis_all)"
   ]
  },
  {
   "cell_type": "code",
   "execution_count": 2178,
   "metadata": {
    "scrolled": false
   },
   "outputs": [
    {
     "name": "stdout",
     "output_type": "stream",
     "text": [
      "<div class=\"analysits Con\">通过统计分析来估计某种随机事件的概率特性，必须要有一个好的样本作为基础。样本资料的质量主要反映在是否满足下列三方面的要求：①资料应具有充分的可靠性；②资料的基础应具有一致性；③样本系列应具有充分的代表性。代表性是工程技术人员针对具体一个样本，说明它与总体之间误差情况的概念。经验分布Fn（x）与总体分布F（x），两者之间的差异愈小、愈接近，即说明样本的代表性愈好，反之则愈差。</div>\n",
      "\n",
      "\n",
      "<div class=\"analysits Con\">设计洪水和设计任何水工建筑物时，都需要选定某一量级的洪水作为设计依据，以便确定工程的规模。现行的方法是选择某一累积频率（如1%、0.1%）的洪水作为设计依据或标准，可视工程大小与重要程度选定不同的累积频率。设计标准确定后，按标准推求的洪水，称为设计洪水。</div>\n",
      "\n",
      "\n",
      "<div class=\"analysits Con\">资料的审查是指在频率计算之前，须进行枯水资料的可靠性、一致性和代表性的分析审查，包括相关流域的自然地理概况、流域河道特征、有明显人类活动影响的工程措施、水文气象资料以及前人分析的有关成果。</div>\n",
      "\n",
      "\n",
      "<div class=\"analysits Con\">在设计年径流的分析计算中，对年径流系列较长且较完整的资料，可直接据以进行频率分析，确定所需的设计年径流量，对短缺资料的流域，应尽量设法延长其径流系列，或用间接方法，经过合理的论证和修正、移用参证流域的设计成果，当实测资料的年数不足20年，或有20年但资料系列不连续或代表性不足，一般都要进行插补延长，其目的是增加系列的代表性。年径流系列的代表性，是指该样本对年径流总体的接近程度，如接近程度较高，则系列的代表性较好，频率分析成果的精度较高，反之较低。</div>\n",
      "\n",
      "\n",
      "<div class=\"analysits Con\">样本系列各项的经验频率初算确定之后，在几率格纸上绘出经验频率点据的位置，目估绘出一条平滑的曲线，称为经验频率曲线。我国一直采用皮尔逊型一Ⅲ型曲线，作为洪水频率计算的依据，检查曲线与经验频率点据的配合情况。若配合得不好，应适当调整参数值，直到配合较好为止。</div>\n",
      "\n",
      "\n",
      "<div class=\"analysits Con\">洪水过程通常用三个要素描述，即洪峰流量Q<sub>m</sub>、一次洪水过程总量W、洪水历时（由涨水历时t<sub>1</sub>与退水历时t<sub>2</sub>相加求得）。设计洪水计算的主要包括设计洪峰流量、不同时段（最大一、三、五、七、十五日……）的设计洪水总量和设计洪水过程等三项内容。</div>\n",
      "\n",
      "\n",
      "<div class=\"analysits Con\">设计洪水计算的内容主要包括设计洪峰流量、不同时段（最大一、三、五、七、十五日……）的设计洪水总量和设计洪水过程等。工程特点不同，需要计算的设计洪水内容和重点亦不同。如无调蓄能力的堤防、桥涵和航运为主的渠化工程，调节能力极低的小水库，径流式电站等，要求计算设计洪峰流量，因为它对工程起控制作用。而蓄洪区、水库工程，都有一定的调节库容，水库的出流过程与水库的整个人流过程有关，不只是与一两个入流洪水特征（如洪峰或某时段洪量）有关。此时，不仅需要计算设计洪峰流量或某时段设计洪量，还须计算完整的设计洪水过程线。</div>\n",
      "\n",
      "\n",
      "<div class=\"analysits Con\">按资料条件和设计要求，推求设计洪水的基本方法有三种类型：①由流量资料推求设计洪水。流量资料比较充分时，先求一定累积频率的设计洪峰流量和各时段的设计洪量；然后选择典型洪水过程线，用所求得的设计洪峰、洪量放大或缩小成一个完整的设计洪水过程线；②由暴雨推求设计洪水；③资料非常少或缺乏时，可用水文比拟法、等值线图法、水力学公式法等来推求。</div>\n",
      "\n",
      "\n",
      "<div class=\"analysits Con\">洪峰流量的选样，应满足频率分析关于独立随机取样的要求，每年只选取最大的一个瞬时洪峰流量作为频率计算的样本，且它们之间相互独立，不具相关关系；也不能把年内不同季节、不同类型的最大洪峰流量混在一起作为一个洪水系列来计算，更不能把溃坝所形成的洪水加入系列中。总之，洪峰流量和不同时段的洪量系列，都应由每年的最大值组成。</div>\n",
      "\n",
      "\n",
      "<div class=\"analysits Con\">特大洪水是指历史上曾经发生过的，比其他一般洪水大得多的稀遇洪水。对特大洪水，要根据流域内外历史洪水和实测洪水的调查考证资料，对其发生的重现期做出正确估计。</div>\n",
      "\n",
      "\n",
      "<div class=\"analysits Con\">特大洪水是指历史上曾经发生过的，比其他一般洪水大得多的稀遇洪水。对特大洪水，要根据流域内外历史洪水和实测洪水的调查考证资料，对其发生的重现期做出正确估计。对特大洪水的处理的内容主要是经验频率和统计参数的计算。</div>\n",
      "\n",
      "\n",
      "<div class=\"analysits Con\">洪峰系列常属于不连续系列，用适线法估计频率曲线的统计参数之前，一般采用矩法估计参数。假定在迄今N年中有a个特大洪水，其中有l个发生在n年实测系列之中，常假定年系列的均值和方差与除去特大洪水后的（N-a）年系列的相等，即<img height=\"23\" src=\"http://admintk.100xuexi.com/UpLoadImage/2013-05-07/10be87c0-7662-4193-a802-c56089692215.png\" width=\"72\"/>，<img height=\"24\" src=\"http://admintk.100xuexi.com/UpLoadImage/2013-05-07/74f1b396-8267-40e7-8921-28c1356a6324.png\" width=\"76\"/>。</div>\n",
      "\n",
      "\n",
      "<div class=\"analysits Con\">在洪水峰量频率计算中，不可避免地存在着各种误差，为了防止因各种原因带来的差错，包括各项统计参数的采用值和各种频率的设计值，进行合理性检查。在自然地理条件比较一致的地区，一般说来，随着河流流域面积的增大，洪水峰、量的多年平均值及某一频率的设计值都将有所增大，而C<sub>v</sub>值则将逐渐减小，而同一测站，随着洪量历时的增长，各种历时洪量的均值及各频率的设计值也将增加，而C<sub>v</sub>、C<sub>s</sub>/C<sub>v</sub>值则将逐渐减小。</div>\n",
      "\n",
      "\n",
      "<div class=\"analysits Con\">水文系列是一个无限总体，而实测洪水资料是有限样本，用有限样本估算总体的参数必然存在抽样误差。SL44—93规定，对大型工程或重要的中型工程，用频率分析计算的校核标准洪水应计算抽样误差。经综合分析检查后，如成果有偏小的可能，应加安全修正值，该值一般不超过计算值的20%。</div>\n",
      "\n",
      "\n",
      "<div class=\"analysits Con\">设计洪水过程线是指具有某一设计标准的洪水过程线。但是，实测洪水过程线的形状千变万化，且洪水每年发生的时间也不相同，是一种随机过程，目前尚无完整的方法直接从洪水过程线的统计规律求出一定频率的过程线。为了适应工程设计要求，目前仍采用放大典型洪水过程线的方法，使其洪峰流量和时段洪水总量的数值等于设计标准的频率值，即认为所得的过程线是待求的设计洪水过程线。</div>\n",
      "\n",
      "\n",
      "<div class=\"analysits Con\">在水利工程的规划与设计中，由国家制定统一规范，按工程的种类、重要性，将水工建筑物划分为若干等级，根据不同级别规定出相应的设计标准。若所设计的水工建筑物负担保护下游地区的防洪任务时，还规定有下游防护对象的防洪标准，但此标准都比大坝的设计标准低。因此，大坝的设计洪水标准要比下游防护对象的防洪标准高。</div>\n",
      "\n",
      "\n",
      "<div class=\"analysits Con\">洪水过程通常用三个要素描述，即洪峰流量Q<sub>m</sub>、一次洪水过程总量W、洪水历时。洪水历时由涨水历时t<sub>1</sub>与退水历时t<sub>2</sub>相加求得，实际洪水过程可能退水历时很长。洪水流量过程如图7-6-1所示。<br/><span style=\"display:block;text-align:center;\"><img alt=\"HWOCRTEMP_ROC1480\" height=\"233\" id=\"图片 8\" src=\"http://admintk.100xuexi.com/UpLoadImage/2013-05-07/7afaf99c-2d43-4e2c-bc58-7b56870fb009.jpg\" width=\"374\"/></span><span style=\"display:block;text-align:center;\">图7-6-1　洪水流量过程</span></div>\n",
      "\n",
      "\n",
      "<div class=\"analysits Con\">典型洪水过程线是放大的基础，从实测洪水资料中选择典型时，资料须可靠，同时应符合条件包括：①选择峰高量大的洪水过程线，其洪水特征接近于设计条件下的稀遇洪水情况；②选择具有一定代表性的洪水过程线；③选择对工程防洪运用较不利的大洪水典型。</div>\n",
      "\n",
      "\n",
      "<div class=\"analysits Con\">同倍比放大法是按洪峰或洪量同一个倍比放大典型洪水过程线的各纵坐标值，从而求得设计洪水过程线。此法的关键在于确定以谁为主的放大倍比值。如果以洪峰控制，其放大倍比为：<img alt=\"HWOCRTEMP_ROC1750\" height=\"37\" id=\"图片 7\" src=\"http://admintk.100xuexi.com/UpLoadImage/2013-05-07/1b1a4426-4d7e-43ce-b6a6-ae89a6593f9e.jpg\" width=\"78\"/>。式中，K<sub>Q</sub>为以洪峰控制的放大系数。如果以洪量控制，其放大倍比为：<img alt=\"HWOCRTEMP_ROC1760\" height=\"38\" id=\"图片 6\" src=\"http://admintk.100xuexi.com/UpLoadImage/2013-05-07/364ef36d-020e-48f6-83d7-ef58f1449726.jpg\" width=\"84\"/>。式中，K<sub>Wt</sub>为以洪量控制的放大系数；W<sub>tP</sub>为控制时段t的设计洪量；W<sub>tD</sub>为典型过程线在控制时段t的最大洪量。</div>\n",
      "\n",
      "\n",
      "<div class=\"analysits Con\">同倍比放大法是按洪峰或洪量同一个倍比放大典型洪水过程线的各纵坐标值，从而求得设计洪水过程线。此法的关键在于确定以谁为主的放大倍比值。若按峰倍比，则峰等于设计洪峰、量不一定等于设计洪量。</div>\n",
      "\n",
      "\n",
      "<div class=\"analysits Con\">根据工程和流域洪水特性，放大典型洪水过程线时，可选用同频率放大法或同倍比放大法。其中，同频率放大法要求放大后的设计洪水过程线的峰和不同时段（1天、3天…）的洪量均分别等于设计值。</div>\n",
      "\n",
      "\n",
      "<div class=\"analysits Con\">同倍比放大法是按洪峰或洪量同一个倍比放大典型洪水过程线的各纵坐标值，从而求得设计洪水过程线。此法的关键在于确定以谁为主的放大倍比值。若按量倍比，则峰不一定等于设计洪峰、量等于设计洪量。</div>\n",
      "\n",
      "\n",
      "<div class=\"analysits Con\">典型洪水过程线是放大的基础，从实测洪水资料中选择典型时，资料须可靠，同时应符合下列条件：①选择峰高量大的洪水过程线，其洪水特征接近于设计条件下的稀遇洪水情况；②选择具有一定代表性的洪水过程线，即它的发生季节、地区组成、洪峰次数、峰量关系等能代表本流域上大洪水的特性；③选择对工程防洪运用较不利的大洪水典型，如峰型比较集中、主峰靠后的洪水过程。其中，不利是指峰型比较集中、主峰靠后。</div>\n",
      "\n",
      "\n",
      "<div class=\"analysits Con\">同频率放大法要求放大后的设计洪水过程线的峰和不同时段（1天、3天…）的洪量均分别等于设计值。具体做法是先由频率计算求出设计的洪峰值Q<sub>mp</sub>和不同时段的设计洪量值W<sub>1p</sub>、W<sub>3P</sub>，并求典型过程线的洪峰Q<sub>mp</sub>和不同时段的洪量W<sub>1D</sub>、W<sub>3D</sub>，然后按洪峰、最大1天洪量、最大3天洪量……的顺序，采用以下不同倍比值分别将典型过程进行放火。洪峰放大倍比为：<img alt=\"HWOCRTEMP_ROC1700\" height=\"34\" id=\"图片 5\" src=\"http://admintk.100xuexi.com/UpLoadImage/2013-05-07/d320adcf-e798-42ba-ab9d-6ecbba04a880.jpg\" width=\"79\"/>；最大1天洪量放大倍比为：<img alt=\"HWOCRTEMP_ROC1710\" height=\"36\" id=\"图片 4\" src=\"http://admintk.100xuexi.com/UpLoadImage/2013-05-07/4ca5bd26-d954-4dd6-8fa1-b8c8ca70258c.jpg\" width=\"78\"/>；最大3天洪量中除最大1天以外，其余两天的放大倍比为：<img alt=\"HWOCRTEMP_ROC1720\" height=\"32\" id=\"图片 3\" src=\"http://admintk.100xuexi.com/UpLoadImage/2013-05-07/cb63bf5e-898f-47f3-b631-b38f7b1ce81c.jpg\" width=\"131\"/>。</div>\n",
      "\n",
      "\n",
      "<div class=\"analysits Con\">同频率放大法最大1天洪量包括在最大3天洪量之中，最大3天洪量包括在最大7大洪馈之中，得出的洪水过程线上的洪峰和不同时段的洪量恰好等于设计值。由于各时段放大倍比不相等，放大后的过程线在时段分界处出现不连续现象，此时可徒手修匀，修匀后仍应保持洪峰和各时段洪量等于设计值。所以，对放大后的设计洪水进行修匀是依据水量平衡。</div>\n",
      "\n",
      "\n",
      "<div class=\"analysits Con\">年径流分析计算的内容包括：①基本资料。进行年径流分析的基本资料和信息收集，对收集到的水文资料，应有重点地进行复查，着重从观测精度、设计代表站的水位流量关系以及上下游的水量平衡等方面，对资料的可靠性作出评定。②年径流量的频率分析计算。对年径流系列较长且较完整的资料，可直接据以进行频率分析，确定所需的设计年径流量，对短缺资料的流域，应尽量设法延长其径流系列，或用间接方法，经过合理的论证和修正、移用参证流域的设计成果。③提供设计年径流的时程分配。在设计年径流量确定以后，参照本流域或参证流域代表年的径流分配过程，确定年径流在年内的分配过程。④对分析成果进行合理性检查。</div>\n",
      "\n",
      "\n",
      "<div class=\"analysits Con\">有较短年径流系列时设计年径流频率分析计算关键是展延年径流系列的长度。参证量应具备的条件包括：①参证变量与设计断面径流量在成因上有密切关系；②参证变量与设计断面径流量有较多的同步观测资料；③参证变量的系列较长，并有较好的代表性。</div>\n",
      "\n",
      "\n",
      "<div class=\"analysits Con\">样本资料可靠性的审查，对流量资料的审查重点应放在以下方面：对于用流速仪测流的成果，应注意流速仪检定情况以及施测时的工作条件；对于用浮标法测流的成果，应注意浮标系数的确定方法等。对收集到的水文资料，应有重点地进行复查，着重从观测精度、设计代表站的水位流量关系以及上下游的水量平衡等方面，对资料的可靠性作出评定。</div>\n",
      "\n",
      "\n",
      "<div class=\"analysits Con\">应用数理统计法进行年径流的分析计算时，一个重要的前提是年径流系列应具有一致性。就是说组成该系列的流量资料，都是在同样的气候条件、同样的下垫面条件和同一测流断面上获得的。测量断面位置有时可能发生变动，当对径流量产生影响时，需要改正至同一断面的数值。</div>\n",
      "\n",
      "\n",
      "<div class=\"analysits Con\">样本资料可靠性的审查，对流量资料的审查重点应放在以下方面：对于用流速仪测流的成果，应注意流速仪检定情况以及施测时的工作条件；对于用浮标法测流的成果，应注意浮标系数的确定方法等。流量整编方面，应注意分析测站历年水位流量曲线的变动规律，各种因素对它的影响以及处理方法的合理性。另外，对流量成果应从上下游站的水量对照来分析成果的合理性。</div>\n",
      "\n",
      "\n",
      "<div class=\"analysits Con\">所谓较长年径流系列是指设计代表站断面或参证流域断面有实测径流系列，其长度不小于规范规定的年数，即不应小于20年。如实测系列小于20年，应设法将系列加以延长；如系列中有缺测资料，应设法予以捕补；如有较明显的人类活动影响，应进行径流资料的还原工作。</div>\n",
      "\n",
      "\n",
      "<div class=\"analysits Con\">皮—Ⅲ型年径流频率曲线有三个参数，其中均值（x）一般直接采用矩法计算值；变差系数（C<sub>v</sub>）可先用矩法估算，并根据适线拟合最优的准则进行调整；偏态系数（C<sub>s</sub>）一般不进行计算，而直接采用C<sub>v</sub>的倍比，我国绝大多数河流可采用C<sub>s</sub>=2～3C<sub>v</sub>。</div>\n",
      "\n",
      "\n",
      "<div class=\"analysits Con\">设参证变量的系列长度为N，设计代表站年径流系列长度为n，且n为二者的同步观测期。如果参证变量的N年统汁特征(主要是均值和变差系数)与其自身n年的统计特征接近，说明参证变量n年系列在N年系列中具有较好的代表性。又因设计断面年径流与参证变量有较密切的关系，从而也间接说明设计断面n年的年径流系列也具有较好的代表性。</div>\n",
      "\n",
      "\n",
      "<div class=\"analysits Con\">我国多采用皮—Ⅲ型频率曲线，在确定了年径流的均值、C<sub>v</sub>、C<sub>s</sub>后，便可借助于查用皮一Ⅲ型频率曲线的离均系数<img height=\"16\" src=\"http://admintk.100xuexi.com/UpLoadImage/2013-05-07/617fd075-540f-4635-a24a-0064dc8bb5ac.png\" width=\"17\"/>值表或模比系数K<sub>P</sub>值表，绘制出年径流的频率曲线，确定设计频率的年径流值。</div>\n",
      "\n",
      "\n",
      "<div class=\"analysits Con\">短缺资料时设计年径流的频率分析计算关键是展延年径流系列的长度。方法的实质是寻求与设计断面径流有密切关系并有较长观测系列的参证变量，通过设计断面年径流与其参证变量的相关关系，将设计断面年径流系列适当地加以延长至规范要求的长度。</div>\n",
      "\n",
      "\n",
      "<div class=\"analysits Con\">在部分中小设计流域内，有时只有零星的径流观测资料，且无法延长其系列，甚至完全没有径流观测资料，则只能利用一些间接的方法，对其设计径流量进行估算，如参数等值线图法、经验公式法、水文比拟法。</div>\n",
      "\n",
      "\n",
      "<div class=\"analysits Con\">在部分中小设计流域内，有时只有零星的径流观测资料，且无法延长其系列，甚至完全没有径流观测资料，则只能利用一些间接的方法，对其设计径流量进行估算。采用这类方法的前提是设计流域所在的区域内，有水文特征值的综合分析成果，或在水文相似区内有径流系列较长的参证站可资利用。采用的方法包括参数等值线图法、经验公式法、水文比拟法。</div>\n",
      "\n",
      "\n",
      "<div class=\"analysits Con\">水文比拟法的要点是将参证站的径流特征值，经过适当的修正后移用于设计断面。进行修正的参变量，常用流域面积和多年平均降水量，其中流域面积为主要参变量，二者应比较接近，通常以不超过15%为宜；如径流的相似性较好，也可以适当放宽上述限制。当设计流域无降水资料时，亦可不采用降水参变量。</div>\n",
      "\n",
      "\n",
      "<div class=\"analysits Con\">河川年径流的时程分配，一般按其各月的径流分配比来表示。年径流的时程分配与工程规模和水资源利用程度关系很大。对水库蓄水工程来说，非汛期径流比重愈小，所需的调节库容愈大；反之则小。</div>\n",
      "\n",
      "\n",
      "<div class=\"analysits Con\">代表年的选择有以下两个步骤：①根据设计标准，查年径流频率曲线，确定设计年径流量W<sub>P</sub>或<img height=\"32\" src=\"http://admintk.100xuexi.com/UpLoadImage/2013-05-07/d9f19206-6f9e-4330-9023-7cb2cced61af.png\" width=\"16\"/><sub>P</sub>。为了检验工程在不同来水年份的运行情况，又常选出丰、平、枯三个年份（如频率P=20%、50%、80%或P=10%、50%、90%）为代表年。对水资源综合利用工程，其中分项任务（城市供水、发电、灌溉等）设计标准各有不同，应选出相应于各个分项任务设计标准的代表年；②在实测年径流资料W<sub>实</sub>（或<img height=\"32\" src=\"http://admintk.100xuexi.com/UpLoadImage/2013-05-07/d9f19206-6f9e-4330-9023-7cb2cced61af.png\" width=\"16\"/><sub>实</sub>）中，选出年径流量接近设计年径流量W<sub>P</sub>（或<img height=\"32\" src=\"http://admintk.100xuexi.com/UpLoadImage/2013-05-07/d9f19206-6f9e-4330-9023-7cb2cced61af.png\" width=\"16\"/><sub>P</sub>）的年份。这种年份有时可能不只一个，可选出供水期径流较小的年份为代表年。</div>\n",
      "\n",
      "\n",
      "<div class=\"analysits Con\">在工程水文中，常采用按比例缩放代表年径流过程的方法，来确定设计年径流的时程分配。当代表年选定以后，统计出实测的径流W<sub>实</sub>（或<img height=\"32\" id=\"图片 2\" src=\"http://admintk.100xuexi.com/UpLoadImage/2013-05-07/d9f19206-6f9e-4330-9023-7cb2cced61af.png\" width=\"16\"/><sub>实</sub>），并求出设计年径流W<sub>P</sub>（或<img height=\"32\" id=\"图片 1\" src=\"http://admintk.100xuexi.com/UpLoadImage/2013-05-07/d9f19206-6f9e-4330-9023-7cb2cced61af.png\" width=\"16\"/><sub>p</sub>）与实测年径流的比例系数K。用此系数遍乘代表年各月的实测径流过程，即得设计年径流的按月时程分配。</div>\n",
      "\n",
      "\n",
      "<div class=\"analysits Con\">径流是降水的产物。流域的年径流量与流域的年降水量往往有良好的相关关系。又因降水观测系列在许多情况下较径流观测系列长，因此降水系列常被用来作为延长径流系列的参证变量。</div>\n",
      "\n",
      "\n",
      "<div class=\"analysits Con\">展延年径流系列的参证量应具备的条件包括：①参证变量与设计断面径流量在成因上有密切关系；②参证变量与设计断面径流量有较多的同步观测资料；③参证变量的系列较长，并有较好的代表性。</div>\n",
      "\n",
      "\n",
      "<div class=\"analysits Con\">我国大部分地区的洪水主要由暴雨形成。在中小流域常因流量资料不足或数据代表性差、一致性差等而无法推求设计洪水，但暴雨资料一般较多，可用暴雨资料推求设计洪水。</div>\n",
      "\n",
      "\n",
      "<div class=\"analysits Con\">有较充分点雨量资料时，以年最大值法选样，组成样本系列，进行频率计算，求出设计点暴雨量；当缺乏点雨量资料时，查各时段年最大暴雨量的均值及<img height=\"24\" src=\"http://admintk.100xuexi.com/UpLoadImage/2013-05-07/1a6aaa05-ffa6-4796-b31f-a6f2a3051581.png\" width=\"20\"/>等值线图，得出流域中心处的均值及<img height=\"24\" src=\"http://admintk.100xuexi.com/UpLoadImage/2013-05-07/1a6aaa05-ffa6-4796-b31f-a6f2a3051581.png\" width=\"20\"/>值，然后取<img height=\"24\" src=\"http://admintk.100xuexi.com/UpLoadImage/2013-05-07/1a6aaa05-ffa6-4796-b31f-a6f2a3051581.png\" width=\"20\"/>的固定倍比，确定<img height=\"24\" src=\"http://admintk.100xuexi.com/UpLoadImage/2013-05-07/2d5ae851-5edd-4f32-895d-3fc21d274344.png\" width=\"20\"/>值，即可由此统计参数对应的频率曲线推求设计暴雨值。</div>\n",
      "\n",
      "\n",
      "<div class=\"analysits Con\">流域中心设计点暴雨量求得后，要用点面关系折算成设计面暴雨量。暴雨的点面关系在设计计算中，有定点定面关系和动点动面关系。其中，若在流域内有一定数量且分布均匀的其他雨量站资料时，可用长系列站作为固定点，以设计流域作为固定面，根据同期观测资料建立各时段暴雨的点面关系<img height=\"45\" src=\"http://admintk.100xuexi.com/UpLoadImage/2013-05-07/62770af7-2b43-4890-b240-6f70140f80af.png\" width=\"56\"/>。式中，<img height=\"24\" src=\"http://admintk.100xuexi.com/UpLoadImage/2013-05-07/be592f78-7230-43f4-a695-96f4c05758db.png\" width=\"20\"/>为定点定面条件下的点面折减系数；<img height=\"24\" src=\"http://admintk.100xuexi.com/UpLoadImage/2013-05-07/dd7926e6-5678-4cff-87db-44b98cce3ce5.png\" width=\"20\"/>为某时段固定面的暴雨量；<img height=\"24\" src=\"http://admintk.100xuexi.com/UpLoadImage/2013-05-07/fb7be791-d48d-4ccf-adde-516ed900b23d.png\" width=\"17\"/>为某时段固定点的暴雨量。</div>\n",
      "\n",
      "\n"
     ]
    }
   ],
   "source": [
    "single_analysis = []\n",
    "#multiple_analysis = []\n",
    "\n",
    "for analysis_i in range(len(single_analysis_all)):\n",
    "    print(single_analysis_all[analysis_i].find(\"div\",attrs={\"class\":\"analysits Con\"}))\n",
    "    print('\\n')\n"
   ]
  },
  {
   "cell_type": "code",
   "execution_count": 2179,
   "metadata": {
    "collapsed": true,
    "scrolled": true
   },
   "outputs": [],
   "source": [
    "#print(multiple_analysis_all[0].find(\"div\",attrs={\"class\":\"analysits Con\"}))"
   ]
  },
  {
   "cell_type": "code",
   "execution_count": 2180,
   "metadata": {},
   "outputs": [
    {
     "data": {
      "text/plain": [
       "'    \\nfor i in range(len(multiple_analysis_all)):\\n    multiple_analay_item = multiple_analysis_all[i].find(\"div\",attrs={\"class\":\"analysits Con\"}).contents\\n    #print(analay_single)\\n    multiple_analay.append(multiple_analay_item)\\n    #print(analay_single)\\n'"
      ]
     },
     "execution_count": 2180,
     "metadata": {},
     "output_type": "execute_result"
    }
   ],
   "source": [
    "single_analay = []\n",
    "#multiple_analay = []\n",
    "for i in range(len(single_analysis_all)):\n",
    "    single_analay_item = single_analysis_all[i].find(\"div\",attrs={\"class\":\"analysits Con\"}).contents\n",
    "    #print(analay_single)\n",
    "    single_analay.append(single_analay_item)\n",
    "    #print(analay_single)\n",
    "\"\"\"    \n",
    "for i in range(len(multiple_analysis_all)):\n",
    "    multiple_analay_item = multiple_analysis_all[i].find(\"div\",attrs={\"class\":\"analysits Con\"}).contents\n",
    "    #print(analay_single)\n",
    "    multiple_analay.append(multiple_analay_item)\n",
    "    #print(analay_single)\n",
    "\"\"\""
   ]
  },
  {
   "cell_type": "code",
   "execution_count": 2181,
   "metadata": {},
   "outputs": [
    {
     "data": {
      "text/plain": [
       "'\\nmultiple_analay_final = []\\nfor item in multiple_analay:\\n    #analysis_file.write(\"%s\" % item)\\n    multiple_s = \\'\\'\\n    for i in item:\\n        multiple_s = multiple_s + str(i)\\n    multiple_analay_final.append(multiple_s)\\n    #analysis_file.write(\"%s\\n\" % s)\\n#analysis_file.close()\\n'"
      ]
     },
     "execution_count": 2181,
     "metadata": {},
     "output_type": "execute_result"
    }
   ],
   "source": [
    "single_analay_final = []\n",
    "for item in single_analay:\n",
    "    #analysis_file.write(\"%s\" % item)\n",
    "    single_s = ''\n",
    "    for i in item:\n",
    "        single_s = single_s + str(i)\n",
    "    single_analay_final.append(single_s)\n",
    "    #analysis_file.write(\"%s\\n\" % s)\n",
    "#analysis_file.close()\n",
    "\"\"\"\n",
    "multiple_analay_final = []\n",
    "for item in multiple_analay:\n",
    "    #analysis_file.write(\"%s\" % item)\n",
    "    multiple_s = ''\n",
    "    for i in item:\n",
    "        multiple_s = multiple_s + str(i)\n",
    "    multiple_analay_final.append(multiple_s)\n",
    "    #analysis_file.write(\"%s\\n\" % s)\n",
    "#analysis_file.close()\n",
    "\"\"\""
   ]
  },
  {
   "cell_type": "code",
   "execution_count": 2182,
   "metadata": {
    "scrolled": false
   },
   "outputs": [
    {
     "name": "stdout",
     "output_type": "stream",
     "text": [
      "通过统计分析来估计某种随机事件的概率特性，必须要有一个好的样本作为基础。样本资料的质量主要反映在是否满足下列三方面的要求：①资料应具有充分的可靠性；②资料的基础应具有一致性；③样本系列应具有充分的代表性。代表性是工程技术人员针对具体一个样本，说明它与总体之间误差情况的概念。经验分布Fn（x）与总体分布F（x），两者之间的差异愈小、愈接近，即说明样本的代表性愈好，反之则愈差。\n",
      "\n",
      "\n",
      "设计洪水和设计任何水工建筑物时，都需要选定某一量级的洪水作为设计依据，以便确定工程的规模。现行的方法是选择某一累积频率（如1%、0.1%）的洪水作为设计依据或标准，可视工程大小与重要程度选定不同的累积频率。设计标准确定后，按标准推求的洪水，称为设计洪水。\n",
      "\n",
      "\n",
      "资料的审查是指在频率计算之前，须进行枯水资料的可靠性、一致性和代表性的分析审查，包括相关流域的自然地理概况、流域河道特征、有明显人类活动影响的工程措施、水文气象资料以及前人分析的有关成果。\n",
      "\n",
      "\n",
      "在设计年径流的分析计算中，对年径流系列较长且较完整的资料，可直接据以进行频率分析，确定所需的设计年径流量，对短缺资料的流域，应尽量设法延长其径流系列，或用间接方法，经过合理的论证和修正、移用参证流域的设计成果，当实测资料的年数不足20年，或有20年但资料系列不连续或代表性不足，一般都要进行插补延长，其目的是增加系列的代表性。年径流系列的代表性，是指该样本对年径流总体的接近程度，如接近程度较高，则系列的代表性较好，频率分析成果的精度较高，反之较低。\n",
      "\n",
      "\n",
      "样本系列各项的经验频率初算确定之后，在几率格纸上绘出经验频率点据的位置，目估绘出一条平滑的曲线，称为经验频率曲线。我国一直采用皮尔逊型一Ⅲ型曲线，作为洪水频率计算的依据，检查曲线与经验频率点据的配合情况。若配合得不好，应适当调整参数值，直到配合较好为止。\n",
      "\n",
      "\n",
      "洪水过程通常用三个要素描述，即洪峰流量Q<sub>m</sub>、一次洪水过程总量W、洪水历时（由涨水历时t<sub>1</sub>与退水历时t<sub>2</sub>相加求得）。设计洪水计算的主要包括设计洪峰流量、不同时段（最大一、三、五、七、十五日……）的设计洪水总量和设计洪水过程等三项内容。\n",
      "\n",
      "\n",
      "设计洪水计算的内容主要包括设计洪峰流量、不同时段（最大一、三、五、七、十五日……）的设计洪水总量和设计洪水过程等。工程特点不同，需要计算的设计洪水内容和重点亦不同。如无调蓄能力的堤防、桥涵和航运为主的渠化工程，调节能力极低的小水库，径流式电站等，要求计算设计洪峰流量，因为它对工程起控制作用。而蓄洪区、水库工程，都有一定的调节库容，水库的出流过程与水库的整个人流过程有关，不只是与一两个入流洪水特征（如洪峰或某时段洪量）有关。此时，不仅需要计算设计洪峰流量或某时段设计洪量，还须计算完整的设计洪水过程线。\n",
      "\n",
      "\n",
      "按资料条件和设计要求，推求设计洪水的基本方法有三种类型：①由流量资料推求设计洪水。流量资料比较充分时，先求一定累积频率的设计洪峰流量和各时段的设计洪量；然后选择典型洪水过程线，用所求得的设计洪峰、洪量放大或缩小成一个完整的设计洪水过程线；②由暴雨推求设计洪水；③资料非常少或缺乏时，可用水文比拟法、等值线图法、水力学公式法等来推求。\n",
      "\n",
      "\n",
      "洪峰流量的选样，应满足频率分析关于独立随机取样的要求，每年只选取最大的一个瞬时洪峰流量作为频率计算的样本，且它们之间相互独立，不具相关关系；也不能把年内不同季节、不同类型的最大洪峰流量混在一起作为一个洪水系列来计算，更不能把溃坝所形成的洪水加入系列中。总之，洪峰流量和不同时段的洪量系列，都应由每年的最大值组成。\n",
      "\n",
      "\n",
      "特大洪水是指历史上曾经发生过的，比其他一般洪水大得多的稀遇洪水。对特大洪水，要根据流域内外历史洪水和实测洪水的调查考证资料，对其发生的重现期做出正确估计。\n",
      "\n",
      "\n",
      "特大洪水是指历史上曾经发生过的，比其他一般洪水大得多的稀遇洪水。对特大洪水，要根据流域内外历史洪水和实测洪水的调查考证资料，对其发生的重现期做出正确估计。对特大洪水的处理的内容主要是经验频率和统计参数的计算。\n",
      "\n",
      "\n",
      "洪峰系列常属于不连续系列，用适线法估计频率曲线的统计参数之前，一般采用矩法估计参数。假定在迄今N年中有a个特大洪水，其中有l个发生在n年实测系列之中，常假定年系列的均值和方差与除去特大洪水后的（N-a）年系列的相等，即<img height=\"23\" src=\"http://admintk.100xuexi.com/UpLoadImage/2013-05-07/10be87c0-7662-4193-a802-c56089692215.png\" width=\"72\"/>，<img height=\"24\" src=\"http://admintk.100xuexi.com/UpLoadImage/2013-05-07/74f1b396-8267-40e7-8921-28c1356a6324.png\" width=\"76\"/>。\n",
      "\n",
      "\n",
      "在洪水峰量频率计算中，不可避免地存在着各种误差，为了防止因各种原因带来的差错，包括各项统计参数的采用值和各种频率的设计值，进行合理性检查。在自然地理条件比较一致的地区，一般说来，随着河流流域面积的增大，洪水峰、量的多年平均值及某一频率的设计值都将有所增大，而C<sub>v</sub>值则将逐渐减小，而同一测站，随着洪量历时的增长，各种历时洪量的均值及各频率的设计值也将增加，而C<sub>v</sub>、C<sub>s</sub>/C<sub>v</sub>值则将逐渐减小。\n",
      "\n",
      "\n",
      "水文系列是一个无限总体，而实测洪水资料是有限样本，用有限样本估算总体的参数必然存在抽样误差。SL44—93规定，对大型工程或重要的中型工程，用频率分析计算的校核标准洪水应计算抽样误差。经综合分析检查后，如成果有偏小的可能，应加安全修正值，该值一般不超过计算值的20%。\n",
      "\n",
      "\n",
      "设计洪水过程线是指具有某一设计标准的洪水过程线。但是，实测洪水过程线的形状千变万化，且洪水每年发生的时间也不相同，是一种随机过程，目前尚无完整的方法直接从洪水过程线的统计规律求出一定频率的过程线。为了适应工程设计要求，目前仍采用放大典型洪水过程线的方法，使其洪峰流量和时段洪水总量的数值等于设计标准的频率值，即认为所得的过程线是待求的设计洪水过程线。\n",
      "\n",
      "\n",
      "在水利工程的规划与设计中，由国家制定统一规范，按工程的种类、重要性，将水工建筑物划分为若干等级，根据不同级别规定出相应的设计标准。若所设计的水工建筑物负担保护下游地区的防洪任务时，还规定有下游防护对象的防洪标准，但此标准都比大坝的设计标准低。因此，大坝的设计洪水标准要比下游防护对象的防洪标准高。\n",
      "\n",
      "\n",
      "洪水过程通常用三个要素描述，即洪峰流量Q<sub>m</sub>、一次洪水过程总量W、洪水历时。洪水历时由涨水历时t<sub>1</sub>与退水历时t<sub>2</sub>相加求得，实际洪水过程可能退水历时很长。洪水流量过程如图7-6-1所示。<br/><span style=\"display:block;text-align:center;\"><img alt=\"HWOCRTEMP_ROC1480\" height=\"233\" id=\"图片 8\" src=\"http://admintk.100xuexi.com/UpLoadImage/2013-05-07/7afaf99c-2d43-4e2c-bc58-7b56870fb009.jpg\" width=\"374\"/></span><span style=\"display:block;text-align:center;\">图7-6-1　洪水流量过程</span>\n",
      "\n",
      "\n",
      "典型洪水过程线是放大的基础，从实测洪水资料中选择典型时，资料须可靠，同时应符合条件包括：①选择峰高量大的洪水过程线，其洪水特征接近于设计条件下的稀遇洪水情况；②选择具有一定代表性的洪水过程线；③选择对工程防洪运用较不利的大洪水典型。\n",
      "\n",
      "\n",
      "同倍比放大法是按洪峰或洪量同一个倍比放大典型洪水过程线的各纵坐标值，从而求得设计洪水过程线。此法的关键在于确定以谁为主的放大倍比值。如果以洪峰控制，其放大倍比为：<img alt=\"HWOCRTEMP_ROC1750\" height=\"37\" id=\"图片 7\" src=\"http://admintk.100xuexi.com/UpLoadImage/2013-05-07/1b1a4426-4d7e-43ce-b6a6-ae89a6593f9e.jpg\" width=\"78\"/>。式中，K<sub>Q</sub>为以洪峰控制的放大系数。如果以洪量控制，其放大倍比为：<img alt=\"HWOCRTEMP_ROC1760\" height=\"38\" id=\"图片 6\" src=\"http://admintk.100xuexi.com/UpLoadImage/2013-05-07/364ef36d-020e-48f6-83d7-ef58f1449726.jpg\" width=\"84\"/>。式中，K<sub>Wt</sub>为以洪量控制的放大系数；W<sub>tP</sub>为控制时段t的设计洪量；W<sub>tD</sub>为典型过程线在控制时段t的最大洪量。\n",
      "\n",
      "\n",
      "同倍比放大法是按洪峰或洪量同一个倍比放大典型洪水过程线的各纵坐标值，从而求得设计洪水过程线。此法的关键在于确定以谁为主的放大倍比值。若按峰倍比，则峰等于设计洪峰、量不一定等于设计洪量。\n",
      "\n",
      "\n",
      "根据工程和流域洪水特性，放大典型洪水过程线时，可选用同频率放大法或同倍比放大法。其中，同频率放大法要求放大后的设计洪水过程线的峰和不同时段（1天、3天…）的洪量均分别等于设计值。\n",
      "\n",
      "\n",
      "同倍比放大法是按洪峰或洪量同一个倍比放大典型洪水过程线的各纵坐标值，从而求得设计洪水过程线。此法的关键在于确定以谁为主的放大倍比值。若按量倍比，则峰不一定等于设计洪峰、量等于设计洪量。\n",
      "\n",
      "\n",
      "典型洪水过程线是放大的基础，从实测洪水资料中选择典型时，资料须可靠，同时应符合下列条件：①选择峰高量大的洪水过程线，其洪水特征接近于设计条件下的稀遇洪水情况；②选择具有一定代表性的洪水过程线，即它的发生季节、地区组成、洪峰次数、峰量关系等能代表本流域上大洪水的特性；③选择对工程防洪运用较不利的大洪水典型，如峰型比较集中、主峰靠后的洪水过程。其中，不利是指峰型比较集中、主峰靠后。\n",
      "\n",
      "\n",
      "同频率放大法要求放大后的设计洪水过程线的峰和不同时段（1天、3天…）的洪量均分别等于设计值。具体做法是先由频率计算求出设计的洪峰值Q<sub>mp</sub>和不同时段的设计洪量值W<sub>1p</sub>、W<sub>3P</sub>，并求典型过程线的洪峰Q<sub>mp</sub>和不同时段的洪量W<sub>1D</sub>、W<sub>3D</sub>，然后按洪峰、最大1天洪量、最大3天洪量……的顺序，采用以下不同倍比值分别将典型过程进行放火。洪峰放大倍比为：<img alt=\"HWOCRTEMP_ROC1700\" height=\"34\" id=\"图片 5\" src=\"http://admintk.100xuexi.com/UpLoadImage/2013-05-07/d320adcf-e798-42ba-ab9d-6ecbba04a880.jpg\" width=\"79\"/>；最大1天洪量放大倍比为：<img alt=\"HWOCRTEMP_ROC1710\" height=\"36\" id=\"图片 4\" src=\"http://admintk.100xuexi.com/UpLoadImage/2013-05-07/4ca5bd26-d954-4dd6-8fa1-b8c8ca70258c.jpg\" width=\"78\"/>；最大3天洪量中除最大1天以外，其余两天的放大倍比为：<img alt=\"HWOCRTEMP_ROC1720\" height=\"32\" id=\"图片 3\" src=\"http://admintk.100xuexi.com/UpLoadImage/2013-05-07/cb63bf5e-898f-47f3-b631-b38f7b1ce81c.jpg\" width=\"131\"/>。\n",
      "\n",
      "\n",
      "同频率放大法最大1天洪量包括在最大3天洪量之中，最大3天洪量包括在最大7大洪馈之中，得出的洪水过程线上的洪峰和不同时段的洪量恰好等于设计值。由于各时段放大倍比不相等，放大后的过程线在时段分界处出现不连续现象，此时可徒手修匀，修匀后仍应保持洪峰和各时段洪量等于设计值。所以，对放大后的设计洪水进行修匀是依据水量平衡。\n",
      "\n",
      "\n",
      "年径流分析计算的内容包括：①基本资料。进行年径流分析的基本资料和信息收集，对收集到的水文资料，应有重点地进行复查，着重从观测精度、设计代表站的水位流量关系以及上下游的水量平衡等方面，对资料的可靠性作出评定。②年径流量的频率分析计算。对年径流系列较长且较完整的资料，可直接据以进行频率分析，确定所需的设计年径流量，对短缺资料的流域，应尽量设法延长其径流系列，或用间接方法，经过合理的论证和修正、移用参证流域的设计成果。③提供设计年径流的时程分配。在设计年径流量确定以后，参照本流域或参证流域代表年的径流分配过程，确定年径流在年内的分配过程。④对分析成果进行合理性检查。\n",
      "\n",
      "\n",
      "有较短年径流系列时设计年径流频率分析计算关键是展延年径流系列的长度。参证量应具备的条件包括：①参证变量与设计断面径流量在成因上有密切关系；②参证变量与设计断面径流量有较多的同步观测资料；③参证变量的系列较长，并有较好的代表性。\n",
      "\n",
      "\n",
      "样本资料可靠性的审查，对流量资料的审查重点应放在以下方面：对于用流速仪测流的成果，应注意流速仪检定情况以及施测时的工作条件；对于用浮标法测流的成果，应注意浮标系数的确定方法等。对收集到的水文资料，应有重点地进行复查，着重从观测精度、设计代表站的水位流量关系以及上下游的水量平衡等方面，对资料的可靠性作出评定。\n",
      "\n",
      "\n",
      "应用数理统计法进行年径流的分析计算时，一个重要的前提是年径流系列应具有一致性。就是说组成该系列的流量资料，都是在同样的气候条件、同样的下垫面条件和同一测流断面上获得的。测量断面位置有时可能发生变动，当对径流量产生影响时，需要改正至同一断面的数值。\n",
      "\n",
      "\n",
      "样本资料可靠性的审查，对流量资料的审查重点应放在以下方面：对于用流速仪测流的成果，应注意流速仪检定情况以及施测时的工作条件；对于用浮标法测流的成果，应注意浮标系数的确定方法等。流量整编方面，应注意分析测站历年水位流量曲线的变动规律，各种因素对它的影响以及处理方法的合理性。另外，对流量成果应从上下游站的水量对照来分析成果的合理性。\n",
      "\n",
      "\n",
      "所谓较长年径流系列是指设计代表站断面或参证流域断面有实测径流系列，其长度不小于规范规定的年数，即不应小于20年。如实测系列小于20年，应设法将系列加以延长；如系列中有缺测资料，应设法予以捕补；如有较明显的人类活动影响，应进行径流资料的还原工作。\n",
      "\n",
      "\n",
      "皮—Ⅲ型年径流频率曲线有三个参数，其中均值（x）一般直接采用矩法计算值；变差系数（C<sub>v</sub>）可先用矩法估算，并根据适线拟合最优的准则进行调整；偏态系数（C<sub>s</sub>）一般不进行计算，而直接采用C<sub>v</sub>的倍比，我国绝大多数河流可采用C<sub>s</sub>=2～3C<sub>v</sub>。\n",
      "\n",
      "\n",
      "设参证变量的系列长度为N，设计代表站年径流系列长度为n，且n为二者的同步观测期。如果参证变量的N年统汁特征(主要是均值和变差系数)与其自身n年的统计特征接近，说明参证变量n年系列在N年系列中具有较好的代表性。又因设计断面年径流与参证变量有较密切的关系，从而也间接说明设计断面n年的年径流系列也具有较好的代表性。\n",
      "\n",
      "\n",
      "我国多采用皮—Ⅲ型频率曲线，在确定了年径流的均值、C<sub>v</sub>、C<sub>s</sub>后，便可借助于查用皮一Ⅲ型频率曲线的离均系数<img height=\"16\" src=\"http://admintk.100xuexi.com/UpLoadImage/2013-05-07/617fd075-540f-4635-a24a-0064dc8bb5ac.png\" width=\"17\"/>值表或模比系数K<sub>P</sub>值表，绘制出年径流的频率曲线，确定设计频率的年径流值。\n",
      "\n",
      "\n",
      "短缺资料时设计年径流的频率分析计算关键是展延年径流系列的长度。方法的实质是寻求与设计断面径流有密切关系并有较长观测系列的参证变量，通过设计断面年径流与其参证变量的相关关系，将设计断面年径流系列适当地加以延长至规范要求的长度。\n",
      "\n",
      "\n",
      "在部分中小设计流域内，有时只有零星的径流观测资料，且无法延长其系列，甚至完全没有径流观测资料，则只能利用一些间接的方法，对其设计径流量进行估算，如参数等值线图法、经验公式法、水文比拟法。\n",
      "\n",
      "\n",
      "在部分中小设计流域内，有时只有零星的径流观测资料，且无法延长其系列，甚至完全没有径流观测资料，则只能利用一些间接的方法，对其设计径流量进行估算。采用这类方法的前提是设计流域所在的区域内，有水文特征值的综合分析成果，或在水文相似区内有径流系列较长的参证站可资利用。采用的方法包括参数等值线图法、经验公式法、水文比拟法。\n",
      "\n",
      "\n",
      "水文比拟法的要点是将参证站的径流特征值，经过适当的修正后移用于设计断面。进行修正的参变量，常用流域面积和多年平均降水量，其中流域面积为主要参变量，二者应比较接近，通常以不超过15%为宜；如径流的相似性较好，也可以适当放宽上述限制。当设计流域无降水资料时，亦可不采用降水参变量。\n",
      "\n",
      "\n",
      "河川年径流的时程分配，一般按其各月的径流分配比来表示。年径流的时程分配与工程规模和水资源利用程度关系很大。对水库蓄水工程来说，非汛期径流比重愈小，所需的调节库容愈大；反之则小。\n",
      "\n",
      "\n",
      "代表年的选择有以下两个步骤：①根据设计标准，查年径流频率曲线，确定设计年径流量W<sub>P</sub>或<img height=\"32\" src=\"http://admintk.100xuexi.com/UpLoadImage/2013-05-07/d9f19206-6f9e-4330-9023-7cb2cced61af.png\" width=\"16\"/><sub>P</sub>。为了检验工程在不同来水年份的运行情况，又常选出丰、平、枯三个年份（如频率P=20%、50%、80%或P=10%、50%、90%）为代表年。对水资源综合利用工程，其中分项任务（城市供水、发电、灌溉等）设计标准各有不同，应选出相应于各个分项任务设计标准的代表年；②在实测年径流资料W<sub>实</sub>（或<img height=\"32\" src=\"http://admintk.100xuexi.com/UpLoadImage/2013-05-07/d9f19206-6f9e-4330-9023-7cb2cced61af.png\" width=\"16\"/><sub>实</sub>）中，选出年径流量接近设计年径流量W<sub>P</sub>（或<img height=\"32\" src=\"http://admintk.100xuexi.com/UpLoadImage/2013-05-07/d9f19206-6f9e-4330-9023-7cb2cced61af.png\" width=\"16\"/><sub>P</sub>）的年份。这种年份有时可能不只一个，可选出供水期径流较小的年份为代表年。\n",
      "\n",
      "\n",
      "在工程水文中，常采用按比例缩放代表年径流过程的方法，来确定设计年径流的时程分配。当代表年选定以后，统计出实测的径流W<sub>实</sub>（或<img height=\"32\" id=\"图片 2\" src=\"http://admintk.100xuexi.com/UpLoadImage/2013-05-07/d9f19206-6f9e-4330-9023-7cb2cced61af.png\" width=\"16\"/><sub>实</sub>），并求出设计年径流W<sub>P</sub>（或<img height=\"32\" id=\"图片 1\" src=\"http://admintk.100xuexi.com/UpLoadImage/2013-05-07/d9f19206-6f9e-4330-9023-7cb2cced61af.png\" width=\"16\"/><sub>p</sub>）与实测年径流的比例系数K。用此系数遍乘代表年各月的实测径流过程，即得设计年径流的按月时程分配。\n",
      "\n",
      "\n",
      "径流是降水的产物。流域的年径流量与流域的年降水量往往有良好的相关关系。又因降水观测系列在许多情况下较径流观测系列长，因此降水系列常被用来作为延长径流系列的参证变量。\n",
      "\n",
      "\n",
      "展延年径流系列的参证量应具备的条件包括：①参证变量与设计断面径流量在成因上有密切关系；②参证变量与设计断面径流量有较多的同步观测资料；③参证变量的系列较长，并有较好的代表性。\n",
      "\n",
      "\n",
      "我国大部分地区的洪水主要由暴雨形成。在中小流域常因流量资料不足或数据代表性差、一致性差等而无法推求设计洪水，但暴雨资料一般较多，可用暴雨资料推求设计洪水。\n",
      "\n",
      "\n",
      "有较充分点雨量资料时，以年最大值法选样，组成样本系列，进行频率计算，求出设计点暴雨量；当缺乏点雨量资料时，查各时段年最大暴雨量的均值及<img height=\"24\" src=\"http://admintk.100xuexi.com/UpLoadImage/2013-05-07/1a6aaa05-ffa6-4796-b31f-a6f2a3051581.png\" width=\"20\"/>等值线图，得出流域中心处的均值及<img height=\"24\" src=\"http://admintk.100xuexi.com/UpLoadImage/2013-05-07/1a6aaa05-ffa6-4796-b31f-a6f2a3051581.png\" width=\"20\"/>值，然后取<img height=\"24\" src=\"http://admintk.100xuexi.com/UpLoadImage/2013-05-07/1a6aaa05-ffa6-4796-b31f-a6f2a3051581.png\" width=\"20\"/>的固定倍比，确定<img height=\"24\" src=\"http://admintk.100xuexi.com/UpLoadImage/2013-05-07/2d5ae851-5edd-4f32-895d-3fc21d274344.png\" width=\"20\"/>值，即可由此统计参数对应的频率曲线推求设计暴雨值。\n",
      "\n",
      "\n",
      "流域中心设计点暴雨量求得后，要用点面关系折算成设计面暴雨量。暴雨的点面关系在设计计算中，有定点定面关系和动点动面关系。其中，若在流域内有一定数量且分布均匀的其他雨量站资料时，可用长系列站作为固定点，以设计流域作为固定面，根据同期观测资料建立各时段暴雨的点面关系<img height=\"45\" src=\"http://admintk.100xuexi.com/UpLoadImage/2013-05-07/62770af7-2b43-4890-b240-6f70140f80af.png\" width=\"56\"/>。式中，<img height=\"24\" src=\"http://admintk.100xuexi.com/UpLoadImage/2013-05-07/be592f78-7230-43f4-a695-96f4c05758db.png\" width=\"20\"/>为定点定面条件下的点面折减系数；<img height=\"24\" src=\"http://admintk.100xuexi.com/UpLoadImage/2013-05-07/dd7926e6-5678-4cff-87db-44b98cce3ce5.png\" width=\"20\"/>为某时段固定面的暴雨量；<img height=\"24\" src=\"http://admintk.100xuexi.com/UpLoadImage/2013-05-07/fb7be791-d48d-4ccf-adde-516ed900b23d.png\" width=\"17\"/>为某时段固定点的暴雨量。\n",
      "\n",
      "\n"
     ]
    }
   ],
   "source": [
    "import codecs\n",
    "single_analysis_file = codecs.open(single_baseurl + 'single_analysis_file.txt', 'w','utf-8')\n",
    "\n",
    "for s in single_analay_final:\n",
    "    print(s)\n",
    "    print(\"\\n\")\n",
    "    single_analysis_file.write(\"%s\\r\\n\" % s)\n",
    "\"\"\" \n",
    "multiple_analysis_file = codecs.open(multiple_baseurl + 'multiple_analysis_file.txt', 'w','utf-8')\n",
    "\n",
    "for s in multiple_analay_final:\n",
    "    print(s)\n",
    "    print(\"\\n\")\n",
    "    multiple_analysis_file.write(\"%s\\r\\n\" % s)    \n",
    "\"\"\"    \n",
    "single_analysis_file.close()\n",
    "#multiple_analysis_file.close()"
   ]
  },
  {
   "cell_type": "markdown",
   "metadata": {},
   "source": [
    "单选选项拼接"
   ]
  },
  {
   "cell_type": "code",
   "execution_count": 2183,
   "metadata": {},
   "outputs": [
    {
     "data": {
      "text/plain": [
       "46"
      ]
     },
     "execution_count": 2183,
     "metadata": {},
     "output_type": "execute_result"
    }
   ],
   "source": [
    "len(single_option_a)"
   ]
  },
  {
   "cell_type": "code",
   "execution_count": 2184,
   "metadata": {
    "collapsed": true,
    "scrolled": true
   },
   "outputs": [],
   "source": [
    "single_data = []\n",
    "for i in range(len(single_option_a)):\n",
    "    single_data_string = single_question[i].replace('（　　）','{{c1::（）}}') + \"\t\"+ single_option_a[i].strip().replace('A．','')+ '<br>' + single_option_b[i].strip().replace('B．','')+ '<br>'+ single_option_c[i].strip().replace('C．','')+ '<br>'+ single_option_d[i].replace('D．','')+ \"\t\"+ single_answer_right[i]+ \"\t\"+ single_analay_final[i]\n",
    "    single_data.append(single_data_string)\n",
    "data_single = codecs.open(single_baseurl + 'data_single.txt', 'w','utf-8')\n",
    "\n",
    "for i in range(len(single_data)):\n",
    "    data_single.write(single_data[i]+\"\\r\\n\")\n",
    "data_single.close()"
   ]
  },
  {
   "cell_type": "code",
   "execution_count": 2185,
   "metadata": {},
   "outputs": [
    {
     "data": {
      "text/plain": [
       "46"
      ]
     },
     "execution_count": 2185,
     "metadata": {},
     "output_type": "execute_result"
    }
   ],
   "source": [
    "len(single_data )"
   ]
  },
  {
   "cell_type": "markdown",
   "metadata": {},
   "source": [
    "多选选项拼接"
   ]
  },
  {
   "cell_type": "code",
   "execution_count": 2186,
   "metadata": {
    "collapsed": true
   },
   "outputs": [],
   "source": [
    "#len(multiple_data)"
   ]
  },
  {
   "cell_type": "code",
   "execution_count": null,
   "metadata": {
    "collapsed": true
   },
   "outputs": [],
   "source": []
  }
 ],
 "metadata": {
  "kernelspec": {
   "display_name": "Python 3",
   "language": "python",
   "name": "python3"
  },
  "language_info": {
   "codemirror_mode": {
    "name": "ipython",
    "version": 3
   },
   "file_extension": ".py",
   "mimetype": "text/x-python",
   "name": "python",
   "nbconvert_exporter": "python",
   "pygments_lexer": "ipython3",
   "version": "3.5.4"
  }
 },
 "nbformat": 4,
 "nbformat_minor": 2
}

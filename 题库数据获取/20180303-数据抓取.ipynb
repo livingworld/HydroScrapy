{
 "cells": [
  {
   "cell_type": "markdown",
   "metadata": {},
   "source": [
    "# 使用selenium和bs4爬虫\n",
    "\n",
    "## 1.selenium的使用"
   ]
  },
  {
   "cell_type": "code",
   "execution_count": null,
   "metadata": {
    "collapsed": true
   },
   "outputs": [],
   "source": [
    "import os,time\n",
    "from selenium import webdriver\n",
    "from bs4 import BeautifulSoup\n",
    "chromedriver = \"C:\\\\Program Files (x86)\\\\Google\\\\Chrome\\\\Application\\\\chromedriver.exe\"#chrome所在驱动\n",
    "os.environ[\"webdriver.chrome.driver\"] = chromedriver\n",
    "driver = webdriver.Chrome(chromedriver)\n",
    "driver.get('http://user.100xuexi.com/MyDeal/myEBookPurchase.aspx')\n",
    "time.sleep(2)"
   ]
  },
  {
   "cell_type": "code",
   "execution_count": null,
   "metadata": {
    "collapsed": true
   },
   "outputs": [],
   "source": [
    "driver.find_element_by_id('username').send_keys('18775325832')#"
   ]
  },
  {
   "cell_type": "code",
   "execution_count": null,
   "metadata": {
    "collapsed": true
   },
   "outputs": [],
   "source": [
    "driver.find_element_by_id('txtVerify').clear()#验证码\n",
    "driver.find_element_by_id('txtVerify').send_keys('69')#验证码"
   ]
  },
  {
   "cell_type": "code",
   "execution_count": null,
   "metadata": {
    "collapsed": true
   },
   "outputs": [],
   "source": [
    "#driver.find_element_by_xpath('//*[@id=\"conPurchaseA1\"]/table/tbody/tr[3]/td[2]/a').click();\n",
    "driver.find_element_by_xpath('//*[@id=\"regNow\"]').click();"
   ]
  },
  {
   "cell_type": "code",
   "execution_count": null,
   "metadata": {
    "collapsed": true
   },
   "outputs": [],
   "source": [
    "driver.find_element_by_xpath('//*[@id=\"PurchaseA2\"]').click();"
   ]
  },
  {
   "cell_type": "code",
   "execution_count": null,
   "metadata": {
    "collapsed": true
   },
   "outputs": [],
   "source": [
    "#接下来会有新的窗口打开，获取所有窗口句柄\n",
    "windows = driver.window_handles\n",
    "driver.switch_to.window(windows[-1])"
   ]
  },
  {
   "cell_type": "code",
   "execution_count": null,
   "metadata": {
    "collapsed": true
   },
   "outputs": [],
   "source": [
    "driver.find_element_by_xpath('//*[@id=\"lefter\"]/div/div[1]/a').click();\n",
    "#/PracticeCenter/Chapter/Index?TQuestionPlanID=2997&groupName=&code=&tb_l_PaperQuePlanID=86215&Model=chapter&TypeMenuFlag=2\n",
    "#/PracticeCenter/Chapter/Index?TQuestionPlanID=2997&groupName=&code=&tb_l_PaperQuePlanID=86216&Model=chapter&TypeMenuFlag=2\n",
    "#item表示章，li后的数字表示节"
   ]
  },
  {
   "cell_type": "code",
   "execution_count": null,
   "metadata": {
    "collapsed": true
   },
   "outputs": [],
   "source": [
    "#driver.find_element_by_xpath('//*[@id=\"item01\"]/li[2]/a').click();"
   ]
  },
  {
   "cell_type": "markdown",
   "metadata": {},
   "source": [
    "## 2.解析成html"
   ]
  },
  {
   "cell_type": "code",
   "execution_count": 7477,
   "metadata": {},
   "outputs": [],
   "source": [
    "html = driver.page_source\n",
    "soup = BeautifulSoup(html, \"html5lib\")"
   ]
  },
  {
   "cell_type": "markdown",
   "metadata": {},
   "source": [
    "## 3.html文件解析"
   ]
  },
  {
   "cell_type": "markdown",
   "metadata": {},
   "source": [
    "### 1.解析问题"
   ]
  },
  {
   "cell_type": "code",
   "execution_count": 7478,
   "metadata": {
    "collapsed": true
   },
   "outputs": [],
   "source": [
    "import re"
   ]
  },
  {
   "cell_type": "code",
   "execution_count": 7479,
   "metadata": {
    "collapsed": true
   },
   "outputs": [],
   "source": [
    "baseurl_item = u'2Z208000　解决建设工程纠纷法律制度\\\\2Z208050　行政强制、行政复议和行政诉讼制度'\n",
    "single_baseurl = u'二级建造师\\\\法规\\\\'+ baseurl_item + u'\\\\单选\\\\'\n",
    "multiple_baseurl = u'二级建造师\\\\法规\\\\'+ baseurl_item + u'\\\\多选\\\\'"
   ]
  },
  {
   "cell_type": "code",
   "execution_count": 7480,
   "metadata": {
    "collapsed": true
   },
   "outputs": [],
   "source": [
    "content_all = soup.find_all(\"div\",attrs={\"class\":\"nodeItem\"})"
   ]
  },
  {
   "cell_type": "code",
   "execution_count": 7481,
   "metadata": {
    "scrolled": true
   },
   "outputs": [],
   "source": [
    "#soup.find('div',class_='ItemBotCompose').decompose()"
   ]
  },
  {
   "cell_type": "code",
   "execution_count": 7482,
   "metadata": {
    "scrolled": true
   },
   "outputs": [],
   "source": [
    "# replace with `soup.findAll` if you are using BeautifulSoup3\n",
    "for div in soup.find_all(\"div\", {'class':'Item config'}): \n",
    "    if len(div.find_all(\"div\", {'class':'ItemBotCompose'}))!=0:\n",
    "        div.decompose() #将满足调节的 div 项删除"
   ]
  },
  {
   "cell_type": "code",
   "execution_count": 7483,
   "metadata": {},
   "outputs": [],
   "source": [
    "single_content_all = []\n",
    "multiple_content_all = []\n",
    "\n",
    "single_content_all = option_all[0].find_all(\"div\",attrs={\"class\":\"question config\"})\n",
    "if len(content_all)>1:\n",
    "    multiple_content_all = content_all[1].find_all(\"div\",attrs={\"class\":\"question config\"})"
   ]
  },
  {
   "cell_type": "code",
   "execution_count": 7484,
   "metadata": {},
   "outputs": [
    {
     "data": {
      "text/plain": [
       "21"
      ]
     },
     "execution_count": 7484,
     "metadata": {},
     "output_type": "execute_result"
    }
   ],
   "source": [
    "len(single_content_all)"
   ]
  },
  {
   "cell_type": "markdown",
   "metadata": {},
   "source": [
    "单选"
   ]
  },
  {
   "cell_type": "code",
   "execution_count": 7485,
   "metadata": {
    "scrolled": true
   },
   "outputs": [],
   "source": [
    "single_question = []\n",
    "\n",
    "for i in range(len(single_content_all)):\n",
    "    single_contents = single_content_all[i].dt.contents\n",
    "    #print(contents_single)\n",
    "    single_s = ''\n",
    "    for j in single_contents:#单选\n",
    "        single_s = single_s+str(j)\n",
    "    single_question.append(re.sub('[\\n]','',single_s))"
   ]
  },
  {
   "cell_type": "code",
   "execution_count": 7486,
   "metadata": {},
   "outputs": [
    {
     "name": "stdout",
     "output_type": "stream",
     "text": [
      "21\n"
     ]
    }
   ],
   "source": [
    "print(len(single_question))"
   ]
  },
  {
   "cell_type": "markdown",
   "metadata": {},
   "source": [
    "多选"
   ]
  },
  {
   "cell_type": "code",
   "execution_count": 7487,
   "metadata": {},
   "outputs": [],
   "source": [
    "multiple_question = []\n",
    "\n",
    "for i in range(len(multiple_content_all)):#多选\n",
    "    multiple_contents = multiple_content_all[i].dt.contents\n",
    "    #print(contents_single)\n",
    "    multiple_s = ''\n",
    "    for j in multiple_contents:\n",
    "        multiple_s = multiple_s+str(j)\n",
    "    multiple_question.append(re.sub('[\\n]','',multiple_s))"
   ]
  },
  {
   "cell_type": "code",
   "execution_count": 7488,
   "metadata": {},
   "outputs": [
    {
     "name": "stdout",
     "output_type": "stream",
     "text": [
      "13\n"
     ]
    }
   ],
   "source": [
    "print(len(multiple_question))"
   ]
  },
  {
   "cell_type": "markdown",
   "metadata": {},
   "source": [
    "保存数据"
   ]
  },
  {
   "cell_type": "code",
   "execution_count": 7489,
   "metadata": {},
   "outputs": [],
   "source": [
    "#question_file = open('question_file.txt', 'w')\n",
    "import codecs\n",
    "\n",
    "single_folder = os.path.exists(single_baseurl)\n",
    "multiple_folder = os.path.exists(multiple_baseurl)\n",
    "if not single_folder:                   #判断是否存在文件夹如果不存在则创建为文件夹\n",
    "    os.makedirs(single_baseurl)\n",
    "                \n",
    "if not multiple_folder:                   #判断是否存在文件夹如果不存在则创建为文件夹\n",
    "    os.makedirs(multiple_baseurl)\n",
    "                \n",
    "single_question_file = codecs.open(single_baseurl + 'single_question.txt', 'w','utf-8')\n",
    "multiple_question_file = codecs.open(multiple_baseurl + 'multiple_question.txt', 'w','utf-8')\n",
    "\n",
    "for item in single_question:\n",
    "    single_question_file.write(\"%s\\r\\n\" % item)\n",
    "    \n",
    "for item in multiple_question:\n",
    "    multiple_question_file.write(\"%s\\r\\n\" % item)\n",
    "    \n",
    "single_question_file.close()\n",
    "multiple_question_file.close()"
   ]
  },
  {
   "cell_type": "markdown",
   "metadata": {},
   "source": [
    "### 2.解析选项"
   ]
  },
  {
   "cell_type": "code",
   "execution_count": 7490,
   "metadata": {
    "collapsed": true
   },
   "outputs": [],
   "source": [
    "option_all = soup.find_all(\"div\",attrs={\"class\":\"nodeItem\"})"
   ]
  },
  {
   "cell_type": "markdown",
   "metadata": {},
   "source": [
    "区别单选和多选"
   ]
  },
  {
   "cell_type": "code",
   "execution_count": 7491,
   "metadata": {
    "scrolled": true
   },
   "outputs": [],
   "source": [
    "single_option_all = option_all[0].find_all(\"div\",attrs={\"class\":\"question config\"})\n",
    "if len(option_all)>1:\n",
    "    multiple_option_all = option_all[1].find_all(\"div\",attrs={\"class\":\"question config\"})"
   ]
  },
  {
   "cell_type": "code",
   "execution_count": 7492,
   "metadata": {
    "scrolled": true
   },
   "outputs": [
    {
     "data": {
      "text/plain": [
       "21"
      ]
     },
     "execution_count": 7492,
     "metadata": {},
     "output_type": "execute_result"
    }
   ],
   "source": [
    "len(single_option_all)"
   ]
  },
  {
   "cell_type": "code",
   "execution_count": 7493,
   "metadata": {},
   "outputs": [
    {
     "data": {
      "text/plain": [
       "1"
      ]
     },
     "execution_count": 7493,
     "metadata": {},
     "output_type": "execute_result"
    }
   ],
   "source": [
    "len(b)"
   ]
  },
  {
   "cell_type": "code",
   "execution_count": 7494,
   "metadata": {},
   "outputs": [
    {
     "data": {
      "text/plain": [
       "13"
      ]
     },
     "execution_count": 7494,
     "metadata": {},
     "output_type": "execute_result"
    }
   ],
   "source": [
    "len(multiple_option_all)"
   ]
  },
  {
   "cell_type": "markdown",
   "metadata": {},
   "source": [
    "单选"
   ]
  },
  {
   "cell_type": "code",
   "execution_count": 7495,
   "metadata": {},
   "outputs": [],
   "source": [
    "single_option_a = []\n",
    "single_option_b = []\n",
    "single_option_c = []\n",
    "single_option_d = []\n",
    "for option_i in range(len(single_option_all)):\n",
    "    single_option_a.append(re.sub('[\\r|\\n|\\t|\\\\s]', '', single_option_all[option_i].table.tbody.find_all(\"label\")[0].get_text()))\n",
    "    single_option_b.append(re.sub('[\\r|\\n|\\t|\\\\s]', '', single_option_all[option_i].table.tbody.find_all(\"label\")[1].get_text()))\n",
    "    single_option_c.append(re.sub('[\\r|\\n|\\t|\\\\s]', '', single_option_all[option_i].table.tbody.find_all(\"label\")[2].get_text()))\n",
    "    single_option_d.append(re.sub('[\\r|\\n|\\t|\\\\s]', '', single_option_all[option_i].table.tbody.find_all(\"label\")[3].get_text()))"
   ]
  },
  {
   "cell_type": "markdown",
   "metadata": {},
   "source": [
    "多选"
   ]
  },
  {
   "cell_type": "code",
   "execution_count": 7496,
   "metadata": {},
   "outputs": [],
   "source": [
    "multiple_option_a = []\n",
    "multiple_option_b = []\n",
    "multiple_option_c = []\n",
    "multiple_option_d = []\n",
    "multiple_option_e = []\n",
    "for option_i in range(len(multiple_option_all)):\n",
    "    multiple_option_a.append(re.sub('[\\r|\\n|\\t|\\\\s]', '', multiple_option_all[option_i].table.tbody.find_all(\"label\")[0].get_text()))\n",
    "    multiple_option_b.append(re.sub('[\\r|\\n|\\t|\\\\s]', '', multiple_option_all[option_i].table.tbody.find_all(\"label\")[1].get_text()))\n",
    "    multiple_option_c.append(re.sub('[\\r|\\n|\\t|\\\\s]', '', multiple_option_all[option_i].table.tbody.find_all(\"label\")[2].get_text()))\n",
    "    multiple_option_d.append(re.sub('[\\r|\\n|\\t|\\\\s]', '', multiple_option_all[option_i].table.tbody.find_all(\"label\")[3].get_text()))\n",
    "    multiple_option_e.append(re.sub('[\\r|\\n|\\t|\\\\s]', '', multiple_option_all[option_i].table.tbody.find_all(\"label\")[4].get_text()))"
   ]
  },
  {
   "cell_type": "code",
   "execution_count": 7497,
   "metadata": {
    "scrolled": false
   },
   "outputs": [
    {
     "data": {
      "text/plain": [
       "'A．建设单位的违约行为'"
      ]
     },
     "execution_count": 7497,
     "metadata": {},
     "output_type": "execute_result"
    }
   ],
   "source": [
    "single_option_a[1]"
   ]
  },
  {
   "cell_type": "markdown",
   "metadata": {},
   "source": [
    "保存单选选项"
   ]
  },
  {
   "cell_type": "code",
   "execution_count": 7498,
   "metadata": {},
   "outputs": [],
   "source": [
    "import codecs\n",
    "\n",
    "single_option_a_file = codecs.open(single_baseurl + 'single_option_a.txt', 'w','utf-8')\n",
    "single_option_b_file = codecs.open(single_baseurl + 'single_option_b.txt', 'w','utf-8')\n",
    "single_option_c_file = codecs.open(single_baseurl + 'single_option_c.txt', 'w','utf-8')\n",
    "single_option_d_file = codecs.open(single_baseurl + 'single_option_d.txt', 'w','utf-8')\n",
    "\n",
    "for item in single_option_a:\n",
    "    single_option_a_file.write(\"%s\\r\\n\" % item)\n",
    "for item in single_option_b:\n",
    "    single_option_b_file.write(\"%s\\r\\n\" % item)\n",
    "    \n",
    "for item in single_option_c:\n",
    "    single_option_c_file.write(\"%s\\r\\n\" % item)\n",
    "    \n",
    "for item in single_option_d:\n",
    "    single_option_d_file.write(\"%s\\r\\n\" % item)\n",
    "\n",
    "single_option_a_file.close()\n",
    "single_option_b_file.close()\n",
    "single_option_c_file.close()\n",
    "single_option_d_file.close()"
   ]
  },
  {
   "cell_type": "markdown",
   "metadata": {},
   "source": [
    "保存多选选项"
   ]
  },
  {
   "cell_type": "code",
   "execution_count": 7499,
   "metadata": {
    "collapsed": true
   },
   "outputs": [],
   "source": [
    "import codecs\n",
    "\n",
    "multiple_option_a_file = codecs.open(multiple_baseurl + 'multiple_option_a.txt', 'w','utf-8')\n",
    "multiple_option_b_file = codecs.open(multiple_baseurl + 'multiple_option_b.txt', 'w','utf-8')\n",
    "multiple_option_c_file = codecs.open(multiple_baseurl + 'multiple_option_c.txt', 'w','utf-8')\n",
    "multiple_option_d_file = codecs.open(multiple_baseurl + 'multiple_option_d.txt', 'w','utf-8')\n",
    "\n",
    "for item in multiple_option_a:\n",
    "    multiple_option_a_file.write(\"%s\\r\\n\" % item)\n",
    "for item in multiple_option_b:\n",
    "    multiple_option_b_file.write(\"%s\\r\\n\" % item)\n",
    "    \n",
    "for item in multiple_option_c:\n",
    "    multiple_option_c_file.write(\"%s\\r\\n\" % item)\n",
    "    \n",
    "for item in multiple_option_d:\n",
    "    multiple_option_d_file.write(\"%s\\r\\n\" % item)\n",
    "\n",
    "multiple_option_a_file.close()\n",
    "multiple_option_b_file.close()\n",
    "multiple_option_c_file.close()\n",
    "multiple_option_d_file.close()"
   ]
  },
  {
   "cell_type": "markdown",
   "metadata": {},
   "source": [
    "### 解析答案"
   ]
  },
  {
   "cell_type": "code",
   "execution_count": 7500,
   "metadata": {
    "collapsed": true
   },
   "outputs": [],
   "source": [
    "anwser_all = soup.find_all(\"div\",attrs={\"class\":\"nodeItem\"})"
   ]
  },
  {
   "cell_type": "code",
   "execution_count": 7501,
   "metadata": {
    "collapsed": true
   },
   "outputs": [],
   "source": [
    "single_anwser_all = anwser_all[0].find_all(\"div\",attrs={\"class\":\"Item config\"}) #单选\n",
    "if len(anwser_all)>1:\n",
    "    multiple_anwser_all = anwser_all[1].find_all(\"div\",attrs={\"class\":\"Item config\"}) #多选"
   ]
  },
  {
   "cell_type": "code",
   "execution_count": 7502,
   "metadata": {},
   "outputs": [
    {
     "data": {
      "text/plain": [
       "21"
      ]
     },
     "execution_count": 7502,
     "metadata": {},
     "output_type": "execute_result"
    }
   ],
   "source": [
    "len(single_anwser_all)"
   ]
  },
  {
   "cell_type": "code",
   "execution_count": 7503,
   "metadata": {},
   "outputs": [
    {
     "data": {
      "text/plain": [
       "21"
      ]
     },
     "execution_count": 7503,
     "metadata": {},
     "output_type": "execute_result"
    }
   ],
   "source": [
    "single_answer_right = []\n",
    "multiple_answer_right = []\n",
    "\n",
    "for answer_i in range(len(single_anwser_all)):\n",
    "    #print(anwser_all[25].find(\"div\",attrs={\"class\":\"config answer\"}))\n",
    "    #print(anwser_all[answer_i].find(\"table\",attrs={\"class\":\"HiddenStart\"}).find(\"div\",attrs={\"class\":\"anser Con\"}))\n",
    "    #print(anwser_all[answer_i].find(\"table\",attrs={\"class\":\"HiddenStart\"}).find(\"div\",attrs={\"class\":\"anser Con\"}).get_text())\n",
    "    single_answer_right.append(single_anwser_all[answer_i].find(\"div\",attrs={\"class\":\"anser Con\"}).string)\n",
    "    \n",
    "for answer_i in range(len(multiple_anwser_all)):\n",
    "    #print(anwser_all[25].find(\"div\",attrs={\"class\":\"config answer\"}))\n",
    "    #print(anwser_all[answer_i].find(\"table\",attrs={\"class\":\"HiddenStart\"}).find(\"div\",attrs={\"class\":\"anser Con\"}))\n",
    "    #print(anwser_all[answer_i].find(\"table\",attrs={\"class\":\"HiddenStart\"}).find(\"div\",attrs={\"class\":\"anser Con\"}).get_text())\n",
    "    multiple_answer_right.append(multiple_anwser_all[answer_i].find(\"div\",attrs={\"class\":\"anser Con\"}).string)\n",
    "    \n",
    "len(single_answer_right)"
   ]
  },
  {
   "cell_type": "code",
   "execution_count": 7504,
   "metadata": {
    "collapsed": true
   },
   "outputs": [],
   "source": [
    "import codecs\n",
    "\n",
    "single_anwser_file = codecs.open(single_baseurl + 'single_anwser.txt', 'w','utf-8')\n",
    "multiple_anwser_file = codecs.open(multiple_baseurl + 'multiple_anwser.txt', 'w','utf-8')\n",
    "\n",
    "for item in multiple_answer_right:\n",
    "    multiple_anwser_file.write(\"%s\\r\\n\" % item)\n",
    "    \n",
    "single_anwser_file.close()\n",
    "multiple_anwser_file.close()"
   ]
  },
  {
   "cell_type": "code",
   "execution_count": 7505,
   "metadata": {},
   "outputs": [],
   "source": [
    "#print(re.sub('[\\r|\\n|\\t|\\\\s]', '', anwser_1))"
   ]
  },
  {
   "cell_type": "markdown",
   "metadata": {},
   "source": [
    "### 解析解析"
   ]
  },
  {
   "cell_type": "code",
   "execution_count": 7506,
   "metadata": {
    "collapsed": true
   },
   "outputs": [],
   "source": [
    "analysis_all = soup.find_all(\"div\",attrs={\"class\":\"nodeItem\"})"
   ]
  },
  {
   "cell_type": "code",
   "execution_count": 7507,
   "metadata": {},
   "outputs": [
    {
     "data": {
      "text/plain": [
       "21"
      ]
     },
     "execution_count": 7507,
     "metadata": {},
     "output_type": "execute_result"
    }
   ],
   "source": [
    "single_analysis_all = analysis_all[0].find_all(\"div\",attrs={\"class\":\"Item config\"}) #单选\n",
    "if len(analysis_all)>1:\n",
    "    multiple_analysis_all = analysis_all[1].find_all(\"div\",attrs={\"class\":\"Item config\"}) #多选\n",
    "len(single_analysis_all)"
   ]
  },
  {
   "cell_type": "code",
   "execution_count": 7508,
   "metadata": {},
   "outputs": [
    {
     "name": "stdout",
     "output_type": "stream",
     "text": [
      "<div class=\"analysits Con\">AC两项，行政机关依法做出要求当事人履行排除妨碍、恢复原状等义务的行政决定，当事人逾期不履行，经催告仍不履行，其后果已经或者将危害交通安全、造成环境污染或者破坏自然资源的，行政机关可以代履行，或者委托没有利害关系的第三人代履行。D项，催告当事人履行，当事人履行的，停止代履行。</div>\n",
      "\n",
      "\n",
      "<div class=\"analysits Con\">行政复议的目的，是为了防止和纠正违法的或者不当的具体行政行为，保护公民、法人和其他组织的合法权益，保障和监督行政机关依法行使职权。因此，只要是公民、法人或者其他组织认为行政机关的具体行政行为侵犯其合法权益，就有权向行政机关提出行政复议申请。</div>\n",
      "\n",
      "\n",
      "<div class=\"analysits Con\">根据《行政复议法》规定，有11项可申请行政复议的情形，结合建设工程实践，其中7种尤为重要：①对行政机关作出的警告、罚款、没收违法所得、没收非法财物、责令停产停业、暂扣或者吊销许可证、暂扣或者吊销执照、行政拘留等行政处罚决定不服的；②对行政机关作出的限制人身自由或者查封、扣押、冻结财产等行政强制措施决定不服的；③对行政机关作出的有关许可证、执照、资质证、资格证等证书变更、中止、撤销的决定不服的；④认为行政机关侵犯合法的经营自主权的；⑤认为行政机关违法集资、征收财物、摊派费用或者违法要求履行其他义务的；⑥认为符合法定条件，申请行政机关颁发许可证、执照、资质证、资格证等证书，或者申请行政机关审批、登记有关事项，行政机关没有依法办理的；⑦认为行政机关的其他具体行政行为侵犯其合法权益的。根据《行政复议法》第八条的规定，不服行政机关作出的行政处分或者其他人事处理决定的，应当依照有关法律、行政法规的规定提起申诉，而不能提起行政复议。</div>\n",
      "\n",
      "\n",
      "<div class=\"analysits Con\">行政复议是指行政机关根据上级行政机关对下级行政机关的监督权，在当事人的申请和参加下，按照行政复议程序对具体行政行为进行合法性和适当性审查，并作出决定以解决行政侵权争议的活动。不服行政机关作出的行政处分或者其他人事处理决定的，应当依照有关法律、行政法规的规定提起申诉，不能提起行政复议。</div>\n",
      "\n",
      "\n",
      "<div class=\"analysits Con\">对于行政复议，应当按照《行政复议法》的规定向有权受理的行政机关申请，如对县级以上地方各级人民政府工作部门的具体行政行为不服的，由申请人选择，可以向该部门的本级人民政府申请行政复议，也可以向上一级主管部门申请行政复议。</div>\n",
      "\n",
      "\n",
      "<div class=\"analysits Con\">《行政诉讼法》第十三条规定，人民法院不受理公民、法人或者其他组织对下列事项提起的诉讼：①国防、外交等国家行为；②行政法规、规章或者行政机关制定、发布的具有普遍约束力的决定、命令；③行政机关对行政机关工作人员的奖惩、任免等决定；④法律规定由行政机关最终裁决的行政行为。</div>\n",
      "\n",
      "\n",
      "<div class=\"analysits Con\">A项，行政强制措施由法律、法规规定的行政机关在法定职权范围内实施。行政强制措施权不得委托。B项，查封、扣押的期限不得超过30日；情况复杂的，经行政机关负责人批准，可以延长，但是延长期限不得超过30日。法律、行政法规另有规定的除外。D项，检验、检疫、检测或者技术鉴定的费用由行政机关承担。</div>\n",
      "\n",
      "\n",
      "<div class=\"analysits Con\">行政强制措施包括：限制公民人身自由；查封场所、设施或者财物；扣押财物；冻结存款、汇款；其他行政强制措施。A项属于行政强制执行的方式。</div>\n",
      "\n",
      "\n",
      "<div class=\"analysits Con\">行政强制执行由法律设定。法律没有规定行政机关强制执行的，作出行政决定的行政机关应当申请人民法院强制执行。</div>\n",
      "\n",
      "\n",
      "<div class=\"analysits Con\">张某被强制隔离治疗属于行政强制措施，不是行政强制执行。张某提起行政诉讼，可由张某所在地或被告所在地法院管辖。</div>\n",
      "\n",
      "\n",
      "<div class=\"analysits Con\">强制拆除为行政强制执行，而非行政强制措施，此项权力已由《防洪法》授予水利行政主管部门，不能申请法院执行。</div>\n",
      "\n",
      "\n",
      "<div class=\"analysits Con\">查封、扣押的期限不得超过30日；情况复杂的，经行政机关负责人批准，可以延长，但是延长期限不得超过30日。法律、行政法规另有规定的除外。因查封、扣押发生的保管费用由行政机关承担。</div>\n",
      "\n",
      "\n",
      "<div class=\"analysits Con\">行政机关依法作出要求当事人履行排除妨碍、恢复原状等义务的行政决定，当事人逾期不履行，经催告仍不履行，其后果已经或者将危害交通安全、造成环境污染或者破坏自然资源的，行政机关可以代履行，或者委托没有利害关系的第三人代履行。</div>\n",
      "\n",
      "\n",
      "<div class=\"analysits Con\">下列事项应按规定的纠纷处理方式解决，不能提起行政复议：①不服行政机关作出的行政处分或者其他人事处理决定的，应当依照有关法律、行政法规的规定提起申诉；②不服行政机关对民事纠纷作出的调解或者其他处理，应当依法申请仲裁或者向法院提起诉讼。</div>\n",
      "\n",
      "\n",
      "<div class=\"analysits Con\">C项属于行政机关的行政处分，根据《行政复议法》第八条，该事项应按规定的纠纷处理方式解决，而不能提起行政复议。</div>\n",
      "\n",
      "\n",
      "<div class=\"analysits Con\">公民、法人或者其他组织认为具体行政行为侵犯其合法权益的，可以自知道该具体行政行为之日起60日内提出行政复议申请，但法律规定的申请期限超过60日的除外。本题中，该施工单位5月25日收到处罚决定，可以推定其5月25日知道该具体行政行为。故其申请行政复议的最后期限为7月24日。</div>\n",
      "\n",
      "\n",
      "<div class=\"analysits Con\">被申请人不按照法律规定提出书面答复、提交当初作出具体行政行为的证据、依据和其他材料的，视为该具体行政行为没有证据、依据，决定撤销该具体行政行为。</div>\n",
      "\n",
      "\n",
      "<div class=\"analysits Con\">《行政诉讼法》（2017年修订）第十二条规定，人民法院受理公民、法人或者其他组织提起的下列诉讼：①对行政拘留、暂扣或者吊销许可证和执照、责令停产停业、没收违法所得、没收非法财物、罚款、警告等行政处罚不服的；②对限制人身自由或者对财产的查封、扣押、冻结等行政强制措施和行政强制执行不服的；③申请行政许可，行政机关拒绝或者在法定期限内不予答复，或者对行政机关作出的有关行政许可的其他决定不服的；④对行政机关作出的关于确认土地、矿藏、水流、森林、山岭、草原、荒地、滩涂、海域等自然资源的所有权或者使用权的决定不服的；⑤对征收、征用决定及其补偿决定不服的；⑥申请行政机关履行保护人身权、财产权等合法权益的法定职责，行政机关拒绝履行或者不予答复的；⑦认为行政机关侵犯其经营自主权或者农村土地承包经营权、农村土地经营权的；⑧认为行政机关滥用行政权力排除或者限制竞争的；⑨认为行政机关违法集资、摊派费用或者违法要求履行其他义务的；⑩认为行政机关没有依法支付抚恤金、最低生活保障待遇或者社会保险待遇的；认为行政机关不依法履行、未按照约定履行或者违法变更、解除政府特许经营协议、土地房屋征收补偿协议等协议的；认为行政机关侵犯其他人身权、财产权等合法权益的。除以上规定外，人民法院受理法律、法规规定可以提起诉讼的其他行政案件。AD两项属于第①种情况，B项属于第⑥种情况。C项，在行政机关的购买行为中，行政机关只是普通的民事主体，未涉及行政权力的运用，若产生纠纷可以按照民事诉讼来解决，不能提起行政诉讼。</div>\n",
      "\n",
      "\n",
      "<div class=\"analysits Con\">《行政诉讼法》（2017年修订）第四十六条规定，公民、法人或者其他组织直接向人民法院提起诉讼的，应当自知道或者应当知道作出行政行为之日起6个月内提出。法律另有规定的除外。因不动产提起诉讼的案件自行政行为作出之日起超过20年，其他案件自行政行为作出之日起超过5年提起诉讼的，人民法院不予受理。第四十五条规定，公民、法人或者其他组织不服复议决定的，可以在收到复议决定书之日起15日内向人民法院提起诉讼。复议机关逾期不作决定的，申请人可以在复议期满之日起15日内向人民法院提起诉讼。法律另有规定的除外。</div>\n",
      "\n",
      "\n",
      "<div class=\"analysits Con\">《行政诉讼法》（2017年修订）第七十七条规定，行政处罚明显不当，或者其他行政行为涉及对款额的确定、认定确有错误的，人民法院可以判决变更。人民法院判决变更，不得加重原告的义务或者减损原告的权益。但利害关系人同为原告，且诉讼请求相反的除外。</div>\n",
      "\n",
      "\n",
      "<div class=\"analysits Con\">当事人不服人民法院一审判决的，有权在判决书送达之日起15日内向上一级人民法院提起上诉。当事人不服人民法院第一审裁定的，有权在裁定书送达之日起10日内向上一级人民法院提起上诉。逾期不提起上诉的，人民法院的一审判决或者裁定发生法律效力。</div>\n",
      "\n",
      "\n",
      "<div class=\"analysits Con\">下列事项应按规定的纠纷处理方式解决，不能提起行政复议：①不服行政机关作出的行政处分或者其他人事处理决定的，应当依照有关法律、行政法规的规定提起申诉；②不服行政机关对民事纠纷作出的调解或者其他处理，应当依法申请仲裁或者向法院提起诉讼。</div>\n",
      "\n",
      "\n",
      "<div class=\"analysits Con\">行政强制执行包括：加处罚款或者滞纳金；划拨存款、汇款；拍卖或者依法处理查封、扣押的场所、设施或者财物；排除妨碍、恢复原状；代履行；其他强制执行方式。AD两项属于行政强制措施。</div>\n",
      "\n",
      "\n",
      "<div class=\"analysits Con\">A项，行政强制执行由法律设定。法律没有规定行政机关强制执行的，作出行政决定的行政机关应当申请人民法院强制执行。</div>\n",
      "\n",
      "\n",
      "<div class=\"analysits Con\">根据《行政强制法》的规定，地方性法规可以设定查封场所、设施或者财物，以及扣押财物的行政强制措施。而冻结存款或汇款只能由法律设定。</div>\n",
      "\n",
      "\n",
      "<div class=\"analysits Con\">行政机关可以代履行，或者委托没有利害关系的第三人代履行。代履行应当遵守下列规定：①代履行前送达决定书，代履行决定书应当载明当事人的姓名或者名称、地址，代履行的理由和依据、方式和时间、标的、费用预算以及代履行人；②代履行3日前，催告当事人履行，当事人履行的，停止代履行；③代履行时，作出决定的行政机关应当派员到场监督；④代履行完毕，行政机关到场监督的工作人员、代履行人和当事人或者见证人应当在执行文书上签名或者盖章。代履行不得采用暴力、胁迫以及其他非法方式。</div>\n",
      "\n",
      "\n",
      "<div class=\"analysits Con\">B项，行政处分属于内部行政行为，不可申请复议；E项，行政调解不具有行政拘束力，对此不服的，可以提起民事诉讼或者申请仲裁。</div>\n",
      "\n",
      "\n",
      "<div class=\"analysits Con\">《行政诉讼法》第十三条规定，人民法院不受理公民、法人或者其他组织对下列事项提起的诉讼：①国防、外交等国家行为；②行政法规、规章或者行政机关制定、发布的具有普遍约束力的决定、命令；③行政机关对行政机关工作人员的奖惩、任免等决定；④法律规定由行政机关最终裁决的行政行为。本题中，A项属于抽象行政行为，C项属于内部行政行为，都不是人民法院审理行政诉讼案件的受案范围。D项属于民事合同行为，可以提起民事诉讼。</div>\n",
      "\n",
      "\n",
      "<div class=\"analysits Con\">公民、法人或者其他组织认为具体行政行为侵犯其合法权益的，可以自知道该具体行政行为之日起60日内提出行政复议申请，但法律规定的申请期限超过60日的除外。因不可抗力或者其他正当理由耽误法定申请期限的，申请期限自障碍消除之日起继续计算。</div>\n",
      "\n",
      "\n",
      "<div class=\"analysits Con\">A项，行政复议机关应当在受理行政复议申请之日起60日内作出行政复议决定。B项，公民、法人或者其他组织认为具体行政行为侵犯其合法权益的，可以自知道该具体行政行为之日起60日内提出行政复议申请；但法律规定的申请期限超过60日的除外。E项，不服行政机关对民事纠纷作出的调解或者其他处理，依法申请仲裁或者向人民法院提起诉讼，而不可以申请行政复议。</div>\n",
      "\n",
      "\n",
      "<div class=\"analysits Con\">《行政复议法》第二十一条规定，行政复议期间具体行政行为不停止执行；但是，有下列情形之一的，可以停止执行：①被申请人认为需要停止执行的；②行政复议机关认为需要停止执行的；③申请人申请停止执行，行政复议机关认为其要求合理，决定停止执行的；④法律规定停止执行的。</div>\n",
      "\n",
      "\n",
      "<div class=\"analysits Con\">在行政复议中，决定撤销、变更或者确认具体行政行为违法的情形有：①主要事实不清、证据不足的；②适用依据错误的；③违反法定程序的；④超越或者滥用职权的；⑤具体行政行为明显不当的。</div>\n",
      "\n",
      "\n",
      "<div class=\"analysits Con\">《行政诉讼法》（2017年修订）第九十四条规定，当事人必须履行人民法院发生法律效力的判决、裁定、调解书。第九十五条规定，公民、法人或者其他组织拒绝履行判决、裁定、调解书的，行政机关或者第三人可以向第一审人民法院申请强制执行，或者由行政机关依法强制执行。</div>\n",
      "\n",
      "\n",
      "<div class=\"analysits Con\">属于下列情形之一的，国家不承担赔偿责任：①行政机关工作人员与行使职权无关的个人行为；②因公民、法人和其他组织自己的行为致使损害发生的；③法律规定的其他情形。</div>\n",
      "\n",
      "\n"
     ]
    }
   ],
   "source": [
    "single_analysis = []\n",
    "multiple_analysis = []\n",
    "\n",
    "for analysis_i in range(len(single_analysis_all)):\n",
    "    print(single_analysis_all[analysis_i].find(\"div\",attrs={\"class\":\"analysits Con\"}))\n",
    "    print('\\n')\n",
    "    #answer_right.append(anwser_all[answer_i].find(\"div\",attrs={\"class\":\"analysits Con\"}).string)\n",
    "#print(answer_right)\n",
    "for analysis_i in range(len(multiple_analysis_all)):\n",
    "    print(multiple_analysis_all[analysis_i].find(\"div\",attrs={\"class\":\"analysits Con\"}))\n",
    "    print('\\n')"
   ]
  },
  {
   "cell_type": "code",
   "execution_count": 7509,
   "metadata": {
    "scrolled": false
   },
   "outputs": [
    {
     "name": "stdout",
     "output_type": "stream",
     "text": [
      "<div class=\"analysits Con\">下列事项应按规定的纠纷处理方式解决，不能提起行政复议：①不服行政机关作出的行政处分或者其他人事处理决定的，应当依照有关法律、行政法规的规定提起申诉；②不服行政机关对民事纠纷作出的调解或者其他处理，应当依法申请仲裁或者向法院提起诉讼。</div>\n"
     ]
    }
   ],
   "source": [
    "print(multiple_analysis_all[0].find(\"div\",attrs={\"class\":\"analysits Con\"}))"
   ]
  },
  {
   "cell_type": "code",
   "execution_count": 7510,
   "metadata": {
    "collapsed": true
   },
   "outputs": [],
   "source": [
    "single_analay = []\n",
    "multiple_analay = []\n",
    "for i in range(len(single_analysis_all)):\n",
    "    single_analay_item = single_analysis_all[i].find(\"div\",attrs={\"class\":\"analysits Con\"}).contents\n",
    "    #print(analay_single)\n",
    "    single_analay.append(single_analay_item)\n",
    "    #print(analay_single)\n",
    "    \n",
    "for i in range(len(multiple_analysis_all)):\n",
    "    multiple_analay_item = multiple_analysis_all[i].find(\"div\",attrs={\"class\":\"analysits Con\"}).contents\n",
    "    #print(analay_single)\n",
    "    multiple_analay.append(multiple_analay_item)\n",
    "    #print(analay_single)"
   ]
  },
  {
   "cell_type": "code",
   "execution_count": 7511,
   "metadata": {},
   "outputs": [],
   "source": [
    "single_analay_final = []\n",
    "for item in single_analay:\n",
    "    #analysis_file.write(\"%s\" % item)\n",
    "    single_s = ''\n",
    "    for i in item:\n",
    "        single_s = single_s + str(i)\n",
    "    single_analay_final.append(single_s)\n",
    "    #analysis_file.write(\"%s\\n\" % s)\n",
    "#analysis_file.close()\n",
    "\n",
    "multiple_analay_final = []\n",
    "for item in multiple_analay:\n",
    "    #analysis_file.write(\"%s\" % item)\n",
    "    multiple_s = ''\n",
    "    for i in item:\n",
    "        multiple_s = multiple_s + str(i)\n",
    "    multiple_analay_final.append(multiple_s)\n",
    "    #analysis_file.write(\"%s\\n\" % s)\n",
    "#analysis_file.close()"
   ]
  },
  {
   "cell_type": "code",
   "execution_count": 7512,
   "metadata": {
    "scrolled": true
   },
   "outputs": [
    {
     "name": "stdout",
     "output_type": "stream",
     "text": [
      "AC两项，行政机关依法做出要求当事人履行排除妨碍、恢复原状等义务的行政决定，当事人逾期不履行，经催告仍不履行，其后果已经或者将危害交通安全、造成环境污染或者破坏自然资源的，行政机关可以代履行，或者委托没有利害关系的第三人代履行。D项，催告当事人履行，当事人履行的，停止代履行。\n",
      "\n",
      "\n",
      "行政复议的目的，是为了防止和纠正违法的或者不当的具体行政行为，保护公民、法人和其他组织的合法权益，保障和监督行政机关依法行使职权。因此，只要是公民、法人或者其他组织认为行政机关的具体行政行为侵犯其合法权益，就有权向行政机关提出行政复议申请。\n",
      "\n",
      "\n",
      "根据《行政复议法》规定，有11项可申请行政复议的情形，结合建设工程实践，其中7种尤为重要：①对行政机关作出的警告、罚款、没收违法所得、没收非法财物、责令停产停业、暂扣或者吊销许可证、暂扣或者吊销执照、行政拘留等行政处罚决定不服的；②对行政机关作出的限制人身自由或者查封、扣押、冻结财产等行政强制措施决定不服的；③对行政机关作出的有关许可证、执照、资质证、资格证等证书变更、中止、撤销的决定不服的；④认为行政机关侵犯合法的经营自主权的；⑤认为行政机关违法集资、征收财物、摊派费用或者违法要求履行其他义务的；⑥认为符合法定条件，申请行政机关颁发许可证、执照、资质证、资格证等证书，或者申请行政机关审批、登记有关事项，行政机关没有依法办理的；⑦认为行政机关的其他具体行政行为侵犯其合法权益的。根据《行政复议法》第八条的规定，不服行政机关作出的行政处分或者其他人事处理决定的，应当依照有关法律、行政法规的规定提起申诉，而不能提起行政复议。\n",
      "\n",
      "\n",
      "行政复议是指行政机关根据上级行政机关对下级行政机关的监督权，在当事人的申请和参加下，按照行政复议程序对具体行政行为进行合法性和适当性审查，并作出决定以解决行政侵权争议的活动。不服行政机关作出的行政处分或者其他人事处理决定的，应当依照有关法律、行政法规的规定提起申诉，不能提起行政复议。\n",
      "\n",
      "\n",
      "对于行政复议，应当按照《行政复议法》的规定向有权受理的行政机关申请，如对县级以上地方各级人民政府工作部门的具体行政行为不服的，由申请人选择，可以向该部门的本级人民政府申请行政复议，也可以向上一级主管部门申请行政复议。\n",
      "\n",
      "\n",
      "《行政诉讼法》第十三条规定，人民法院不受理公民、法人或者其他组织对下列事项提起的诉讼：①国防、外交等国家行为；②行政法规、规章或者行政机关制定、发布的具有普遍约束力的决定、命令；③行政机关对行政机关工作人员的奖惩、任免等决定；④法律规定由行政机关最终裁决的行政行为。\n",
      "\n",
      "\n",
      "A项，行政强制措施由法律、法规规定的行政机关在法定职权范围内实施。行政强制措施权不得委托。B项，查封、扣押的期限不得超过30日；情况复杂的，经行政机关负责人批准，可以延长，但是延长期限不得超过30日。法律、行政法规另有规定的除外。D项，检验、检疫、检测或者技术鉴定的费用由行政机关承担。\n",
      "\n",
      "\n",
      "行政强制措施包括：限制公民人身自由；查封场所、设施或者财物；扣押财物；冻结存款、汇款；其他行政强制措施。A项属于行政强制执行的方式。\n",
      "\n",
      "\n",
      "行政强制执行由法律设定。法律没有规定行政机关强制执行的，作出行政决定的行政机关应当申请人民法院强制执行。\n",
      "\n",
      "\n",
      "张某被强制隔离治疗属于行政强制措施，不是行政强制执行。张某提起行政诉讼，可由张某所在地或被告所在地法院管辖。\n",
      "\n",
      "\n",
      "强制拆除为行政强制执行，而非行政强制措施，此项权力已由《防洪法》授予水利行政主管部门，不能申请法院执行。\n",
      "\n",
      "\n",
      "查封、扣押的期限不得超过30日；情况复杂的，经行政机关负责人批准，可以延长，但是延长期限不得超过30日。法律、行政法规另有规定的除外。因查封、扣押发生的保管费用由行政机关承担。\n",
      "\n",
      "\n",
      "行政机关依法作出要求当事人履行排除妨碍、恢复原状等义务的行政决定，当事人逾期不履行，经催告仍不履行，其后果已经或者将危害交通安全、造成环境污染或者破坏自然资源的，行政机关可以代履行，或者委托没有利害关系的第三人代履行。\n",
      "\n",
      "\n",
      "下列事项应按规定的纠纷处理方式解决，不能提起行政复议：①不服行政机关作出的行政处分或者其他人事处理决定的，应当依照有关法律、行政法规的规定提起申诉；②不服行政机关对民事纠纷作出的调解或者其他处理，应当依法申请仲裁或者向法院提起诉讼。\n",
      "\n",
      "\n",
      "C项属于行政机关的行政处分，根据《行政复议法》第八条，该事项应按规定的纠纷处理方式解决，而不能提起行政复议。\n",
      "\n",
      "\n",
      "公民、法人或者其他组织认为具体行政行为侵犯其合法权益的，可以自知道该具体行政行为之日起60日内提出行政复议申请，但法律规定的申请期限超过60日的除外。本题中，该施工单位5月25日收到处罚决定，可以推定其5月25日知道该具体行政行为。故其申请行政复议的最后期限为7月24日。\n",
      "\n",
      "\n",
      "被申请人不按照法律规定提出书面答复、提交当初作出具体行政行为的证据、依据和其他材料的，视为该具体行政行为没有证据、依据，决定撤销该具体行政行为。\n",
      "\n",
      "\n",
      "《行政诉讼法》（2017年修订）第十二条规定，人民法院受理公民、法人或者其他组织提起的下列诉讼：①对行政拘留、暂扣或者吊销许可证和执照、责令停产停业、没收违法所得、没收非法财物、罚款、警告等行政处罚不服的；②对限制人身自由或者对财产的查封、扣押、冻结等行政强制措施和行政强制执行不服的；③申请行政许可，行政机关拒绝或者在法定期限内不予答复，或者对行政机关作出的有关行政许可的其他决定不服的；④对行政机关作出的关于确认土地、矿藏、水流、森林、山岭、草原、荒地、滩涂、海域等自然资源的所有权或者使用权的决定不服的；⑤对征收、征用决定及其补偿决定不服的；⑥申请行政机关履行保护人身权、财产权等合法权益的法定职责，行政机关拒绝履行或者不予答复的；⑦认为行政机关侵犯其经营自主权或者农村土地承包经营权、农村土地经营权的；⑧认为行政机关滥用行政权力排除或者限制竞争的；⑨认为行政机关违法集资、摊派费用或者违法要求履行其他义务的；⑩认为行政机关没有依法支付抚恤金、最低生活保障待遇或者社会保险待遇的；认为行政机关不依法履行、未按照约定履行或者违法变更、解除政府特许经营协议、土地房屋征收补偿协议等协议的；认为行政机关侵犯其他人身权、财产权等合法权益的。除以上规定外，人民法院受理法律、法规规定可以提起诉讼的其他行政案件。AD两项属于第①种情况，B项属于第⑥种情况。C项，在行政机关的购买行为中，行政机关只是普通的民事主体，未涉及行政权力的运用，若产生纠纷可以按照民事诉讼来解决，不能提起行政诉讼。\n",
      "\n",
      "\n",
      "《行政诉讼法》（2017年修订）第四十六条规定，公民、法人或者其他组织直接向人民法院提起诉讼的，应当自知道或者应当知道作出行政行为之日起6个月内提出。法律另有规定的除外。因不动产提起诉讼的案件自行政行为作出之日起超过20年，其他案件自行政行为作出之日起超过5年提起诉讼的，人民法院不予受理。第四十五条规定，公民、法人或者其他组织不服复议决定的，可以在收到复议决定书之日起15日内向人民法院提起诉讼。复议机关逾期不作决定的，申请人可以在复议期满之日起15日内向人民法院提起诉讼。法律另有规定的除外。\n",
      "\n",
      "\n",
      "《行政诉讼法》（2017年修订）第七十七条规定，行政处罚明显不当，或者其他行政行为涉及对款额的确定、认定确有错误的，人民法院可以判决变更。人民法院判决变更，不得加重原告的义务或者减损原告的权益。但利害关系人同为原告，且诉讼请求相反的除外。\n",
      "\n",
      "\n",
      "当事人不服人民法院一审判决的，有权在判决书送达之日起15日内向上一级人民法院提起上诉。当事人不服人民法院第一审裁定的，有权在裁定书送达之日起10日内向上一级人民法院提起上诉。逾期不提起上诉的，人民法院的一审判决或者裁定发生法律效力。\n",
      "\n",
      "\n",
      "下列事项应按规定的纠纷处理方式解决，不能提起行政复议：①不服行政机关作出的行政处分或者其他人事处理决定的，应当依照有关法律、行政法规的规定提起申诉；②不服行政机关对民事纠纷作出的调解或者其他处理，应当依法申请仲裁或者向法院提起诉讼。\n",
      "\n",
      "\n",
      "行政强制执行包括：加处罚款或者滞纳金；划拨存款、汇款；拍卖或者依法处理查封、扣押的场所、设施或者财物；排除妨碍、恢复原状；代履行；其他强制执行方式。AD两项属于行政强制措施。\n",
      "\n",
      "\n",
      "A项，行政强制执行由法律设定。法律没有规定行政机关强制执行的，作出行政决定的行政机关应当申请人民法院强制执行。\n",
      "\n",
      "\n",
      "根据《行政强制法》的规定，地方性法规可以设定查封场所、设施或者财物，以及扣押财物的行政强制措施。而冻结存款或汇款只能由法律设定。\n",
      "\n",
      "\n",
      "行政机关可以代履行，或者委托没有利害关系的第三人代履行。代履行应当遵守下列规定：①代履行前送达决定书，代履行决定书应当载明当事人的姓名或者名称、地址，代履行的理由和依据、方式和时间、标的、费用预算以及代履行人；②代履行3日前，催告当事人履行，当事人履行的，停止代履行；③代履行时，作出决定的行政机关应当派员到场监督；④代履行完毕，行政机关到场监督的工作人员、代履行人和当事人或者见证人应当在执行文书上签名或者盖章。代履行不得采用暴力、胁迫以及其他非法方式。\n",
      "\n",
      "\n",
      "B项，行政处分属于内部行政行为，不可申请复议；E项，行政调解不具有行政拘束力，对此不服的，可以提起民事诉讼或者申请仲裁。\n",
      "\n",
      "\n",
      "《行政诉讼法》第十三条规定，人民法院不受理公民、法人或者其他组织对下列事项提起的诉讼：①国防、外交等国家行为；②行政法规、规章或者行政机关制定、发布的具有普遍约束力的决定、命令；③行政机关对行政机关工作人员的奖惩、任免等决定；④法律规定由行政机关最终裁决的行政行为。本题中，A项属于抽象行政行为，C项属于内部行政行为，都不是人民法院审理行政诉讼案件的受案范围。D项属于民事合同行为，可以提起民事诉讼。\n",
      "\n",
      "\n",
      "公民、法人或者其他组织认为具体行政行为侵犯其合法权益的，可以自知道该具体行政行为之日起60日内提出行政复议申请，但法律规定的申请期限超过60日的除外。因不可抗力或者其他正当理由耽误法定申请期限的，申请期限自障碍消除之日起继续计算。\n",
      "\n",
      "\n",
      "A项，行政复议机关应当在受理行政复议申请之日起60日内作出行政复议决定。B项，公民、法人或者其他组织认为具体行政行为侵犯其合法权益的，可以自知道该具体行政行为之日起60日内提出行政复议申请；但法律规定的申请期限超过60日的除外。E项，不服行政机关对民事纠纷作出的调解或者其他处理，依法申请仲裁或者向人民法院提起诉讼，而不可以申请行政复议。\n",
      "\n",
      "\n",
      "《行政复议法》第二十一条规定，行政复议期间具体行政行为不停止执行；但是，有下列情形之一的，可以停止执行：①被申请人认为需要停止执行的；②行政复议机关认为需要停止执行的；③申请人申请停止执行，行政复议机关认为其要求合理，决定停止执行的；④法律规定停止执行的。\n",
      "\n",
      "\n",
      "在行政复议中，决定撤销、变更或者确认具体行政行为违法的情形有：①主要事实不清、证据不足的；②适用依据错误的；③违反法定程序的；④超越或者滥用职权的；⑤具体行政行为明显不当的。\n",
      "\n",
      "\n",
      "《行政诉讼法》（2017年修订）第九十四条规定，当事人必须履行人民法院发生法律效力的判决、裁定、调解书。第九十五条规定，公民、法人或者其他组织拒绝履行判决、裁定、调解书的，行政机关或者第三人可以向第一审人民法院申请强制执行，或者由行政机关依法强制执行。\n",
      "\n",
      "\n",
      "属于下列情形之一的，国家不承担赔偿责任：①行政机关工作人员与行使职权无关的个人行为；②因公民、法人和其他组织自己的行为致使损害发生的；③法律规定的其他情形。\n",
      "\n",
      "\n"
     ]
    }
   ],
   "source": [
    "import codecs\n",
    "single_analysis_file = codecs.open(single_baseurl + 'single_analysis_file.txt', 'w','utf-8')\n",
    "\n",
    "for s in single_analay_final:\n",
    "    print(s)\n",
    "    print(\"\\n\")\n",
    "    single_analysis_file.write(\"%s\\r\\n\" % s)\n",
    "    \n",
    "multiple_analysis_file = codecs.open(multiple_baseurl + 'multiple_analysis_file.txt', 'w','utf-8')\n",
    "\n",
    "for s in multiple_analay_final:\n",
    "    print(s)\n",
    "    print(\"\\n\")\n",
    "    multiple_analysis_file.write(\"%s\\r\\n\" % s)    \n",
    "    \n",
    "single_analysis_file.close()\n",
    "multiple_analysis_file.close()"
   ]
  },
  {
   "cell_type": "markdown",
   "metadata": {},
   "source": [
    "单选选项拼接"
   ]
  },
  {
   "cell_type": "code",
   "execution_count": 7513,
   "metadata": {
    "scrolled": true
   },
   "outputs": [],
   "source": [
    "\"\"\"\n",
    "question\n",
    "option_a\n",
    "option_b\n",
    "option_c\n",
    "option_d\n",
    "answer_right\n",
    "analay_final\n",
    "\"\"\"\n",
    "\n",
    "\"\"\"\n",
    "option= codecs.open(baseurl + 'option.txt', 'w','utf-8')\n",
    "\n",
    "for i in range(len(option_a)):\n",
    "    option.write(option_a[i].strip().replace(u'A\\uff0e','')\n",
    "                 +u'<br>'+option_b[i].strip().replace(u'B\\uff0e','')\n",
    "                 +u'<br>'+option_c[i].strip().replace(u'C\\uff0e','')\n",
    "                 +u'<br>'+option_d[i].replace(u'D\\uff0e','')\n",
    "                 )\n",
    "\"\"\"\n",
    "single_data = []\n",
    "for i in range(len(single_option_a)):\n",
    "    single_data_string = single_question[i].replace('（　　）','{{c1::（）}}') + \"\t\"+ single_option_a[i].strip().replace('A．','')+ '<br>' + single_option_b[i].strip().replace('B．','')+ '<br>'+ single_option_c[i].strip().replace('C．','')+ '<br>'+ single_option_d[i].replace('D．','')+ \"\t\"+ single_answer_right[i]+ \"\t\"+ single_analay_final[i]\n",
    "    single_data.append(single_data_string)\n",
    "data_single = codecs.open(single_baseurl + 'data_single.txt', 'w','utf-8')\n",
    "\n",
    "for i in range(len(single_data)):\n",
    "    data_single.write(single_data[i]+\"\\r\\n\")\n",
    "data_single.close()"
   ]
  },
  {
   "cell_type": "code",
   "execution_count": 7514,
   "metadata": {},
   "outputs": [
    {
     "data": {
      "text/plain": [
       "21"
      ]
     },
     "execution_count": 7514,
     "metadata": {},
     "output_type": "execute_result"
    }
   ],
   "source": [
    "len(single_data )"
   ]
  },
  {
   "cell_type": "markdown",
   "metadata": {},
   "source": [
    "多选选项拼接"
   ]
  },
  {
   "cell_type": "code",
   "execution_count": 7515,
   "metadata": {},
   "outputs": [],
   "source": [
    "multiple_data = []\n",
    "for i in range(len(multiple_option_a)):\n",
    "    multiple_data_string = multiple_question[i].replace('（　　）','{{c1::（）}}') + \"\t\"+ multiple_option_a[i].strip().replace('A．','')+ '<br>' + multiple_option_b[i].strip().replace('B．','')+ '<br>'+ multiple_option_c[i].strip().replace('C．','')+ '<br>'+ multiple_option_d[i].replace('D．','')+ '<br>'+ multiple_option_e[i].replace('E．','')+ \"\t\"+ multiple_answer_right[i]+ \"\t\"+ multiple_analay_final[i]\n",
    "    multiple_data.append(multiple_data_string)\n",
    "data_multiple = codecs.open(multiple_baseurl + 'data_multiple.txt', 'w','utf-8')\n",
    "\n",
    "for i in range(len(multiple_data)):\n",
    "    data_multiple.write(multiple_data[i]+\"\\r\\n\")\n",
    "data_multiple.close()"
   ]
  },
  {
   "cell_type": "code",
   "execution_count": 7516,
   "metadata": {},
   "outputs": [
    {
     "data": {
      "text/plain": [
       "13"
      ]
     },
     "execution_count": 7516,
     "metadata": {},
     "output_type": "execute_result"
    }
   ],
   "source": [
    "len(multiple_data)"
   ]
  },
  {
   "cell_type": "code",
   "execution_count": null,
   "metadata": {
    "collapsed": true
   },
   "outputs": [],
   "source": []
  }
 ],
 "metadata": {
  "kernelspec": {
   "display_name": "Python 3",
   "language": "python",
   "name": "python3"
  },
  "language_info": {
   "codemirror_mode": {
    "name": "ipython",
    "version": 3
   },
   "file_extension": ".py",
   "mimetype": "text/x-python",
   "name": "python",
   "nbconvert_exporter": "python",
   "pygments_lexer": "ipython3",
   "version": "3.5.4"
  }
 },
 "nbformat": 4,
 "nbformat_minor": 2
}

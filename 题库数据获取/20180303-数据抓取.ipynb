{
 "cells": [
  {
   "cell_type": "markdown",
   "metadata": {},
   "source": [
    "# 使用selenium和bs4爬虫\n",
    "\n",
    "## 1.selenium的使用"
   ]
  },
  {
   "cell_type": "code",
   "execution_count": 1,
   "metadata": {
    "collapsed": true
   },
   "outputs": [],
   "source": [
    "import os,time\n",
    "from selenium import webdriver\n",
    "from bs4 import BeautifulSoup\n",
    "chromedriver = \"C:\\\\Program Files (x86)\\\\Google\\\\Chrome\\\\Application\\\\chromedriver.exe\"#chrome所在驱动\n",
    "os.environ[\"webdriver.chrome.driver\"] = chromedriver\n",
    "driver = webdriver.Chrome(chromedriver)\n",
    "driver.get('http://user.100xuexi.com/MyDeal/myEBookPurchase.aspx')\n",
    "time.sleep(2)"
   ]
  },
  {
   "cell_type": "code",
   "execution_count": null,
   "metadata": {
    "collapsed": true
   },
   "outputs": [],
   "source": [
    "driver.find_element_by_id('username').send_keys('18775325832')#"
   ]
  },
  {
   "cell_type": "code",
   "execution_count": null,
   "metadata": {
    "collapsed": true
   },
   "outputs": [],
   "source": [
    "driver.find_element_by_id('txtVerify').clear()#验证码\n",
    "driver.find_element_by_id('txtVerify').send_keys('69')#验证码"
   ]
  },
  {
   "cell_type": "code",
   "execution_count": null,
   "metadata": {
    "collapsed": true
   },
   "outputs": [],
   "source": [
    "#driver.find_element_by_xpath('//*[@id=\"conPurchaseA1\"]/table/tbody/tr[3]/td[2]/a').click();\n",
    "driver.find_element_by_xpath('//*[@id=\"regNow\"]').click();"
   ]
  },
  {
   "cell_type": "code",
   "execution_count": null,
   "metadata": {
    "collapsed": true
   },
   "outputs": [],
   "source": [
    "driver.find_element_by_xpath('//*[@id=\"PurchaseA2\"]').click();"
   ]
  },
  {
   "cell_type": "code",
   "execution_count": 2,
   "metadata": {
    "collapsed": true
   },
   "outputs": [],
   "source": [
    "#接下来会有新的窗口打开，获取所有窗口句柄\n",
    "windows = driver.window_handles\n",
    "driver.switch_to.window(windows[-1])"
   ]
  },
  {
   "cell_type": "code",
   "execution_count": null,
   "metadata": {
    "collapsed": true
   },
   "outputs": [],
   "source": [
    "driver.find_element_by_xpath('//*[@id=\"lefter\"]/div/div[1]/a').click();\n",
    "#/PracticeCenter/Chapter/Index?TQuestionPlanID=2997&groupName=&code=&tb_l_PaperQuePlanID=86215&Model=chapter&TypeMenuFlag=2\n",
    "#/PracticeCenter/Chapter/Index?TQuestionPlanID=2997&groupName=&code=&tb_l_PaperQuePlanID=86216&Model=chapter&TypeMenuFlag=2\n",
    "#item表示章，li后的数字表示节"
   ]
  },
  {
   "cell_type": "code",
   "execution_count": null,
   "metadata": {
    "collapsed": true
   },
   "outputs": [],
   "source": [
    "#driver.find_element_by_xpath('//*[@id=\"item01\"]/li[2]/a').click();"
   ]
  },
  {
   "cell_type": "markdown",
   "metadata": {},
   "source": [
    "## 2.解析成html"
   ]
  },
  {
   "cell_type": "code",
   "execution_count": 2120,
   "metadata": {
    "collapsed": true
   },
   "outputs": [],
   "source": [
    "html = driver.page_source\n",
    "soup = BeautifulSoup(html, \"html5lib\")"
   ]
  },
  {
   "cell_type": "markdown",
   "metadata": {},
   "source": [
    "## 3.html文件解析"
   ]
  },
  {
   "cell_type": "markdown",
   "metadata": {},
   "source": [
    "### 1.解析问题"
   ]
  },
  {
   "cell_type": "code",
   "execution_count": 2121,
   "metadata": {
    "collapsed": true
   },
   "outputs": [],
   "source": [
    "import re"
   ]
  },
  {
   "cell_type": "code",
   "execution_count": 2122,
   "metadata": {
    "collapsed": true
   },
   "outputs": [],
   "source": [
    "baseurl_item = u'2Z104000  施工质量管理\\\\2Z104040　施工质量事故预防与处理'\n",
    "single_baseurl = u'二级建造师anki\\\\二建2018管理\\\\'+ baseurl_item + u'\\\\单选\\\\'\n",
    "multiple_baseurl = u'二级建造师anki\\\\二建2018管理\\\\'+ baseurl_item + u'\\\\多选\\\\'"
   ]
  },
  {
   "cell_type": "code",
   "execution_count": 2123,
   "metadata": {
    "collapsed": true
   },
   "outputs": [],
   "source": [
    "content_all = soup.find_all(\"div\",attrs={\"class\":\"nodeItem\"})"
   ]
  },
  {
   "cell_type": "code",
   "execution_count": 2124,
   "metadata": {
    "collapsed": true,
    "scrolled": true
   },
   "outputs": [],
   "source": [
    "#soup.find('div',class_='ItemBotCompose').decompose()"
   ]
  },
  {
   "cell_type": "code",
   "execution_count": 2125,
   "metadata": {
    "collapsed": true,
    "scrolled": true
   },
   "outputs": [],
   "source": [
    "# replace with `soup.findAll` if you are using BeautifulSoup3\n",
    "for div in soup.find_all(\"div\", {'class':'Item config'}): \n",
    "    if len(div.find_all(\"div\", {'class':'ItemBotCompose'}))!=0:\n",
    "        div.decompose() #将满足调节的 div 项删除"
   ]
  },
  {
   "cell_type": "code",
   "execution_count": 2126,
   "metadata": {},
   "outputs": [],
   "source": [
    "single_content_all = []\n",
    "multiple_content_all = []\n",
    "\n",
    "single_content_all = content_all[0].find_all(\"div\",attrs={\"class\":\"question config\"})\n",
    "if len(content_all)>1:\n",
    "    multiple_content_all = content_all[1].find_all(\"div\",attrs={\"class\":\"question config\"})"
   ]
  },
  {
   "cell_type": "code",
   "execution_count": 2127,
   "metadata": {},
   "outputs": [
    {
     "data": {
      "text/plain": [
       "22"
      ]
     },
     "execution_count": 2127,
     "metadata": {},
     "output_type": "execute_result"
    }
   ],
   "source": [
    "len(single_content_all)"
   ]
  },
  {
   "cell_type": "markdown",
   "metadata": {},
   "source": [
    "单选"
   ]
  },
  {
   "cell_type": "code",
   "execution_count": 2128,
   "metadata": {
    "collapsed": true,
    "scrolled": true
   },
   "outputs": [],
   "source": [
    "single_question = []\n",
    "\n",
    "for i in range(len(single_content_all)):\n",
    "    single_contents = single_content_all[i].dt.contents\n",
    "    #print(contents_single)\n",
    "    single_s = ''\n",
    "    for j in single_contents:#单选\n",
    "        single_s = single_s+str(j)\n",
    "    single_question.append(re.sub('[\\n]','',single_s))"
   ]
  },
  {
   "cell_type": "code",
   "execution_count": 2129,
   "metadata": {},
   "outputs": [
    {
     "name": "stdout",
     "output_type": "stream",
     "text": [
      "22\n"
     ]
    }
   ],
   "source": [
    "print(len(single_question))"
   ]
  },
  {
   "cell_type": "markdown",
   "metadata": {},
   "source": [
    "多选"
   ]
  },
  {
   "cell_type": "code",
   "execution_count": 2130,
   "metadata": {
    "collapsed": true
   },
   "outputs": [],
   "source": [
    "multiple_question = []\n",
    "\n",
    "for i in range(len(multiple_content_all)):#多选\n",
    "    multiple_contents = multiple_content_all[i].dt.contents\n",
    "    #print(contents_single)\n",
    "    multiple_s = ''\n",
    "    for j in multiple_contents:\n",
    "        multiple_s = multiple_s+str(j)\n",
    "    multiple_question.append(re.sub('[\\n]','',multiple_s))"
   ]
  },
  {
   "cell_type": "code",
   "execution_count": 2131,
   "metadata": {},
   "outputs": [
    {
     "name": "stdout",
     "output_type": "stream",
     "text": [
      "13\n"
     ]
    }
   ],
   "source": [
    "print(len(multiple_question))"
   ]
  },
  {
   "cell_type": "markdown",
   "metadata": {},
   "source": [
    "保存数据"
   ]
  },
  {
   "cell_type": "code",
   "execution_count": 2132,
   "metadata": {},
   "outputs": [],
   "source": [
    "#question_file = open('question_file.txt', 'w')\n",
    "import codecs\n",
    "\n",
    "single_folder = os.path.exists(single_baseurl)\n",
    "multiple_folder = os.path.exists(multiple_baseurl)\n",
    "if not single_folder:                   #判断是否存在文件夹如果不存在则创建为文件夹\n",
    "    os.makedirs(single_baseurl)\n",
    "                \n",
    "if not multiple_folder:                   #判断是否存在文件夹如果不存在则创建为文件夹\n",
    "    os.makedirs(multiple_baseurl)\n",
    "                \n",
    "single_question_file = codecs.open(single_baseurl + 'single_question.txt', 'w','utf-8')\n",
    "multiple_question_file = codecs.open(multiple_baseurl + 'multiple_question.txt', 'w','utf-8')\n",
    "\n",
    "for item in single_question:\n",
    "    single_question_file.write(\"%s\\r\\n\" % item)\n",
    "    \n",
    "for item in multiple_question:\n",
    "    multiple_question_file.write(\"%s\\r\\n\" % item)\n",
    "    \n",
    "single_question_file.close()\n",
    "multiple_question_file.close()"
   ]
  },
  {
   "cell_type": "markdown",
   "metadata": {},
   "source": [
    "### 2.解析选项"
   ]
  },
  {
   "cell_type": "code",
   "execution_count": 2133,
   "metadata": {
    "collapsed": true
   },
   "outputs": [],
   "source": [
    "option_all = soup.find_all(\"div\",attrs={\"class\":\"nodeItem\"})"
   ]
  },
  {
   "cell_type": "markdown",
   "metadata": {},
   "source": [
    "区别单选和多选"
   ]
  },
  {
   "cell_type": "code",
   "execution_count": 2134,
   "metadata": {
    "collapsed": true,
    "scrolled": true
   },
   "outputs": [],
   "source": [
    "single_option_all = option_all[0].find_all(\"div\",attrs={\"class\":\"question config\"})\n",
    "if len(option_all)>1:\n",
    "    multiple_option_all = option_all[1].find_all(\"div\",attrs={\"class\":\"question config\"})"
   ]
  },
  {
   "cell_type": "code",
   "execution_count": 2135,
   "metadata": {
    "scrolled": true
   },
   "outputs": [
    {
     "data": {
      "text/plain": [
       "22"
      ]
     },
     "execution_count": 2135,
     "metadata": {},
     "output_type": "execute_result"
    }
   ],
   "source": [
    "len(single_option_all)"
   ]
  },
  {
   "cell_type": "code",
   "execution_count": 2136,
   "metadata": {},
   "outputs": [
    {
     "data": {
      "text/plain": [
       "13"
      ]
     },
     "execution_count": 2136,
     "metadata": {},
     "output_type": "execute_result"
    }
   ],
   "source": [
    "len(multiple_option_all)"
   ]
  },
  {
   "cell_type": "markdown",
   "metadata": {},
   "source": [
    "单选"
   ]
  },
  {
   "cell_type": "code",
   "execution_count": 2137,
   "metadata": {
    "collapsed": true
   },
   "outputs": [],
   "source": [
    "single_option_a = []\n",
    "single_option_b = []\n",
    "single_option_c = []\n",
    "single_option_d = []\n",
    "for option_i in range(len(single_option_all)):\n",
    "    single_option_a.append(re.sub('[\\r|\\n|\\t|\\\\s]', '', single_option_all[option_i].table.tbody.find_all(\"label\")[0].get_text()))\n",
    "    single_option_b.append(re.sub('[\\r|\\n|\\t|\\\\s]', '', single_option_all[option_i].table.tbody.find_all(\"label\")[1].get_text()))\n",
    "    single_option_c.append(re.sub('[\\r|\\n|\\t|\\\\s]', '', single_option_all[option_i].table.tbody.find_all(\"label\")[2].get_text()))\n",
    "    single_option_d.append(re.sub('[\\r|\\n|\\t|\\\\s]', '', single_option_all[option_i].table.tbody.find_all(\"label\")[3].get_text()))"
   ]
  },
  {
   "cell_type": "markdown",
   "metadata": {},
   "source": [
    "多选"
   ]
  },
  {
   "cell_type": "code",
   "execution_count": 2138,
   "metadata": {
    "collapsed": true
   },
   "outputs": [],
   "source": [
    "multiple_option_a = []\n",
    "multiple_option_b = []\n",
    "multiple_option_c = []\n",
    "multiple_option_d = []\n",
    "multiple_option_e = []\n",
    "for option_i in range(len(multiple_option_all)):\n",
    "    multiple_option_a.append(re.sub('[\\r|\\n|\\t|\\\\s]', '', multiple_option_all[option_i].table.tbody.find_all(\"label\")[0].get_text()))\n",
    "    multiple_option_b.append(re.sub('[\\r|\\n|\\t|\\\\s]', '', multiple_option_all[option_i].table.tbody.find_all(\"label\")[1].get_text()))\n",
    "    multiple_option_c.append(re.sub('[\\r|\\n|\\t|\\\\s]', '', multiple_option_all[option_i].table.tbody.find_all(\"label\")[2].get_text()))\n",
    "    multiple_option_d.append(re.sub('[\\r|\\n|\\t|\\\\s]', '', multiple_option_all[option_i].table.tbody.find_all(\"label\")[3].get_text()))\n",
    "    multiple_option_e.append(re.sub('[\\r|\\n|\\t|\\\\s]', '', multiple_option_all[option_i].table.tbody.find_all(\"label\")[4].get_text()))"
   ]
  },
  {
   "cell_type": "code",
   "execution_count": 2139,
   "metadata": {
    "scrolled": false
   },
   "outputs": [
    {
     "data": {
      "text/plain": [
       "'A．一般事故'"
      ]
     },
     "execution_count": 2139,
     "metadata": {},
     "output_type": "execute_result"
    }
   ],
   "source": [
    "single_option_a[1]"
   ]
  },
  {
   "cell_type": "markdown",
   "metadata": {},
   "source": [
    "保存单选选项"
   ]
  },
  {
   "cell_type": "code",
   "execution_count": 2140,
   "metadata": {
    "collapsed": true
   },
   "outputs": [],
   "source": [
    "import codecs\n",
    "\n",
    "single_option_a_file = codecs.open(single_baseurl + 'single_option_a.txt', 'w','utf-8')\n",
    "single_option_b_file = codecs.open(single_baseurl + 'single_option_b.txt', 'w','utf-8')\n",
    "single_option_c_file = codecs.open(single_baseurl + 'single_option_c.txt', 'w','utf-8')\n",
    "single_option_d_file = codecs.open(single_baseurl + 'single_option_d.txt', 'w','utf-8')\n",
    "\n",
    "for item in single_option_a:\n",
    "    single_option_a_file.write(\"%s\\r\\n\" % item)\n",
    "for item in single_option_b:\n",
    "    single_option_b_file.write(\"%s\\r\\n\" % item)\n",
    "    \n",
    "for item in single_option_c:\n",
    "    single_option_c_file.write(\"%s\\r\\n\" % item)\n",
    "    \n",
    "for item in single_option_d:\n",
    "    single_option_d_file.write(\"%s\\r\\n\" % item)\n",
    "\n",
    "single_option_a_file.close()\n",
    "single_option_b_file.close()\n",
    "single_option_c_file.close()\n",
    "single_option_d_file.close()"
   ]
  },
  {
   "cell_type": "markdown",
   "metadata": {},
   "source": [
    "保存多选选项"
   ]
  },
  {
   "cell_type": "code",
   "execution_count": 2141,
   "metadata": {
    "collapsed": true
   },
   "outputs": [],
   "source": [
    "import codecs\n",
    "\n",
    "multiple_option_a_file = codecs.open(multiple_baseurl + 'multiple_option_a.txt', 'w','utf-8')\n",
    "multiple_option_b_file = codecs.open(multiple_baseurl + 'multiple_option_b.txt', 'w','utf-8')\n",
    "multiple_option_c_file = codecs.open(multiple_baseurl + 'multiple_option_c.txt', 'w','utf-8')\n",
    "multiple_option_d_file = codecs.open(multiple_baseurl + 'multiple_option_d.txt', 'w','utf-8')\n",
    "\n",
    "for item in multiple_option_a:\n",
    "    multiple_option_a_file.write(\"%s\\r\\n\" % item)\n",
    "for item in multiple_option_b:\n",
    "    multiple_option_b_file.write(\"%s\\r\\n\" % item)\n",
    "    \n",
    "for item in multiple_option_c:\n",
    "    multiple_option_c_file.write(\"%s\\r\\n\" % item)\n",
    "    \n",
    "for item in multiple_option_d:\n",
    "    multiple_option_d_file.write(\"%s\\r\\n\" % item)\n",
    "\n",
    "multiple_option_a_file.close()\n",
    "multiple_option_b_file.close()\n",
    "multiple_option_c_file.close()\n",
    "multiple_option_d_file.close()"
   ]
  },
  {
   "cell_type": "markdown",
   "metadata": {},
   "source": [
    "### 解析答案"
   ]
  },
  {
   "cell_type": "code",
   "execution_count": 2142,
   "metadata": {
    "collapsed": true
   },
   "outputs": [],
   "source": [
    "anwser_all = soup.find_all(\"div\",attrs={\"class\":\"nodeItem\"})"
   ]
  },
  {
   "cell_type": "code",
   "execution_count": 2143,
   "metadata": {
    "collapsed": true
   },
   "outputs": [],
   "source": [
    "single_anwser_all = anwser_all[0].find_all(\"div\",attrs={\"class\":\"Item config\"}) #单选\n",
    "if len(anwser_all)>1:\n",
    "    multiple_anwser_all = anwser_all[1].find_all(\"div\",attrs={\"class\":\"Item config\"}) #多选"
   ]
  },
  {
   "cell_type": "code",
   "execution_count": 2144,
   "metadata": {},
   "outputs": [
    {
     "data": {
      "text/plain": [
       "22"
      ]
     },
     "execution_count": 2144,
     "metadata": {},
     "output_type": "execute_result"
    }
   ],
   "source": [
    "len(single_anwser_all)"
   ]
  },
  {
   "cell_type": "code",
   "execution_count": 2145,
   "metadata": {},
   "outputs": [
    {
     "data": {
      "text/plain": [
       "22"
      ]
     },
     "execution_count": 2145,
     "metadata": {},
     "output_type": "execute_result"
    }
   ],
   "source": [
    "single_answer_right = []\n",
    "multiple_answer_right = []\n",
    "\n",
    "for answer_i in range(len(single_anwser_all)):\n",
    "    #print(anwser_all[25].find(\"div\",attrs={\"class\":\"config answer\"}))\n",
    "    #print(anwser_all[answer_i].find(\"table\",attrs={\"class\":\"HiddenStart\"}).find(\"div\",attrs={\"class\":\"anser Con\"}))\n",
    "    #print(anwser_all[answer_i].find(\"table\",attrs={\"class\":\"HiddenStart\"}).find(\"div\",attrs={\"class\":\"anser Con\"}).get_text())\n",
    "    single_answer_right.append(single_anwser_all[answer_i].find(\"div\",attrs={\"class\":\"anser Con\"}).string)\n",
    "    \n",
    "for answer_i in range(len(multiple_anwser_all)):\n",
    "    #print(anwser_all[25].find(\"div\",attrs={\"class\":\"config answer\"}))\n",
    "    #print(anwser_all[answer_i].find(\"table\",attrs={\"class\":\"HiddenStart\"}).find(\"div\",attrs={\"class\":\"anser Con\"}))\n",
    "    #print(anwser_all[answer_i].find(\"table\",attrs={\"class\":\"HiddenStart\"}).find(\"div\",attrs={\"class\":\"anser Con\"}).get_text())\n",
    "    multiple_answer_right.append(multiple_anwser_all[answer_i].find(\"div\",attrs={\"class\":\"anser Con\"}).string)\n",
    "    \n",
    "len(single_answer_right)"
   ]
  },
  {
   "cell_type": "code",
   "execution_count": 2146,
   "metadata": {
    "collapsed": true
   },
   "outputs": [],
   "source": [
    "import codecs\n",
    "\n",
    "single_anwser_file = codecs.open(single_baseurl + 'single_anwser.txt', 'w','utf-8')\n",
    "multiple_anwser_file = codecs.open(multiple_baseurl + 'multiple_anwser.txt', 'w','utf-8')\n",
    "\n",
    "for item in multiple_answer_right:\n",
    "    multiple_anwser_file.write(\"%s\\r\\n\" % item)\n",
    "    \n",
    "single_anwser_file.close()\n",
    "multiple_anwser_file.close()"
   ]
  },
  {
   "cell_type": "code",
   "execution_count": 2147,
   "metadata": {
    "collapsed": true
   },
   "outputs": [],
   "source": [
    "#print(re.sub('[\\r|\\n|\\t|\\\\s]', '', anwser_1))"
   ]
  },
  {
   "cell_type": "markdown",
   "metadata": {},
   "source": [
    "### 解析解析"
   ]
  },
  {
   "cell_type": "code",
   "execution_count": 2148,
   "metadata": {
    "collapsed": true
   },
   "outputs": [],
   "source": [
    "analysis_all = soup.find_all(\"div\",attrs={\"class\":\"nodeItem\"})"
   ]
  },
  {
   "cell_type": "code",
   "execution_count": 2149,
   "metadata": {},
   "outputs": [
    {
     "data": {
      "text/plain": [
       "22"
      ]
     },
     "execution_count": 2149,
     "metadata": {},
     "output_type": "execute_result"
    }
   ],
   "source": [
    "single_analysis_all = analysis_all[0].find_all(\"div\",attrs={\"class\":\"Item config\"}) #单选\n",
    "if len(analysis_all)>1:\n",
    "    multiple_analysis_all = analysis_all[1].find_all(\"div\",attrs={\"class\":\"Item config\"}) #多选\n",
    "len(single_analysis_all)"
   ]
  },
  {
   "cell_type": "code",
   "execution_count": 2150,
   "metadata": {},
   "outputs": [
    {
     "name": "stdout",
     "output_type": "stream",
     "text": [
      "<div class=\"analysits Con\">重大质量事故是指造成10人以上30人以下死亡,或者50人以上100人以下重伤,或者5000万元以上1亿元以下直接经济损失的事故。</div>\n",
      "\n",
      "\n",
      "<div class=\"analysits Con\">《关于做好房屋建筑和市政基础设施工程质量事故报告和调查处理工作的通知》（建质[2010]111号）根据工程质量事故造成的人员伤亡或者直接经济损失，将工程质量事故分为4个等级：①特别重大事故，指造成30人以上死亡，或者100人以上重伤，或者1亿元以上直接经济损失的事故；②重大事故，指造成10人以上30人以下死亡，或者50人以上100人以下重伤，或者5000万元以上1亿元以下直接经济损失的事故；③较大事故，指造成3人以上10人以下死亡，或者10人以上50人以下重伤，或者1000万元以上5000万元以下直接经济损失的事故；④一般事故，指造成3人以下死亡，或者10人以下重伤，或者100万元以上1000万元以下直接经济损失的事故。本等级划分所称的“以上”包括本数，所称的“以下”不包括本数。据此，本题中的事故等级为一般事故。</div>\n",
      "\n",
      "\n",
      "<div class=\"analysits Con\">工程质量事故按事故责任分类可分为三种：①指导责任事故，指由于工程指导或领导失误而造成的质量事故。如由于工程负责人不按规范指导施工，强令他人违章作业，或片面追求施工进度，放松或不按质量标准进行控制和检验，降低施工质量标准等而造成的质量事故。②操作责任事故，指在施工过程中，由于操作者不按规程和标准实施操作，而造成的质量事故。如浇筑混凝土时随意加水，或振捣疏漏造成混凝土质量事故等。③自然灾害事故，指由于突发的严重自然灾害等不可抗力造成的质量事故。如地震、台风、暴雨、雷电及洪水等造成工程破坏甚至倒塌。</div>\n",
      "\n",
      "\n",
      "<div class=\"analysits Con\">质量事故按产生的原因分类，可分为：①技术原因引发的质量事故；②管理原因引发的质量事故；③社会、经济原因引发的质量事故；④其他原因引发的质量事故。其中，管理原因引发的质量事故是指管理上的不完善或失误引发的质量事故。例如，施工单位或监理单位的质量管理体系不完善，检验制度不严密，质量控制不严格，质量管理措施落实不力，检测仪器设备管理不善而失准，材料检验不严等原因引起的质量事故。BD两项属于技术原因；C项属于社会、经济原因。</div>\n",
      "\n",
      "\n",
      "<div class=\"analysits Con\">质量事故按产生的原因分类，可分为：①技术原因引发的质量事故；②管理原因引发的质量事故；③社会、经济原因引发的质量事故；④其他原因引发的质量事故。其中，管理原因引发的质量事故是指管理上的不完善或失误引发的质量事故。例如，施工单位或监理单位的质量管理体系不完善，检验制度不严密，质量控制不严格，质量管理措施落实不力，检测仪器设备管理不善而失准，材料检验不严等原因引起的质量事故。</div>\n",
      "\n",
      "\n",
      "<div class=\"analysits Con\">施工质量事故处理的一般程序为：①事故调查；②事故的原因分析；③制订事故处理的方案；④事故处理；⑤事故处理的鉴定验收；⑥提交处理报告。</div>\n",
      "\n",
      "\n",
      "<div class=\"analysits Con\">施工质量事故发生后，事故现场有关人员人应立即向工程建设单位负责人报告。同时，施工项目有关负责人应根据事故现场实际情况，及时采取必要措施抢救人员和财产，保护事故现场，防止事故扩大。施工质量事故处理的一般程序有：①事故调查；②事故的原因分析；③制订事故处理的方案；④事故处理；⑤事故处理的鉴定验收；⑥提交处理报告。</div>\n",
      "\n",
      "\n",
      "<div class=\"analysits Con\">工程建设单位负责人接到事故报告后，应于1小时内向事故发生地县级以上人民政府住房和城乡建设主管部门及有关部门报告。同时,施工项目有关负责人应根据事故现场的实际情况，及时采取必要措施抢救人员和财产，保护事故现场，防止事故扩大。事故调查应力求及时、客观、全面，以便为事故的分析与处理提供正确的依据。调查结果,要整理撰写成事故调查报告。</div>\n",
      "\n",
      "\n",
      "<div class=\"analysits Con\">当工程的某些部分的质量虽未达到规定的规要求，存在一定的缺陷，但经过返修后可以达到要求的质量标准，又不影响使用功能或外观的要求时，可采取返修处理的方法。例如，某些混凝土结构表面出现蜂窝、麻面，经调查分析，该部位经返修处理后，不会影响其使用及外观。</div>\n",
      "\n",
      "\n",
      "<div class=\"analysits Con\">当工程的某些部分的质量虽未达到规定的规要求，存在一定的缺陷，但经过返修后可以达到要求的质量标准，又不影响使用功能或外观的要求时，可采取返修处理的方法。比如对混凝土结构出现的裂缝，经分析研究后如果不影响结构的安全和使用时，也可采取返修处理。例如，当裂缝宽度不大于0.2mm时，可采用表面密封法；当裂缝宽度大于0.3mm时，可采用嵌缝密闭法；当裂缝较深时，则应采取灌浆修补的方法。</div>\n",
      "\n",
      "\n",
      "<div class=\"analysits Con\">当工程质量缺陷经过返修处理后仍不能满足规定的质量标准要求，或不具备补救可能性则必须采取返工处理。比如某工厂设备基础的混凝土浇筑时掺入木质素磺酸钙减水剂。因施工管理不善，掺量多于规定7倍，导致混凝土坍落度大于180mm，石子下沉，混凝土结构不均匀，浇筑后5天仍然不凝固硬化，28d的混凝土实际强度不到规定强度的32%，不得不返工重浇。</div>\n",
      "\n",
      "\n",
      "<div class=\"analysits Con\">某些工程质量问题虽然达不到规定的要求或标准，但其情况不严重，对工程或结构的使用及安全影响很小，经过分析、论证、法定检测单位鉴定和设计单位等认可后可不专门作处理。一般可不作专门处理的情况有以下几种：①不影响结构安全、生产工艺和使用要求的；②后道工序可以弥补的质量缺陷；③法定检测单位鉴定合格的；④出现的质量缺陷，经检测鉴定达不到设计要求，但经原设计单位核算，仍能满足结构安全和使用功能的。</div>\n",
      "\n",
      "\n",
      "<div class=\"analysits Con\">《建设工程质量管理条例》规定，从事建设工程活动，必须严格执行基本建设程序，坚持先勘察、后设计、再施工的原则。但是现实情况是，违反基本建设程序的现象屡禁不止，无立项、无报建、无开工许可、无招投标、无资质、无监理、无验收的“七无”工程，边勘察、边设计、边施工的“三边”工程屡见不鲜，几乎所有的重大施工质量事故都能从这些方面找到原因。</div>\n",
      "\n",
      "\n",
      "<div class=\"analysits Con\">施工质量事故发生后，事故现场有关人员人应立即向工程建设单位负责人报告。工程建设单位负责人接到报告后，应于1小时内向事故发生地县级以上人民政府住房和城乡建设主管部门及有关部门报告。同时，施工项目有关负责人应根据事故现场实际情况，及时采取必要措施抢救人员和财产，保护事故现场，防止事故扩大。</div>\n",
      "\n",
      "\n",
      "<div class=\"analysits Con\">按照住房和城乡建设部《关于做好房屋建筑和市政基础设施工程质量事故报告和调查处理工作的通知》（建质[2010]111号），根据工程质量事故造成的人员伤亡或者直接经济损失，特别重大事故是指造成30人以上死亡，或者100人以上重伤，或者1亿元以上直接经济损失的事故。</div>\n",
      "\n",
      "\n",
      "<div class=\"analysits Con\">工程质量事故分类方法包括：①根据工程质量事故造成的人员伤亡或者直接经济损失，可分为特别重大事故、重大事故、较大事故和一般事故。②按事故责任分类，可分为指导责任事故、操作责任事故和自然灾害事故。③按质量事故产生的原因分类，可分为技术原因引发的质量事故、管理原因引发的质量事故、社会、经济原因引发的质量事故和其他原因引发的质量事故。</div>\n",
      "\n",
      "\n",
      "<div class=\"analysits Con\">指导责任事故是指由于工程指导或领导失误而造成的质量事故。例如，由于工程负责人片面追求施工进度，放松或不按质量标准进行控制和检验，降低施工质量标准等而造成的质量事故。</div>\n",
      "\n",
      "\n",
      "<div class=\"analysits Con\">技术原因引发的质量事故是指在工程项目实施中由于设计、施工在技术上失误而造成的质量事故。例如结构设计计算错误，对地质情况估计错误，采用了不适宜的施工方法或施工工艺等引发的质量事故。B项是施工单位出于经济原因考虑，希望通过修改施工方案以获得更多的利润或工程款，属于经济原因引发的质量事故；CD两项是由于管理上的不完善或失误引发的，属于管理原因引发的质量事故。</div>\n",
      "\n",
      "\n",
      "<div class=\"analysits Con\">根据制订的质量事故处理的方案，对质量事故进行认真处理。处理的内容主要包括：①事故的技术处理，以解决施工质量不合格和缺陷问题；②事故的责任处罚，根据事故的性质、损失大小、情节轻重对事故的责任单位和责任人作出相应的行政处分直至追究刑事责任。</div>\n",
      "\n",
      "\n",
      "<div class=\"analysits Con\">加固处理主要是针对危及承载力质量缺陷的处理。通过对缺陷的加固处理，使建筑结构恢复或提高承载力，重新满足结构安全性及可靠性的要求，使结构能继续使用或改作其他用途。</div>\n",
      "\n",
      "\n",
      "<div class=\"analysits Con\">限制使用是当工程质量缺陷按修补方法处理后无法保证达到规定的使用要求和安全要求，而又无法返工处理的情况下，不得已时可做出诸如结构卸荷或减荷以及限制使用的决定。</div>\n",
      "\n",
      "\n",
      "<div class=\"analysits Con\">当工程质量缺陷经过返修处理后仍不能满足规定的质量标准要求，或不具备补救可能性，则必须实行返工处理。</div>\n",
      "\n",
      "\n",
      "<div class=\"analysits Con\">技术原因引发的工程质量事故是指在工程项目实施中由于设计、施工在技术上的失误而造成的质量事故。如结构设计计算错误；对地质情况估计错误；采用了不适宜的施工方法或施工工艺等引发质量事故。BCE三项属于引发质量事故的管理原因。</div>\n",
      "\n",
      "\n",
      "<div class=\"analysits Con\">施工质量事故发生的原因中，施工失误包括：①施工管理人员及实际操作人员的思想、技术素质差；②缺乏基本业务知识，不具备上岗的技术资质，不懂装懂瞎指挥，胡乱施工盲目干；③施工管理混乱，施工组织、施工工艺技术措施不当；④不按图施工，不遵守相关规范，违章作业；⑤使用不合格的工程材料、半成品、构配件；⑥忽视安全施工，发生安全事故等。</div>\n",
      "\n",
      "\n",
      "<div class=\"analysits Con\">调查结果,要整理撰写成事故调查报告，其主要内容包括：①工程项目和参建单位概况；②事故基本情况；③事故发生后所采取的应急防护措施；④事故调查中的有关数据、资料；⑤事故原因和事故性质的初步判断；⑥事故处理的建议；⑦事故涉及人员与主要责任者的情况等。</div>\n",
      "\n",
      "\n",
      "<div class=\"analysits Con\">根据制订的质量事故处理的方案，对质量事故进行认真处理，处理的内容主要包括：①事故的技术处理，以解决施工质量不合格和缺陷问题；②事故的责任处罚，根据事故的性质、损失大小、情节轻重对事故的责任单位和责任人做出相应的行政处分直至追究刑事责任。</div>\n",
      "\n",
      "\n",
      "<div class=\"analysits Con\">事故处理结束后，必须尽快向主管部门和相关单位提交完整的事故处理报告，其内容包括：①事故调查的原始资料、测试的数据；②事故原因分析、论证；③事故处理的依据；④事故处理的方案及技术措施；⑤实施质量处理中有关的数据、记录、资料；⑥检查验收记录；⑦事故处理的结论等。</div>\n",
      "\n",
      "\n",
      "<div class=\"analysits Con\">一般可不作专门处理的情况有以下几种：①不影响结构安全、生产工艺和使用要求的。②后道工序可以弥补的质量缺陷，如混凝土现浇楼面的平整度偏差达到10mm。③法定检测单位鉴定合格的。④出现的质量缺陷，经检测鉴定达不到设计要求，但经原设计单位核算，仍能满足结构安全和使用功能的，如某一结构构件截面尺寸不足，或材料强度不足，影响结构承载力，但按实际情况进行复核验算后仍能满足设计要求的承载力时，可不进行专门处理。AD两项应作返修处理；E项应作返工处理。</div>\n",
      "\n",
      "\n",
      "<div class=\"analysits Con\">房屋建筑工程常见的质量通病有：①基础不均匀下沉，墙身开裂；②现浇钢筋混凝土工程出现蜂窝、麻面、露筋；③现浇钢筋混凝土阳台、雨篷根部开裂或倾覆、坍塌；④砂浆、混凝土配合比控制不严，任意加水，强度得不到保证；⑤屋面、厨房、卫生间渗水、漏水；⑥墙面抹灰起壳、裂缝、起麻点、不平整等。</div>\n",
      "\n",
      "\n",
      "<div class=\"analysits Con\">施工质量事故发生的原因大致有：①非法承包，偷工减料。由于社会腐败现象对施工领域的侵袭，非法承包、偷工减料和“豆腐渣”工程成为近年重大施工质量事故的首要原因。②违背基本建设程序。《建设工程质量管理条例》规定，从事建设工程活动，必须严格执行基本建设程序，坚持先勘察、后设计、再施工的原则。③勘察设计的失误。地质勘察过于疏略，勘察报告不准不细，致使地基基础设计采用不正确的方案；或结构设计方案不正确，计算失误，构造设计不符合规范要求等。④施工的失误。施工管理人员及实际操作人员的思想、技术素质差，是造成施工质量事故的普遍原因。⑤自然条件的影响。建筑施工露天作业多，恶劣的天气或其他不可抗力都可能引发施工质量事故。</div>\n",
      "\n",
      "\n",
      "<div class=\"analysits Con\">施工质量事故预防的具体措施包括：①严格依法进行施工组织管理；②严格按照基本建设程序办事；③认真做好工程地质勘察；④科学地加固处理好地基；⑤进行必要的设计审查复核；⑥严格把好建筑材料及制品的质量关；⑦对施工人员进行必要的技术培训；⑧加强施工过程的管理；⑨做好应对不利施工条件和各种灾害的预案；⑩加强施工安全与环境管理。</div>\n",
      "\n",
      "\n",
      "<div class=\"analysits Con\">加强施工过程的管理应做到以下几点：①施工人员首先要熟悉图纸，对工程的难点和关键工序、关键部位应编制专项施工方案并严格执行；②施工中必须按照图纸和施工验收规范、操作规程进行；③技术组织措施要正确，施工顺序不可搞错，脚手架和楼面不可超载堆放构件和材料；④要严格按照制度进行质量检查和验收。</div>\n",
      "\n",
      "\n",
      "<div class=\"analysits Con\">施工质量事故处理的一般程序包括：①事故调查；②事故的原因分析；③制订事故处理的方案；④事故处理；⑤事故处理的鉴定验收；⑥提交处理报告。</div>\n",
      "\n",
      "\n",
      "<div class=\"analysits Con\">施工质量事故处理的基本方法有：返修处理、加固处理、返工处理、限制使用、不作处理和报废处理。</div>\n",
      "\n",
      "\n",
      "<div class=\"analysits Con\">质量事故处理的基本方法有修补、返工、加固、不作处理以及限制使用等。A项，既不影响其正常使用，在外观上也无变化，若要纠正会造成重大经济损失，经综合考虑，不作处理为佳；D项，混凝土强度虽然不满足设计要求，但其值相当小，一般在设计安全值范围内，通常经设计验算后决定是否采用不作处理或限制使用或结构加固处理；E项，裂缝处理可采用返修处理。B项，外墙质量不合格，且不涉及其他工序，故推倒重砌；C项，减水剂掺入量严重过多，将会导致混凝土强度大大满足不了设计要求，不具备补救的措施，为保证工程项目质量，必须返工。</div>\n",
      "\n",
      "\n"
     ]
    }
   ],
   "source": [
    "single_analysis = []\n",
    "multiple_analysis = []\n",
    "\n",
    "for analysis_i in range(len(single_analysis_all)):\n",
    "    print(single_analysis_all[analysis_i].find(\"div\",attrs={\"class\":\"analysits Con\"}))\n",
    "    print('\\n')\n",
    "    #answer_right.append(anwser_all[answer_i].find(\"div\",attrs={\"class\":\"analysits Con\"}).string)\n",
    "#print(answer_right)\n",
    "for analysis_i in range(len(multiple_analysis_all)):\n",
    "    print(multiple_analysis_all[analysis_i].find(\"div\",attrs={\"class\":\"analysits Con\"}))\n",
    "    print('\\n')"
   ]
  },
  {
   "cell_type": "code",
   "execution_count": 2151,
   "metadata": {
    "scrolled": false
   },
   "outputs": [
    {
     "name": "stdout",
     "output_type": "stream",
     "text": [
      "<div class=\"analysits Con\">技术原因引发的工程质量事故是指在工程项目实施中由于设计、施工在技术上的失误而造成的质量事故。如结构设计计算错误；对地质情况估计错误；采用了不适宜的施工方法或施工工艺等引发质量事故。BCE三项属于引发质量事故的管理原因。</div>\n"
     ]
    }
   ],
   "source": [
    "print(multiple_analysis_all[0].find(\"div\",attrs={\"class\":\"analysits Con\"}))"
   ]
  },
  {
   "cell_type": "code",
   "execution_count": 2152,
   "metadata": {
    "collapsed": true
   },
   "outputs": [],
   "source": [
    "single_analay = []\n",
    "multiple_analay = []\n",
    "for i in range(len(single_analysis_all)):\n",
    "    single_analay_item = single_analysis_all[i].find(\"div\",attrs={\"class\":\"analysits Con\"}).contents\n",
    "    #print(analay_single)\n",
    "    single_analay.append(single_analay_item)\n",
    "    #print(analay_single)\n",
    "    \n",
    "for i in range(len(multiple_analysis_all)):\n",
    "    multiple_analay_item = multiple_analysis_all[i].find(\"div\",attrs={\"class\":\"analysits Con\"}).contents\n",
    "    #print(analay_single)\n",
    "    multiple_analay.append(multiple_analay_item)\n",
    "    #print(analay_single)"
   ]
  },
  {
   "cell_type": "code",
   "execution_count": 2153,
   "metadata": {
    "collapsed": true
   },
   "outputs": [],
   "source": [
    "single_analay_final = []\n",
    "for item in single_analay:\n",
    "    #analysis_file.write(\"%s\" % item)\n",
    "    single_s = ''\n",
    "    for i in item:\n",
    "        single_s = single_s + str(i)\n",
    "    single_analay_final.append(single_s)\n",
    "    #analysis_file.write(\"%s\\n\" % s)\n",
    "#analysis_file.close()\n",
    "\n",
    "multiple_analay_final = []\n",
    "for item in multiple_analay:\n",
    "    #analysis_file.write(\"%s\" % item)\n",
    "    multiple_s = ''\n",
    "    for i in item:\n",
    "        multiple_s = multiple_s + str(i)\n",
    "    multiple_analay_final.append(multiple_s)\n",
    "    #analysis_file.write(\"%s\\n\" % s)\n",
    "#analysis_file.close()"
   ]
  },
  {
   "cell_type": "code",
   "execution_count": 2154,
   "metadata": {
    "scrolled": true
   },
   "outputs": [
    {
     "name": "stdout",
     "output_type": "stream",
     "text": [
      "重大质量事故是指造成10人以上30人以下死亡,或者50人以上100人以下重伤,或者5000万元以上1亿元以下直接经济损失的事故。\n",
      "\n",
      "\n",
      "《关于做好房屋建筑和市政基础设施工程质量事故报告和调查处理工作的通知》（建质[2010]111号）根据工程质量事故造成的人员伤亡或者直接经济损失，将工程质量事故分为4个等级：①特别重大事故，指造成30人以上死亡，或者100人以上重伤，或者1亿元以上直接经济损失的事故；②重大事故，指造成10人以上30人以下死亡，或者50人以上100人以下重伤，或者5000万元以上1亿元以下直接经济损失的事故；③较大事故，指造成3人以上10人以下死亡，或者10人以上50人以下重伤，或者1000万元以上5000万元以下直接经济损失的事故；④一般事故，指造成3人以下死亡，或者10人以下重伤，或者100万元以上1000万元以下直接经济损失的事故。本等级划分所称的“以上”包括本数，所称的“以下”不包括本数。据此，本题中的事故等级为一般事故。\n",
      "\n",
      "\n",
      "工程质量事故按事故责任分类可分为三种：①指导责任事故，指由于工程指导或领导失误而造成的质量事故。如由于工程负责人不按规范指导施工，强令他人违章作业，或片面追求施工进度，放松或不按质量标准进行控制和检验，降低施工质量标准等而造成的质量事故。②操作责任事故，指在施工过程中，由于操作者不按规程和标准实施操作，而造成的质量事故。如浇筑混凝土时随意加水，或振捣疏漏造成混凝土质量事故等。③自然灾害事故，指由于突发的严重自然灾害等不可抗力造成的质量事故。如地震、台风、暴雨、雷电及洪水等造成工程破坏甚至倒塌。\n",
      "\n",
      "\n",
      "质量事故按产生的原因分类，可分为：①技术原因引发的质量事故；②管理原因引发的质量事故；③社会、经济原因引发的质量事故；④其他原因引发的质量事故。其中，管理原因引发的质量事故是指管理上的不完善或失误引发的质量事故。例如，施工单位或监理单位的质量管理体系不完善，检验制度不严密，质量控制不严格，质量管理措施落实不力，检测仪器设备管理不善而失准，材料检验不严等原因引起的质量事故。BD两项属于技术原因；C项属于社会、经济原因。\n",
      "\n",
      "\n",
      "质量事故按产生的原因分类，可分为：①技术原因引发的质量事故；②管理原因引发的质量事故；③社会、经济原因引发的质量事故；④其他原因引发的质量事故。其中，管理原因引发的质量事故是指管理上的不完善或失误引发的质量事故。例如，施工单位或监理单位的质量管理体系不完善，检验制度不严密，质量控制不严格，质量管理措施落实不力，检测仪器设备管理不善而失准，材料检验不严等原因引起的质量事故。\n",
      "\n",
      "\n",
      "施工质量事故处理的一般程序为：①事故调查；②事故的原因分析；③制订事故处理的方案；④事故处理；⑤事故处理的鉴定验收；⑥提交处理报告。\n",
      "\n",
      "\n",
      "施工质量事故发生后，事故现场有关人员人应立即向工程建设单位负责人报告。同时，施工项目有关负责人应根据事故现场实际情况，及时采取必要措施抢救人员和财产，保护事故现场，防止事故扩大。施工质量事故处理的一般程序有：①事故调查；②事故的原因分析；③制订事故处理的方案；④事故处理；⑤事故处理的鉴定验收；⑥提交处理报告。\n",
      "\n",
      "\n",
      "工程建设单位负责人接到事故报告后，应于1小时内向事故发生地县级以上人民政府住房和城乡建设主管部门及有关部门报告。同时,施工项目有关负责人应根据事故现场的实际情况，及时采取必要措施抢救人员和财产，保护事故现场，防止事故扩大。事故调查应力求及时、客观、全面，以便为事故的分析与处理提供正确的依据。调查结果,要整理撰写成事故调查报告。\n",
      "\n",
      "\n",
      "当工程的某些部分的质量虽未达到规定的规要求，存在一定的缺陷，但经过返修后可以达到要求的质量标准，又不影响使用功能或外观的要求时，可采取返修处理的方法。例如，某些混凝土结构表面出现蜂窝、麻面，经调查分析，该部位经返修处理后，不会影响其使用及外观。\n",
      "\n",
      "\n",
      "当工程的某些部分的质量虽未达到规定的规要求，存在一定的缺陷，但经过返修后可以达到要求的质量标准，又不影响使用功能或外观的要求时，可采取返修处理的方法。比如对混凝土结构出现的裂缝，经分析研究后如果不影响结构的安全和使用时，也可采取返修处理。例如，当裂缝宽度不大于0.2mm时，可采用表面密封法；当裂缝宽度大于0.3mm时，可采用嵌缝密闭法；当裂缝较深时，则应采取灌浆修补的方法。\n",
      "\n",
      "\n",
      "当工程质量缺陷经过返修处理后仍不能满足规定的质量标准要求，或不具备补救可能性则必须采取返工处理。比如某工厂设备基础的混凝土浇筑时掺入木质素磺酸钙减水剂。因施工管理不善，掺量多于规定7倍，导致混凝土坍落度大于180mm，石子下沉，混凝土结构不均匀，浇筑后5天仍然不凝固硬化，28d的混凝土实际强度不到规定强度的32%，不得不返工重浇。\n",
      "\n",
      "\n",
      "某些工程质量问题虽然达不到规定的要求或标准，但其情况不严重，对工程或结构的使用及安全影响很小，经过分析、论证、法定检测单位鉴定和设计单位等认可后可不专门作处理。一般可不作专门处理的情况有以下几种：①不影响结构安全、生产工艺和使用要求的；②后道工序可以弥补的质量缺陷；③法定检测单位鉴定合格的；④出现的质量缺陷，经检测鉴定达不到设计要求，但经原设计单位核算，仍能满足结构安全和使用功能的。\n",
      "\n",
      "\n",
      "《建设工程质量管理条例》规定，从事建设工程活动，必须严格执行基本建设程序，坚持先勘察、后设计、再施工的原则。但是现实情况是，违反基本建设程序的现象屡禁不止，无立项、无报建、无开工许可、无招投标、无资质、无监理、无验收的“七无”工程，边勘察、边设计、边施工的“三边”工程屡见不鲜，几乎所有的重大施工质量事故都能从这些方面找到原因。\n",
      "\n",
      "\n",
      "施工质量事故发生后，事故现场有关人员人应立即向工程建设单位负责人报告。工程建设单位负责人接到报告后，应于1小时内向事故发生地县级以上人民政府住房和城乡建设主管部门及有关部门报告。同时，施工项目有关负责人应根据事故现场实际情况，及时采取必要措施抢救人员和财产，保护事故现场，防止事故扩大。\n",
      "\n",
      "\n",
      "按照住房和城乡建设部《关于做好房屋建筑和市政基础设施工程质量事故报告和调查处理工作的通知》（建质[2010]111号），根据工程质量事故造成的人员伤亡或者直接经济损失，特别重大事故是指造成30人以上死亡，或者100人以上重伤，或者1亿元以上直接经济损失的事故。\n",
      "\n",
      "\n",
      "工程质量事故分类方法包括：①根据工程质量事故造成的人员伤亡或者直接经济损失，可分为特别重大事故、重大事故、较大事故和一般事故。②按事故责任分类，可分为指导责任事故、操作责任事故和自然灾害事故。③按质量事故产生的原因分类，可分为技术原因引发的质量事故、管理原因引发的质量事故、社会、经济原因引发的质量事故和其他原因引发的质量事故。\n",
      "\n",
      "\n",
      "指导责任事故是指由于工程指导或领导失误而造成的质量事故。例如，由于工程负责人片面追求施工进度，放松或不按质量标准进行控制和检验，降低施工质量标准等而造成的质量事故。\n",
      "\n",
      "\n",
      "技术原因引发的质量事故是指在工程项目实施中由于设计、施工在技术上失误而造成的质量事故。例如结构设计计算错误，对地质情况估计错误，采用了不适宜的施工方法或施工工艺等引发的质量事故。B项是施工单位出于经济原因考虑，希望通过修改施工方案以获得更多的利润或工程款，属于经济原因引发的质量事故；CD两项是由于管理上的不完善或失误引发的，属于管理原因引发的质量事故。\n",
      "\n",
      "\n",
      "根据制订的质量事故处理的方案，对质量事故进行认真处理。处理的内容主要包括：①事故的技术处理，以解决施工质量不合格和缺陷问题；②事故的责任处罚，根据事故的性质、损失大小、情节轻重对事故的责任单位和责任人作出相应的行政处分直至追究刑事责任。\n",
      "\n",
      "\n",
      "加固处理主要是针对危及承载力质量缺陷的处理。通过对缺陷的加固处理，使建筑结构恢复或提高承载力，重新满足结构安全性及可靠性的要求，使结构能继续使用或改作其他用途。\n",
      "\n",
      "\n",
      "限制使用是当工程质量缺陷按修补方法处理后无法保证达到规定的使用要求和安全要求，而又无法返工处理的情况下，不得已时可做出诸如结构卸荷或减荷以及限制使用的决定。\n",
      "\n",
      "\n",
      "当工程质量缺陷经过返修处理后仍不能满足规定的质量标准要求，或不具备补救可能性，则必须实行返工处理。\n",
      "\n",
      "\n",
      "技术原因引发的工程质量事故是指在工程项目实施中由于设计、施工在技术上的失误而造成的质量事故。如结构设计计算错误；对地质情况估计错误；采用了不适宜的施工方法或施工工艺等引发质量事故。BCE三项属于引发质量事故的管理原因。\n",
      "\n",
      "\n",
      "施工质量事故发生的原因中，施工失误包括：①施工管理人员及实际操作人员的思想、技术素质差；②缺乏基本业务知识，不具备上岗的技术资质，不懂装懂瞎指挥，胡乱施工盲目干；③施工管理混乱，施工组织、施工工艺技术措施不当；④不按图施工，不遵守相关规范，违章作业；⑤使用不合格的工程材料、半成品、构配件；⑥忽视安全施工，发生安全事故等。\n",
      "\n",
      "\n",
      "调查结果,要整理撰写成事故调查报告，其主要内容包括：①工程项目和参建单位概况；②事故基本情况；③事故发生后所采取的应急防护措施；④事故调查中的有关数据、资料；⑤事故原因和事故性质的初步判断；⑥事故处理的建议；⑦事故涉及人员与主要责任者的情况等。\n",
      "\n",
      "\n",
      "根据制订的质量事故处理的方案，对质量事故进行认真处理，处理的内容主要包括：①事故的技术处理，以解决施工质量不合格和缺陷问题；②事故的责任处罚，根据事故的性质、损失大小、情节轻重对事故的责任单位和责任人做出相应的行政处分直至追究刑事责任。\n",
      "\n",
      "\n",
      "事故处理结束后，必须尽快向主管部门和相关单位提交完整的事故处理报告，其内容包括：①事故调查的原始资料、测试的数据；②事故原因分析、论证；③事故处理的依据；④事故处理的方案及技术措施；⑤实施质量处理中有关的数据、记录、资料；⑥检查验收记录；⑦事故处理的结论等。\n",
      "\n",
      "\n",
      "一般可不作专门处理的情况有以下几种：①不影响结构安全、生产工艺和使用要求的。②后道工序可以弥补的质量缺陷，如混凝土现浇楼面的平整度偏差达到10mm。③法定检测单位鉴定合格的。④出现的质量缺陷，经检测鉴定达不到设计要求，但经原设计单位核算，仍能满足结构安全和使用功能的，如某一结构构件截面尺寸不足，或材料强度不足，影响结构承载力，但按实际情况进行复核验算后仍能满足设计要求的承载力时，可不进行专门处理。AD两项应作返修处理；E项应作返工处理。\n",
      "\n",
      "\n",
      "房屋建筑工程常见的质量通病有：①基础不均匀下沉，墙身开裂；②现浇钢筋混凝土工程出现蜂窝、麻面、露筋；③现浇钢筋混凝土阳台、雨篷根部开裂或倾覆、坍塌；④砂浆、混凝土配合比控制不严，任意加水，强度得不到保证；⑤屋面、厨房、卫生间渗水、漏水；⑥墙面抹灰起壳、裂缝、起麻点、不平整等。\n",
      "\n",
      "\n",
      "施工质量事故发生的原因大致有：①非法承包，偷工减料。由于社会腐败现象对施工领域的侵袭，非法承包、偷工减料和“豆腐渣”工程成为近年重大施工质量事故的首要原因。②违背基本建设程序。《建设工程质量管理条例》规定，从事建设工程活动，必须严格执行基本建设程序，坚持先勘察、后设计、再施工的原则。③勘察设计的失误。地质勘察过于疏略，勘察报告不准不细，致使地基基础设计采用不正确的方案；或结构设计方案不正确，计算失误，构造设计不符合规范要求等。④施工的失误。施工管理人员及实际操作人员的思想、技术素质差，是造成施工质量事故的普遍原因。⑤自然条件的影响。建筑施工露天作业多，恶劣的天气或其他不可抗力都可能引发施工质量事故。\n",
      "\n",
      "\n",
      "施工质量事故预防的具体措施包括：①严格依法进行施工组织管理；②严格按照基本建设程序办事；③认真做好工程地质勘察；④科学地加固处理好地基；⑤进行必要的设计审查复核；⑥严格把好建筑材料及制品的质量关；⑦对施工人员进行必要的技术培训；⑧加强施工过程的管理；⑨做好应对不利施工条件和各种灾害的预案；⑩加强施工安全与环境管理。\n",
      "\n",
      "\n",
      "加强施工过程的管理应做到以下几点：①施工人员首先要熟悉图纸，对工程的难点和关键工序、关键部位应编制专项施工方案并严格执行；②施工中必须按照图纸和施工验收规范、操作规程进行；③技术组织措施要正确，施工顺序不可搞错，脚手架和楼面不可超载堆放构件和材料；④要严格按照制度进行质量检查和验收。\n",
      "\n",
      "\n",
      "施工质量事故处理的一般程序包括：①事故调查；②事故的原因分析；③制订事故处理的方案；④事故处理；⑤事故处理的鉴定验收；⑥提交处理报告。\n",
      "\n",
      "\n",
      "施工质量事故处理的基本方法有：返修处理、加固处理、返工处理、限制使用、不作处理和报废处理。\n",
      "\n",
      "\n",
      "质量事故处理的基本方法有修补、返工、加固、不作处理以及限制使用等。A项，既不影响其正常使用，在外观上也无变化，若要纠正会造成重大经济损失，经综合考虑，不作处理为佳；D项，混凝土强度虽然不满足设计要求，但其值相当小，一般在设计安全值范围内，通常经设计验算后决定是否采用不作处理或限制使用或结构加固处理；E项，裂缝处理可采用返修处理。B项，外墙质量不合格，且不涉及其他工序，故推倒重砌；C项，减水剂掺入量严重过多，将会导致混凝土强度大大满足不了设计要求，不具备补救的措施，为保证工程项目质量，必须返工。\n",
      "\n",
      "\n"
     ]
    }
   ],
   "source": [
    "import codecs\n",
    "single_analysis_file = codecs.open(single_baseurl + 'single_analysis_file.txt', 'w','utf-8')\n",
    "\n",
    "for s in single_analay_final:\n",
    "    print(s)\n",
    "    print(\"\\n\")\n",
    "    single_analysis_file.write(\"%s\\r\\n\" % s)\n",
    "    \n",
    "multiple_analysis_file = codecs.open(multiple_baseurl + 'multiple_analysis_file.txt', 'w','utf-8')\n",
    "\n",
    "for s in multiple_analay_final:\n",
    "    print(s)\n",
    "    print(\"\\n\")\n",
    "    multiple_analysis_file.write(\"%s\\r\\n\" % s)    \n",
    "    \n",
    "single_analysis_file.close()\n",
    "multiple_analysis_file.close()"
   ]
  },
  {
   "cell_type": "markdown",
   "metadata": {},
   "source": [
    "单选选项拼接"
   ]
  },
  {
   "cell_type": "code",
   "execution_count": 2155,
   "metadata": {
    "collapsed": true,
    "scrolled": true
   },
   "outputs": [],
   "source": [
    "\"\"\"\n",
    "question\n",
    "option_a\n",
    "option_b\n",
    "option_c\n",
    "option_d\n",
    "answer_right\n",
    "analay_final\n",
    "\"\"\"\n",
    "\n",
    "\"\"\"\n",
    "option= codecs.open(baseurl + 'option.txt', 'w','utf-8')\n",
    "\n",
    "for i in range(len(option_a)):\n",
    "    option.write(option_a[i].strip().replace(u'A\\uff0e','')\n",
    "                 +u'<br>'+option_b[i].strip().replace(u'B\\uff0e','')\n",
    "                 +u'<br>'+option_c[i].strip().replace(u'C\\uff0e','')\n",
    "                 +u'<br>'+option_d[i].replace(u'D\\uff0e','')\n",
    "                 )\n",
    "\"\"\"\n",
    "single_data = []\n",
    "for i in range(len(single_option_a)):\n",
    "    single_data_string = single_question[i].replace('（　　）','{{c1::（）}}') + \"\t\"+ single_option_a[i].strip().replace('A．','')+ '<br>' + single_option_b[i].strip().replace('B．','')+ '<br>'+ single_option_c[i].strip().replace('C．','')+ '<br>'+ single_option_d[i].replace('D．','')+ \"\t\"+ single_answer_right[i]+ \"\t\"+ single_analay_final[i]\n",
    "    single_data.append(single_data_string)\n",
    "data_single = codecs.open(single_baseurl + 'data_single.txt', 'w','utf-8')\n",
    "\n",
    "for i in range(len(single_data)):\n",
    "    data_single.write(single_data[i]+\"\\r\\n\")\n",
    "data_single.close()"
   ]
  },
  {
   "cell_type": "code",
   "execution_count": 2156,
   "metadata": {},
   "outputs": [
    {
     "data": {
      "text/plain": [
       "22"
      ]
     },
     "execution_count": 2156,
     "metadata": {},
     "output_type": "execute_result"
    }
   ],
   "source": [
    "len(single_data )"
   ]
  },
  {
   "cell_type": "markdown",
   "metadata": {},
   "source": [
    "多选选项拼接"
   ]
  },
  {
   "cell_type": "code",
   "execution_count": 2157,
   "metadata": {
    "collapsed": true
   },
   "outputs": [],
   "source": [
    "multiple_data = []\n",
    "for i in range(len(multiple_option_a)):\n",
    "    multiple_data_string = multiple_question[i].replace('（　　）','{{c1::（）}}') + \"\t\"+ multiple_option_a[i].strip().replace('A．','')+ '<br>' + multiple_option_b[i].strip().replace('B．','')+ '<br>'+ multiple_option_c[i].strip().replace('C．','')+ '<br>'+ multiple_option_d[i].replace('D．','')+ '<br>'+ multiple_option_e[i].replace('E．','')+ \"\t\"+ multiple_answer_right[i]+ \"\t\"+ multiple_analay_final[i]\n",
    "    multiple_data.append(multiple_data_string)\n",
    "data_multiple = codecs.open(multiple_baseurl + 'data_multiple.txt', 'w','utf-8')\n",
    "\n",
    "for i in range(len(multiple_data)):\n",
    "    data_multiple.write(multiple_data[i]+\"\\r\\n\")\n",
    "data_multiple.close()"
   ]
  },
  {
   "cell_type": "code",
   "execution_count": 2158,
   "metadata": {},
   "outputs": [
    {
     "data": {
      "text/plain": [
       "13"
      ]
     },
     "execution_count": 2158,
     "metadata": {},
     "output_type": "execute_result"
    }
   ],
   "source": [
    "len(multiple_data)"
   ]
  },
  {
   "cell_type": "code",
   "execution_count": null,
   "metadata": {
    "collapsed": true
   },
   "outputs": [],
   "source": []
  }
 ],
 "metadata": {
  "kernelspec": {
   "display_name": "Python 3",
   "language": "python",
   "name": "python3"
  },
  "language_info": {
   "codemirror_mode": {
    "name": "ipython",
    "version": 3
   },
   "file_extension": ".py",
   "mimetype": "text/x-python",
   "name": "python",
   "nbconvert_exporter": "python",
   "pygments_lexer": "ipython3",
   "version": "3.5.4"
  }
 },
 "nbformat": 4,
 "nbformat_minor": 2
}

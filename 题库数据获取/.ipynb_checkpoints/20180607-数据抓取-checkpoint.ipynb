{
 "cells": [
  {
   "cell_type": "markdown",
   "metadata": {},
   "source": [
    "# 使用selenium和bs4爬虫\n",
    "\n",
    "## 1.selenium的使用"
   ]
  },
  {
   "cell_type": "code",
   "execution_count": null,
   "metadata": {
    "collapsed": true
   },
   "outputs": [],
   "source": [
    "import os,time\n",
    "from selenium import webdriver\n",
    "from bs4 import BeautifulSoup\n",
    "chromedriver = \"C:\\\\Program Files (x86)\\\\Google\\\\Chrome\\\\Application\\\\chromedriver.exe\"#chrome所在驱动\n",
    "os.environ[\"webdriver.chrome.driver\"] = chromedriver\n",
    "driver = webdriver.Chrome(chromedriver)\n",
    "driver.get('http://user.100xuexi.com/MyDeal/myEBookPurchase.aspx')\n",
    "time.sleep(2)"
   ]
  },
  {
   "cell_type": "code",
   "execution_count": null,
   "metadata": {
    "collapsed": true
   },
   "outputs": [],
   "source": [
    "driver.find_element_by_id('username').send_keys('18775325832')#"
   ]
  },
  {
   "cell_type": "code",
   "execution_count": null,
   "metadata": {
    "collapsed": true
   },
   "outputs": [],
   "source": [
    "driver.find_element_by_id('txtVerify').clear()#验证码\n",
    "driver.find_element_by_id('txtVerify').send_keys('69')#验证码"
   ]
  },
  {
   "cell_type": "code",
   "execution_count": null,
   "metadata": {
    "collapsed": true
   },
   "outputs": [],
   "source": [
    "#driver.find_element_by_xpath('//*[@id=\"conPurchaseA1\"]/table/tbody/tr[3]/td[2]/a').click();\n",
    "driver.find_element_by_xpath('//*[@id=\"regNow\"]').click();"
   ]
  },
  {
   "cell_type": "code",
   "execution_count": null,
   "metadata": {
    "collapsed": true
   },
   "outputs": [],
   "source": [
    "driver.find_element_by_xpath('//*[@id=\"PurchaseA2\"]').click();"
   ]
  },
  {
   "cell_type": "code",
   "execution_count": null,
   "metadata": {
    "collapsed": true
   },
   "outputs": [],
   "source": [
    "#接下来会有新的窗口打开，获取所有窗口句柄\n",
    "windows = driver.window_handles\n",
    "driver.switch_to.window(windows[-1])"
   ]
  },
  {
   "cell_type": "code",
   "execution_count": null,
   "metadata": {
    "collapsed": true
   },
   "outputs": [],
   "source": [
    "driver.find_element_by_xpath('//*[@id=\"lefter\"]/div/div[1]/a').click();\n",
    "#/PracticeCenter/Chapter/Index?TQuestionPlanID=2997&groupName=&code=&tb_l_PaperQuePlanID=86215&Model=chapter&TypeMenuFlag=2\n",
    "#/PracticeCenter/Chapter/Index?TQuestionPlanID=2997&groupName=&code=&tb_l_PaperQuePlanID=86216&Model=chapter&TypeMenuFlag=2\n",
    "#item表示章，li后的数字表示节"
   ]
  },
  {
   "cell_type": "code",
   "execution_count": null,
   "metadata": {
    "collapsed": true
   },
   "outputs": [],
   "source": [
    "#driver.find_element_by_xpath('//*[@id=\"item01\"]/li[2]/a').click();"
   ]
  },
  {
   "cell_type": "markdown",
   "metadata": {},
   "source": [
    "## 2.解析成html"
   ]
  },
  {
   "cell_type": "code",
   "execution_count": 2973,
   "metadata": {
    "collapsed": true
   },
   "outputs": [],
   "source": [
    "html = driver.page_source\n",
    "soup = BeautifulSoup(html, \"html5lib\")"
   ]
  },
  {
   "cell_type": "markdown",
   "metadata": {},
   "source": [
    "## 3.html文件解析"
   ]
  },
  {
   "cell_type": "markdown",
   "metadata": {},
   "source": [
    "### 1.解析问题"
   ]
  },
  {
   "cell_type": "code",
   "execution_count": 2974,
   "metadata": {
    "collapsed": true
   },
   "outputs": [],
   "source": [
    "import re"
   ]
  },
  {
   "cell_type": "code",
   "execution_count": 2975,
   "metadata": {
    "collapsed": true
   },
   "outputs": [],
   "source": [
    "baseurl_item = u'10 法律法规'\n",
    "single_baseurl = u'注册土木工程师anki\\\\公共基础\\\\'+ baseurl_item+ u'\\\\'"
   ]
  },
  {
   "cell_type": "code",
   "execution_count": 2976,
   "metadata": {},
   "outputs": [
    {
     "data": {
      "text/plain": [
       "'注册土木工程师anki\\\\公共基础\\\\10 法律法规\\\\'"
      ]
     },
     "execution_count": 2976,
     "metadata": {},
     "output_type": "execute_result"
    }
   ],
   "source": [
    "single_baseurl"
   ]
  },
  {
   "cell_type": "code",
   "execution_count": 2977,
   "metadata": {
    "collapsed": true
   },
   "outputs": [],
   "source": [
    "content_all = soup.find_all(\"div\",attrs={\"class\":\"nodeItem\"})"
   ]
  },
  {
   "cell_type": "code",
   "execution_count": 2978,
   "metadata": {
    "collapsed": true,
    "scrolled": true
   },
   "outputs": [],
   "source": [
    "#soup.find('div',class_='ItemBotCompose').decompose()"
   ]
  },
  {
   "cell_type": "code",
   "execution_count": 2979,
   "metadata": {
    "collapsed": true,
    "scrolled": true
   },
   "outputs": [],
   "source": [
    "# replace with `soup.findAll` if you are using BeautifulSoup3\n",
    "for div in soup.find_all(\"div\", {'class':'Item config'}): \n",
    "    if len(div.find_all(\"div\", {'class':'ItemBotCompose'}))!=0:\n",
    "        div.decompose() #将满足调节的 div 项删除"
   ]
  },
  {
   "cell_type": "code",
   "execution_count": 2980,
   "metadata": {
    "collapsed": true
   },
   "outputs": [],
   "source": [
    "single_content_all = []\n",
    "\n",
    "single_content_all = content_all[0].find_all(\"div\",attrs={\"class\":\"question config\"})\n",
    "if len(content_all)>1:\n",
    "    multiple_content_all = content_all[1].find_all(\"div\",attrs={\"class\":\"question config\"})"
   ]
  },
  {
   "cell_type": "code",
   "execution_count": 2981,
   "metadata": {},
   "outputs": [
    {
     "data": {
      "text/plain": [
       "76"
      ]
     },
     "execution_count": 2981,
     "metadata": {},
     "output_type": "execute_result"
    }
   ],
   "source": [
    "len(single_content_all)"
   ]
  },
  {
   "cell_type": "markdown",
   "metadata": {},
   "source": [
    "单选"
   ]
  },
  {
   "cell_type": "code",
   "execution_count": 2982,
   "metadata": {
    "collapsed": true,
    "scrolled": true
   },
   "outputs": [],
   "source": [
    "single_question = []\n",
    "\n",
    "for i in range(len(single_content_all)):\n",
    "    single_contents = single_content_all[i].dt.contents\n",
    "    #print(contents_single)\n",
    "    single_s = ''\n",
    "    for j in single_contents:#单选\n",
    "        single_s = single_s+str(j)\n",
    "    single_question.append(re.sub('[\\n]','',single_s))"
   ]
  },
  {
   "cell_type": "code",
   "execution_count": 2983,
   "metadata": {},
   "outputs": [
    {
     "name": "stdout",
     "output_type": "stream",
     "text": [
      "76\n"
     ]
    }
   ],
   "source": [
    "print(len(single_question))"
   ]
  },
  {
   "cell_type": "markdown",
   "metadata": {},
   "source": [
    "保存数据"
   ]
  },
  {
   "cell_type": "code",
   "execution_count": 2984,
   "metadata": {
    "collapsed": true
   },
   "outputs": [],
   "source": [
    "#question_file = open('question_file.txt', 'w')\n",
    "import codecs\n",
    "\n",
    "single_folder = os.path.exists(single_baseurl)\n",
    "#multiple_folder = os.path.exists(multiple_baseurl)\n",
    "if not single_folder:                   #判断是否存在文件夹如果不存在则创建为文件夹\n",
    "    os.makedirs(single_baseurl)\n",
    "                \n",
    "#if not multiple_folder:                   #判断是否存在文件夹如果不存在则创建为文件夹\n",
    "#    os.makedirs(multiple_baseurl)\n",
    "                \n",
    "single_question_file = codecs.open(single_baseurl + 'single_question.txt', 'w','utf-8')\n",
    "#multiple_question_file = codecs.open(multiple_baseurl + 'multiple_question.txt', 'w','utf-8')\n",
    "\n",
    "for item in single_question:\n",
    "    single_question_file.write(\"%s\\r\\n\" % item)\n",
    "    \n",
    "#for item in multiple_question:\n",
    "#    multiple_question_file.write(\"%s\\r\\n\" % item)\n",
    "    \n",
    "single_question_file.close()\n",
    "#multiple_question_file.close()"
   ]
  },
  {
   "cell_type": "markdown",
   "metadata": {},
   "source": [
    "### 2.解析选项"
   ]
  },
  {
   "cell_type": "code",
   "execution_count": 2985,
   "metadata": {
    "collapsed": true
   },
   "outputs": [],
   "source": [
    "option_all = soup.find_all(\"div\",attrs={\"class\":\"nodeItem\"})"
   ]
  },
  {
   "cell_type": "markdown",
   "metadata": {},
   "source": [
    "区别单选和多选"
   ]
  },
  {
   "cell_type": "code",
   "execution_count": 2986,
   "metadata": {
    "collapsed": true,
    "scrolled": true
   },
   "outputs": [],
   "source": [
    "single_option_all = option_all[0].find_all(\"div\",attrs={\"class\":\"question config\"})\n",
    "if len(option_all)>1:\n",
    "    multiple_option_all = option_all[1].find_all(\"div\",attrs={\"class\":\"question config\"})\n",
    "else:\n",
    "    multiple_option_all = []"
   ]
  },
  {
   "cell_type": "code",
   "execution_count": 2987,
   "metadata": {
    "scrolled": false
   },
   "outputs": [
    {
     "data": {
      "text/plain": [
       "76"
      ]
     },
     "execution_count": 2987,
     "metadata": {},
     "output_type": "execute_result"
    }
   ],
   "source": [
    "len(single_option_all)"
   ]
  },
  {
   "cell_type": "code",
   "execution_count": 2988,
   "metadata": {},
   "outputs": [
    {
     "data": {
      "text/plain": [
       "'\\n_single_option_a = \\'\\'\\nfor i in single_option_all[11].table.tbody.find_all(\"label\")[2].children:\\n    if \\'input\\' in str(i):\\n        pass\\n    else:\\n        if \\'A.\\' in str(i):\\n            _single_option_a = _single_option_a + re.sub(\\'[\\r|\\n|\\t|\\\\s]\\', \\'\\',str(i))\\n        else:\\n            if \\'img\\' not in str(i):\\n                _single_option_a = _single_option_a + re.sub(\\'[\\r|\\n|\\t|\\\\s]\\', \\'\\',str(i))\\n            else:\\n                _single_option_a = _single_option_a + str(i)\\n#single_option_a.append(_single_option_a)\\n_single_option_a\\n'"
      ]
     },
     "execution_count": 2988,
     "metadata": {},
     "output_type": "execute_result"
    }
   ],
   "source": [
    "\"\"\"\n",
    "_single_option_a = ''\n",
    "for i in single_option_all[11].table.tbody.find_all(\"label\")[2].children:\n",
    "    if 'input' in str(i):\n",
    "        pass\n",
    "    else:\n",
    "        if 'A.' in str(i):\n",
    "            _single_option_a = _single_option_a + re.sub('[\\r|\\n|\\t|\\\\s]', '',str(i))\n",
    "        else:\n",
    "            if 'img' not in str(i):\n",
    "                _single_option_a = _single_option_a + re.sub('[\\r|\\n|\\t|\\\\s]', '',str(i))\n",
    "            else:\n",
    "                _single_option_a = _single_option_a + str(i)\n",
    "#single_option_a.append(_single_option_a)\n",
    "_single_option_a\n",
    "\"\"\""
   ]
  },
  {
   "cell_type": "markdown",
   "metadata": {},
   "source": [
    "单选"
   ]
  },
  {
   "cell_type": "code",
   "execution_count": 2989,
   "metadata": {
    "scrolled": true
   },
   "outputs": [
    {
     "name": "stdout",
     "output_type": "stream",
     "text": [
      "0\n",
      "1\n",
      "2\n",
      "3\n",
      "4\n",
      "5\n",
      "6\n",
      "7\n",
      "8\n",
      "9\n",
      "10\n",
      "11\n",
      "12\n",
      "13\n",
      "14\n",
      "15\n",
      "16\n",
      "17\n",
      "18\n",
      "19\n",
      "20\n",
      "21\n",
      "22\n",
      "23\n",
      "24\n",
      "25\n",
      "26\n",
      "27\n",
      "28\n",
      "29\n",
      "30\n",
      "31\n",
      "32\n",
      "33\n",
      "34\n",
      "35\n",
      "36\n",
      "37\n",
      "38\n",
      "39\n",
      "40\n",
      "41\n",
      "42\n",
      "43\n",
      "44\n",
      "45\n",
      "46\n",
      "47\n",
      "48\n",
      "49\n",
      "50\n",
      "51\n",
      "52\n",
      "53\n",
      "54\n",
      "55\n",
      "56\n",
      "57\n",
      "58\n",
      "59\n",
      "60\n",
      "61\n",
      "62\n",
      "63\n",
      "64\n",
      "65\n",
      "66\n",
      "67\n",
      "68\n",
      "69\n",
      "70\n",
      "71\n",
      "72\n",
      "73\n",
      "74\n",
      "75\n"
     ]
    },
    {
     "data": {
      "text/plain": [
       "['D．工程所在地县级以上人民政府建设行政主管部门',\n",
       " 'D．建设资金全部到位',\n",
       " 'D．向发证机关申请延期开工2次，超过六个月因故不能按期开工，继续申请延期',\n",
       " 'D．专业技术人员',\n",
       " 'D．设计单位对施工过程中发现的质量问题应当按监理单位的要求进行改正',\n",
       " 'D．相应的继续教育证明，并在其接受继续教育',\n",
       " 'D．施工企业不允许将承包的全部建筑工程转包给他人',\n",
       " 'D．必须由总承包单位自行完成',\n",
       " 'D．勘察单位',\n",
       " 'D．工程技术经济资料和经签署的工程保修书',\n",
       " 'D．组织落实本单位安全生产规章制度和操作规程',\n",
       " 'D．设置安全生产管理机构',\n",
       " 'D．施工企业的董事',\n",
       " 'D．该设备须取得安全使用证或者安全标志',\n",
       " 'D．生产许可证或安全使用证，方可投入使用',\n",
       " 'D．在生产车间设置视频监控设施',\n",
       " 'D．穿上防滑鞋进行作业',\n",
       " 'D．依法享有工伤社会保险，但应当首先向本单位提出民事赔偿',\n",
       " 'D．不应报告',\n",
       " 'D．指定兼职的应急救援人员',\n",
       " 'D．全面、有效、合理、诚实信用',\n",
       " 'D．公开招标和公平招标',\n",
       " 'D．可以作为评标委员会成员参与评标',\n",
       " 'D．拟签订合同的主要条款',\n",
       " 'D．5日前',\n",
       " 'D．自中标单位收到中标通知书之日起30日内',\n",
       " 'D．可以公开',\n",
       " 'D．投标人修改投标文件的，招标人有权接受较原投标文件更为优惠的修改并拒绝对招标人不利的修改',\n",
       " 'D．招标人代表2人，专家3人',\n",
       " 'D．行政监督机构',\n",
       " 'D．依法重新招标',\n",
       " 'D．经其他评标专家核实无误后，甲作出的评审结论有效，由乙对甲未评审的部分内容进行补充评审',\n",
       " 'D．中标通知书',\n",
       " 'D．中标合同备案后另行订立合同的，工程价款的结算应当以备案的合同为依据',\n",
       " 'D．部分非主体、关键性',\n",
       " 'D．其他形式',\n",
       " 'D．某商场寄送的价目表',\n",
       " 'D．以上都不是',\n",
       " 'D．受要约人即将发出承诺通知',\n",
       " 'D．受要约人对要约的内容作出非实质性变更',\n",
       " 'D．违反法定的限定',\n",
       " 'D．20',\n",
       " 'D．②③①',\n",
       " 'D．对方未应己方的要求履行之前',\n",
       " 'D．法定代表人变更',\n",
       " 'D．公民、法人或者其他组织能够自主决定的事项',\n",
       " 'D．行政机关采用事后监督等其他行政管理方式',\n",
       " 'D．20日内',\n",
       " 'D．被许可人为依法履行开发利用自然资源义务的',\n",
       " 'D．开发和利用新能源、可再生能源',\n",
       " 'D．能源统计制度',\n",
       " 'D．开展节能共性和关键技术，促进节能技术创新和成果转化',\n",
       " 'D．向已有地方污染物排放标准的区域排放污染物的，应当执行地方排放标准',\n",
       " 'D．防治污染的设施必须与主体工程同时投产使用',\n",
       " 'D．上级环境保护主管部门',\n",
       " 'D．投标人的业绩',\n",
       " 'D．满足设备材料采购和施工的需要',\n",
       " 'D．工程设计监理单位',\n",
       " 'D．有完整的技术档案和施工管理资料',\n",
       " 'D．乙、丙、丁三个单位共同承担责任',\n",
       " 'D．在建设单位或监理单位监督下现场取样',\n",
       " 'D．改变建筑工程一般结构',\n",
       " 'D．对涉及结构安全的试块应现场取样，并送具有相应资质等级的质量检测单位进行检测',\n",
       " 'D．报告监理单位要求设计单位改正',\n",
       " 'D．转让',\n",
       " 'D．保修范围、保修期限和保修责任',\n",
       " 'D．1',\n",
       " 'D．建设单位',\n",
       " 'D．工程监理单位',\n",
       " 'D．经营许可证、检测合格证',\n",
       " 'D．建设主管部门',\n",
       " 'D．总承包单位和分包单位承担连带责任',\n",
       " 'D．拆除、爆破工程',\n",
       " 'D．负责项目管理的技术人员',\n",
       " 'D．分包单位',\n",
       " 'D．人民政府及其建设行政主管部门']"
      ]
     },
     "execution_count": 2989,
     "metadata": {},
     "output_type": "execute_result"
    }
   ],
   "source": [
    "single_option_a = []\n",
    "single_option_b = []\n",
    "single_option_c = []\n",
    "single_option_d = []\n",
    "for option_i in range(len(single_option_all)):\n",
    "    \n",
    "    print(option_i)\n",
    "    _single_option_a = ''\n",
    "    _single_option_b = ''\n",
    "    _single_option_c = ''\n",
    "    _single_option_d = ''\n",
    "    \n",
    "    for i in single_option_all[option_i].table.tbody.find_all(\"label\")[0].children:\n",
    "        if 'input' in str(i):\n",
    "            pass\n",
    "        else:\n",
    "            if 'img' not in str(i):\n",
    "                _single_option_a = _single_option_a + re.sub('[\\r|\\n|\\t|\\\\s]', '',str(i))\n",
    "            else:\n",
    "                _single_option_a = _single_option_a + str(i)\n",
    "    single_option_a.append(_single_option_a)\n",
    "    \n",
    "    for i in single_option_all[option_i].table.tbody.find_all(\"label\")[1].children:\n",
    "        if 'input' in str(i):\n",
    "            pass\n",
    "        else:\n",
    "            if 'img' not in str(i):\n",
    "                _single_option_b = _single_option_b + re.sub('[\\r|\\n|\\t|\\\\s]', '',str(i))\n",
    "            else:\n",
    "                _single_option_b = _single_option_b + str(i)\n",
    "    single_option_b.append(_single_option_b)\n",
    "    \n",
    "    if len(single_option_all[option_i].table.tbody.find_all(\"label\")) == 2:\n",
    "        single_option_c.append('C．'+'null')\n",
    "    else:\n",
    "        for i in single_option_all[option_i].table.tbody.find_all(\"label\")[2].children:\n",
    "            if 'input' in str(i):\n",
    "                pass\n",
    "            else:\n",
    "                if 'img' not in str(i):\n",
    "                    _single_option_c = _single_option_c + re.sub('[\\r|\\n|\\t|\\\\s]', '',str(i))\n",
    "                else:\n",
    "                    _single_option_c = _single_option_c + str(i)\n",
    "        single_option_c.append(_single_option_c)\n",
    "    \n",
    "    if len(single_option_all[option_i].table.tbody.find_all(\"label\"))!=4:\n",
    "        single_option_d.append('D．'+'null')\n",
    "    else:\n",
    "        for i in single_option_all[option_i].table.tbody.find_all(\"label\")[3].children:\n",
    "            if 'input' in str(i):\n",
    "                pass\n",
    "            else:\n",
    "                if 'img' not in str(i):\n",
    "                    _single_option_d = _single_option_d + re.sub('[\\r|\\n|\\t|\\\\s]', '',str(i))\n",
    "                else:\n",
    "                    _single_option_d = _single_option_d + str(i)\n",
    "        single_option_d.append(_single_option_d)\n",
    "    \n",
    "    \n",
    "    \"\"\"\n",
    "    if single_option_all[option_i].table.tbody.find_all(\"label\")[0].find_all(\"img\") != []:\n",
    "        #print(re.sub('[\\r|\\n|\\t|\\\\s]', '', single_option_all[option_i].table.tbody.find_all(\"label\")[0].find_all(\"img\")))\n",
    "        single_option_a.append('A．'+str(single_option_all[option_i].table.tbody.find_all(\"label\")[0].find_all(\"img\")[0]))\n",
    "    else:\n",
    "        single_option_a.append(re.sub('[\\r|\\n|\\t|\\\\s]', '', single_option_all[option_i].table.tbody.find_all(\"label\")[0].get_text()))\n",
    "        \n",
    "    if single_option_all[option_i].table.tbody.find_all(\"label\")[1].find_all(\"img\") != []:\n",
    "        #print(re.sub('[\\r|\\n|\\t|\\\\s]', '', single_option_all[option_i].table.tbody.find_all(\"label\")[0].find_all(\"img\")))\n",
    "        single_option_b.append('B．'+str(single_option_all[option_i].table.tbody.find_all(\"label\")[1].find_all(\"img\")[0]))\n",
    "    else:\n",
    "        single_option_b.append(re.sub('[\\r|\\n|\\t|\\\\s]', '', single_option_all[option_i].table.tbody.find_all(\"label\")[1].get_text()))\n",
    "    \n",
    "    if single_option_all[option_i].table.tbody.find_all(\"label\")[2].find_all(\"img\") != []:\n",
    "        #print(re.sub('[\\r|\\n|\\t|\\\\s]', '', single_option_all[option_i].table.tbody.find_all(\"label\")[0].find_all(\"img\")))\n",
    "        single_option_c.append('C．'+str(single_option_all[option_i].table.tbody.find_all(\"label\")[2].find_all(\"img\")[0]))\n",
    "    else:\n",
    "        single_option_c.append(re.sub('[\\r|\\n|\\t|\\\\s]', '', single_option_all[option_i].table.tbody.find_all(\"label\")[2].get_text()))\n",
    "    \n",
    "    if len(single_option_all[option_i].table.tbody.find_all(\"label\"))!=4:\n",
    "        single_option_d.append('D．'+'null')\n",
    "    else:\n",
    "        if single_option_all[option_i].table.tbody.find_all(\"label\")[3].find_all(\"img\") != []:\n",
    "            #print(re.sub('[\\r|\\n|\\t|\\\\s]', '', single_option_all[option_i].table.tbody.find_all(\"label\")[0].find_all(\"img\")))\n",
    "            single_option_d.append('D．'+str(single_option_all[option_i].table.tbody.find_all(\"label\")[3].find_all(\"img\")[0]))\n",
    "        else:\n",
    "            single_option_d.append(re.sub('[\\r|\\n|\\t|\\\\s]', '', single_option_all[option_i].table.tbody.find_all(\"label\")[3].get_text()))\n",
    "    \"\"\"\n",
    "    \n",
    "    #single_option_b.append(re.sub('[\\r|\\n|\\t|\\\\s]', '', single_option_all[option_i].table.tbody.find_all(\"label\")[1].get_text()))\n",
    "    #single_option_c.append(re.sub('[\\r|\\n|\\t|\\\\s]', '', single_option_all[option_i].table.tbody.find_all(\"label\")[2].get_text()))\n",
    "    #single_option_d.append(re.sub('[\\r|\\n|\\t|\\\\s]', '', single_option_all[option_i].table.tbody.find_all(\"label\")[3].get_text()))\n",
    "single_option_d"
   ]
  },
  {
   "cell_type": "code",
   "execution_count": 2990,
   "metadata": {
    "scrolled": false
   },
   "outputs": [
    {
     "data": {
      "text/plain": [
       "'A．县级以上人民政府建设行政主管部门'"
      ]
     },
     "execution_count": 2990,
     "metadata": {},
     "output_type": "execute_result"
    }
   ],
   "source": [
    "single_option_a[0]"
   ]
  },
  {
   "cell_type": "markdown",
   "metadata": {},
   "source": [
    "保存单选选项"
   ]
  },
  {
   "cell_type": "code",
   "execution_count": 2991,
   "metadata": {
    "collapsed": true
   },
   "outputs": [],
   "source": [
    "import codecs\n",
    "\n",
    "single_option_a_file = codecs.open(single_baseurl + 'single_option_a.txt', 'w','utf-8')\n",
    "single_option_b_file = codecs.open(single_baseurl + 'single_option_b.txt', 'w','utf-8')\n",
    "single_option_c_file = codecs.open(single_baseurl + 'single_option_c.txt', 'w','utf-8')\n",
    "single_option_d_file = codecs.open(single_baseurl + 'single_option_d.txt', 'w','utf-8')\n",
    "\n",
    "for item in single_option_a:\n",
    "    single_option_a_file.write(\"%s\\r\\n\" % item)\n",
    "for item in single_option_b:\n",
    "    single_option_b_file.write(\"%s\\r\\n\" % item)\n",
    "    \n",
    "for item in single_option_c:\n",
    "    single_option_c_file.write(\"%s\\r\\n\" % item)\n",
    "    \n",
    "for item in single_option_d:\n",
    "    single_option_d_file.write(\"%s\\r\\n\" % item)\n",
    "\n",
    "single_option_a_file.close()\n",
    "single_option_b_file.close()\n",
    "single_option_c_file.close()\n",
    "single_option_d_file.close()"
   ]
  },
  {
   "cell_type": "markdown",
   "metadata": {},
   "source": [
    "### 解析答案"
   ]
  },
  {
   "cell_type": "code",
   "execution_count": 2992,
   "metadata": {
    "collapsed": true
   },
   "outputs": [],
   "source": [
    "anwser_all = soup.find_all(\"div\",attrs={\"class\":\"nodeItem\"})"
   ]
  },
  {
   "cell_type": "code",
   "execution_count": 2993,
   "metadata": {
    "collapsed": true
   },
   "outputs": [],
   "source": [
    "single_anwser_all = anwser_all[0].find_all(\"div\",attrs={\"class\":\"Item config\"}) #单选\n",
    "if len(anwser_all)>1:\n",
    "    multiple_anwser_all = anwser_all[1].find_all(\"div\",attrs={\"class\":\"Item config\"}) #多选\n",
    "else:\n",
    "    multiple_anwser_all = []"
   ]
  },
  {
   "cell_type": "code",
   "execution_count": 2994,
   "metadata": {},
   "outputs": [
    {
     "data": {
      "text/plain": [
       "76"
      ]
     },
     "execution_count": 2994,
     "metadata": {},
     "output_type": "execute_result"
    }
   ],
   "source": [
    "len(single_anwser_all)"
   ]
  },
  {
   "cell_type": "code",
   "execution_count": 2995,
   "metadata": {
    "scrolled": true
   },
   "outputs": [
    {
     "data": {
      "text/plain": [
       "76"
      ]
     },
     "execution_count": 2995,
     "metadata": {},
     "output_type": "execute_result"
    }
   ],
   "source": [
    "single_answer_right = []\n",
    "#multiple_answer_right = []\n",
    "\n",
    "for answer_i in range(len(single_anwser_all)):\n",
    "    #print(anwser_all[25].find(\"div\",attrs={\"class\":\"config answer\"}))\n",
    "    #print(anwser_all[answer_i].find(\"table\",attrs={\"class\":\"HiddenStart\"}).find(\"div\",attrs={\"class\":\"anser Con\"}))\n",
    "    #print(anwser_all[answer_i].find(\"table\",attrs={\"class\":\"HiddenStart\"}).find(\"div\",attrs={\"class\":\"anser Con\"}).get_text())\n",
    "    single_answer_right.append(single_anwser_all[answer_i].find(\"div\",attrs={\"class\":\"anser Con\"}).string)\n",
    "\n",
    "len(single_answer_right)"
   ]
  },
  {
   "cell_type": "code",
   "execution_count": 2996,
   "metadata": {},
   "outputs": [
    {
     "data": {
      "text/plain": [
       "76"
      ]
     },
     "execution_count": 2996,
     "metadata": {},
     "output_type": "execute_result"
    }
   ],
   "source": [
    "len(single_anwser_all)"
   ]
  },
  {
   "cell_type": "code",
   "execution_count": 2997,
   "metadata": {
    "collapsed": true
   },
   "outputs": [],
   "source": [
    "import codecs\n",
    "\n",
    "single_anwser_file = codecs.open(single_baseurl + 'single_anwser.txt', 'w','utf-8')\n",
    "#multiple_anwser_file = codecs.open(multiple_baseurl + 'multiple_anwser.txt', 'w','utf-8')\n",
    "\n",
    "#for item in multiple_answer_right:\n",
    "#    multiple_anwser_file.write(\"%s\\r\\n\" % item)\n",
    "    \n",
    "single_anwser_file.close()\n",
    "#multiple_anwser_file.close()"
   ]
  },
  {
   "cell_type": "code",
   "execution_count": 2998,
   "metadata": {
    "collapsed": true
   },
   "outputs": [],
   "source": [
    "#print(re.sub('[\\r|\\n|\\t|\\\\s]', '', anwser_1))"
   ]
  },
  {
   "cell_type": "markdown",
   "metadata": {},
   "source": [
    "### 解析解析"
   ]
  },
  {
   "cell_type": "code",
   "execution_count": 2999,
   "metadata": {
    "collapsed": true
   },
   "outputs": [],
   "source": [
    "analysis_all = soup.find_all(\"div\",attrs={\"class\":\"nodeItem\"})"
   ]
  },
  {
   "cell_type": "code",
   "execution_count": 3000,
   "metadata": {},
   "outputs": [
    {
     "data": {
      "text/plain": [
       "76"
      ]
     },
     "execution_count": 3000,
     "metadata": {},
     "output_type": "execute_result"
    }
   ],
   "source": [
    "single_analysis_all = analysis_all[0].find_all(\"div\",attrs={\"class\":\"Item config\"}) #单选\n",
    "if len(analysis_all)>1:\n",
    "    multiple_analysis_all = analysis_all[1].find_all(\"div\",attrs={\"class\":\"Item config\"}) #多选\n",
    "else:\n",
    "    multiple_analysis_all = []\n",
    "len(single_analysis_all)"
   ]
  },
  {
   "cell_type": "code",
   "execution_count": 3001,
   "metadata": {
    "scrolled": false
   },
   "outputs": [
    {
     "name": "stdout",
     "output_type": "stream",
     "text": [
      "<div class=\"analysits Con\">《建筑法》第七条规定，建筑工程开工前，建设单位应当按照国家有关规定向工程所在地县级以上人民政府建设行政主管部门申请领取施工许可证；但是，国务院建设行政主管部门确定的限额以下的小型工程除外。按照国务院规定的权限和程序批准开工报告的建筑工程，不再领取施工许可证。</div>\n",
      "\n",
      "\n",
      "<div class=\"analysits Con\">《建筑法》第八条规定，申请领取施工许可证，应当具备下列条件：①已经办理该建筑工程用地批准手续；②在城市规划区的建筑工程，已经取得规划许可证；③需要拆迁的，其拆迁进度符合施工要求；④已经确定建筑施工企业；⑤有满足施工需要的施工图纸及技术资料；⑥有保证工程质量和安全的具体措施；⑦建设资金已经落实；⑧法律、行政法规规定的其他条件。</div>\n",
      "\n",
      "\n",
      "<div class=\"analysits Con\">《建筑法》第九条规定，建设单位应当自领取施工许可证之日起三个月内开工。因故不能按期开工的，应当向发证机关申请延期；延期以两次为限，每次不超过三个月。既不开工又不申请延期或者超过延期时限的，施工许可证自行废止。第十条规定，在建的建筑工程因故中止施工的，建设单位应当自中止施工之日起一个月内，向发证机关报告，并按照规定做好建筑工程的维护管理工作。建筑工程恢复施工时，应当向发证机关报告；中止施工满一年的工程恢复施工前，建设单位应当报发证机关核验施工许可证。第十一条规定，按照国务院有关规定批准开工报告的建筑工程，因故不能按期开工或者中止施工的，应当及时向批准机关报告情况。因故不能按期开工超过六个月的，应当重新办理开工报告的批准手续。</div>\n",
      "\n",
      "\n",
      "<div class=\"analysits Con\">《建筑法》第十三条规定，从事建筑活动的建筑施工企业、勘察单位、设计单位和工程监理单位，按照其拥有的注册资本、专业技术人员、技术装备和已完成的建筑工程业绩等资质条件，划分为不同的资质等级，经资质审查合格，取得相应等级的资质证书后，方可在其资质等级许可的范围内从事建筑活动。</div>\n",
      "\n",
      "\n",
      "<div class=\"analysits Con\">《建筑法》第五十六条规定，建筑工程的勘察、设计单位必须对其勘察、设计的质量负责。勘察、设计文件应当符合有关法律、行政法规的规定和建筑工程质量、安全标准、建筑工程勘察、设计技术规范以及合同的约定。设计文件选用的建筑材料、建筑构配件和设备，应当注明其规格、型号、性能等技术指标，其质量要求必须符合国家规定的标准。第五十七条规定，建筑设计单位对设计文件选用的建筑材料、建筑构配件和设备，不得指定生产厂、供应商。</div>\n",
      "\n",
      "\n",
      "<div class=\"analysits Con\">《建筑法》第十四条规定，从事建筑活动的专业技术人员，应当依法取得相应的执业资格证书，并在执业资格证书许可的范围内从事建筑活动。</div>\n",
      "\n",
      "\n",
      "<div class=\"analysits Con\">《建筑法》第二十六条规定，承包建筑工程的单位应当持有依法取得的资质证书，并在其资质等级许可的业务范围内承揽工程。禁止建筑施工企业超越本企业资质等级许可的业务范围或者以任何形式用其他建筑施工企业的名义承揽工程。禁止建筑施工企业以任何形式允许其他单位或者个人使用本企业的资质证书、营业执照，以本企业的名义承揽工程。第二十七条规定，两个以上不同资质等级的单位实行联合共同承包的，应当按照资质等级低的单位的业务许可范围承揽工程。</div>\n",
      "\n",
      "\n",
      "<div class=\"analysits Con\">《建筑法》第二十九条规定，建筑工程总承包单位可以将承包工程中的部分工程发包给具有相应资质条件的分包单位；但是，除总承包合同中约定的分包外，必须经建设单位认可。施工总承包的，建筑工程主体结构的施工必须由总承包单位自行完成。</div>\n",
      "\n",
      "\n",
      "<div class=\"analysits Con\">《建筑法》第三十四条规定，工程监理单位应当在其资质等级许可的监理范围内，承担工程监理业务。工程监理单位应当根据建设单位的委托，客观、公正地执行监理任务。工程监理单位与被监理工程的承包单位以及建筑材料、建筑构配件和设备供应单位不得有隶属关系或者其他利害关系。工程监理单位不得转让工程监理业务。</div>\n",
      "\n",
      "\n",
      "<div class=\"analysits Con\">《建筑法》第六十一条规定，交付竣工验收的建筑工程，必须符合规定的建筑工程质量标准，有完整的工程技术经济资料和经签署的工程保修书，并具备国家规定的其它竣工条件。</div>\n",
      "\n",
      "\n",
      "<div class=\"analysits Con\">《安全生产法》第十八条规定，生产经营单位的主要负责人对本单位安全生产工作负有下列职责：①建立、健全本单位安全生产责任制；②组织制定本单位安全生产规章制度和操作规程；③组织制定并实施本单位安全生产教育和培训计划；④保证本单位安全生产投入的有效实施；⑤督促、检查本单位的安全生产工作，及时消除生产安全事故隐患；⑥组织制定并实施本单位的生产安全事故应急救援预案；⑦及时、如实报告生产安全事故。</div>\n",
      "\n",
      "\n",
      "<div class=\"analysits Con\">《安全生产法》第二十一条规定，矿山、金属冶炼、建筑施工、道路运输单位和危险物品的生产、经营、储存单位，应当设置安全生产管理机构或者配备专职安全生产管理人员。前款规定以外的其他生产经营单位，从业人员超过一百人的，应当设置安全生产管理机构或者配备专职安全生产管理人员；从业人员在一百人以下的，应当配备专职或者兼职的安全生产管理人员。</div>\n",
      "\n",
      "\n",
      "<div class=\"analysits Con\">《安全生产法》第二十四条第二款规定，危险物品的生产、经营、储存单位以及矿山、金属冶炼、建筑施工、道路运输单位的主要负责人和安全生产管理人员，应当由主管的负有安全生产监督管理职责的部门对其安全生产知识和管理能力考核合格。考核不得收费。本题中，D项不属于施工单位的主要负责人和安全生产管理人员。</div>\n",
      "\n",
      "\n",
      "<div class=\"analysits Con\">《安全生产法》第三十四条规定，生产经营单位使用的危险物品的容器、运输工具，以及涉及人身安全、危险性较大的海洋石油开采特种设备和矿山井下特种设备，必须按照国家有关规定，由专业生产单位生产，并经具有专业资质的检测、检验机构检测、检验合格，取得安全使用证或者安全标志，方可投入使用。检测、检验机构对检测、检验结果负责。</div>\n",
      "\n",
      "\n",
      "<div class=\"analysits Con\">参见《安全生产法》第三十四条规定。</div>\n",
      "\n",
      "\n",
      "<div class=\"analysits Con\">《安全生产法》第三十九条规定，生产、经营、储存、使用危险物品的车间、商店、仓库不得与员工宿舍在同一座建筑物内，并应当与员工宿舍保持安全距离。生产经营场所和员工宿舍应当设有符合紧急疏散要求、标志明显、保持畅通的出口。禁止封闭、堵塞生产经营场所或者员工宿舍的出口。</div>\n",
      "\n",
      "\n",
      "<div class=\"analysits Con\">《安全生产法》第五十一条规定，从业人员有权对本单位安全生产工作中存在的问题提出批评、检举、控告；有权拒绝违章指挥和强令冒险作业。</div>\n",
      "\n",
      "\n",
      "<div class=\"analysits Con\">《安全生产法》第五十三条规定，因生产安全事故受到损害的从业人员，除依法享有获得工伤社会保险外，依照有关民事法律尚有获得赔偿的权利的，有权向本单位提出赔偿要求。</div>\n",
      "\n",
      "\n",
      "<div class=\"analysits Con\">《安全生产法》第五十六条规定，从业人员发现事故隐患或者其他不安全因素，应当立即向现场安全生产管理人员或者本单位负责人报告；接到报告的人员应当及时予以处理。</div>\n",
      "\n",
      "\n",
      "<div class=\"analysits Con\">《安全生产法》第七十九条第一款规定，危险物品的生产、经营、储存单位以及矿山、金属冶炼、城市轨道交通运营、建筑施工单位应当建立应急救援组织；生产经营规模较小的，可以不建立应急救援组织的，应当指定兼职的应急救援人员。</div>\n",
      "\n",
      "\n",
      "<div class=\"analysits Con\">《招标投标法》第五条规定，招标投标活动应当遵循公开、公平、公正和诚实信用的原则。</div>\n",
      "\n",
      "\n",
      "<div class=\"analysits Con\">《招标投标法》第十条规定，招标分为公开招标和邀请招标。公开招标是指招标人以招标公告的方式邀请不特定的法人或者其他组织投标；邀请招标是指招标人以投标邀请书的方式邀请特定的法人或者其他组织投标。</div>\n",
      "\n",
      "\n",
      "<div class=\"analysits Con\">《招标投标法》第十五条规定，招标代理机构应当在招标人委托的范围内承担招标事宜。招标代理机构可以在其资格等级范围内承担下列招标事宜：①拟订招标方案，编制和出售招标文件、资格预审文件；②审查投标人资格；③编制标底；④组织投标人踏勘现场；⑤组织开标、评标，协助招标人定标；⑥草拟合同；⑦招标人委托的其他事项。</div>\n",
      "\n",
      "\n",
      "<div class=\"analysits Con\">《招标投标法》第十六条规定，招标人采用公开招标方式的，应当发布招标公告。依法必须进行招标的项目的招标公告，应当通过国家指定报刊、信息网络或者其他媒介发布。招标公告应当载明招标人的名称和地址、招标项目的性质、数量、实施地点和时间以及获取招标文件的办法等事项。</div>\n",
      "\n",
      "\n",
      "<div class=\"analysits Con\">《招标投标法》第二十三条规定，招标人对已发出的招标文件进行必要的澄清或者修改的，应当在招标文件要求提交投标文件截止时间至少十五日前，以书面形式通知所有招标文件收受人。该澄清或者修改的内容为招标文件的组成部分。</div>\n",
      "\n",
      "\n",
      "<div class=\"analysits Con\">《招标投标法》第四十六条规定，招标人和中标人应当自中标通知书发出之日起30日内，按照招标文件和中标人的投标文件订立书面合同。招标人和中标人不得再行订立背离合同实质性内容的其他协议。</div>\n",
      "\n",
      "\n",
      "<div class=\"analysits Con\">《招标投标法》第二十二条规定，招标人不得向他人透露已获取招标文件的潜在投标人的名称、数量以及可能影响公平竞争的有关招标投标的其他情况。招标人设有标底的，标底必须保密。</div>\n",
      "\n",
      "\n",
      "<div class=\"analysits Con\">《招标投标法》第二十九条规定，投标人在招标文件要求提交投标文件的截止时间之前，可以补充与修改或者撤回已提交的投标文件，并书面通知招标人，补充与修改的内容为投标文件的组成部分。修改的投标文件应按照招标文件规定进行编制、密封、标记和提交，并标明“修改”字样。</div>\n",
      "\n",
      "\n",
      "<div class=\"analysits Con\">《招标投标法》第三十七条规定，评标由招标人依法组建的评标委员会负责。依法必须进行招标的项目，其评标委员会由招标人的代表和有关技术、经济等方面的专家组成，成员人数为五人以上单数，其中技术、经济等方面的专家不得少于成员总数的2/3。</div>\n",
      "\n",
      "\n",
      "<div class=\"analysits Con\">《招标投标法》第四十条规定，招标人根据评标委员会提出的书面评标报告和推荐的中标候选人确定中标人。据此规定，评标委员会负责评标工作，但确定中标人的权利归属招标人。</div>\n",
      "\n",
      "\n",
      "<div class=\"analysits Con\">《招标投标法》第四十二条规定，评标委员会经评审，认为所有投标都不符合招标文件要求的，可以否决所有投标。依法必须进行招标的项目的所有投标被否决的，招标人应当依法重新招标。</div>\n",
      "\n",
      "\n",
      "<div class=\"analysits Con\">《招标投标法》第四十四条规定，评标委员会成员应当客观、公正地履行职务，遵守职业道德，对所提出的评审意见承担个人责任。评标委员会成员不得私下接触投标人，不得收受投标人的财物或者其他好处。评标委员会成员和参与评标的有关工作人员不得透露对投标文件的评审和比较、中标候选人的推荐情况以及与评标有关的其他情况。根据以上规定，评标委员会成员对其所提出的评审意见承担个人责任，因专家甲已退出评审，无法继续对其所作评审意见负责，而专家乙不会对专家甲的评审结论负责的，因此应重新评审。</div>\n",
      "\n",
      "\n",
      "<div class=\"analysits Con\">《招标投标法》第四十六条规定，招标人和中标人应当自中标通知书发出之日起30日内，按照招标文件和中标人的投标文件订立书面合同。招标人和中标人不得再行订立背离合同实质性内容的其他协议。</div>\n",
      "\n",
      "\n",
      "<div class=\"analysits Con\">A项，《招标投标法》第四十七条规定，依法必须进行招标的项目，招标人应当自确定中标人之日起15日内，向有关行政监督部门提交招标投标情况的书面报告。对于D项《关于审理建设工程施工合同纠纷案件适用法律问题的解释》第二十一条规定：“当事人就同一建设工程另行订立的建设工程施工合同与经过备案的中标合同实质内容不一致的，应当以备案的中标合同作为结算工程价款的根据”。</div>\n",
      "\n",
      "\n",
      "<div class=\"analysits Con\">根据《招标投标法》第四十八条规定，中标人按照合同约定或者经招标人同意，可以将中标项目的部分非主体、非关键性工作分包给他人完成。接受分包的人应当具备相应的资格条件，并不得再次分包。</div>\n",
      "\n",
      "\n",
      "<div class=\"analysits Con\">根据《合同法》第十条规定，当事人订立合同有书面形式、口头形式和其他形式。法律、行政法规规定采用书面形式的，应当采取书面形式。当事人约定采用书面形式的，应当采用书面形式。</div>\n",
      "\n",
      "\n",
      "<div class=\"analysits Con\">《合同法》第十五条规定，要约邀请是希望他人向自己发出要约的意思表示。寄送的价目表、拍卖公告、招标公告、招股说明书、商业广告等为要约邀请。商业广告的内容符合要约规定的，视为要约。</div>\n",
      "\n",
      "\n",
      "<div class=\"analysits Con\">参见《合同法》第十五条规定。</div>\n",
      "\n",
      "\n",
      "<div class=\"analysits Con\">《合同法》第十九条规定，有下列情形之一的，要约不得撤销：①要约人确定了承诺期限或者以其他形式明示要约不可撤销；②受要约人有理由认为要约是不可撤销的，并已经为履行合同作了准备工作。</div>\n",
      "\n",
      "\n",
      "<div class=\"analysits Con\">《合同法》第二十条规定，有下列情形之一的，要约失效：①拒绝要约的通知到达要约人；②要约人依法撤销要约；③承诺期限届满，受要约人未作出承诺；④受要约人对要约的内容作出实质性变更。</div>\n",
      "\n",
      "\n",
      "<div class=\"analysits Con\">《合同法》第五十二条规定，有下列情形之一的，合同无效：①一方以欺诈、胁迫的手段订立合同，损害国家利益；②恶意串通，损害国家、集体或第三人利益；③以合法形式掩盖非法目的；④损害社会公共利益；⑤违反法律、行政法规的强制性规定。</div>\n",
      "\n",
      "\n",
      "<div class=\"analysits Con\">《合同法》第五十五条规定，撤销权自债权人知道或者应当知道撤销事由之日起一年内行使。自债务人的行为发生之日起五年内没有行使撤销权的，该撤销权消灭。</div>\n",
      "\n",
      "\n",
      "<div class=\"analysits Con\">《合同法》第六十一条规定，合同生效后，当事人就质量、价款或者报酬、履行地点等内容没有约定或者约定不明确的，可以协议补充；不能达成补充协议的，按照合同有关条款或者交易习惯确定。当事人就有关合同内容约定不明确，依照第六十一条的规定仍不能确定的，适用《合同法》第六十二条的规定。</div>\n",
      "\n",
      "\n",
      "<div class=\"analysits Con\">《合同法》第六十六条规定，当事人互负债务，没有先后履行顺序的，应当同时履行。一方在对方履行之前有权拒绝其履行要求。一方在对方履行债务不符合约定时，有权拒绝其相应的履行要求。</div>\n",
      "\n",
      "\n",
      "<div class=\"analysits Con\">《合同法》第九十四条规定，有下列情形之一的，当事人可以解除合同：①因不可抗力致使不能实现合同目的的；②在履行期限届满之前，当事人一方明确表示或者以自己的行为表明不履行主要债务；③当事人一方延迟履行主要债务，经催告后在合理的期限内仍未履行；④当事人一方延迟履行债务或者有其他违约行为，致使不能实现合同目的的；⑤法律规定的其他情形。</div>\n",
      "\n",
      "\n",
      "<div class=\"analysits Con\">根据《行政许可法》第十二条第五款，企业或者其他组织的设立等需要确定主体资格的事项，可以设定行政许可。BCD三项均属于第十三条规定的可以不设行政许可的内容。</div>\n",
      "\n",
      "\n",
      "<div class=\"analysits Con\">《行政许可证法》第十三条规定，通过下列方式能够予以规范的，可以不设行政许可：①公民、法人或者其他组织能够自主决定的；②市场竞争机制能够有效调节的；③行业组织或者中介机构能够自律管理的；④行政机关采用事后监督等其他行政管理方式能够解决的。</div>\n",
      "\n",
      "\n",
      "<div class=\"analysits Con\">《行政许可法》第四十二条规定，除可以当场作出行政许可决定的外，行政机关应当自受理行政许可申请之日起二十日内作出行政许可决定。二十日内不能作出决定的，经本行政机关负责人批准，可以延长十日，并应当将延长期限的理由告知申请人。但是，法律、法规另有规定的，依照其规定。</div>\n",
      "\n",
      "\n",
      "<div class=\"analysits Con\">《行政许可法》第七十条规定，有下列情形之一的，行政机关应当依法办理有关行政许可的注销手续：①行政许可有效期届满未延续的；②赋予公民特定资格的行政许可，该公民死亡或者丧失行为能力的；③法人或者其他组织依法终止的；④行政许可依法被撤销、撤回，或者行政许可证件依法被吊销的；⑤因不可抗力导致行政许可事项无法实施的；⑥法律、法规规定的应当注销行政许可的其他情形。</div>\n",
      "\n",
      "\n",
      "<div class=\"analysits Con\">节约能源是指加强用能管理，采取技术上可行、经济上合理以及环境和社会可以承受的措施，从能源生产到消费的各个环节，降低消耗、减少损失和污染物排放、制止浪费，有效、合理地利用能源。《节约能源法》第四条规定，节约资源是我国的基本国策。国家实施节约与开发并举、把节约放在首位的能源发展战略。</div>\n",
      "\n",
      "\n",
      "<div class=\"analysits Con\">《节约能源法》第十五条规定，国家实行固定资产投资项目节能评估和审查制度。不符合强制性节能标准的项目，依法负责项目审批或者核准的机关不得批准或者核准建设；建设单位不得开工建设；已经建成的，不得投入生产、使用。具体办法由国务院管理节能工作的部门会同国务院有关部门制定。</div>\n",
      "\n",
      "\n",
      "<div class=\"analysits Con\">《节约能源法》第五十八条规定，国务院管理节能工作的部门会同国务院有关部门制定并公布节能技术、节能产品的推广目录，引导用能单位和个人使用先进的节能技术、节能产品。国务院管理节能工作的部门会同国务院有关部门组织实施重大节能科研项目、节能示范项目、重点节能工程。</div>\n",
      "\n",
      "\n",
      "<div class=\"analysits Con\">《环境保护法》第十六条规定，国务院环境保护行政主管部门根据国家环境质量标准和国家经济、技术条件，制定国家污染物排放标准。省、自治区、直辖市人民政府对国家污染物排放标准中未作规定的项目，可以制定地方污染物排放标准；对国家污染物排放标准中已作规定的项目，可以制定严于国家污染物排放标准的地方污染物排放标准。地方污染物排放标准应当报国务院环境保护行政主管部门备案。</div>\n",
      "\n",
      "\n",
      "<div class=\"analysits Con\">《环境保护法》第四十一条规定，建设项目中防治污染的设施，应当与主体工程同时设计、同时施工、同时投产使用。防治污染的设施应当符合经批准的环境影响评价文件的要求，不得擅自拆除或者闲置。</div>\n",
      "\n",
      "\n",
      "<div class=\"analysits Con\">《环境保护法》第四十七条规定，企业事业单位应当按照国家有关规定制定突发环境事件应急预案，报环境保护主管部门和有关部门备案。在发生或者可能发生突发环境事件时，企业事业单位应当立即采取措施处理，及时通报可能受到危害的单位和居民，并向环境保护主管部门和有关部门报告。</div>\n",
      "\n",
      "\n",
      "<div class=\"analysits Con\">《建设工程勘察设计管理条列》第十四条规定，建设工程勘察、设计方案评标，应当以投标人的业绩、信誉和勘察、设计人员的能力以及勘察、设计方案的优劣为依据，进行综合评定。</div>\n",
      "\n",
      "\n",
      "<div class=\"analysits Con\">《建设工程勘察设计管理条例》第二十六条规定，编制建设工程勘察文件，应当真实、准确，满足建设工程规划、选址、设计、岩土治理和施工的需要。编制方案设计文件，应当满足编制初步设计文件和控制概算的需要。编制初步设计文件，应当满足编制施工招标文件、主要设备材料订货和编制施工图设计文件的需要。编制施工图设计文件，应当满足设备材料采购、非标准设备制作和施工的需要，并注明建设工程合理使用年限。</div>\n",
      "\n",
      "\n",
      "<div class=\"analysits Con\">《建设工程质量管理条例》第十一条规定，建设单位应当将施工图设计文件报县级以上人民政府建设行政主管部门或者其他有关部门审查。施工图设计文件审查的具体办法，由国务院建设行政主管部门会同国务院其他有关部门制定。</div>\n",
      "\n",
      "\n",
      "<div class=\"analysits Con\">《建设工程质量管理条例》第十六条规定，建设单位收到建设工程竣工报告后，应当组织设计、施工、工程监理等有关单位进行竣工验收。建设工程竣工验收应当具备下列条件：①完成建设工程设计和合同约定的各项内容；②有完整的技术档案和施工管理资料；③有工程使用的主要建筑材料、建筑构配件和设备的进场试验报告；④有勘察、设计、施工、工程监理等单位分别签署的质量合格文件；⑤有施工单位签署的工程保修书。</div>\n",
      "\n",
      "\n",
      "<div class=\"analysits Con\">《建筑法》第二十九条规定，建筑工程总承包单位按照总承包合同的约定对建设单位负责；分包单位按照分包合同的约定对总承包单位负责。总承包单位和分包单位就分包工程对建设单位承担连带责任。《建设工程质量管理条例》第二十六条规定，建设工程实行总承包的，总承包单位应当对全部建设工程质量负责。第二十七条规定，总承包单位依法将建设工程分包给其他单位的，分包单位应当按照分包合同的约定对其分包工程的质量向总承包单位负责，总承包单位与分包单位对分包工程的质量承担连带责任。</div>\n",
      "\n",
      "\n",
      "<div class=\"analysits Con\">《建设工程质量管理条例》第三十一条规定，施工人员对涉及结构安全的试块、试件以及有关材料，应当在建设单位或者工程监理单位监督下现场取样，并送具有相应资质等级的质量检测单位进行检测。</div>\n",
      "\n",
      "\n",
      "<div class=\"analysits Con\">《建设工程质量管理条例》第十五条规定，涉及建筑主体和承重结构变动的装修工程，建设单位应当在施工前委托原设计单位或者具有相应资质等级的设计单位提出设计方案；没有设计方案的，不得施工。</div>\n",
      "\n",
      "\n",
      "<div class=\"analysits Con\">《建设工程质量管理条例》第二十五条规定，施工单位应当依法取得相应等级的资质证书，并在其资质等级许可的范围内承揽工程。禁止施工单位超越本单位资质等级许可的业务范围或者以其他施工单位的名义承揽工程。禁止施工单位允许其他单位或者个人以本单位的名义承揽工程。施工单位不得转包或者违法分包工程。第三十一条规定，施工人员对涉及结构安全的试块、试件以及有关材料，应在建设单位或工程监理单位监督下现场取样，并送具有相应资质等级的质量检测单位进行检测。另外，建设工程质量监督手续由建设单位办理。</div>\n",
      "\n",
      "\n",
      "<div class=\"analysits Con\">《建设工程质量管理条例》第二十八条规定，施工单位必须按照工程设计图纸和施工技术标准施工，不得擅自修改工程设计，不得偷工减料。施工单位在施工过程中发现设计文件和图纸有差错的，应当及时提出意见和建议。</div>\n",
      "\n",
      "\n",
      "<div class=\"analysits Con\">《建设工程质量管理条例》第三十四条规定，工程监理单位应当依法取得相应等级的资质证书，并在其资质等级许可的范围内承担工程监理业务。禁止工程监理单位超越本单位资质等级许可的范围或者以其它工程监理单位的名义承担工程监理业务。禁止工程监理单位允许其它单位或者个人以本单位的名义承担工程监理业务。工程监理单位不得转让工程监理业务。</div>\n",
      "\n",
      "\n",
      "<div class=\"analysits Con\">《建设工程质量管理条例》第三十九条规定，建设工程实行质量保修制度。建设工程承包单位在向建设单位提交工程竣工验收报告时，应当向建设单位出具质量保修书。质量保修书中应当明确建设工程的保修范围、保修期限和保修责任等。建设工程的保修期，自竣工验收合格之日起计算。</div>\n",
      "\n",
      "\n",
      "<div class=\"analysits Con\">根据《建设工程质量管理条例》第四十条，在正常使用条件下，建设工程的最低保修期限为：①基础设施工程、房屋建筑的地基基础工程和主体结构工程，为设计文件规定的该工程的合理使用年限；②屋面防水工程、有防水要求的卫生间、房间和外墙面的防渗漏，为5年；③供热与供冷系统，为2个采暖期、供冷期；④电气管道、给排水管道、设备安装和装修工程，为2年。其它项目的保修期限由发包方与承包方约定。建设工程的保修期，自竣工验收合格之日起计算。</div>\n",
      "\n",
      "\n",
      "<div class=\"analysits Con\">《建设工程安全生产管理条例》第十四条规定，工程监理单位应当审查施工组织设计中的安全技术措施或者专项施工方案是否符合工程建设强制性标准。工程监理单位在实施监理过程中，发现存在安全事故隐患的，应当要求施工单位整改；情况严重的，应当要求施工单位暂时停止施工，并及时报告建设单位。施工单位拒不整改或者不停止施工的，工程监理单位应当及时向有关主管部门报告。工程监理单位和监理工程师应当按照法律、法规和工程建设强制性标准实施监理，并对建设工程安全生产承担监理责任。</div>\n",
      "\n",
      "\n",
      "<div class=\"analysits Con\">《建设工程安全生产管理条例》第六条规定，建设单位应当向施工单位提供施工现场及毗邻区域内供水、排水、供电、供气、供热、通信、广播电视等地下管线资料，气象和水文观测资料，相邻建筑物和构筑物、地下工程的有关资料，并保证资料的真实、准确、完整。</div>\n",
      "\n",
      "\n",
      "<div class=\"analysits Con\">《建设工程安全生产管理条例》第十六条规定，出租的机械设备和施工机具及配件，应当具有生产（制造）许可证、产品合格证。出租单位应当对出租的机械设备和施工机具及配件的安全性能进行检测，在签订租赁协议时，应当出具检测合格证明。禁止出租检测不合格的机械设备和施工机具及配件。</div>\n",
      "\n",
      "\n",
      "<div class=\"analysits Con\">《建设工程安全生产管理条例》第二十三条规定，施工单位应当设立安全生产管理机构，配备专职安全生产管理人员。专职安全生产管理人员负责对安全生产进行现场监督检查。发现安全事故隐患，应当及时向项目负责人和安全生产管理机构报告；对违章指挥、违章操作应当立即制止。</div>\n",
      "\n",
      "\n",
      "<div class=\"analysits Con\">《建设工程安全生产管理条例》第二十四条规定，建设工程实行施工总承包的，由总承包单位对施工现场的安全生产负总责。总承包单位依法将建设工程分包给其他单位的，分包合同中应当明确各自的安全生产方面的权利、义务。总承包单位和分包单位对分包工程的安全生产承担连带责任。分包单位应当服从总承包单位的安全生产管理，如分包单位不服从管理导致生产安全事故，由分包单位承担主要责任。</div>\n",
      "\n",
      "\n",
      "<div class=\"analysits Con\">根据《建设工程安全生产管理条例》第二十六条，施工单位应当在施工组织设计中编制安全技术措施和施工现场临时用电方案，对下列达到一定规模的危险性较大的分部分项工程编制专项施工方案，并附具安全验算结果，经施工单位技术负责人、总监理工程师签字后实施，由专职安全生产管理人员进行现场监督：①基坑支护与降水工程；②土方开挖工程；③模板工程；④起重吊装工程；⑤脚手架工程；⑥拆除、爆破工程；⑦国务院建设行政主管部门或者其它有关部门规定的其它危险性较大的工程。上述工程中涉及深基坑、地下暗挖工程、高大模板工程的专项施工方案，施工单位还应当组织专家进行论证、审查。</div>\n",
      "\n",
      "\n",
      "<div class=\"analysits Con\">《建设工程安全生产管理条例》第二十七条规定，建设工程施工前，施工单位负责项目管理的技术人员应当对有关安全施工的技术要求向施工作业班组、作业人员作出详细说明，并由双方签字确认。</div>\n",
      "\n",
      "\n",
      "<div class=\"analysits Con\">《建设工程安全生产管理条例》第三十八条规定，施工单位应当为施工现场从事危险作业的人员办理意外伤害保险。意外伤害保险费由施工单位支付。实行施工总承包的，由总承包单位支付意外伤害保险费。意外伤害保险期限自建设工程开工之日起至竣工验收合格止。</div>\n",
      "\n",
      "\n",
      "<div class=\"analysits Con\">《建设工程安全生产管理条例》第四十条第二款规定，县级以上地方人民政府建设行政主管部门对本行政区域内的建设工程安全生产实施监督管理。县级以上地方人民政府交通、水利等有关部门在各自的职责范围内，负责本行政区域内的专业建设工程安全生产的监督管理。</div>\n",
      "\n",
      "\n"
     ]
    }
   ],
   "source": [
    "single_analysis = []\n",
    "#multiple_analysis = []\n",
    "\n",
    "for analysis_i in range(len(single_analysis_all)):\n",
    "    print(single_analysis_all[analysis_i].find(\"div\",attrs={\"class\":\"analysits Con\"}))\n",
    "    print('\\n')\n"
   ]
  },
  {
   "cell_type": "code",
   "execution_count": 3002,
   "metadata": {
    "collapsed": true,
    "scrolled": true
   },
   "outputs": [],
   "source": [
    "#print(multiple_analysis_all[0].find(\"div\",attrs={\"class\":\"analysits Con\"}))"
   ]
  },
  {
   "cell_type": "code",
   "execution_count": 3003,
   "metadata": {},
   "outputs": [
    {
     "data": {
      "text/plain": [
       "'    \\nfor i in range(len(multiple_analysis_all)):\\n    multiple_analay_item = multiple_analysis_all[i].find(\"div\",attrs={\"class\":\"analysits Con\"}).contents\\n    #print(analay_single)\\n    multiple_analay.append(multiple_analay_item)\\n    #print(analay_single)\\n'"
      ]
     },
     "execution_count": 3003,
     "metadata": {},
     "output_type": "execute_result"
    }
   ],
   "source": [
    "single_analay = []\n",
    "#multiple_analay = []\n",
    "for i in range(len(single_analysis_all)):\n",
    "    single_analay_item = single_analysis_all[i].find(\"div\",attrs={\"class\":\"analysits Con\"}).contents\n",
    "    #print(analay_single)\n",
    "    single_analay.append(single_analay_item)\n",
    "    #print(analay_single)\n",
    "\"\"\"    \n",
    "for i in range(len(multiple_analysis_all)):\n",
    "    multiple_analay_item = multiple_analysis_all[i].find(\"div\",attrs={\"class\":\"analysits Con\"}).contents\n",
    "    #print(analay_single)\n",
    "    multiple_analay.append(multiple_analay_item)\n",
    "    #print(analay_single)\n",
    "\"\"\""
   ]
  },
  {
   "cell_type": "code",
   "execution_count": 3004,
   "metadata": {},
   "outputs": [
    {
     "data": {
      "text/plain": [
       "'\\nmultiple_analay_final = []\\nfor item in multiple_analay:\\n    #analysis_file.write(\"%s\" % item)\\n    multiple_s = \\'\\'\\n    for i in item:\\n        multiple_s = multiple_s + str(i)\\n    multiple_analay_final.append(multiple_s)\\n    #analysis_file.write(\"%s\\n\" % s)\\n#analysis_file.close()\\n'"
      ]
     },
     "execution_count": 3004,
     "metadata": {},
     "output_type": "execute_result"
    }
   ],
   "source": [
    "single_analay_final = []\n",
    "for item in single_analay:\n",
    "    #analysis_file.write(\"%s\" % item)\n",
    "    single_s = ''\n",
    "    for i in item:\n",
    "        single_s = single_s + str(i)\n",
    "    single_analay_final.append(single_s)\n",
    "    #analysis_file.write(\"%s\\n\" % s)\n",
    "#analysis_file.close()\n",
    "\"\"\"\n",
    "multiple_analay_final = []\n",
    "for item in multiple_analay:\n",
    "    #analysis_file.write(\"%s\" % item)\n",
    "    multiple_s = ''\n",
    "    for i in item:\n",
    "        multiple_s = multiple_s + str(i)\n",
    "    multiple_analay_final.append(multiple_s)\n",
    "    #analysis_file.write(\"%s\\n\" % s)\n",
    "#analysis_file.close()\n",
    "\"\"\""
   ]
  },
  {
   "cell_type": "code",
   "execution_count": 3005,
   "metadata": {
    "scrolled": false
   },
   "outputs": [
    {
     "name": "stdout",
     "output_type": "stream",
     "text": [
      "《建筑法》第七条规定，建筑工程开工前，建设单位应当按照国家有关规定向工程所在地县级以上人民政府建设行政主管部门申请领取施工许可证；但是，国务院建设行政主管部门确定的限额以下的小型工程除外。按照国务院规定的权限和程序批准开工报告的建筑工程，不再领取施工许可证。\n",
      "\n",
      "\n",
      "《建筑法》第八条规定，申请领取施工许可证，应当具备下列条件：①已经办理该建筑工程用地批准手续；②在城市规划区的建筑工程，已经取得规划许可证；③需要拆迁的，其拆迁进度符合施工要求；④已经确定建筑施工企业；⑤有满足施工需要的施工图纸及技术资料；⑥有保证工程质量和安全的具体措施；⑦建设资金已经落实；⑧法律、行政法规规定的其他条件。\n",
      "\n",
      "\n",
      "《建筑法》第九条规定，建设单位应当自领取施工许可证之日起三个月内开工。因故不能按期开工的，应当向发证机关申请延期；延期以两次为限，每次不超过三个月。既不开工又不申请延期或者超过延期时限的，施工许可证自行废止。第十条规定，在建的建筑工程因故中止施工的，建设单位应当自中止施工之日起一个月内，向发证机关报告，并按照规定做好建筑工程的维护管理工作。建筑工程恢复施工时，应当向发证机关报告；中止施工满一年的工程恢复施工前，建设单位应当报发证机关核验施工许可证。第十一条规定，按照国务院有关规定批准开工报告的建筑工程，因故不能按期开工或者中止施工的，应当及时向批准机关报告情况。因故不能按期开工超过六个月的，应当重新办理开工报告的批准手续。\n",
      "\n",
      "\n",
      "《建筑法》第十三条规定，从事建筑活动的建筑施工企业、勘察单位、设计单位和工程监理单位，按照其拥有的注册资本、专业技术人员、技术装备和已完成的建筑工程业绩等资质条件，划分为不同的资质等级，经资质审查合格，取得相应等级的资质证书后，方可在其资质等级许可的范围内从事建筑活动。\n",
      "\n",
      "\n",
      "《建筑法》第五十六条规定，建筑工程的勘察、设计单位必须对其勘察、设计的质量负责。勘察、设计文件应当符合有关法律、行政法规的规定和建筑工程质量、安全标准、建筑工程勘察、设计技术规范以及合同的约定。设计文件选用的建筑材料、建筑构配件和设备，应当注明其规格、型号、性能等技术指标，其质量要求必须符合国家规定的标准。第五十七条规定，建筑设计单位对设计文件选用的建筑材料、建筑构配件和设备，不得指定生产厂、供应商。\n",
      "\n",
      "\n",
      "《建筑法》第十四条规定，从事建筑活动的专业技术人员，应当依法取得相应的执业资格证书，并在执业资格证书许可的范围内从事建筑活动。\n",
      "\n",
      "\n",
      "《建筑法》第二十六条规定，承包建筑工程的单位应当持有依法取得的资质证书，并在其资质等级许可的业务范围内承揽工程。禁止建筑施工企业超越本企业资质等级许可的业务范围或者以任何形式用其他建筑施工企业的名义承揽工程。禁止建筑施工企业以任何形式允许其他单位或者个人使用本企业的资质证书、营业执照，以本企业的名义承揽工程。第二十七条规定，两个以上不同资质等级的单位实行联合共同承包的，应当按照资质等级低的单位的业务许可范围承揽工程。\n",
      "\n",
      "\n",
      "《建筑法》第二十九条规定，建筑工程总承包单位可以将承包工程中的部分工程发包给具有相应资质条件的分包单位；但是，除总承包合同中约定的分包外，必须经建设单位认可。施工总承包的，建筑工程主体结构的施工必须由总承包单位自行完成。\n",
      "\n",
      "\n",
      "《建筑法》第三十四条规定，工程监理单位应当在其资质等级许可的监理范围内，承担工程监理业务。工程监理单位应当根据建设单位的委托，客观、公正地执行监理任务。工程监理单位与被监理工程的承包单位以及建筑材料、建筑构配件和设备供应单位不得有隶属关系或者其他利害关系。工程监理单位不得转让工程监理业务。\n",
      "\n",
      "\n",
      "《建筑法》第六十一条规定，交付竣工验收的建筑工程，必须符合规定的建筑工程质量标准，有完整的工程技术经济资料和经签署的工程保修书，并具备国家规定的其它竣工条件。\n",
      "\n",
      "\n",
      "《安全生产法》第十八条规定，生产经营单位的主要负责人对本单位安全生产工作负有下列职责：①建立、健全本单位安全生产责任制；②组织制定本单位安全生产规章制度和操作规程；③组织制定并实施本单位安全生产教育和培训计划；④保证本单位安全生产投入的有效实施；⑤督促、检查本单位的安全生产工作，及时消除生产安全事故隐患；⑥组织制定并实施本单位的生产安全事故应急救援预案；⑦及时、如实报告生产安全事故。\n",
      "\n",
      "\n",
      "《安全生产法》第二十一条规定，矿山、金属冶炼、建筑施工、道路运输单位和危险物品的生产、经营、储存单位，应当设置安全生产管理机构或者配备专职安全生产管理人员。前款规定以外的其他生产经营单位，从业人员超过一百人的，应当设置安全生产管理机构或者配备专职安全生产管理人员；从业人员在一百人以下的，应当配备专职或者兼职的安全生产管理人员。\n",
      "\n",
      "\n",
      "《安全生产法》第二十四条第二款规定，危险物品的生产、经营、储存单位以及矿山、金属冶炼、建筑施工、道路运输单位的主要负责人和安全生产管理人员，应当由主管的负有安全生产监督管理职责的部门对其安全生产知识和管理能力考核合格。考核不得收费。本题中，D项不属于施工单位的主要负责人和安全生产管理人员。\n",
      "\n",
      "\n",
      "《安全生产法》第三十四条规定，生产经营单位使用的危险物品的容器、运输工具，以及涉及人身安全、危险性较大的海洋石油开采特种设备和矿山井下特种设备，必须按照国家有关规定，由专业生产单位生产，并经具有专业资质的检测、检验机构检测、检验合格，取得安全使用证或者安全标志，方可投入使用。检测、检验机构对检测、检验结果负责。\n",
      "\n",
      "\n",
      "参见《安全生产法》第三十四条规定。\n",
      "\n",
      "\n",
      "《安全生产法》第三十九条规定，生产、经营、储存、使用危险物品的车间、商店、仓库不得与员工宿舍在同一座建筑物内，并应当与员工宿舍保持安全距离。生产经营场所和员工宿舍应当设有符合紧急疏散要求、标志明显、保持畅通的出口。禁止封闭、堵塞生产经营场所或者员工宿舍的出口。\n",
      "\n",
      "\n",
      "《安全生产法》第五十一条规定，从业人员有权对本单位安全生产工作中存在的问题提出批评、检举、控告；有权拒绝违章指挥和强令冒险作业。\n",
      "\n",
      "\n",
      "《安全生产法》第五十三条规定，因生产安全事故受到损害的从业人员，除依法享有获得工伤社会保险外，依照有关民事法律尚有获得赔偿的权利的，有权向本单位提出赔偿要求。\n",
      "\n",
      "\n",
      "《安全生产法》第五十六条规定，从业人员发现事故隐患或者其他不安全因素，应当立即向现场安全生产管理人员或者本单位负责人报告；接到报告的人员应当及时予以处理。\n",
      "\n",
      "\n",
      "《安全生产法》第七十九条第一款规定，危险物品的生产、经营、储存单位以及矿山、金属冶炼、城市轨道交通运营、建筑施工单位应当建立应急救援组织；生产经营规模较小的，可以不建立应急救援组织的，应当指定兼职的应急救援人员。\n",
      "\n",
      "\n",
      "《招标投标法》第五条规定，招标投标活动应当遵循公开、公平、公正和诚实信用的原则。\n",
      "\n",
      "\n",
      "《招标投标法》第十条规定，招标分为公开招标和邀请招标。公开招标是指招标人以招标公告的方式邀请不特定的法人或者其他组织投标；邀请招标是指招标人以投标邀请书的方式邀请特定的法人或者其他组织投标。\n",
      "\n",
      "\n",
      "《招标投标法》第十五条规定，招标代理机构应当在招标人委托的范围内承担招标事宜。招标代理机构可以在其资格等级范围内承担下列招标事宜：①拟订招标方案，编制和出售招标文件、资格预审文件；②审查投标人资格；③编制标底；④组织投标人踏勘现场；⑤组织开标、评标，协助招标人定标；⑥草拟合同；⑦招标人委托的其他事项。\n",
      "\n",
      "\n",
      "《招标投标法》第十六条规定，招标人采用公开招标方式的，应当发布招标公告。依法必须进行招标的项目的招标公告，应当通过国家指定报刊、信息网络或者其他媒介发布。招标公告应当载明招标人的名称和地址、招标项目的性质、数量、实施地点和时间以及获取招标文件的办法等事项。\n",
      "\n",
      "\n",
      "《招标投标法》第二十三条规定，招标人对已发出的招标文件进行必要的澄清或者修改的，应当在招标文件要求提交投标文件截止时间至少十五日前，以书面形式通知所有招标文件收受人。该澄清或者修改的内容为招标文件的组成部分。\n",
      "\n",
      "\n",
      "《招标投标法》第四十六条规定，招标人和中标人应当自中标通知书发出之日起30日内，按照招标文件和中标人的投标文件订立书面合同。招标人和中标人不得再行订立背离合同实质性内容的其他协议。\n",
      "\n",
      "\n",
      "《招标投标法》第二十二条规定，招标人不得向他人透露已获取招标文件的潜在投标人的名称、数量以及可能影响公平竞争的有关招标投标的其他情况。招标人设有标底的，标底必须保密。\n",
      "\n",
      "\n",
      "《招标投标法》第二十九条规定，投标人在招标文件要求提交投标文件的截止时间之前，可以补充与修改或者撤回已提交的投标文件，并书面通知招标人，补充与修改的内容为投标文件的组成部分。修改的投标文件应按照招标文件规定进行编制、密封、标记和提交，并标明“修改”字样。\n",
      "\n",
      "\n",
      "《招标投标法》第三十七条规定，评标由招标人依法组建的评标委员会负责。依法必须进行招标的项目，其评标委员会由招标人的代表和有关技术、经济等方面的专家组成，成员人数为五人以上单数，其中技术、经济等方面的专家不得少于成员总数的2/3。\n",
      "\n",
      "\n",
      "《招标投标法》第四十条规定，招标人根据评标委员会提出的书面评标报告和推荐的中标候选人确定中标人。据此规定，评标委员会负责评标工作，但确定中标人的权利归属招标人。\n",
      "\n",
      "\n",
      "《招标投标法》第四十二条规定，评标委员会经评审，认为所有投标都不符合招标文件要求的，可以否决所有投标。依法必须进行招标的项目的所有投标被否决的，招标人应当依法重新招标。\n",
      "\n",
      "\n",
      "《招标投标法》第四十四条规定，评标委员会成员应当客观、公正地履行职务，遵守职业道德，对所提出的评审意见承担个人责任。评标委员会成员不得私下接触投标人，不得收受投标人的财物或者其他好处。评标委员会成员和参与评标的有关工作人员不得透露对投标文件的评审和比较、中标候选人的推荐情况以及与评标有关的其他情况。根据以上规定，评标委员会成员对其所提出的评审意见承担个人责任，因专家甲已退出评审，无法继续对其所作评审意见负责，而专家乙不会对专家甲的评审结论负责的，因此应重新评审。\n",
      "\n",
      "\n",
      "《招标投标法》第四十六条规定，招标人和中标人应当自中标通知书发出之日起30日内，按照招标文件和中标人的投标文件订立书面合同。招标人和中标人不得再行订立背离合同实质性内容的其他协议。\n",
      "\n",
      "\n",
      "A项，《招标投标法》第四十七条规定，依法必须进行招标的项目，招标人应当自确定中标人之日起15日内，向有关行政监督部门提交招标投标情况的书面报告。对于D项《关于审理建设工程施工合同纠纷案件适用法律问题的解释》第二十一条规定：“当事人就同一建设工程另行订立的建设工程施工合同与经过备案的中标合同实质内容不一致的，应当以备案的中标合同作为结算工程价款的根据”。\n",
      "\n",
      "\n",
      "根据《招标投标法》第四十八条规定，中标人按照合同约定或者经招标人同意，可以将中标项目的部分非主体、非关键性工作分包给他人完成。接受分包的人应当具备相应的资格条件，并不得再次分包。\n",
      "\n",
      "\n",
      "根据《合同法》第十条规定，当事人订立合同有书面形式、口头形式和其他形式。法律、行政法规规定采用书面形式的，应当采取书面形式。当事人约定采用书面形式的，应当采用书面形式。\n",
      "\n",
      "\n",
      "《合同法》第十五条规定，要约邀请是希望他人向自己发出要约的意思表示。寄送的价目表、拍卖公告、招标公告、招股说明书、商业广告等为要约邀请。商业广告的内容符合要约规定的，视为要约。\n",
      "\n",
      "\n",
      "参见《合同法》第十五条规定。\n",
      "\n",
      "\n",
      "《合同法》第十九条规定，有下列情形之一的，要约不得撤销：①要约人确定了承诺期限或者以其他形式明示要约不可撤销；②受要约人有理由认为要约是不可撤销的，并已经为履行合同作了准备工作。\n",
      "\n",
      "\n",
      "《合同法》第二十条规定，有下列情形之一的，要约失效：①拒绝要约的通知到达要约人；②要约人依法撤销要约；③承诺期限届满，受要约人未作出承诺；④受要约人对要约的内容作出实质性变更。\n",
      "\n",
      "\n",
      "《合同法》第五十二条规定，有下列情形之一的，合同无效：①一方以欺诈、胁迫的手段订立合同，损害国家利益；②恶意串通，损害国家、集体或第三人利益；③以合法形式掩盖非法目的；④损害社会公共利益；⑤违反法律、行政法规的强制性规定。\n",
      "\n",
      "\n",
      "《合同法》第五十五条规定，撤销权自债权人知道或者应当知道撤销事由之日起一年内行使。自债务人的行为发生之日起五年内没有行使撤销权的，该撤销权消灭。\n",
      "\n",
      "\n",
      "《合同法》第六十一条规定，合同生效后，当事人就质量、价款或者报酬、履行地点等内容没有约定或者约定不明确的，可以协议补充；不能达成补充协议的，按照合同有关条款或者交易习惯确定。当事人就有关合同内容约定不明确，依照第六十一条的规定仍不能确定的，适用《合同法》第六十二条的规定。\n",
      "\n",
      "\n",
      "《合同法》第六十六条规定，当事人互负债务，没有先后履行顺序的，应当同时履行。一方在对方履行之前有权拒绝其履行要求。一方在对方履行债务不符合约定时，有权拒绝其相应的履行要求。\n",
      "\n",
      "\n",
      "《合同法》第九十四条规定，有下列情形之一的，当事人可以解除合同：①因不可抗力致使不能实现合同目的的；②在履行期限届满之前，当事人一方明确表示或者以自己的行为表明不履行主要债务；③当事人一方延迟履行主要债务，经催告后在合理的期限内仍未履行；④当事人一方延迟履行债务或者有其他违约行为，致使不能实现合同目的的；⑤法律规定的其他情形。\n",
      "\n",
      "\n",
      "根据《行政许可法》第十二条第五款，企业或者其他组织的设立等需要确定主体资格的事项，可以设定行政许可。BCD三项均属于第十三条规定的可以不设行政许可的内容。\n",
      "\n",
      "\n",
      "《行政许可证法》第十三条规定，通过下列方式能够予以规范的，可以不设行政许可：①公民、法人或者其他组织能够自主决定的；②市场竞争机制能够有效调节的；③行业组织或者中介机构能够自律管理的；④行政机关采用事后监督等其他行政管理方式能够解决的。\n",
      "\n",
      "\n",
      "《行政许可法》第四十二条规定，除可以当场作出行政许可决定的外，行政机关应当自受理行政许可申请之日起二十日内作出行政许可决定。二十日内不能作出决定的，经本行政机关负责人批准，可以延长十日，并应当将延长期限的理由告知申请人。但是，法律、法规另有规定的，依照其规定。\n",
      "\n",
      "\n",
      "《行政许可法》第七十条规定，有下列情形之一的，行政机关应当依法办理有关行政许可的注销手续：①行政许可有效期届满未延续的；②赋予公民特定资格的行政许可，该公民死亡或者丧失行为能力的；③法人或者其他组织依法终止的；④行政许可依法被撤销、撤回，或者行政许可证件依法被吊销的；⑤因不可抗力导致行政许可事项无法实施的；⑥法律、法规规定的应当注销行政许可的其他情形。\n",
      "\n",
      "\n",
      "节约能源是指加强用能管理，采取技术上可行、经济上合理以及环境和社会可以承受的措施，从能源生产到消费的各个环节，降低消耗、减少损失和污染物排放、制止浪费，有效、合理地利用能源。《节约能源法》第四条规定，节约资源是我国的基本国策。国家实施节约与开发并举、把节约放在首位的能源发展战略。\n",
      "\n",
      "\n",
      "《节约能源法》第十五条规定，国家实行固定资产投资项目节能评估和审查制度。不符合强制性节能标准的项目，依法负责项目审批或者核准的机关不得批准或者核准建设；建设单位不得开工建设；已经建成的，不得投入生产、使用。具体办法由国务院管理节能工作的部门会同国务院有关部门制定。\n",
      "\n",
      "\n",
      "《节约能源法》第五十八条规定，国务院管理节能工作的部门会同国务院有关部门制定并公布节能技术、节能产品的推广目录，引导用能单位和个人使用先进的节能技术、节能产品。国务院管理节能工作的部门会同国务院有关部门组织实施重大节能科研项目、节能示范项目、重点节能工程。\n",
      "\n",
      "\n",
      "《环境保护法》第十六条规定，国务院环境保护行政主管部门根据国家环境质量标准和国家经济、技术条件，制定国家污染物排放标准。省、自治区、直辖市人民政府对国家污染物排放标准中未作规定的项目，可以制定地方污染物排放标准；对国家污染物排放标准中已作规定的项目，可以制定严于国家污染物排放标准的地方污染物排放标准。地方污染物排放标准应当报国务院环境保护行政主管部门备案。\n",
      "\n",
      "\n",
      "《环境保护法》第四十一条规定，建设项目中防治污染的设施，应当与主体工程同时设计、同时施工、同时投产使用。防治污染的设施应当符合经批准的环境影响评价文件的要求，不得擅自拆除或者闲置。\n",
      "\n",
      "\n",
      "《环境保护法》第四十七条规定，企业事业单位应当按照国家有关规定制定突发环境事件应急预案，报环境保护主管部门和有关部门备案。在发生或者可能发生突发环境事件时，企业事业单位应当立即采取措施处理，及时通报可能受到危害的单位和居民，并向环境保护主管部门和有关部门报告。\n",
      "\n",
      "\n",
      "《建设工程勘察设计管理条列》第十四条规定，建设工程勘察、设计方案评标，应当以投标人的业绩、信誉和勘察、设计人员的能力以及勘察、设计方案的优劣为依据，进行综合评定。\n",
      "\n",
      "\n",
      "《建设工程勘察设计管理条例》第二十六条规定，编制建设工程勘察文件，应当真实、准确，满足建设工程规划、选址、设计、岩土治理和施工的需要。编制方案设计文件，应当满足编制初步设计文件和控制概算的需要。编制初步设计文件，应当满足编制施工招标文件、主要设备材料订货和编制施工图设计文件的需要。编制施工图设计文件，应当满足设备材料采购、非标准设备制作和施工的需要，并注明建设工程合理使用年限。\n",
      "\n",
      "\n",
      "《建设工程质量管理条例》第十一条规定，建设单位应当将施工图设计文件报县级以上人民政府建设行政主管部门或者其他有关部门审查。施工图设计文件审查的具体办法，由国务院建设行政主管部门会同国务院其他有关部门制定。\n",
      "\n",
      "\n",
      "《建设工程质量管理条例》第十六条规定，建设单位收到建设工程竣工报告后，应当组织设计、施工、工程监理等有关单位进行竣工验收。建设工程竣工验收应当具备下列条件：①完成建设工程设计和合同约定的各项内容；②有完整的技术档案和施工管理资料；③有工程使用的主要建筑材料、建筑构配件和设备的进场试验报告；④有勘察、设计、施工、工程监理等单位分别签署的质量合格文件；⑤有施工单位签署的工程保修书。\n",
      "\n",
      "\n",
      "《建筑法》第二十九条规定，建筑工程总承包单位按照总承包合同的约定对建设单位负责；分包单位按照分包合同的约定对总承包单位负责。总承包单位和分包单位就分包工程对建设单位承担连带责任。《建设工程质量管理条例》第二十六条规定，建设工程实行总承包的，总承包单位应当对全部建设工程质量负责。第二十七条规定，总承包单位依法将建设工程分包给其他单位的，分包单位应当按照分包合同的约定对其分包工程的质量向总承包单位负责，总承包单位与分包单位对分包工程的质量承担连带责任。\n",
      "\n",
      "\n",
      "《建设工程质量管理条例》第三十一条规定，施工人员对涉及结构安全的试块、试件以及有关材料，应当在建设单位或者工程监理单位监督下现场取样，并送具有相应资质等级的质量检测单位进行检测。\n",
      "\n",
      "\n",
      "《建设工程质量管理条例》第十五条规定，涉及建筑主体和承重结构变动的装修工程，建设单位应当在施工前委托原设计单位或者具有相应资质等级的设计单位提出设计方案；没有设计方案的，不得施工。\n",
      "\n",
      "\n",
      "《建设工程质量管理条例》第二十五条规定，施工单位应当依法取得相应等级的资质证书，并在其资质等级许可的范围内承揽工程。禁止施工单位超越本单位资质等级许可的业务范围或者以其他施工单位的名义承揽工程。禁止施工单位允许其他单位或者个人以本单位的名义承揽工程。施工单位不得转包或者违法分包工程。第三十一条规定，施工人员对涉及结构安全的试块、试件以及有关材料，应在建设单位或工程监理单位监督下现场取样，并送具有相应资质等级的质量检测单位进行检测。另外，建设工程质量监督手续由建设单位办理。\n",
      "\n",
      "\n",
      "《建设工程质量管理条例》第二十八条规定，施工单位必须按照工程设计图纸和施工技术标准施工，不得擅自修改工程设计，不得偷工减料。施工单位在施工过程中发现设计文件和图纸有差错的，应当及时提出意见和建议。\n",
      "\n",
      "\n",
      "《建设工程质量管理条例》第三十四条规定，工程监理单位应当依法取得相应等级的资质证书，并在其资质等级许可的范围内承担工程监理业务。禁止工程监理单位超越本单位资质等级许可的范围或者以其它工程监理单位的名义承担工程监理业务。禁止工程监理单位允许其它单位或者个人以本单位的名义承担工程监理业务。工程监理单位不得转让工程监理业务。\n",
      "\n",
      "\n",
      "《建设工程质量管理条例》第三十九条规定，建设工程实行质量保修制度。建设工程承包单位在向建设单位提交工程竣工验收报告时，应当向建设单位出具质量保修书。质量保修书中应当明确建设工程的保修范围、保修期限和保修责任等。建设工程的保修期，自竣工验收合格之日起计算。\n",
      "\n",
      "\n",
      "根据《建设工程质量管理条例》第四十条，在正常使用条件下，建设工程的最低保修期限为：①基础设施工程、房屋建筑的地基基础工程和主体结构工程，为设计文件规定的该工程的合理使用年限；②屋面防水工程、有防水要求的卫生间、房间和外墙面的防渗漏，为5年；③供热与供冷系统，为2个采暖期、供冷期；④电气管道、给排水管道、设备安装和装修工程，为2年。其它项目的保修期限由发包方与承包方约定。建设工程的保修期，自竣工验收合格之日起计算。\n",
      "\n",
      "\n",
      "《建设工程安全生产管理条例》第十四条规定，工程监理单位应当审查施工组织设计中的安全技术措施或者专项施工方案是否符合工程建设强制性标准。工程监理单位在实施监理过程中，发现存在安全事故隐患的，应当要求施工单位整改；情况严重的，应当要求施工单位暂时停止施工，并及时报告建设单位。施工单位拒不整改或者不停止施工的，工程监理单位应当及时向有关主管部门报告。工程监理单位和监理工程师应当按照法律、法规和工程建设强制性标准实施监理，并对建设工程安全生产承担监理责任。\n",
      "\n",
      "\n",
      "《建设工程安全生产管理条例》第六条规定，建设单位应当向施工单位提供施工现场及毗邻区域内供水、排水、供电、供气、供热、通信、广播电视等地下管线资料，气象和水文观测资料，相邻建筑物和构筑物、地下工程的有关资料，并保证资料的真实、准确、完整。\n",
      "\n",
      "\n",
      "《建设工程安全生产管理条例》第十六条规定，出租的机械设备和施工机具及配件，应当具有生产（制造）许可证、产品合格证。出租单位应当对出租的机械设备和施工机具及配件的安全性能进行检测，在签订租赁协议时，应当出具检测合格证明。禁止出租检测不合格的机械设备和施工机具及配件。\n",
      "\n",
      "\n",
      "《建设工程安全生产管理条例》第二十三条规定，施工单位应当设立安全生产管理机构，配备专职安全生产管理人员。专职安全生产管理人员负责对安全生产进行现场监督检查。发现安全事故隐患，应当及时向项目负责人和安全生产管理机构报告；对违章指挥、违章操作应当立即制止。\n",
      "\n",
      "\n",
      "《建设工程安全生产管理条例》第二十四条规定，建设工程实行施工总承包的，由总承包单位对施工现场的安全生产负总责。总承包单位依法将建设工程分包给其他单位的，分包合同中应当明确各自的安全生产方面的权利、义务。总承包单位和分包单位对分包工程的安全生产承担连带责任。分包单位应当服从总承包单位的安全生产管理，如分包单位不服从管理导致生产安全事故，由分包单位承担主要责任。\n",
      "\n",
      "\n",
      "根据《建设工程安全生产管理条例》第二十六条，施工单位应当在施工组织设计中编制安全技术措施和施工现场临时用电方案，对下列达到一定规模的危险性较大的分部分项工程编制专项施工方案，并附具安全验算结果，经施工单位技术负责人、总监理工程师签字后实施，由专职安全生产管理人员进行现场监督：①基坑支护与降水工程；②土方开挖工程；③模板工程；④起重吊装工程；⑤脚手架工程；⑥拆除、爆破工程；⑦国务院建设行政主管部门或者其它有关部门规定的其它危险性较大的工程。上述工程中涉及深基坑、地下暗挖工程、高大模板工程的专项施工方案，施工单位还应当组织专家进行论证、审查。\n",
      "\n",
      "\n",
      "《建设工程安全生产管理条例》第二十七条规定，建设工程施工前，施工单位负责项目管理的技术人员应当对有关安全施工的技术要求向施工作业班组、作业人员作出详细说明，并由双方签字确认。\n",
      "\n",
      "\n",
      "《建设工程安全生产管理条例》第三十八条规定，施工单位应当为施工现场从事危险作业的人员办理意外伤害保险。意外伤害保险费由施工单位支付。实行施工总承包的，由总承包单位支付意外伤害保险费。意外伤害保险期限自建设工程开工之日起至竣工验收合格止。\n",
      "\n",
      "\n",
      "《建设工程安全生产管理条例》第四十条第二款规定，县级以上地方人民政府建设行政主管部门对本行政区域内的建设工程安全生产实施监督管理。县级以上地方人民政府交通、水利等有关部门在各自的职责范围内，负责本行政区域内的专业建设工程安全生产的监督管理。\n",
      "\n",
      "\n"
     ]
    }
   ],
   "source": [
    "import codecs\n",
    "single_analysis_file = codecs.open(single_baseurl + 'single_analysis_file.txt', 'w','utf-8')\n",
    "\n",
    "for s in single_analay_final:\n",
    "    print(s)\n",
    "    print(\"\\n\")\n",
    "    single_analysis_file.write(\"%s\\r\\n\" % s)\n",
    "\"\"\" \n",
    "multiple_analysis_file = codecs.open(multiple_baseurl + 'multiple_analysis_file.txt', 'w','utf-8')\n",
    "\n",
    "for s in multiple_analay_final:\n",
    "    print(s)\n",
    "    print(\"\\n\")\n",
    "    multiple_analysis_file.write(\"%s\\r\\n\" % s)    \n",
    "\"\"\"    \n",
    "single_analysis_file.close()\n",
    "#multiple_analysis_file.close()"
   ]
  },
  {
   "cell_type": "markdown",
   "metadata": {},
   "source": [
    "单选选项拼接"
   ]
  },
  {
   "cell_type": "code",
   "execution_count": 3006,
   "metadata": {},
   "outputs": [
    {
     "data": {
      "text/plain": [
       "76"
      ]
     },
     "execution_count": 3006,
     "metadata": {},
     "output_type": "execute_result"
    }
   ],
   "source": [
    "len(single_option_a)"
   ]
  },
  {
   "cell_type": "code",
   "execution_count": 3007,
   "metadata": {
    "collapsed": true,
    "scrolled": true
   },
   "outputs": [],
   "source": [
    "single_data = []\n",
    "for i in range(len(single_option_a)):\n",
    "    single_data_string = single_question[i].replace('（　　）','{{c1::（）}}') + \"\t\"+ single_option_a[i].strip().replace('A．','')+ '<br>' + single_option_b[i].strip().replace('B．','')+ '<br>'+ single_option_c[i].strip().replace('C．','')+ '<br>'+ single_option_d[i].replace('D．','')+ \"\t\"+ single_answer_right[i]+ \"\t\"+ single_analay_final[i]\n",
    "    single_data.append(single_data_string)\n",
    "data_single = codecs.open(single_baseurl + 'data_single.txt', 'w','utf-8')\n",
    "\n",
    "for i in range(len(single_data)):\n",
    "    data_single.write(single_data[i]+\"\\r\\n\")\n",
    "data_single.close()"
   ]
  },
  {
   "cell_type": "code",
   "execution_count": 3008,
   "metadata": {},
   "outputs": [
    {
     "data": {
      "text/plain": [
       "76"
      ]
     },
     "execution_count": 3008,
     "metadata": {},
     "output_type": "execute_result"
    }
   ],
   "source": [
    "len(single_data )"
   ]
  },
  {
   "cell_type": "markdown",
   "metadata": {},
   "source": [
    "多选选项拼接"
   ]
  },
  {
   "cell_type": "code",
   "execution_count": 3009,
   "metadata": {
    "collapsed": true
   },
   "outputs": [],
   "source": [
    "#len(multiple_data)"
   ]
  },
  {
   "cell_type": "code",
   "execution_count": null,
   "metadata": {
    "collapsed": true
   },
   "outputs": [],
   "source": []
  }
 ],
 "metadata": {
  "kernelspec": {
   "display_name": "Python 3",
   "language": "python",
   "name": "python3"
  },
  "language_info": {
   "codemirror_mode": {
    "name": "ipython",
    "version": 3
   },
   "file_extension": ".py",
   "mimetype": "text/x-python",
   "name": "python",
   "nbconvert_exporter": "python",
   "pygments_lexer": "ipython3",
   "version": "3.5.4"
  }
 },
 "nbformat": 4,
 "nbformat_minor": 2
}

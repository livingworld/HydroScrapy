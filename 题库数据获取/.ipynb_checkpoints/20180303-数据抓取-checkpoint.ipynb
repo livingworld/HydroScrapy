{
 "cells": [
  {
   "cell_type": "markdown",
   "metadata": {},
   "source": [
    "# 使用selenium和bs4爬虫\n",
    "\n",
    "## 1.selenium的使用"
   ]
  },
  {
   "cell_type": "markdown",
   "metadata": {
    "collapsed": true
   },
   "source": [
    "import os,time\n",
    "from selenium import webdriver\n",
    "from bs4 import BeautifulSoup\n",
    "chromedriver = \"C:\\\\Program Files (x86)\\\\Google\\\\Chrome\\\\Application\\\\chromedriver.exe\"#chrome所在驱动\n",
    "os.environ[\"webdriver.chrome.driver\"] = chromedriver\n",
    "driver = webdriver.Chrome(chromedriver)\n",
    "driver.get('http://user.100xuexi.com/MyDeal/myEBookPurchase.aspx')\n",
    "time.sleep(2)"
   ]
  },
  {
   "cell_type": "markdown",
   "metadata": {
    "collapsed": true
   },
   "source": [
    "driver.find_element_by_id('username').send_keys('18775325832')#"
   ]
  },
  {
   "cell_type": "markdown",
   "metadata": {
    "collapsed": true
   },
   "source": [
    "driver.find_element_by_id('txtVerify').clear()#验证码\n",
    "driver.find_element_by_id('txtVerify').send_keys('69')#验证码"
   ]
  },
  {
   "cell_type": "markdown",
   "metadata": {
    "collapsed": true
   },
   "source": [
    "#driver.find_element_by_xpath('//*[@id=\"conPurchaseA1\"]/table/tbody/tr[3]/td[2]/a').click();\n",
    "driver.find_element_by_xpath('//*[@id=\"regNow\"]').click();"
   ]
  },
  {
   "cell_type": "markdown",
   "metadata": {
    "collapsed": true
   },
   "source": [
    "driver.find_element_by_xpath('//*[@id=\"PurchaseA2\"]').click();"
   ]
  },
  {
   "cell_type": "markdown",
   "metadata": {
    "collapsed": true
   },
   "source": [
    "#接下来会有新的窗口打开，获取所有窗口句柄\n",
    "windows = driver.window_handles\n",
    "driver.switch_to.window(windows[-2])"
   ]
  },
  {
   "cell_type": "markdown",
   "metadata": {
    "collapsed": true
   },
   "source": [
    "driver.find_element_by_xpath('//*[@id=\"lefter\"]/div/div[1]/a').click();\n",
    "#/PracticeCenter/Chapter/Index?TQuestionPlanID=2997&groupName=&code=&tb_l_PaperQuePlanID=86215&Model=chapter&TypeMenuFlag=2\n",
    "#/PracticeCenter/Chapter/Index?TQuestionPlanID=2997&groupName=&code=&tb_l_PaperQuePlanID=86216&Model=chapter&TypeMenuFlag=2\n",
    "#item表示章，li后的数字表示节"
   ]
  },
  {
   "cell_type": "markdown",
   "metadata": {
    "collapsed": true
   },
   "source": [
    "#driver.find_element_by_xpath('//*[@id=\"item01\"]/li[2]/a').click();"
   ]
  },
  {
   "cell_type": "markdown",
   "metadata": {},
   "source": [
    "## 2.解析成html"
   ]
  },
  {
   "cell_type": "code",
   "execution_count": 1707,
   "metadata": {
    "collapsed": true
   },
   "outputs": [],
   "source": [
    "html = driver.page_source\n",
    "soup = BeautifulSoup(html, \"html5lib\")"
   ]
  },
  {
   "cell_type": "markdown",
   "metadata": {},
   "source": [
    "## 3.html文件解析"
   ]
  },
  {
   "cell_type": "markdown",
   "metadata": {},
   "source": [
    "### 1.解析问题"
   ]
  },
  {
   "cell_type": "code",
   "execution_count": 1708,
   "metadata": {
    "collapsed": true
   },
   "outputs": [],
   "source": [
    "import re"
   ]
  },
  {
   "cell_type": "code",
   "execution_count": 1709,
   "metadata": {
    "collapsed": true
   },
   "outputs": [],
   "source": [
    "baseurl_item = u'2 岩土力学\\\\2.8 地基承载力'\n",
    "single_baseurl = u'注册土木工程师anki\\\\专业基础\\\\'+ baseurl_item+ u'\\\\'"
   ]
  },
  {
   "cell_type": "code",
   "execution_count": 1710,
   "metadata": {},
   "outputs": [
    {
     "data": {
      "text/plain": [
       "'注册土木工程师anki\\\\专业基础\\\\2 岩土力学\\\\2.7 土坡稳定\\\\'"
      ]
     },
     "execution_count": 1710,
     "metadata": {},
     "output_type": "execute_result"
    }
   ],
   "source": [
    "single_baseurl"
   ]
  },
  {
   "cell_type": "code",
   "execution_count": 1711,
   "metadata": {
    "collapsed": true
   },
   "outputs": [],
   "source": [
    "content_all = soup.find_all(\"div\",attrs={\"class\":\"nodeItem\"})"
   ]
  },
  {
   "cell_type": "code",
   "execution_count": 1712,
   "metadata": {
    "collapsed": true,
    "scrolled": true
   },
   "outputs": [],
   "source": [
    "#soup.find('div',class_='ItemBotCompose').decompose()"
   ]
  },
  {
   "cell_type": "code",
   "execution_count": 1713,
   "metadata": {
    "collapsed": true,
    "scrolled": true
   },
   "outputs": [],
   "source": [
    "# replace with `soup.findAll` if you are using BeautifulSoup3\n",
    "for div in soup.find_all(\"div\", {'class':'Item config'}): \n",
    "    if len(div.find_all(\"div\", {'class':'ItemBotCompose'}))!=0:\n",
    "        div.decompose() #将满足调节的 div 项删除"
   ]
  },
  {
   "cell_type": "code",
   "execution_count": 1714,
   "metadata": {
    "collapsed": true
   },
   "outputs": [],
   "source": [
    "single_content_all = []\n",
    "\n",
    "single_content_all = content_all[0].find_all(\"div\",attrs={\"class\":\"question config\"})\n",
    "if len(content_all)>1:\n",
    "    multiple_content_all = content_all[1].find_all(\"div\",attrs={\"class\":\"question config\"})"
   ]
  },
  {
   "cell_type": "code",
   "execution_count": 1715,
   "metadata": {},
   "outputs": [
    {
     "data": {
      "text/plain": [
       "15"
      ]
     },
     "execution_count": 1715,
     "metadata": {},
     "output_type": "execute_result"
    }
   ],
   "source": [
    "len(single_content_all)"
   ]
  },
  {
   "cell_type": "markdown",
   "metadata": {},
   "source": [
    "单选"
   ]
  },
  {
   "cell_type": "code",
   "execution_count": 1716,
   "metadata": {
    "collapsed": true,
    "scrolled": true
   },
   "outputs": [],
   "source": [
    "single_question = []\n",
    "\n",
    "for i in range(len(single_content_all)):\n",
    "    single_contents = single_content_all[i].dt.contents\n",
    "    #print(contents_single)\n",
    "    single_s = ''\n",
    "    for j in single_contents:#单选\n",
    "        single_s = single_s+str(j)\n",
    "    single_question.append(re.sub('[\\n]','',single_s))"
   ]
  },
  {
   "cell_type": "code",
   "execution_count": 1717,
   "metadata": {},
   "outputs": [
    {
     "name": "stdout",
     "output_type": "stream",
     "text": [
      "15\n"
     ]
    }
   ],
   "source": [
    "print(len(single_question))"
   ]
  },
  {
   "cell_type": "markdown",
   "metadata": {},
   "source": [
    "保存数据"
   ]
  },
  {
   "cell_type": "code",
   "execution_count": 1718,
   "metadata": {},
   "outputs": [],
   "source": [
    "#question_file = open('question_file.txt', 'w')\n",
    "import codecs\n",
    "\n",
    "single_folder = os.path.exists(single_baseurl)\n",
    "#multiple_folder = os.path.exists(multiple_baseurl)\n",
    "if not single_folder:                   #判断是否存在文件夹如果不存在则创建为文件夹\n",
    "    os.makedirs(single_baseurl)\n",
    "                \n",
    "#if not multiple_folder:                   #判断是否存在文件夹如果不存在则创建为文件夹\n",
    "#    os.makedirs(multiple_baseurl)\n",
    "                \n",
    "single_question_file = codecs.open(single_baseurl + 'single_question.txt', 'w','utf-8')\n",
    "#multiple_question_file = codecs.open(multiple_baseurl + 'multiple_question.txt', 'w','utf-8')\n",
    "\n",
    "for item in single_question:\n",
    "    single_question_file.write(\"%s\\r\\n\" % item)\n",
    "    \n",
    "for item in multiple_question:\n",
    "    multiple_question_file.write(\"%s\\r\\n\" % item)\n",
    "    \n",
    "single_question_file.close()\n",
    "#multiple_question_file.close()"
   ]
  },
  {
   "cell_type": "markdown",
   "metadata": {},
   "source": [
    "### 2.解析选项"
   ]
  },
  {
   "cell_type": "code",
   "execution_count": 1719,
   "metadata": {
    "collapsed": true
   },
   "outputs": [],
   "source": [
    "option_all = soup.find_all(\"div\",attrs={\"class\":\"nodeItem\"})"
   ]
  },
  {
   "cell_type": "markdown",
   "metadata": {},
   "source": [
    "区别单选和多选"
   ]
  },
  {
   "cell_type": "code",
   "execution_count": 1720,
   "metadata": {
    "collapsed": true,
    "scrolled": true
   },
   "outputs": [],
   "source": [
    "single_option_all = option_all[0].find_all(\"div\",attrs={\"class\":\"question config\"})\n",
    "if len(option_all)>1:\n",
    "    multiple_option_all = option_all[1].find_all(\"div\",attrs={\"class\":\"question config\"})\n",
    "else:\n",
    "    multiple_option_all = []"
   ]
  },
  {
   "cell_type": "code",
   "execution_count": 1721,
   "metadata": {
    "scrolled": true
   },
   "outputs": [
    {
     "data": {
      "text/plain": [
       "15"
      ]
     },
     "execution_count": 1721,
     "metadata": {},
     "output_type": "execute_result"
    }
   ],
   "source": [
    "len(single_option_all)"
   ]
  },
  {
   "cell_type": "code",
   "execution_count": 1722,
   "metadata": {},
   "outputs": [],
   "source": [
    "#len(multiple_option_all)"
   ]
  },
  {
   "cell_type": "markdown",
   "metadata": {},
   "source": [
    "单选"
   ]
  },
  {
   "cell_type": "code",
   "execution_count": 1723,
   "metadata": {},
   "outputs": [
    {
     "data": {
      "text/plain": [
       "['D．前三种都有可能',\n",
       " 'D．无规律',\n",
       " 'D．岩体内地下水运动',\n",
       " 'D．背斜',\n",
       " 'D．双斜滑面',\n",
       " 'D．复合面',\n",
       " 'D．滑动力矩/抗滑力矩',\n",
       " 'D．等于',\n",
       " 'D．<img height=\"44\" id=\"图片 13\" src=\"http://admintk.100xuexi.com/UpLoadImage/2013-05-07/705a1340-8163-40b9-a980-0479cbf4b822.png\" width=\"63\"/>',\n",
       " 'D．1/2',\n",
       " 'D．平均值',\n",
       " 'D．1.7',\n",
       " 'D．无法判断',\n",
       " 'D．无黏性土边坡滑动面为平面',\n",
       " 'D．和其他方法所得一样']"
      ]
     },
     "execution_count": 1723,
     "metadata": {},
     "output_type": "execute_result"
    }
   ],
   "source": [
    "single_option_a = []\n",
    "single_option_b = []\n",
    "single_option_c = []\n",
    "single_option_d = []\n",
    "for option_i in range(len(single_option_all)):\n",
    "    \n",
    "    if single_option_all[option_i].table.tbody.find_all(\"label\")[0].find_all(\"img\") != []:\n",
    "        #print(re.sub('[\\r|\\n|\\t|\\\\s]', '', single_option_all[option_i].table.tbody.find_all(\"label\")[0].find_all(\"img\")))\n",
    "        single_option_a.append('A．'+str(single_option_all[option_i].table.tbody.find_all(\"label\")[0].find_all(\"img\")[0]))\n",
    "    else:\n",
    "        single_option_a.append(re.sub('[\\r|\\n|\\t|\\\\s]', '', single_option_all[option_i].table.tbody.find_all(\"label\")[0].get_text()))\n",
    "        \n",
    "    if single_option_all[option_i].table.tbody.find_all(\"label\")[1].find_all(\"img\") != []:\n",
    "        #print(re.sub('[\\r|\\n|\\t|\\\\s]', '', single_option_all[option_i].table.tbody.find_all(\"label\")[0].find_all(\"img\")))\n",
    "        single_option_b.append('B．'+str(single_option_all[option_i].table.tbody.find_all(\"label\")[1].find_all(\"img\")[0]))\n",
    "    else:\n",
    "        single_option_b.append(re.sub('[\\r|\\n|\\t|\\\\s]', '', single_option_all[option_i].table.tbody.find_all(\"label\")[1].get_text()))\n",
    "    \n",
    "    if single_option_all[option_i].table.tbody.find_all(\"label\")[2].find_all(\"img\") != []:\n",
    "        #print(re.sub('[\\r|\\n|\\t|\\\\s]', '', single_option_all[option_i].table.tbody.find_all(\"label\")[0].find_all(\"img\")))\n",
    "        single_option_c.append('C．'+str(single_option_all[option_i].table.tbody.find_all(\"label\")[2].find_all(\"img\")[0]))\n",
    "    else:\n",
    "        single_option_c.append(re.sub('[\\r|\\n|\\t|\\\\s]', '', single_option_all[option_i].table.tbody.find_all(\"label\")[2].get_text()))\n",
    "    \n",
    "    if single_option_all[option_i].table.tbody.find_all(\"label\")[3].find_all(\"img\") != []:\n",
    "        #print(re.sub('[\\r|\\n|\\t|\\\\s]', '', single_option_all[option_i].table.tbody.find_all(\"label\")[0].find_all(\"img\")))\n",
    "        single_option_d.append('D．'+str(single_option_all[option_i].table.tbody.find_all(\"label\")[3].find_all(\"img\")[0]))\n",
    "    else:\n",
    "        single_option_d.append(re.sub('[\\r|\\n|\\t|\\\\s]', '', single_option_all[option_i].table.tbody.find_all(\"label\")[3].get_text()))\n",
    "\n",
    "    #single_option_b.append(re.sub('[\\r|\\n|\\t|\\\\s]', '', single_option_all[option_i].table.tbody.find_all(\"label\")[1].get_text()))\n",
    "    #single_option_c.append(re.sub('[\\r|\\n|\\t|\\\\s]', '', single_option_all[option_i].table.tbody.find_all(\"label\")[2].get_text()))\n",
    "    #single_option_d.append(re.sub('[\\r|\\n|\\t|\\\\s]', '', single_option_all[option_i].table.tbody.find_all(\"label\")[3].get_text()))\n",
    "single_option_d"
   ]
  },
  {
   "cell_type": "code",
   "execution_count": 1724,
   "metadata": {
    "scrolled": false
   },
   "outputs": [
    {
     "data": {
      "text/plain": [
       "'A．平面滑动面'"
      ]
     },
     "execution_count": 1724,
     "metadata": {},
     "output_type": "execute_result"
    }
   ],
   "source": [
    "single_option_a[0]"
   ]
  },
  {
   "cell_type": "markdown",
   "metadata": {},
   "source": [
    "保存单选选项"
   ]
  },
  {
   "cell_type": "code",
   "execution_count": 1725,
   "metadata": {
    "collapsed": true
   },
   "outputs": [],
   "source": [
    "import codecs\n",
    "\n",
    "single_option_a_file = codecs.open(single_baseurl + 'single_option_a.txt', 'w','utf-8')\n",
    "single_option_b_file = codecs.open(single_baseurl + 'single_option_b.txt', 'w','utf-8')\n",
    "single_option_c_file = codecs.open(single_baseurl + 'single_option_c.txt', 'w','utf-8')\n",
    "single_option_d_file = codecs.open(single_baseurl + 'single_option_d.txt', 'w','utf-8')\n",
    "\n",
    "for item in single_option_a:\n",
    "    single_option_a_file.write(\"%s\\r\\n\" % item)\n",
    "for item in single_option_b:\n",
    "    single_option_b_file.write(\"%s\\r\\n\" % item)\n",
    "    \n",
    "for item in single_option_c:\n",
    "    single_option_c_file.write(\"%s\\r\\n\" % item)\n",
    "    \n",
    "for item in single_option_d:\n",
    "    single_option_d_file.write(\"%s\\r\\n\" % item)\n",
    "\n",
    "single_option_a_file.close()\n",
    "single_option_b_file.close()\n",
    "single_option_c_file.close()\n",
    "single_option_d_file.close()"
   ]
  },
  {
   "cell_type": "markdown",
   "metadata": {},
   "source": [
    "### 解析答案"
   ]
  },
  {
   "cell_type": "code",
   "execution_count": 1726,
   "metadata": {
    "collapsed": true
   },
   "outputs": [],
   "source": [
    "anwser_all = soup.find_all(\"div\",attrs={\"class\":\"nodeItem\"})"
   ]
  },
  {
   "cell_type": "code",
   "execution_count": 1727,
   "metadata": {
    "collapsed": true
   },
   "outputs": [],
   "source": [
    "single_anwser_all = anwser_all[0].find_all(\"div\",attrs={\"class\":\"Item config\"}) #单选\n",
    "if len(anwser_all)>1:\n",
    "    multiple_anwser_all = anwser_all[1].find_all(\"div\",attrs={\"class\":\"Item config\"}) #多选\n",
    "else:\n",
    "    multiple_anwser_all = []"
   ]
  },
  {
   "cell_type": "code",
   "execution_count": 1728,
   "metadata": {},
   "outputs": [
    {
     "data": {
      "text/plain": [
       "15"
      ]
     },
     "execution_count": 1728,
     "metadata": {},
     "output_type": "execute_result"
    }
   ],
   "source": [
    "len(single_anwser_all)"
   ]
  },
  {
   "cell_type": "code",
   "execution_count": 1729,
   "metadata": {
    "scrolled": true
   },
   "outputs": [
    {
     "data": {
      "text/plain": [
       "15"
      ]
     },
     "execution_count": 1729,
     "metadata": {},
     "output_type": "execute_result"
    }
   ],
   "source": [
    "single_answer_right = []\n",
    "#multiple_answer_right = []\n",
    "\n",
    "for answer_i in range(len(single_anwser_all)):\n",
    "    #print(anwser_all[25].find(\"div\",attrs={\"class\":\"config answer\"}))\n",
    "    #print(anwser_all[answer_i].find(\"table\",attrs={\"class\":\"HiddenStart\"}).find(\"div\",attrs={\"class\":\"anser Con\"}))\n",
    "    #print(anwser_all[answer_i].find(\"table\",attrs={\"class\":\"HiddenStart\"}).find(\"div\",attrs={\"class\":\"anser Con\"}).get_text())\n",
    "    single_answer_right.append(single_anwser_all[answer_i].find(\"div\",attrs={\"class\":\"anser Con\"}).string)\n",
    "\n",
    "len(single_answer_right)"
   ]
  },
  {
   "cell_type": "code",
   "execution_count": 1730,
   "metadata": {},
   "outputs": [
    {
     "data": {
      "text/plain": [
       "15"
      ]
     },
     "execution_count": 1730,
     "metadata": {},
     "output_type": "execute_result"
    }
   ],
   "source": [
    "len(single_anwser_all)"
   ]
  },
  {
   "cell_type": "code",
   "execution_count": 1731,
   "metadata": {
    "collapsed": true
   },
   "outputs": [],
   "source": [
    "import codecs\n",
    "\n",
    "single_anwser_file = codecs.open(single_baseurl + 'single_anwser.txt', 'w','utf-8')\n",
    "#multiple_anwser_file = codecs.open(multiple_baseurl + 'multiple_anwser.txt', 'w','utf-8')\n",
    "\n",
    "for item in multiple_answer_right:\n",
    "    multiple_anwser_file.write(\"%s\\r\\n\" % item)\n",
    "    \n",
    "single_anwser_file.close()\n",
    "#multiple_anwser_file.close()"
   ]
  },
  {
   "cell_type": "code",
   "execution_count": 1732,
   "metadata": {
    "collapsed": true
   },
   "outputs": [],
   "source": [
    "#print(re.sub('[\\r|\\n|\\t|\\\\s]', '', anwser_1))"
   ]
  },
  {
   "cell_type": "markdown",
   "metadata": {},
   "source": [
    "### 解析解析"
   ]
  },
  {
   "cell_type": "code",
   "execution_count": 1733,
   "metadata": {
    "collapsed": true
   },
   "outputs": [],
   "source": [
    "analysis_all = soup.find_all(\"div\",attrs={\"class\":\"nodeItem\"})"
   ]
  },
  {
   "cell_type": "code",
   "execution_count": 1734,
   "metadata": {},
   "outputs": [
    {
     "data": {
      "text/plain": [
       "15"
      ]
     },
     "execution_count": 1734,
     "metadata": {},
     "output_type": "execute_result"
    }
   ],
   "source": [
    "single_analysis_all = analysis_all[0].find_all(\"div\",attrs={\"class\":\"Item config\"}) #单选\n",
    "if len(analysis_all)>1:\n",
    "    multiple_analysis_all = analysis_all[1].find_all(\"div\",attrs={\"class\":\"Item config\"}) #多选\n",
    "else:\n",
    "    multiple_analysis_all = []\n",
    "len(single_analysis_all)"
   ]
  },
  {
   "cell_type": "code",
   "execution_count": 1735,
   "metadata": {
    "scrolled": false
   },
   "outputs": [
    {
     "name": "stdout",
     "output_type": "stream",
     "text": [
      "<div class=\"analysits Con\">均质粘性土土坡发生滑坡时，其滑动面形状常为曲面，其界面近似于圆弧（称为滑弧）。常假定滑动面以下的滑动土体为刚性体，取该土体为脱离体，分析其上各种力作用下的稳定性。</div>\n",
      "\n",
      "\n",
      "<div class=\"analysits Con\">根据土坡滑动失稳的机理可知，斜坡岩体的主应力迹线发生明显的偏转，总的特征为越靠近边坡，最大主应力越接近平行于斜坡临空面，而最小主应力则越与坡面近于正交。</div>\n",
      "\n",
      "\n",
      "<div class=\"analysits Con\">影响边坡稳定性的五要素：①岩性；②地质构造；③岩体结构；④水的作用；⑤其它因素。边坡稳定性分析时一般不考虑岩体的温度场。</div>\n",
      "\n",
      "\n",
      "<div class=\"analysits Con\">重力式挡土墙指的是依靠墙身自重抵抗土体侧压力的挡土墙。重力式挡土墙可根据其墙背的坡度分为仰斜、俯斜、直立三种类型。开挖临时边坡以后砌筑重力式挡土墙，所承受的压力比较大，所以一般采用主动土压力形式。开挖临时边坡后砌筑挡土墙，因仰斜墙背上土压力最小，所以选择仰斜墙背合理。</div>\n",
      "\n",
      "\n",
      "<div class=\"analysits Con\">均质黏性土土坡在失稳破坏时，其滑动面常常是一曲面，通常近似于圆柱面，在横断面上则呈现圆弧形，因而在分析黏性土坡稳定性时，常常假定土坡是沿着圆弧破裂面滑动，以简化土坡稳定验算的方法；而在验算岩基抗滑稳定性时，滑移面包括水平滑面、单斜滑面、双斜滑面。</div>\n",
      "\n",
      "\n",
      "<div class=\"analysits Con\">分析土坡稳定性的目的，在于验算土坡断面是否稳定、合理，或根据土坡预定高度、土的性质等条件设计合理的土坡断面。土坡滑动面的形状与土体的类型及分布有关，对砂、卵石、风化砾石等粗粒料筑成的均质无粘性土土坡，其滑动破坏面常近似为一个平面；对均质粘性土土坡，滑动面通常是一光滑的曲面，近似圆弧曲面，在土坡顶部处的滑动面近于垂直，底部则较平缓；对于非均质的粘性土土坡，例如土石坝坝身或地基中存在软弱夹层时，土坡破坏往往沿着软弱夹层发生滑动，此时的滑动面常常是平面和曲面组成的复合滑动面。</div>\n",
      "\n",
      "\n",
      "<div class=\"analysits Con\">设小块土体的重量为W，W沿坡面的滑动力T=Wsinα，垂直于坡面的法向力N=Wcosα，法向力产生摩擦阻力，阻碍土体下滑，称为抗滑力，其值为R=Ntanφ=Wcosαtanφ，则定义无粘性土土坡土体的稳定安全系数F<sub>s</sub>为：<img height=\"43\" id=\"图片 19\" src=\"http://admintk.100xuexi.com/UpLoadImage/2013-05-07/a51b1e29-871c-4efe-a6ea-083401c3757a.png\" width=\"265\"/>，式中，<img height=\"17\" id=\"图片 18\" src=\"http://admintk.100xuexi.com/UpLoadImage/2013-05-07/23fd1209-8622-4b14-82b2-41957edd052b.png\" width=\"15\"/>是土的内摩擦角，α是土坡的坡角。</div>\n",
      "\n",
      "\n",
      "<div class=\"analysits Con\">土坡处于极限平衡状态，抗滑力等于下滑力，即当F<sub>s</sub>=1时，α=<img height=\"17\" id=\"图片 17\" src=\"http://admintk.100xuexi.com/UpLoadImage/2013-05-07/23fd1209-8622-4b14-82b2-41957edd052b.png\" width=\"15\"/>，此时α称为天然休止角，其值等于砂在松散状态时的内摩擦角。此时的坡角等于砂土的内摩擦角，称为自然休止角。</div>\n",
      "\n",
      "\n",
      "<div class=\"analysits Con\">无粘性土土坡土体的稳定安全系数F<sub>s</sub>为：<img height=\"43\" id=\"图片 12\" src=\"http://admintk.100xuexi.com/UpLoadImage/2013-05-07/a51b1e29-871c-4efe-a6ea-083401c3757a.png\" width=\"265\"/>；<br/>当有顺坡出流的时候，在滑动力方向上增加了渗流力j，j=jV=γ<sub>w</sub>Vsinα，土体的有效重量为W=γ′V，则此时土坡的稳定安全系数F<sub>s</sub>为：<img height=\"45\" id=\"图片 11\" src=\"http://admintk.100xuexi.com/UpLoadImage/2013-05-07/a349c71b-135b-448a-98ba-19aaa1eb12bf.png\" width=\"421\"/></div>\n",
      "\n",
      "\n",
      "<div class=\"analysits Con\">当有顺坡出流的时候，土坡土体的稳定安全系数<img height=\"35\" id=\"图片 10\" src=\"http://admintk.100xuexi.com/UpLoadImage/2013-05-07/580837ec-cc30-4bfb-9477-4ef19ad732c6.jpg\" width=\"326\"/>与没有渗流作用的公式<img height=\"34\" id=\"图片 9\" src=\"http://admintk.100xuexi.com/UpLoadImage/2013-05-07/80b9a8df-d636-48ee-931b-b33043cfc813.jpg\" width=\"409\"/>相比，相差了γ′/γ<sub>saT</sub>倍，此值接近于1/2，因此，当坡面有顺坡渗流作用时，无粘性土土坡的稳定安全系数降低一半左右。</div>\n",
      "\n",
      "\n",
      "<div class=\"analysits Con\">用不同的分析理论分析出土坡的稳定性安全系数会不同，因为分析时忽略的和侧重的因素不同，因此为了安全保守起见，一般采用最小值。</div>\n",
      "\n",
      "\n",
      "<div class=\"analysits Con\">稳定安全系数公式为：K=H<sub>cr</sub>／H，H<sub>cr</sub>=cN<sub>s</sub>／γ。式中，H<sub>cr</sub>为极限土坡高度，H为实际土坡高度。代入数据可得，H<sub>cr</sub>=25×9.2/18=12.78m，故K=H<sub>cr</sub>／H=12.78/8=1.6。</div>\n",
      "\n",
      "\n",
      "<div class=\"analysits Con\">①对于均质无粘性土土坡，无论是全干还是完全浸水条件下，只要坡面上的土颗粒在重力作用下能够保持稳定，整个土坡就处于稳定状态。<br/>自由水位未下降之前：土坡安全系数：<img height=\"43\" id=\"图片 5\" src=\"http://admintk.100xuexi.com/UpLoadImage/2013-05-07/a51b1e29-871c-4efe-a6ea-083401c3757a.png\" width=\"265\"/>；<br/>当自由水面下降之后，斜坡上会出现顺坡的渗流，抗滑稳定性系数为：<img height=\"45\" id=\"图片 4\" src=\"http://admintk.100xuexi.com/UpLoadImage/2013-05-07/a349c71b-135b-448a-98ba-19aaa1eb12bf.png\" width=\"421\"/>。<br/>可见与没有渗流作用的公式相比，相差了<img height=\"24\" id=\"图片 3\" src=\"http://admintk.100xuexi.com/UpLoadImage/2013-05-07/49fd13e6-dbdf-4477-8fdd-e68e7fc343cf.png\" width=\"48\"/>倍，此值接近于1/2。因此，当坡面有顺坡渗流作用时，无粘性土土坡的稳定安令系数降低一半左右。<br/>②粘性土坡：土坡抗滑安全系数为<img height=\"47\" id=\"图片 2\" src=\"http://admintk.100xuexi.com/UpLoadImage/2013-05-07/0ed141d7-68ed-471a-a49d-4a1db18398dc.png\" width=\"188\"/>。当自由水面下降之后，滑坡体自重增大，而滑坡体的几何参数并没有改变，因此<img height=\"24\" id=\"图片 1\" src=\"http://admintk.100xuexi.com/UpLoadImage/2013-05-07/5a9b7832-f3b2-406c-8f4d-af3281c2d6cd.png\" width=\"19\"/>减小。</div>\n",
      "\n",
      "\n",
      "<div class=\"analysits Con\">坡角越大，越容易发生塌方，边坡安全系数越小。A项，土坡内地下水位越高，发生滑坡灾害的可能性也越大；C项，瑞典条分法将土体视为刚体，划分为很多纵向土条再进行稳定性分析，不计土条间的相互作用力；D项，无粘性土内摩擦角为零，边坡滑动面为平面。</div>\n",
      "\n",
      "\n",
      "<div class=\"analysits Con\">简单条分法是指假定任意滑弧内的土体垂直分条，求得任一土条i上的作用力、土条重量W<sub>i</sub>、滑动面上的法向反力N<sub>i</sub>、滑动面上的切向反力T<sub>i</sub>、竖直分条面上两侧的条间法向力P<sub>i</sub>、P<sub>i+1</sub>和切向力H<sub>i</sub>、H<sub>i+1</sub>。由于假定i土条两侧P<sub>i</sub>、H<sub>i</sub>的合力与P<sub>i+1</sub>、H<sub>i+1</sub>的合力大小相等方向相反，且作用线重合，相互抵消，因此将低估安全系数5％～20％。</div>\n",
      "\n",
      "\n"
     ]
    }
   ],
   "source": [
    "single_analysis = []\n",
    "#multiple_analysis = []\n",
    "\n",
    "for analysis_i in range(len(single_analysis_all)):\n",
    "    print(single_analysis_all[analysis_i].find(\"div\",attrs={\"class\":\"analysits Con\"}))\n",
    "    print('\\n')\n"
   ]
  },
  {
   "cell_type": "code",
   "execution_count": 1736,
   "metadata": {
    "scrolled": true
   },
   "outputs": [],
   "source": [
    "#print(multiple_analysis_all[0].find(\"div\",attrs={\"class\":\"analysits Con\"}))"
   ]
  },
  {
   "cell_type": "code",
   "execution_count": 1737,
   "metadata": {},
   "outputs": [
    {
     "data": {
      "text/plain": [
       "'    \\nfor i in range(len(multiple_analysis_all)):\\n    multiple_analay_item = multiple_analysis_all[i].find(\"div\",attrs={\"class\":\"analysits Con\"}).contents\\n    #print(analay_single)\\n    multiple_analay.append(multiple_analay_item)\\n    #print(analay_single)\\n'"
      ]
     },
     "execution_count": 1737,
     "metadata": {},
     "output_type": "execute_result"
    }
   ],
   "source": [
    "single_analay = []\n",
    "#multiple_analay = []\n",
    "for i in range(len(single_analysis_all)):\n",
    "    single_analay_item = single_analysis_all[i].find(\"div\",attrs={\"class\":\"analysits Con\"}).contents\n",
    "    #print(analay_single)\n",
    "    single_analay.append(single_analay_item)\n",
    "    #print(analay_single)\n",
    "\"\"\"    \n",
    "for i in range(len(multiple_analysis_all)):\n",
    "    multiple_analay_item = multiple_analysis_all[i].find(\"div\",attrs={\"class\":\"analysits Con\"}).contents\n",
    "    #print(analay_single)\n",
    "    multiple_analay.append(multiple_analay_item)\n",
    "    #print(analay_single)\n",
    "\"\"\""
   ]
  },
  {
   "cell_type": "code",
   "execution_count": 1738,
   "metadata": {},
   "outputs": [
    {
     "data": {
      "text/plain": [
       "'\\nmultiple_analay_final = []\\nfor item in multiple_analay:\\n    #analysis_file.write(\"%s\" % item)\\n    multiple_s = \\'\\'\\n    for i in item:\\n        multiple_s = multiple_s + str(i)\\n    multiple_analay_final.append(multiple_s)\\n    #analysis_file.write(\"%s\\n\" % s)\\n#analysis_file.close()\\n'"
      ]
     },
     "execution_count": 1738,
     "metadata": {},
     "output_type": "execute_result"
    }
   ],
   "source": [
    "single_analay_final = []\n",
    "for item in single_analay:\n",
    "    #analysis_file.write(\"%s\" % item)\n",
    "    single_s = ''\n",
    "    for i in item:\n",
    "        single_s = single_s + str(i)\n",
    "    single_analay_final.append(single_s)\n",
    "    #analysis_file.write(\"%s\\n\" % s)\n",
    "#analysis_file.close()\n",
    "\"\"\"\n",
    "multiple_analay_final = []\n",
    "for item in multiple_analay:\n",
    "    #analysis_file.write(\"%s\" % item)\n",
    "    multiple_s = ''\n",
    "    for i in item:\n",
    "        multiple_s = multiple_s + str(i)\n",
    "    multiple_analay_final.append(multiple_s)\n",
    "    #analysis_file.write(\"%s\\n\" % s)\n",
    "#analysis_file.close()\n",
    "\"\"\""
   ]
  },
  {
   "cell_type": "code",
   "execution_count": 1739,
   "metadata": {
    "scrolled": false
   },
   "outputs": [
    {
     "name": "stdout",
     "output_type": "stream",
     "text": [
      "均质粘性土土坡发生滑坡时，其滑动面形状常为曲面，其界面近似于圆弧（称为滑弧）。常假定滑动面以下的滑动土体为刚性体，取该土体为脱离体，分析其上各种力作用下的稳定性。\n",
      "\n",
      "\n",
      "根据土坡滑动失稳的机理可知，斜坡岩体的主应力迹线发生明显的偏转，总的特征为越靠近边坡，最大主应力越接近平行于斜坡临空面，而最小主应力则越与坡面近于正交。\n",
      "\n",
      "\n",
      "影响边坡稳定性的五要素：①岩性；②地质构造；③岩体结构；④水的作用；⑤其它因素。边坡稳定性分析时一般不考虑岩体的温度场。\n",
      "\n",
      "\n",
      "重力式挡土墙指的是依靠墙身自重抵抗土体侧压力的挡土墙。重力式挡土墙可根据其墙背的坡度分为仰斜、俯斜、直立三种类型。开挖临时边坡以后砌筑重力式挡土墙，所承受的压力比较大，所以一般采用主动土压力形式。开挖临时边坡后砌筑挡土墙，因仰斜墙背上土压力最小，所以选择仰斜墙背合理。\n",
      "\n",
      "\n",
      "均质黏性土土坡在失稳破坏时，其滑动面常常是一曲面，通常近似于圆柱面，在横断面上则呈现圆弧形，因而在分析黏性土坡稳定性时，常常假定土坡是沿着圆弧破裂面滑动，以简化土坡稳定验算的方法；而在验算岩基抗滑稳定性时，滑移面包括水平滑面、单斜滑面、双斜滑面。\n",
      "\n",
      "\n",
      "分析土坡稳定性的目的，在于验算土坡断面是否稳定、合理，或根据土坡预定高度、土的性质等条件设计合理的土坡断面。土坡滑动面的形状与土体的类型及分布有关，对砂、卵石、风化砾石等粗粒料筑成的均质无粘性土土坡，其滑动破坏面常近似为一个平面；对均质粘性土土坡，滑动面通常是一光滑的曲面，近似圆弧曲面，在土坡顶部处的滑动面近于垂直，底部则较平缓；对于非均质的粘性土土坡，例如土石坝坝身或地基中存在软弱夹层时，土坡破坏往往沿着软弱夹层发生滑动，此时的滑动面常常是平面和曲面组成的复合滑动面。\n",
      "\n",
      "\n",
      "设小块土体的重量为W，W沿坡面的滑动力T=Wsinα，垂直于坡面的法向力N=Wcosα，法向力产生摩擦阻力，阻碍土体下滑，称为抗滑力，其值为R=Ntanφ=Wcosαtanφ，则定义无粘性土土坡土体的稳定安全系数F<sub>s</sub>为：<img height=\"43\" id=\"图片 19\" src=\"http://admintk.100xuexi.com/UpLoadImage/2013-05-07/a51b1e29-871c-4efe-a6ea-083401c3757a.png\" width=\"265\"/>，式中，<img height=\"17\" id=\"图片 18\" src=\"http://admintk.100xuexi.com/UpLoadImage/2013-05-07/23fd1209-8622-4b14-82b2-41957edd052b.png\" width=\"15\"/>是土的内摩擦角，α是土坡的坡角。\n",
      "\n",
      "\n",
      "土坡处于极限平衡状态，抗滑力等于下滑力，即当F<sub>s</sub>=1时，α=<img height=\"17\" id=\"图片 17\" src=\"http://admintk.100xuexi.com/UpLoadImage/2013-05-07/23fd1209-8622-4b14-82b2-41957edd052b.png\" width=\"15\"/>，此时α称为天然休止角，其值等于砂在松散状态时的内摩擦角。此时的坡角等于砂土的内摩擦角，称为自然休止角。\n",
      "\n",
      "\n",
      "无粘性土土坡土体的稳定安全系数F<sub>s</sub>为：<img height=\"43\" id=\"图片 12\" src=\"http://admintk.100xuexi.com/UpLoadImage/2013-05-07/a51b1e29-871c-4efe-a6ea-083401c3757a.png\" width=\"265\"/>；<br/>当有顺坡出流的时候，在滑动力方向上增加了渗流力j，j=jV=γ<sub>w</sub>Vsinα，土体的有效重量为W=γ′V，则此时土坡的稳定安全系数F<sub>s</sub>为：<img height=\"45\" id=\"图片 11\" src=\"http://admintk.100xuexi.com/UpLoadImage/2013-05-07/a349c71b-135b-448a-98ba-19aaa1eb12bf.png\" width=\"421\"/>\n",
      "\n",
      "\n",
      "当有顺坡出流的时候，土坡土体的稳定安全系数<img height=\"35\" id=\"图片 10\" src=\"http://admintk.100xuexi.com/UpLoadImage/2013-05-07/580837ec-cc30-4bfb-9477-4ef19ad732c6.jpg\" width=\"326\"/>与没有渗流作用的公式<img height=\"34\" id=\"图片 9\" src=\"http://admintk.100xuexi.com/UpLoadImage/2013-05-07/80b9a8df-d636-48ee-931b-b33043cfc813.jpg\" width=\"409\"/>相比，相差了γ′/γ<sub>saT</sub>倍，此值接近于1/2，因此，当坡面有顺坡渗流作用时，无粘性土土坡的稳定安全系数降低一半左右。\n",
      "\n",
      "\n",
      "用不同的分析理论分析出土坡的稳定性安全系数会不同，因为分析时忽略的和侧重的因素不同，因此为了安全保守起见，一般采用最小值。\n",
      "\n",
      "\n",
      "稳定安全系数公式为：K=H<sub>cr</sub>／H，H<sub>cr</sub>=cN<sub>s</sub>／γ。式中，H<sub>cr</sub>为极限土坡高度，H为实际土坡高度。代入数据可得，H<sub>cr</sub>=25×9.2/18=12.78m，故K=H<sub>cr</sub>／H=12.78/8=1.6。\n",
      "\n",
      "\n",
      "①对于均质无粘性土土坡，无论是全干还是完全浸水条件下，只要坡面上的土颗粒在重力作用下能够保持稳定，整个土坡就处于稳定状态。<br/>自由水位未下降之前：土坡安全系数：<img height=\"43\" id=\"图片 5\" src=\"http://admintk.100xuexi.com/UpLoadImage/2013-05-07/a51b1e29-871c-4efe-a6ea-083401c3757a.png\" width=\"265\"/>；<br/>当自由水面下降之后，斜坡上会出现顺坡的渗流，抗滑稳定性系数为：<img height=\"45\" id=\"图片 4\" src=\"http://admintk.100xuexi.com/UpLoadImage/2013-05-07/a349c71b-135b-448a-98ba-19aaa1eb12bf.png\" width=\"421\"/>。<br/>可见与没有渗流作用的公式相比，相差了<img height=\"24\" id=\"图片 3\" src=\"http://admintk.100xuexi.com/UpLoadImage/2013-05-07/49fd13e6-dbdf-4477-8fdd-e68e7fc343cf.png\" width=\"48\"/>倍，此值接近于1/2。因此，当坡面有顺坡渗流作用时，无粘性土土坡的稳定安令系数降低一半左右。<br/>②粘性土坡：土坡抗滑安全系数为<img height=\"47\" id=\"图片 2\" src=\"http://admintk.100xuexi.com/UpLoadImage/2013-05-07/0ed141d7-68ed-471a-a49d-4a1db18398dc.png\" width=\"188\"/>。当自由水面下降之后，滑坡体自重增大，而滑坡体的几何参数并没有改变，因此<img height=\"24\" id=\"图片 1\" src=\"http://admintk.100xuexi.com/UpLoadImage/2013-05-07/5a9b7832-f3b2-406c-8f4d-af3281c2d6cd.png\" width=\"19\"/>减小。\n",
      "\n",
      "\n",
      "坡角越大，越容易发生塌方，边坡安全系数越小。A项，土坡内地下水位越高，发生滑坡灾害的可能性也越大；C项，瑞典条分法将土体视为刚体，划分为很多纵向土条再进行稳定性分析，不计土条间的相互作用力；D项，无粘性土内摩擦角为零，边坡滑动面为平面。\n",
      "\n",
      "\n",
      "简单条分法是指假定任意滑弧内的土体垂直分条，求得任一土条i上的作用力、土条重量W<sub>i</sub>、滑动面上的法向反力N<sub>i</sub>、滑动面上的切向反力T<sub>i</sub>、竖直分条面上两侧的条间法向力P<sub>i</sub>、P<sub>i+1</sub>和切向力H<sub>i</sub>、H<sub>i+1</sub>。由于假定i土条两侧P<sub>i</sub>、H<sub>i</sub>的合力与P<sub>i+1</sub>、H<sub>i+1</sub>的合力大小相等方向相反，且作用线重合，相互抵消，因此将低估安全系数5％～20％。\n",
      "\n",
      "\n"
     ]
    }
   ],
   "source": [
    "import codecs\n",
    "single_analysis_file = codecs.open(single_baseurl + 'single_analysis_file.txt', 'w','utf-8')\n",
    "\n",
    "for s in single_analay_final:\n",
    "    print(s)\n",
    "    print(\"\\n\")\n",
    "    single_analysis_file.write(\"%s\\r\\n\" % s)\n",
    "\"\"\" \n",
    "multiple_analysis_file = codecs.open(multiple_baseurl + 'multiple_analysis_file.txt', 'w','utf-8')\n",
    "\n",
    "for s in multiple_analay_final:\n",
    "    print(s)\n",
    "    print(\"\\n\")\n",
    "    multiple_analysis_file.write(\"%s\\r\\n\" % s)    \n",
    "\"\"\"    \n",
    "single_analysis_file.close()\n",
    "#multiple_analysis_file.close()"
   ]
  },
  {
   "cell_type": "markdown",
   "metadata": {},
   "source": [
    "单选选项拼接"
   ]
  },
  {
   "cell_type": "code",
   "execution_count": 1740,
   "metadata": {},
   "outputs": [
    {
     "data": {
      "text/plain": [
       "15"
      ]
     },
     "execution_count": 1740,
     "metadata": {},
     "output_type": "execute_result"
    }
   ],
   "source": [
    "len(single_option_a)"
   ]
  },
  {
   "cell_type": "code",
   "execution_count": 1741,
   "metadata": {
    "scrolled": true
   },
   "outputs": [],
   "source": [
    "single_data = []\n",
    "for i in range(len(single_option_a)):\n",
    "    single_data_string = single_question[i].replace('（　　）','{{c1::（）}}') + \"\t\"+ single_option_a[i].strip().replace('A．','')+ '<br>' + single_option_b[i].strip().replace('B．','')+ '<br>'+ single_option_c[i].strip().replace('C．','')+ '<br>'+ single_option_d[i].replace('D．','')+ \"\t\"+ single_answer_right[i]+ \"\t\"+ single_analay_final[i]\n",
    "    single_data.append(single_data_string)\n",
    "data_single = codecs.open(single_baseurl + 'data_single.txt', 'w','utf-8')\n",
    "\n",
    "for i in range(len(single_data)):\n",
    "    data_single.write(single_data[i]+\"\\r\\n\")\n",
    "data_single.close()"
   ]
  },
  {
   "cell_type": "code",
   "execution_count": 1742,
   "metadata": {},
   "outputs": [
    {
     "data": {
      "text/plain": [
       "15"
      ]
     },
     "execution_count": 1742,
     "metadata": {},
     "output_type": "execute_result"
    }
   ],
   "source": [
    "len(single_data )"
   ]
  },
  {
   "cell_type": "markdown",
   "metadata": {},
   "source": [
    "多选选项拼接"
   ]
  },
  {
   "cell_type": "code",
   "execution_count": 1743,
   "metadata": {},
   "outputs": [],
   "source": [
    "#len(multiple_data)"
   ]
  },
  {
   "cell_type": "code",
   "execution_count": null,
   "metadata": {
    "collapsed": true
   },
   "outputs": [],
   "source": []
  }
 ],
 "metadata": {
  "kernelspec": {
   "display_name": "Python 3",
   "language": "python",
   "name": "python3"
  },
  "language_info": {
   "codemirror_mode": {
    "name": "ipython",
    "version": 3
   },
   "file_extension": ".py",
   "mimetype": "text/x-python",
   "name": "python",
   "nbconvert_exporter": "python",
   "pygments_lexer": "ipython3",
   "version": "3.5.4"
  }
 },
 "nbformat": 4,
 "nbformat_minor": 2
}

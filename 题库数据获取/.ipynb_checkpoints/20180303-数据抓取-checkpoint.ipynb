{
 "cells": [
  {
   "cell_type": "markdown",
   "metadata": {},
   "source": [
    "# 使用selenium和bs4爬虫\n",
    "\n",
    "## 1.selenium的使用"
   ]
  },
  {
   "cell_type": "code",
   "execution_count": null,
   "metadata": {
    "collapsed": true
   },
   "outputs": [],
   "source": [
    "import os,time\n",
    "from selenium import webdriver\n",
    "from bs4 import BeautifulSoup\n",
    "chromedriver = \"C:\\\\Program Files (x86)\\\\Google\\\\Chrome\\\\Application\\\\chromedriver.exe\"#chrome所在驱动\n",
    "os.environ[\"webdriver.chrome.driver\"] = chromedriver\n",
    "driver = webdriver.Chrome(chromedriver)\n",
    "driver.get('http://user.100xuexi.com/MyDeal/myEBookPurchase.aspx')\n",
    "time.sleep(2)"
   ]
  },
  {
   "cell_type": "code",
   "execution_count": null,
   "metadata": {
    "collapsed": true
   },
   "outputs": [],
   "source": [
    "driver.find_element_by_id('username').send_keys('18775325832')#"
   ]
  },
  {
   "cell_type": "code",
   "execution_count": null,
   "metadata": {
    "collapsed": true
   },
   "outputs": [],
   "source": [
    "driver.find_element_by_id('txtVerify').clear()#验证码\n",
    "driver.find_element_by_id('txtVerify').send_keys('69')#验证码"
   ]
  },
  {
   "cell_type": "code",
   "execution_count": null,
   "metadata": {
    "collapsed": true
   },
   "outputs": [],
   "source": [
    "#driver.find_element_by_xpath('//*[@id=\"conPurchaseA1\"]/table/tbody/tr[3]/td[2]/a').click();\n",
    "driver.find_element_by_xpath('//*[@id=\"regNow\"]').click();"
   ]
  },
  {
   "cell_type": "code",
   "execution_count": null,
   "metadata": {
    "collapsed": true
   },
   "outputs": [],
   "source": [
    "driver.find_element_by_xpath('//*[@id=\"PurchaseA2\"]').click();"
   ]
  },
  {
   "cell_type": "code",
   "execution_count": null,
   "metadata": {
    "collapsed": true
   },
   "outputs": [],
   "source": [
    "#接下来会有新的窗口打开，获取所有窗口句柄\n",
    "windows = driver.window_handles\n",
    "driver.switch_to.window(windows[-2])"
   ]
  },
  {
   "cell_type": "code",
   "execution_count": null,
   "metadata": {
    "collapsed": true
   },
   "outputs": [],
   "source": [
    "driver.find_element_by_xpath('//*[@id=\"lefter\"]/div/div[1]/a').click();\n",
    "#/PracticeCenter/Chapter/Index?TQuestionPlanID=2997&groupName=&code=&tb_l_PaperQuePlanID=86215&Model=chapter&TypeMenuFlag=2\n",
    "#/PracticeCenter/Chapter/Index?TQuestionPlanID=2997&groupName=&code=&tb_l_PaperQuePlanID=86216&Model=chapter&TypeMenuFlag=2\n",
    "#item表示章，li后的数字表示节"
   ]
  },
  {
   "cell_type": "code",
   "execution_count": null,
   "metadata": {
    "collapsed": true
   },
   "outputs": [],
   "source": [
    "#driver.find_element_by_xpath('//*[@id=\"item01\"]/li[2]/a').click();"
   ]
  },
  {
   "cell_type": "markdown",
   "metadata": {},
   "source": [
    "## 2.解析成html"
   ]
  },
  {
   "cell_type": "code",
   "execution_count": null,
   "metadata": {
    "collapsed": true
   },
   "outputs": [],
   "source": [
    "html = driver.page_source\n",
    "soup = BeautifulSoup(html, \"html5lib\")"
   ]
  },
  {
   "cell_type": "markdown",
   "metadata": {},
   "source": [
    "## 3.html文件解析"
   ]
  },
  {
   "cell_type": "markdown",
   "metadata": {},
   "source": [
    "### 1.解析问题"
   ]
  },
  {
   "cell_type": "code",
   "execution_count": null,
   "metadata": {
    "collapsed": true
   },
   "outputs": [],
   "source": [
    "import re"
   ]
  },
  {
   "cell_type": "code",
   "execution_count": null,
   "metadata": {
    "collapsed": true
   },
   "outputs": [],
   "source": [
    "baseurl_item = u'5 工程测量\\\\5.3 角度测量'\n",
    "single_baseurl = u'注册土木工程师anki\\\\专业基础\\\\'+ baseurl_item+ u'\\\\'"
   ]
  },
  {
   "cell_type": "code",
   "execution_count": null,
   "metadata": {},
   "outputs": [],
   "source": [
    "single_baseurl"
   ]
  },
  {
   "cell_type": "code",
   "execution_count": null,
   "metadata": {
    "collapsed": true
   },
   "outputs": [],
   "source": [
    "content_all = soup.find_all(\"div\",attrs={\"class\":\"nodeItem\"})"
   ]
  },
  {
   "cell_type": "code",
   "execution_count": null,
   "metadata": {
    "collapsed": true,
    "scrolled": true
   },
   "outputs": [],
   "source": [
    "#soup.find('div',class_='ItemBotCompose').decompose()"
   ]
  },
  {
   "cell_type": "code",
   "execution_count": null,
   "metadata": {
    "collapsed": true,
    "scrolled": true
   },
   "outputs": [],
   "source": [
    "# replace with `soup.findAll` if you are using BeautifulSoup3\n",
    "for div in soup.find_all(\"div\", {'class':'Item config'}): \n",
    "    if len(div.find_all(\"div\", {'class':'ItemBotCompose'}))!=0:\n",
    "        div.decompose() #将满足调节的 div 项删除"
   ]
  },
  {
   "cell_type": "code",
   "execution_count": null,
   "metadata": {
    "collapsed": true
   },
   "outputs": [],
   "source": [
    "single_content_all = []\n",
    "\n",
    "single_content_all = content_all[0].find_all(\"div\",attrs={\"class\":\"question config\"})\n",
    "if len(content_all)>1:\n",
    "    multiple_content_all = content_all[1].find_all(\"div\",attrs={\"class\":\"question config\"})"
   ]
  },
  {
   "cell_type": "code",
   "execution_count": null,
   "metadata": {},
   "outputs": [],
   "source": [
    "len(single_content_all)"
   ]
  },
  {
   "cell_type": "markdown",
   "metadata": {},
   "source": [
    "单选"
   ]
  },
  {
   "cell_type": "code",
   "execution_count": null,
   "metadata": {
    "collapsed": true,
    "scrolled": true
   },
   "outputs": [],
   "source": [
    "single_question = []\n",
    "\n",
    "for i in range(len(single_content_all)):\n",
    "    single_contents = single_content_all[i].dt.contents\n",
    "    #print(contents_single)\n",
    "    single_s = ''\n",
    "    for j in single_contents:#单选\n",
    "        single_s = single_s+str(j)\n",
    "    single_question.append(re.sub('[\\n]','',single_s))"
   ]
  },
  {
   "cell_type": "code",
   "execution_count": null,
   "metadata": {},
   "outputs": [],
   "source": [
    "print(len(single_question))"
   ]
  },
  {
   "cell_type": "markdown",
   "metadata": {},
   "source": [
    "保存数据"
   ]
  },
  {
   "cell_type": "code",
   "execution_count": null,
   "metadata": {
    "collapsed": true
   },
   "outputs": [],
   "source": [
    "#question_file = open('question_file.txt', 'w')\n",
    "import codecs\n",
    "\n",
    "single_folder = os.path.exists(single_baseurl)\n",
    "#multiple_folder = os.path.exists(multiple_baseurl)\n",
    "if not single_folder:                   #判断是否存在文件夹如果不存在则创建为文件夹\n",
    "    os.makedirs(single_baseurl)\n",
    "                \n",
    "#if not multiple_folder:                   #判断是否存在文件夹如果不存在则创建为文件夹\n",
    "#    os.makedirs(multiple_baseurl)\n",
    "                \n",
    "single_question_file = codecs.open(single_baseurl + 'single_question.txt', 'w','utf-8')\n",
    "#multiple_question_file = codecs.open(multiple_baseurl + 'multiple_question.txt', 'w','utf-8')\n",
    "\n",
    "for item in single_question:\n",
    "    single_question_file.write(\"%s\\r\\n\" % item)\n",
    "    \n",
    "#for item in multiple_question:\n",
    "#    multiple_question_file.write(\"%s\\r\\n\" % item)\n",
    "    \n",
    "single_question_file.close()\n",
    "#multiple_question_file.close()"
   ]
  },
  {
   "cell_type": "markdown",
   "metadata": {},
   "source": [
    "### 2.解析选项"
   ]
  },
  {
   "cell_type": "code",
   "execution_count": null,
   "metadata": {
    "collapsed": true
   },
   "outputs": [],
   "source": [
    "option_all = soup.find_all(\"div\",attrs={\"class\":\"nodeItem\"})"
   ]
  },
  {
   "cell_type": "markdown",
   "metadata": {},
   "source": [
    "区别单选和多选"
   ]
  },
  {
   "cell_type": "code",
   "execution_count": null,
   "metadata": {
    "collapsed": true,
    "scrolled": true
   },
   "outputs": [],
   "source": [
    "single_option_all = option_all[0].find_all(\"div\",attrs={\"class\":\"question config\"})\n",
    "if len(option_all)>1:\n",
    "    multiple_option_all = option_all[1].find_all(\"div\",attrs={\"class\":\"question config\"})\n",
    "else:\n",
    "    multiple_option_all = []"
   ]
  },
  {
   "cell_type": "code",
   "execution_count": null,
   "metadata": {
    "scrolled": true
   },
   "outputs": [],
   "source": [
    "len(single_option_all)"
   ]
  },
  {
   "cell_type": "code",
   "execution_count": null,
   "metadata": {
    "collapsed": true
   },
   "outputs": [],
   "source": [
    "#len(multiple_option_all)"
   ]
  },
  {
   "cell_type": "markdown",
   "metadata": {},
   "source": [
    "单选"
   ]
  },
  {
   "cell_type": "code",
   "execution_count": null,
   "metadata": {},
   "outputs": [],
   "source": [
    "single_option_a = []\n",
    "single_option_b = []\n",
    "single_option_c = []\n",
    "single_option_d = []\n",
    "for option_i in range(len(single_option_all)):\n",
    "    \n",
    "    if single_option_all[option_i].table.tbody.find_all(\"label\")[0].find_all(\"img\") != []:\n",
    "        #print(re.sub('[\\r|\\n|\\t|\\\\s]', '', single_option_all[option_i].table.tbody.find_all(\"label\")[0].find_all(\"img\")))\n",
    "        single_option_a.append('A．'+str(single_option_all[option_i].table.tbody.find_all(\"label\")[0].find_all(\"img\")[0]))\n",
    "    else:\n",
    "        single_option_a.append(re.sub('[\\r|\\n|\\t|\\\\s]', '', single_option_all[option_i].table.tbody.find_all(\"label\")[0].get_text()))\n",
    "        \n",
    "    if single_option_all[option_i].table.tbody.find_all(\"label\")[1].find_all(\"img\") != []:\n",
    "        #print(re.sub('[\\r|\\n|\\t|\\\\s]', '', single_option_all[option_i].table.tbody.find_all(\"label\")[0].find_all(\"img\")))\n",
    "        single_option_b.append('B．'+str(single_option_all[option_i].table.tbody.find_all(\"label\")[1].find_all(\"img\")[0]))\n",
    "    else:\n",
    "        single_option_b.append(re.sub('[\\r|\\n|\\t|\\\\s]', '', single_option_all[option_i].table.tbody.find_all(\"label\")[1].get_text()))\n",
    "    \n",
    "    if single_option_all[option_i].table.tbody.find_all(\"label\")[2].find_all(\"img\") != []:\n",
    "        #print(re.sub('[\\r|\\n|\\t|\\\\s]', '', single_option_all[option_i].table.tbody.find_all(\"label\")[0].find_all(\"img\")))\n",
    "        single_option_c.append('C．'+str(single_option_all[option_i].table.tbody.find_all(\"label\")[2].find_all(\"img\")[0]))\n",
    "    else:\n",
    "        single_option_c.append(re.sub('[\\r|\\n|\\t|\\\\s]', '', single_option_all[option_i].table.tbody.find_all(\"label\")[2].get_text()))\n",
    "    \n",
    "    if single_option_all[option_i].table.tbody.find_all(\"label\")[3].find_all(\"img\") != []:\n",
    "        #print(re.sub('[\\r|\\n|\\t|\\\\s]', '', single_option_all[option_i].table.tbody.find_all(\"label\")[0].find_all(\"img\")))\n",
    "        single_option_d.append('D．'+str(single_option_all[option_i].table.tbody.find_all(\"label\")[3].find_all(\"img\")[0]))\n",
    "    else:\n",
    "        single_option_d.append(re.sub('[\\r|\\n|\\t|\\\\s]', '', single_option_all[option_i].table.tbody.find_all(\"label\")[3].get_text()))\n",
    "\n",
    "    #single_option_b.append(re.sub('[\\r|\\n|\\t|\\\\s]', '', single_option_all[option_i].table.tbody.find_all(\"label\")[1].get_text()))\n",
    "    #single_option_c.append(re.sub('[\\r|\\n|\\t|\\\\s]', '', single_option_all[option_i].table.tbody.find_all(\"label\")[2].get_text()))\n",
    "    #single_option_d.append(re.sub('[\\r|\\n|\\t|\\\\s]', '', single_option_all[option_i].table.tbody.find_all(\"label\")[3].get_text()))\n",
    "single_option_d"
   ]
  },
  {
   "cell_type": "code",
   "execution_count": null,
   "metadata": {
    "scrolled": false
   },
   "outputs": [],
   "source": [
    "single_option_a[0]"
   ]
  },
  {
   "cell_type": "markdown",
   "metadata": {},
   "source": [
    "保存单选选项"
   ]
  },
  {
   "cell_type": "code",
   "execution_count": null,
   "metadata": {
    "collapsed": true
   },
   "outputs": [],
   "source": [
    "import codecs\n",
    "\n",
    "single_option_a_file = codecs.open(single_baseurl + 'single_option_a.txt', 'w','utf-8')\n",
    "single_option_b_file = codecs.open(single_baseurl + 'single_option_b.txt', 'w','utf-8')\n",
    "single_option_c_file = codecs.open(single_baseurl + 'single_option_c.txt', 'w','utf-8')\n",
    "single_option_d_file = codecs.open(single_baseurl + 'single_option_d.txt', 'w','utf-8')\n",
    "\n",
    "for item in single_option_a:\n",
    "    single_option_a_file.write(\"%s\\r\\n\" % item)\n",
    "for item in single_option_b:\n",
    "    single_option_b_file.write(\"%s\\r\\n\" % item)\n",
    "    \n",
    "for item in single_option_c:\n",
    "    single_option_c_file.write(\"%s\\r\\n\" % item)\n",
    "    \n",
    "for item in single_option_d:\n",
    "    single_option_d_file.write(\"%s\\r\\n\" % item)\n",
    "\n",
    "single_option_a_file.close()\n",
    "single_option_b_file.close()\n",
    "single_option_c_file.close()\n",
    "single_option_d_file.close()"
   ]
  },
  {
   "cell_type": "markdown",
   "metadata": {},
   "source": [
    "### 解析答案"
   ]
  },
  {
   "cell_type": "code",
   "execution_count": null,
   "metadata": {
    "collapsed": true
   },
   "outputs": [],
   "source": [
    "anwser_all = soup.find_all(\"div\",attrs={\"class\":\"nodeItem\"})"
   ]
  },
  {
   "cell_type": "code",
   "execution_count": null,
   "metadata": {
    "collapsed": true
   },
   "outputs": [],
   "source": [
    "single_anwser_all = anwser_all[0].find_all(\"div\",attrs={\"class\":\"Item config\"}) #单选\n",
    "if len(anwser_all)>1:\n",
    "    multiple_anwser_all = anwser_all[1].find_all(\"div\",attrs={\"class\":\"Item config\"}) #多选\n",
    "else:\n",
    "    multiple_anwser_all = []"
   ]
  },
  {
   "cell_type": "code",
   "execution_count": null,
   "metadata": {},
   "outputs": [],
   "source": [
    "len(single_anwser_all)"
   ]
  },
  {
   "cell_type": "code",
   "execution_count": null,
   "metadata": {
    "scrolled": true
   },
   "outputs": [],
   "source": [
    "single_answer_right = []\n",
    "#multiple_answer_right = []\n",
    "\n",
    "for answer_i in range(len(single_anwser_all)):\n",
    "    #print(anwser_all[25].find(\"div\",attrs={\"class\":\"config answer\"}))\n",
    "    #print(anwser_all[answer_i].find(\"table\",attrs={\"class\":\"HiddenStart\"}).find(\"div\",attrs={\"class\":\"anser Con\"}))\n",
    "    #print(anwser_all[answer_i].find(\"table\",attrs={\"class\":\"HiddenStart\"}).find(\"div\",attrs={\"class\":\"anser Con\"}).get_text())\n",
    "    single_answer_right.append(single_anwser_all[answer_i].find(\"div\",attrs={\"class\":\"anser Con\"}).string)\n",
    "\n",
    "len(single_answer_right)"
   ]
  },
  {
   "cell_type": "code",
   "execution_count": null,
   "metadata": {},
   "outputs": [],
   "source": [
    "len(single_anwser_all)"
   ]
  },
  {
   "cell_type": "code",
   "execution_count": null,
   "metadata": {},
   "outputs": [],
   "source": [
    "import codecs\n",
    "\n",
    "single_anwser_file = codecs.open(single_baseurl + 'single_anwser.txt', 'w','utf-8')\n",
    "#multiple_anwser_file = codecs.open(multiple_baseurl + 'multiple_anwser.txt', 'w','utf-8')\n",
    "\n",
    "#for item in multiple_answer_right:\n",
    "#    multiple_anwser_file.write(\"%s\\r\\n\" % item)\n",
    "    \n",
    "single_anwser_file.close()\n",
    "#multiple_anwser_file.close()"
   ]
  },
  {
   "cell_type": "code",
   "execution_count": null,
   "metadata": {
    "collapsed": true
   },
   "outputs": [],
   "source": [
    "#print(re.sub('[\\r|\\n|\\t|\\\\s]', '', anwser_1))"
   ]
  },
  {
   "cell_type": "markdown",
   "metadata": {},
   "source": [
    "### 解析解析"
   ]
  },
  {
   "cell_type": "code",
   "execution_count": null,
   "metadata": {
    "collapsed": true
   },
   "outputs": [],
   "source": [
    "analysis_all = soup.find_all(\"div\",attrs={\"class\":\"nodeItem\"})"
   ]
  },
  {
   "cell_type": "code",
   "execution_count": null,
   "metadata": {},
   "outputs": [],
   "source": [
    "single_analysis_all = analysis_all[0].find_all(\"div\",attrs={\"class\":\"Item config\"}) #单选\n",
    "if len(analysis_all)>1:\n",
    "    multiple_analysis_all = analysis_all[1].find_all(\"div\",attrs={\"class\":\"Item config\"}) #多选\n",
    "else:\n",
    "    multiple_analysis_all = []\n",
    "len(single_analysis_all)"
   ]
  },
  {
   "cell_type": "code",
   "execution_count": null,
   "metadata": {
    "scrolled": false
   },
   "outputs": [],
   "source": [
    "single_analysis = []\n",
    "#multiple_analysis = []\n",
    "\n",
    "for analysis_i in range(len(single_analysis_all)):\n",
    "    print(single_analysis_all[analysis_i].find(\"div\",attrs={\"class\":\"analysits Con\"}))\n",
    "    print('\\n')\n"
   ]
  },
  {
   "cell_type": "code",
   "execution_count": null,
   "metadata": {
    "collapsed": true,
    "scrolled": true
   },
   "outputs": [],
   "source": [
    "#print(multiple_analysis_all[0].find(\"div\",attrs={\"class\":\"analysits Con\"}))"
   ]
  },
  {
   "cell_type": "code",
   "execution_count": null,
   "metadata": {},
   "outputs": [],
   "source": [
    "single_analay = []\n",
    "#multiple_analay = []\n",
    "for i in range(len(single_analysis_all)):\n",
    "    single_analay_item = single_analysis_all[i].find(\"div\",attrs={\"class\":\"analysits Con\"}).contents\n",
    "    #print(analay_single)\n",
    "    single_analay.append(single_analay_item)\n",
    "    #print(analay_single)\n",
    "\"\"\"    \n",
    "for i in range(len(multiple_analysis_all)):\n",
    "    multiple_analay_item = multiple_analysis_all[i].find(\"div\",attrs={\"class\":\"analysits Con\"}).contents\n",
    "    #print(analay_single)\n",
    "    multiple_analay.append(multiple_analay_item)\n",
    "    #print(analay_single)\n",
    "\"\"\""
   ]
  },
  {
   "cell_type": "code",
   "execution_count": null,
   "metadata": {},
   "outputs": [],
   "source": [
    "single_analay_final = []\n",
    "for item in single_analay:\n",
    "    #analysis_file.write(\"%s\" % item)\n",
    "    single_s = ''\n",
    "    for i in item:\n",
    "        single_s = single_s + str(i)\n",
    "    single_analay_final.append(single_s)\n",
    "    #analysis_file.write(\"%s\\n\" % s)\n",
    "#analysis_file.close()\n",
    "\"\"\"\n",
    "multiple_analay_final = []\n",
    "for item in multiple_analay:\n",
    "    #analysis_file.write(\"%s\" % item)\n",
    "    multiple_s = ''\n",
    "    for i in item:\n",
    "        multiple_s = multiple_s + str(i)\n",
    "    multiple_analay_final.append(multiple_s)\n",
    "    #analysis_file.write(\"%s\\n\" % s)\n",
    "#analysis_file.close()\n",
    "\"\"\""
   ]
  },
  {
   "cell_type": "code",
   "execution_count": null,
   "metadata": {
    "scrolled": false
   },
   "outputs": [],
   "source": [
    "import codecs\n",
    "single_analysis_file = codecs.open(single_baseurl + 'single_analysis_file.txt', 'w','utf-8')\n",
    "\n",
    "for s in single_analay_final:\n",
    "    print(s)\n",
    "    print(\"\\n\")\n",
    "    single_analysis_file.write(\"%s\\r\\n\" % s)\n",
    "\"\"\" \n",
    "multiple_analysis_file = codecs.open(multiple_baseurl + 'multiple_analysis_file.txt', 'w','utf-8')\n",
    "\n",
    "for s in multiple_analay_final:\n",
    "    print(s)\n",
    "    print(\"\\n\")\n",
    "    multiple_analysis_file.write(\"%s\\r\\n\" % s)    \n",
    "\"\"\"    \n",
    "single_analysis_file.close()\n",
    "#multiple_analysis_file.close()"
   ]
  },
  {
   "cell_type": "markdown",
   "metadata": {},
   "source": [
    "单选选项拼接"
   ]
  },
  {
   "cell_type": "code",
   "execution_count": null,
   "metadata": {},
   "outputs": [],
   "source": [
    "len(single_option_a)"
   ]
  },
  {
   "cell_type": "code",
   "execution_count": null,
   "metadata": {
    "collapsed": true,
    "scrolled": true
   },
   "outputs": [],
   "source": [
    "single_data = []\n",
    "for i in range(len(single_option_a)):\n",
    "    single_data_string = single_question[i].replace('（　　）','{{c1::（）}}') + \"\t\"+ single_option_a[i].strip().replace('A．','')+ '<br>' + single_option_b[i].strip().replace('B．','')+ '<br>'+ single_option_c[i].strip().replace('C．','')+ '<br>'+ single_option_d[i].replace('D．','')+ \"\t\"+ single_answer_right[i]+ \"\t\"+ single_analay_final[i]\n",
    "    single_data.append(single_data_string)\n",
    "data_single = codecs.open(single_baseurl + 'data_single.txt', 'w','utf-8')\n",
    "\n",
    "for i in range(len(single_data)):\n",
    "    data_single.write(single_data[i]+\"\\r\\n\")\n",
    "data_single.close()"
   ]
  },
  {
   "cell_type": "code",
   "execution_count": null,
   "metadata": {},
   "outputs": [],
   "source": [
    "len(single_data )"
   ]
  },
  {
   "cell_type": "markdown",
   "metadata": {},
   "source": [
    "多选选项拼接"
   ]
  },
  {
   "cell_type": "code",
   "execution_count": null,
   "metadata": {
    "collapsed": true
   },
   "outputs": [],
   "source": [
    "#len(multiple_data)"
   ]
  },
  {
   "cell_type": "code",
   "execution_count": null,
   "metadata": {
    "collapsed": true
   },
   "outputs": [],
   "source": []
  }
 ],
 "metadata": {
  "kernelspec": {
   "display_name": "Python 3",
   "language": "python",
   "name": "python3"
  },
  "language_info": {
   "codemirror_mode": {
    "name": "ipython",
    "version": 3
   },
   "file_extension": ".py",
   "mimetype": "text/x-python",
   "name": "python",
   "nbconvert_exporter": "python",
   "pygments_lexer": "ipython3",
   "version": "3.5.4"
  }
 },
 "nbformat": 4,
 "nbformat_minor": 2
}

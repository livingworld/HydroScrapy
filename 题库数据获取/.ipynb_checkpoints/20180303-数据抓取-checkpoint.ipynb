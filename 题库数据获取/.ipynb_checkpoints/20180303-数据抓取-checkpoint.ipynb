{
 "cells": [
  {
   "cell_type": "markdown",
   "metadata": {},
   "source": [
    "# 使用selenium和bs4爬虫\n",
    "\n",
    "## 1.selenium的使用"
   ]
  },
  {
   "cell_type": "code",
   "execution_count": 1,
   "metadata": {
    "collapsed": true
   },
   "outputs": [],
   "source": [
    "import os,time\n",
    "from selenium import webdriver\n",
    "from bs4 import BeautifulSoup\n",
    "chromedriver = \"C:\\\\Program Files (x86)\\\\Google\\\\Chrome\\\\Application\\\\chromedriver.exe\"#chrome所在驱动\n",
    "os.environ[\"webdriver.chrome.driver\"] = chromedriver\n",
    "driver = webdriver.Chrome(chromedriver)\n",
    "driver.get('http://user.100xuexi.com/MyDeal/myEBookPurchase.aspx')\n",
    "time.sleep(2)"
   ]
  },
  {
   "cell_type": "code",
   "execution_count": null,
   "metadata": {
    "collapsed": true
   },
   "outputs": [],
   "source": [
    "driver.find_element_by_id('username').send_keys('18775325832')#"
   ]
  },
  {
   "cell_type": "code",
   "execution_count": null,
   "metadata": {
    "collapsed": true
   },
   "outputs": [],
   "source": [
    "driver.find_element_by_id('txtVerify').clear()#验证码\n",
    "driver.find_element_by_id('txtVerify').send_keys('69')#验证码"
   ]
  },
  {
   "cell_type": "code",
   "execution_count": null,
   "metadata": {
    "collapsed": true
   },
   "outputs": [],
   "source": [
    "#driver.find_element_by_xpath('//*[@id=\"conPurchaseA1\"]/table/tbody/tr[3]/td[2]/a').click();\n",
    "driver.find_element_by_xpath('//*[@id=\"regNow\"]').click();"
   ]
  },
  {
   "cell_type": "code",
   "execution_count": null,
   "metadata": {
    "collapsed": true
   },
   "outputs": [],
   "source": [
    "driver.find_element_by_xpath('//*[@id=\"PurchaseA2\"]').click();"
   ]
  },
  {
   "cell_type": "code",
   "execution_count": 2,
   "metadata": {
    "collapsed": true
   },
   "outputs": [],
   "source": [
    "#接下来会有新的窗口打开，获取所有窗口句柄\n",
    "windows = driver.window_handles\n",
    "driver.switch_to.window(windows[-1])"
   ]
  },
  {
   "cell_type": "code",
   "execution_count": null,
   "metadata": {
    "collapsed": true
   },
   "outputs": [],
   "source": [
    "driver.find_element_by_xpath('//*[@id=\"lefter\"]/div/div[1]/a').click();\n",
    "#/PracticeCenter/Chapter/Index?TQuestionPlanID=2997&groupName=&code=&tb_l_PaperQuePlanID=86215&Model=chapter&TypeMenuFlag=2\n",
    "#/PracticeCenter/Chapter/Index?TQuestionPlanID=2997&groupName=&code=&tb_l_PaperQuePlanID=86216&Model=chapter&TypeMenuFlag=2\n",
    "#item表示章，li后的数字表示节"
   ]
  },
  {
   "cell_type": "code",
   "execution_count": null,
   "metadata": {
    "collapsed": true
   },
   "outputs": [],
   "source": [
    "#driver.find_element_by_xpath('//*[@id=\"item01\"]/li[2]/a').click();"
   ]
  },
  {
   "cell_type": "markdown",
   "metadata": {},
   "source": [
    "## 2.解析成html"
   ]
  },
  {
   "cell_type": "code",
   "execution_count": 2081,
   "metadata": {
    "collapsed": true
   },
   "outputs": [],
   "source": [
    "html = driver.page_source\n",
    "soup = BeautifulSoup(html, \"html5lib\")"
   ]
  },
  {
   "cell_type": "markdown",
   "metadata": {},
   "source": [
    "## 3.html文件解析"
   ]
  },
  {
   "cell_type": "markdown",
   "metadata": {},
   "source": [
    "### 1.解析问题"
   ]
  },
  {
   "cell_type": "code",
   "execution_count": 2082,
   "metadata": {
    "collapsed": true
   },
   "outputs": [],
   "source": [
    "import re"
   ]
  },
  {
   "cell_type": "code",
   "execution_count": 2083,
   "metadata": {
    "collapsed": true
   },
   "outputs": [],
   "source": [
    "baseurl_item = u'2Z104000  施工质量管理\\\\2Z104040　施工质量事故预防与处理'\n",
    "single_baseurl = u'二级建造师anki\\\\二建2018管理\\\\'+ baseurl_item + u'\\\\单选\\\\'\n",
    "multiple_baseurl = u'二级建造师anki\\\\二建2018管理\\\\'+ baseurl_item + u'\\\\多选\\\\'"
   ]
  },
  {
   "cell_type": "code",
   "execution_count": 2084,
   "metadata": {
    "collapsed": true
   },
   "outputs": [],
   "source": [
    "content_all = soup.find_all(\"div\",attrs={\"class\":\"nodeItem\"})"
   ]
  },
  {
   "cell_type": "code",
   "execution_count": 2085,
   "metadata": {
    "collapsed": true,
    "scrolled": true
   },
   "outputs": [],
   "source": [
    "#soup.find('div',class_='ItemBotCompose').decompose()"
   ]
  },
  {
   "cell_type": "code",
   "execution_count": 2086,
   "metadata": {
    "collapsed": true,
    "scrolled": true
   },
   "outputs": [],
   "source": [
    "# replace with `soup.findAll` if you are using BeautifulSoup3\n",
    "for div in soup.find_all(\"div\", {'class':'Item config'}): \n",
    "    if len(div.find_all(\"div\", {'class':'ItemBotCompose'}))!=0:\n",
    "        div.decompose() #将满足调节的 div 项删除"
   ]
  },
  {
   "cell_type": "code",
   "execution_count": 2087,
   "metadata": {},
   "outputs": [],
   "source": [
    "single_content_all = []\n",
    "multiple_content_all = []\n",
    "\n",
    "single_content_all = content_all[0].find_all(\"div\",attrs={\"class\":\"question config\"})\n",
    "if len(content_all)>1:\n",
    "    multiple_content_all = content_all[1].find_all(\"div\",attrs={\"class\":\"question config\"})"
   ]
  },
  {
   "cell_type": "code",
   "execution_count": 2088,
   "metadata": {},
   "outputs": [
    {
     "data": {
      "text/plain": [
       "11"
      ]
     },
     "execution_count": 2088,
     "metadata": {},
     "output_type": "execute_result"
    }
   ],
   "source": [
    "len(single_content_all)"
   ]
  },
  {
   "cell_type": "markdown",
   "metadata": {},
   "source": [
    "单选"
   ]
  },
  {
   "cell_type": "code",
   "execution_count": 2089,
   "metadata": {
    "collapsed": true,
    "scrolled": true
   },
   "outputs": [],
   "source": [
    "single_question = []\n",
    "\n",
    "for i in range(len(single_content_all)):\n",
    "    single_contents = single_content_all[i].dt.contents\n",
    "    #print(contents_single)\n",
    "    single_s = ''\n",
    "    for j in single_contents:#单选\n",
    "        single_s = single_s+str(j)\n",
    "    single_question.append(re.sub('[\\n]','',single_s))"
   ]
  },
  {
   "cell_type": "code",
   "execution_count": 2090,
   "metadata": {},
   "outputs": [
    {
     "name": "stdout",
     "output_type": "stream",
     "text": [
      "11\n"
     ]
    }
   ],
   "source": [
    "print(len(single_question))"
   ]
  },
  {
   "cell_type": "markdown",
   "metadata": {},
   "source": [
    "多选"
   ]
  },
  {
   "cell_type": "code",
   "execution_count": 2091,
   "metadata": {
    "collapsed": true
   },
   "outputs": [],
   "source": [
    "multiple_question = []\n",
    "\n",
    "for i in range(len(multiple_content_all)):#多选\n",
    "    multiple_contents = multiple_content_all[i].dt.contents\n",
    "    #print(contents_single)\n",
    "    multiple_s = ''\n",
    "    for j in multiple_contents:\n",
    "        multiple_s = multiple_s+str(j)\n",
    "    multiple_question.append(re.sub('[\\n]','',multiple_s))"
   ]
  },
  {
   "cell_type": "code",
   "execution_count": 2092,
   "metadata": {},
   "outputs": [
    {
     "name": "stdout",
     "output_type": "stream",
     "text": [
      "10\n"
     ]
    }
   ],
   "source": [
    "print(len(multiple_question))"
   ]
  },
  {
   "cell_type": "markdown",
   "metadata": {},
   "source": [
    "保存数据"
   ]
  },
  {
   "cell_type": "code",
   "execution_count": 2093,
   "metadata": {},
   "outputs": [],
   "source": [
    "#question_file = open('question_file.txt', 'w')\n",
    "import codecs\n",
    "\n",
    "single_folder = os.path.exists(single_baseurl)\n",
    "multiple_folder = os.path.exists(multiple_baseurl)\n",
    "if not single_folder:                   #判断是否存在文件夹如果不存在则创建为文件夹\n",
    "    os.makedirs(single_baseurl)\n",
    "                \n",
    "if not multiple_folder:                   #判断是否存在文件夹如果不存在则创建为文件夹\n",
    "    os.makedirs(multiple_baseurl)\n",
    "                \n",
    "single_question_file = codecs.open(single_baseurl + 'single_question.txt', 'w','utf-8')\n",
    "multiple_question_file = codecs.open(multiple_baseurl + 'multiple_question.txt', 'w','utf-8')\n",
    "\n",
    "for item in single_question:\n",
    "    single_question_file.write(\"%s\\r\\n\" % item)\n",
    "    \n",
    "for item in multiple_question:\n",
    "    multiple_question_file.write(\"%s\\r\\n\" % item)\n",
    "    \n",
    "single_question_file.close()\n",
    "multiple_question_file.close()"
   ]
  },
  {
   "cell_type": "markdown",
   "metadata": {},
   "source": [
    "### 2.解析选项"
   ]
  },
  {
   "cell_type": "code",
   "execution_count": 2094,
   "metadata": {
    "collapsed": true
   },
   "outputs": [],
   "source": [
    "option_all = soup.find_all(\"div\",attrs={\"class\":\"nodeItem\"})"
   ]
  },
  {
   "cell_type": "markdown",
   "metadata": {},
   "source": [
    "区别单选和多选"
   ]
  },
  {
   "cell_type": "code",
   "execution_count": 2095,
   "metadata": {
    "collapsed": true,
    "scrolled": true
   },
   "outputs": [],
   "source": [
    "single_option_all = option_all[0].find_all(\"div\",attrs={\"class\":\"question config\"})\n",
    "if len(option_all)>1:\n",
    "    multiple_option_all = option_all[1].find_all(\"div\",attrs={\"class\":\"question config\"})"
   ]
  },
  {
   "cell_type": "code",
   "execution_count": 2096,
   "metadata": {
    "scrolled": true
   },
   "outputs": [
    {
     "data": {
      "text/plain": [
       "11"
      ]
     },
     "execution_count": 2096,
     "metadata": {},
     "output_type": "execute_result"
    }
   ],
   "source": [
    "len(single_option_all)"
   ]
  },
  {
   "cell_type": "code",
   "execution_count": 2097,
   "metadata": {},
   "outputs": [
    {
     "data": {
      "text/plain": [
       "10"
      ]
     },
     "execution_count": 2097,
     "metadata": {},
     "output_type": "execute_result"
    }
   ],
   "source": [
    "len(multiple_option_all)"
   ]
  },
  {
   "cell_type": "markdown",
   "metadata": {},
   "source": [
    "单选"
   ]
  },
  {
   "cell_type": "code",
   "execution_count": 2098,
   "metadata": {
    "collapsed": true
   },
   "outputs": [],
   "source": [
    "single_option_a = []\n",
    "single_option_b = []\n",
    "single_option_c = []\n",
    "single_option_d = []\n",
    "for option_i in range(len(single_option_all)):\n",
    "    single_option_a.append(re.sub('[\\r|\\n|\\t|\\\\s]', '', single_option_all[option_i].table.tbody.find_all(\"label\")[0].get_text()))\n",
    "    single_option_b.append(re.sub('[\\r|\\n|\\t|\\\\s]', '', single_option_all[option_i].table.tbody.find_all(\"label\")[1].get_text()))\n",
    "    single_option_c.append(re.sub('[\\r|\\n|\\t|\\\\s]', '', single_option_all[option_i].table.tbody.find_all(\"label\")[2].get_text()))\n",
    "    single_option_d.append(re.sub('[\\r|\\n|\\t|\\\\s]', '', single_option_all[option_i].table.tbody.find_all(\"label\")[3].get_text()))"
   ]
  },
  {
   "cell_type": "markdown",
   "metadata": {},
   "source": [
    "多选"
   ]
  },
  {
   "cell_type": "code",
   "execution_count": 2099,
   "metadata": {
    "collapsed": true
   },
   "outputs": [],
   "source": [
    "multiple_option_a = []\n",
    "multiple_option_b = []\n",
    "multiple_option_c = []\n",
    "multiple_option_d = []\n",
    "multiple_option_e = []\n",
    "for option_i in range(len(multiple_option_all)):\n",
    "    multiple_option_a.append(re.sub('[\\r|\\n|\\t|\\\\s]', '', multiple_option_all[option_i].table.tbody.find_all(\"label\")[0].get_text()))\n",
    "    multiple_option_b.append(re.sub('[\\r|\\n|\\t|\\\\s]', '', multiple_option_all[option_i].table.tbody.find_all(\"label\")[1].get_text()))\n",
    "    multiple_option_c.append(re.sub('[\\r|\\n|\\t|\\\\s]', '', multiple_option_all[option_i].table.tbody.find_all(\"label\")[2].get_text()))\n",
    "    multiple_option_d.append(re.sub('[\\r|\\n|\\t|\\\\s]', '', multiple_option_all[option_i].table.tbody.find_all(\"label\")[3].get_text()))\n",
    "    multiple_option_e.append(re.sub('[\\r|\\n|\\t|\\\\s]', '', multiple_option_all[option_i].table.tbody.find_all(\"label\")[4].get_text()))"
   ]
  },
  {
   "cell_type": "code",
   "execution_count": 2100,
   "metadata": {
    "scrolled": false
   },
   "outputs": [
    {
     "data": {
      "text/plain": [
       "'A．工作关系'"
      ]
     },
     "execution_count": 2100,
     "metadata": {},
     "output_type": "execute_result"
    }
   ],
   "source": [
    "single_option_a[1]"
   ]
  },
  {
   "cell_type": "markdown",
   "metadata": {},
   "source": [
    "保存单选选项"
   ]
  },
  {
   "cell_type": "code",
   "execution_count": 2101,
   "metadata": {
    "collapsed": true
   },
   "outputs": [],
   "source": [
    "import codecs\n",
    "\n",
    "single_option_a_file = codecs.open(single_baseurl + 'single_option_a.txt', 'w','utf-8')\n",
    "single_option_b_file = codecs.open(single_baseurl + 'single_option_b.txt', 'w','utf-8')\n",
    "single_option_c_file = codecs.open(single_baseurl + 'single_option_c.txt', 'w','utf-8')\n",
    "single_option_d_file = codecs.open(single_baseurl + 'single_option_d.txt', 'w','utf-8')\n",
    "\n",
    "for item in single_option_a:\n",
    "    single_option_a_file.write(\"%s\\r\\n\" % item)\n",
    "for item in single_option_b:\n",
    "    single_option_b_file.write(\"%s\\r\\n\" % item)\n",
    "    \n",
    "for item in single_option_c:\n",
    "    single_option_c_file.write(\"%s\\r\\n\" % item)\n",
    "    \n",
    "for item in single_option_d:\n",
    "    single_option_d_file.write(\"%s\\r\\n\" % item)\n",
    "\n",
    "single_option_a_file.close()\n",
    "single_option_b_file.close()\n",
    "single_option_c_file.close()\n",
    "single_option_d_file.close()"
   ]
  },
  {
   "cell_type": "markdown",
   "metadata": {},
   "source": [
    "保存多选选项"
   ]
  },
  {
   "cell_type": "code",
   "execution_count": 2102,
   "metadata": {
    "collapsed": true
   },
   "outputs": [],
   "source": [
    "import codecs\n",
    "\n",
    "multiple_option_a_file = codecs.open(multiple_baseurl + 'multiple_option_a.txt', 'w','utf-8')\n",
    "multiple_option_b_file = codecs.open(multiple_baseurl + 'multiple_option_b.txt', 'w','utf-8')\n",
    "multiple_option_c_file = codecs.open(multiple_baseurl + 'multiple_option_c.txt', 'w','utf-8')\n",
    "multiple_option_d_file = codecs.open(multiple_baseurl + 'multiple_option_d.txt', 'w','utf-8')\n",
    "\n",
    "for item in multiple_option_a:\n",
    "    multiple_option_a_file.write(\"%s\\r\\n\" % item)\n",
    "for item in multiple_option_b:\n",
    "    multiple_option_b_file.write(\"%s\\r\\n\" % item)\n",
    "    \n",
    "for item in multiple_option_c:\n",
    "    multiple_option_c_file.write(\"%s\\r\\n\" % item)\n",
    "    \n",
    "for item in multiple_option_d:\n",
    "    multiple_option_d_file.write(\"%s\\r\\n\" % item)\n",
    "\n",
    "multiple_option_a_file.close()\n",
    "multiple_option_b_file.close()\n",
    "multiple_option_c_file.close()\n",
    "multiple_option_d_file.close()"
   ]
  },
  {
   "cell_type": "markdown",
   "metadata": {},
   "source": [
    "### 解析答案"
   ]
  },
  {
   "cell_type": "code",
   "execution_count": 2103,
   "metadata": {
    "collapsed": true
   },
   "outputs": [],
   "source": [
    "anwser_all = soup.find_all(\"div\",attrs={\"class\":\"nodeItem\"})"
   ]
  },
  {
   "cell_type": "code",
   "execution_count": 2104,
   "metadata": {
    "collapsed": true
   },
   "outputs": [],
   "source": [
    "single_anwser_all = anwser_all[0].find_all(\"div\",attrs={\"class\":\"Item config\"}) #单选\n",
    "if len(anwser_all)>1:\n",
    "    multiple_anwser_all = anwser_all[1].find_all(\"div\",attrs={\"class\":\"Item config\"}) #多选"
   ]
  },
  {
   "cell_type": "code",
   "execution_count": 2105,
   "metadata": {},
   "outputs": [
    {
     "data": {
      "text/plain": [
       "11"
      ]
     },
     "execution_count": 2105,
     "metadata": {},
     "output_type": "execute_result"
    }
   ],
   "source": [
    "len(single_anwser_all)"
   ]
  },
  {
   "cell_type": "code",
   "execution_count": 2106,
   "metadata": {},
   "outputs": [
    {
     "data": {
      "text/plain": [
       "11"
      ]
     },
     "execution_count": 2106,
     "metadata": {},
     "output_type": "execute_result"
    }
   ],
   "source": [
    "single_answer_right = []\n",
    "multiple_answer_right = []\n",
    "\n",
    "for answer_i in range(len(single_anwser_all)):\n",
    "    #print(anwser_all[25].find(\"div\",attrs={\"class\":\"config answer\"}))\n",
    "    #print(anwser_all[answer_i].find(\"table\",attrs={\"class\":\"HiddenStart\"}).find(\"div\",attrs={\"class\":\"anser Con\"}))\n",
    "    #print(anwser_all[answer_i].find(\"table\",attrs={\"class\":\"HiddenStart\"}).find(\"div\",attrs={\"class\":\"anser Con\"}).get_text())\n",
    "    single_answer_right.append(single_anwser_all[answer_i].find(\"div\",attrs={\"class\":\"anser Con\"}).string)\n",
    "    \n",
    "for answer_i in range(len(multiple_anwser_all)):\n",
    "    #print(anwser_all[25].find(\"div\",attrs={\"class\":\"config answer\"}))\n",
    "    #print(anwser_all[answer_i].find(\"table\",attrs={\"class\":\"HiddenStart\"}).find(\"div\",attrs={\"class\":\"anser Con\"}))\n",
    "    #print(anwser_all[answer_i].find(\"table\",attrs={\"class\":\"HiddenStart\"}).find(\"div\",attrs={\"class\":\"anser Con\"}).get_text())\n",
    "    multiple_answer_right.append(multiple_anwser_all[answer_i].find(\"div\",attrs={\"class\":\"anser Con\"}).string)\n",
    "    \n",
    "len(single_answer_right)"
   ]
  },
  {
   "cell_type": "code",
   "execution_count": 2107,
   "metadata": {
    "collapsed": true
   },
   "outputs": [],
   "source": [
    "import codecs\n",
    "\n",
    "single_anwser_file = codecs.open(single_baseurl + 'single_anwser.txt', 'w','utf-8')\n",
    "multiple_anwser_file = codecs.open(multiple_baseurl + 'multiple_anwser.txt', 'w','utf-8')\n",
    "\n",
    "for item in multiple_answer_right:\n",
    "    multiple_anwser_file.write(\"%s\\r\\n\" % item)\n",
    "    \n",
    "single_anwser_file.close()\n",
    "multiple_anwser_file.close()"
   ]
  },
  {
   "cell_type": "code",
   "execution_count": 2108,
   "metadata": {
    "collapsed": true
   },
   "outputs": [],
   "source": [
    "#print(re.sub('[\\r|\\n|\\t|\\\\s]', '', anwser_1))"
   ]
  },
  {
   "cell_type": "markdown",
   "metadata": {},
   "source": [
    "### 解析解析"
   ]
  },
  {
   "cell_type": "code",
   "execution_count": 2109,
   "metadata": {
    "collapsed": true
   },
   "outputs": [],
   "source": [
    "analysis_all = soup.find_all(\"div\",attrs={\"class\":\"nodeItem\"})"
   ]
  },
  {
   "cell_type": "code",
   "execution_count": 2110,
   "metadata": {},
   "outputs": [
    {
     "data": {
      "text/plain": [
       "11"
      ]
     },
     "execution_count": 2110,
     "metadata": {},
     "output_type": "execute_result"
    }
   ],
   "source": [
    "single_analysis_all = analysis_all[0].find_all(\"div\",attrs={\"class\":\"Item config\"}) #单选\n",
    "if len(analysis_all)>1:\n",
    "    multiple_analysis_all = analysis_all[1].find_all(\"div\",attrs={\"class\":\"Item config\"}) #多选\n",
    "len(single_analysis_all)"
   ]
  },
  {
   "cell_type": "code",
   "execution_count": 2111,
   "metadata": {},
   "outputs": [
    {
     "name": "stdout",
     "output_type": "stream",
     "text": [
      "<div class=\"analysits Con\">施工方进度控制的任务是依据施工任务委托合同对施工进度的要求控制施工工作进度，这是施工方履行合同的义务。施工方进度控制的主要工作环节包括：①编制施工进度计划及相关的资源需求计划；②组织施工进度计划的实施；③施工进度计划的检查与调整</div>\n",
      "\n",
      "\n",
      "<div class=\"analysits Con\">施工进度计划的调整包括下列内容：①工程量的调整；②工作(工序)起止时间的调整；③工作关系的调整；④资源提供条件的调整；⑤必要目标的调整。</div>\n",
      "\n",
      "\n",
      "<div class=\"analysits Con\">施工方进度控制的措施主要包括：①组织措施；②管理措施；③经济措施；④技术措施。A项属于经济措施；C项属于组织措施；D项属于技术措施。</div>\n",
      "\n",
      "\n",
      "<div class=\"analysits Con\">施工方进度控制的管理措施包括：①用工程网络计划的方法编制进度计划；②承发包模式的选择；③工程进度的风险管理；④重视信息技术在进度控制中的应用。</div>\n",
      "\n",
      "\n",
      "<div class=\"analysits Con\">施工方进度控制的管理措施包括：①施工进度控制的管理措施涉及管理的思想、管理的方法、管理的手段、承发包模式、合同管理和风险管理等；②用工程网络计划的方法编制进度计划，工程网络计划的方法有利于实现进度控制的科学化；③承发包模式的选择直接关系到工程实施的组织和协调；④为实现进度目标，不但应进行进度控制，还应注意分析影响工程进度的风险，并在分析的基础上采取风险管理措施，以减少进度失控的风险量；⑤应重视信息技术（包括相应的软件、局域网、互联网以及数据处理设备等）在进度控制中的应用。AD两项属于组织措施；C项属于技术措施。</div>\n",
      "\n",
      "\n",
      "<div class=\"analysits Con\">施工进度控制的技术措施涉及对实现施工进度目标有利的设计技术和施工技术的选用。具体包括：①不同的设计理念、设计技术路线、设计方案会对工程进度产生不同的影响，在工程进度受阻时，应分析是否存在设计技术的影响因素，为实现进度目标有无设计变更的必要和是否可能变更；②施工方案对工程进度有直接的影响，在决策其选用时，不仅应分析技术的先进性和经济合理性，还应考虑其对进度的影响。</div>\n",
      "\n",
      "\n",
      "<div class=\"analysits Con\">施工进度计划检查的内容包括：①检查工程量的完成情况；②检查工作时间的执行情况；③检查资源使用及与进度保证的情况；④前一次进度计划检查提出问题的整改情况。</div>\n",
      "\n",
      "\n",
      "<div class=\"analysits Con\">在施工方进度控制的组织措施中，进度控制工作包含了大量的组织和协调工作，而会议是组织和协调的重要手段，应进行有关进度控制会议的组织设计，以明确：①会议的类型；②各类会议的主持人和参加单位和人员；③各类会议的召开时间；④各类会议文件的整理、分发和确认等。</div>\n",
      "\n",
      "\n",
      "<div class=\"analysits Con\">施工进度控制在管理观念方面存在的主要问题是：①缺乏进度计划系统的观念；②缺乏动态控制的观念；③缺乏进度计划多方案比较和选优的观念。</div>\n",
      "\n",
      "\n",
      "<div class=\"analysits Con\">用工程网络计划的方法编制进度计划必须很严谨地分析和考虑工作之间的逻辑关系，通过工程网络的计算可发现关键工作和关键线路，也可知道非关键工作可使用的时差，工程网络计划的方法有利于实现进度控制的科学化，属于施工方进度控制的管理措施。</div>\n",
      "\n",
      "\n",
      "<div class=\"analysits Con\">为实现进度目标，不但应进行进度控制，还应注意分析影响工程进度的风险，并在分析的基础上采取风险管理措施，以减少进度失控的风险量。</div>\n",
      "\n",
      "\n",
      "<div class=\"analysits Con\">施工方进度控制的任务是依据施工任务委托合同对施工进度的要求控制施工工作进度，这是施工方履行合同的义务。施工方进度控制的主要工作环节包括：①编制施工进度计划及相关的资源需求计划；②组织施工进度计划的实施；③施工进度计划的检查与调整。</div>\n",
      "\n",
      "\n",
      "<div class=\"analysits Con\">施工进度计划检查后应按下列内容编制进度报告：①进度计划实施情况的综合描述；②实际工程进度与计划进度的比较；③进度计划在实施过程中存在的问题及其原因分析；④进度执行情况对工程质量、安全和施工成本的影响情况；⑤将采取的措施；⑥进度的预测。</div>\n",
      "\n",
      "\n",
      "<div class=\"analysits Con\">施工进度计划的调整应包括下列内容：①工程量的调整；②工作（工序）起止时间的调整；③工作关系的调整；④资源提供条件的调整；⑤必要目标的调整。</div>\n",
      "\n",
      "\n",
      "<div class=\"analysits Con\">施工方进度控制的措施主要包括组织措施、管理措施、经济措施和技术措施。</div>\n",
      "\n",
      "\n",
      "<div class=\"analysits Con\">施工进度控制的技术措施涉及对实现进度目标有利的设计技术和施工技术的选用。在工程进度受阻时，应分析：①是否存在设计技术的影响因素，为实现进度目标有无设计变更的必要和是否可能变更；②是否存在施工技术的影响因素，为实现进度目标有无改变施工技术、施工方法和施工机械的可能性。</div>\n",
      "\n",
      "\n",
      "<div class=\"analysits Con\">施工方应视项目的特点和施工进度控制的需要，编制深度不同的控制性和直接指导项目施工的进度计划，以及按不同计划周期的计划等。为确保施工进度计划能得以实施，施工方还应编制劳动力需求计划、物资需求计划以及资金需求计划等。</div>\n",
      "\n",
      "\n",
      "<div class=\"analysits Con\">施工单位组织施工进度计划实施的工作有：①跟踪检查，收集实际进度数据；②将实际进度数据与进度计划比较；③分析计划执行情况；④对产生的偏差，采取措施予以纠正或调整计划；⑤检查措施的落实情况；⑥进度计划的变更必须与有关单位和部门及时沟通。</div>\n",
      "\n",
      "\n",
      "<div class=\"analysits Con\">施工单位进度控制的组织体系包括：①设专门的进度控制工作部门；②由符合进度控制岗位资格的专人负责进度控制工作；③编制进度控制的任务分工表；④编制进度控制的管理职能分工表；⑤编制进度控制的工作流程；⑥确定进度控制的协调机制；⑦确定有关进度控制的会议组织设计等。B项属于进度控制的经济措施。</div>\n",
      "\n",
      "\n",
      "<div class=\"analysits Con\">进行有关进度控制会议的组织设计的目的是明确会议的类型，会议的主持人、参加单位和人员，会议的召开时间，会议文件的整理、分发和确认等。</div>\n",
      "\n",
      "\n",
      "<div class=\"analysits Con\">常见的影响工程进度的风险有：组织风险、管理风险、技术风险、资源（人力、物力和财力）风险、合同风险等。</div>\n",
      "\n",
      "\n"
     ]
    }
   ],
   "source": [
    "single_analysis = []\n",
    "multiple_analysis = []\n",
    "\n",
    "for analysis_i in range(len(single_analysis_all)):\n",
    "    print(single_analysis_all[analysis_i].find(\"div\",attrs={\"class\":\"analysits Con\"}))\n",
    "    print('\\n')\n",
    "    #answer_right.append(anwser_all[answer_i].find(\"div\",attrs={\"class\":\"analysits Con\"}).string)\n",
    "#print(answer_right)\n",
    "for analysis_i in range(len(multiple_analysis_all)):\n",
    "    print(multiple_analysis_all[analysis_i].find(\"div\",attrs={\"class\":\"analysits Con\"}))\n",
    "    print('\\n')"
   ]
  },
  {
   "cell_type": "code",
   "execution_count": 2112,
   "metadata": {
    "scrolled": false
   },
   "outputs": [
    {
     "name": "stdout",
     "output_type": "stream",
     "text": [
      "<div class=\"analysits Con\">施工方进度控制的任务是依据施工任务委托合同对施工进度的要求控制施工工作进度，这是施工方履行合同的义务。施工方进度控制的主要工作环节包括：①编制施工进度计划及相关的资源需求计划；②组织施工进度计划的实施；③施工进度计划的检查与调整。</div>\n"
     ]
    }
   ],
   "source": [
    "print(multiple_analysis_all[0].find(\"div\",attrs={\"class\":\"analysits Con\"}))"
   ]
  },
  {
   "cell_type": "code",
   "execution_count": 2113,
   "metadata": {
    "collapsed": true
   },
   "outputs": [],
   "source": [
    "single_analay = []\n",
    "multiple_analay = []\n",
    "for i in range(len(single_analysis_all)):\n",
    "    single_analay_item = single_analysis_all[i].find(\"div\",attrs={\"class\":\"analysits Con\"}).contents\n",
    "    #print(analay_single)\n",
    "    single_analay.append(single_analay_item)\n",
    "    #print(analay_single)\n",
    "    \n",
    "for i in range(len(multiple_analysis_all)):\n",
    "    multiple_analay_item = multiple_analysis_all[i].find(\"div\",attrs={\"class\":\"analysits Con\"}).contents\n",
    "    #print(analay_single)\n",
    "    multiple_analay.append(multiple_analay_item)\n",
    "    #print(analay_single)"
   ]
  },
  {
   "cell_type": "code",
   "execution_count": 2114,
   "metadata": {
    "collapsed": true
   },
   "outputs": [],
   "source": [
    "single_analay_final = []\n",
    "for item in single_analay:\n",
    "    #analysis_file.write(\"%s\" % item)\n",
    "    single_s = ''\n",
    "    for i in item:\n",
    "        single_s = single_s + str(i)\n",
    "    single_analay_final.append(single_s)\n",
    "    #analysis_file.write(\"%s\\n\" % s)\n",
    "#analysis_file.close()\n",
    "\n",
    "multiple_analay_final = []\n",
    "for item in multiple_analay:\n",
    "    #analysis_file.write(\"%s\" % item)\n",
    "    multiple_s = ''\n",
    "    for i in item:\n",
    "        multiple_s = multiple_s + str(i)\n",
    "    multiple_analay_final.append(multiple_s)\n",
    "    #analysis_file.write(\"%s\\n\" % s)\n",
    "#analysis_file.close()"
   ]
  },
  {
   "cell_type": "code",
   "execution_count": 2115,
   "metadata": {
    "scrolled": true
   },
   "outputs": [
    {
     "name": "stdout",
     "output_type": "stream",
     "text": [
      "施工方进度控制的任务是依据施工任务委托合同对施工进度的要求控制施工工作进度，这是施工方履行合同的义务。施工方进度控制的主要工作环节包括：①编制施工进度计划及相关的资源需求计划；②组织施工进度计划的实施；③施工进度计划的检查与调整\n",
      "\n",
      "\n",
      "施工进度计划的调整包括下列内容：①工程量的调整；②工作(工序)起止时间的调整；③工作关系的调整；④资源提供条件的调整；⑤必要目标的调整。\n",
      "\n",
      "\n",
      "施工方进度控制的措施主要包括：①组织措施；②管理措施；③经济措施；④技术措施。A项属于经济措施；C项属于组织措施；D项属于技术措施。\n",
      "\n",
      "\n",
      "施工方进度控制的管理措施包括：①用工程网络计划的方法编制进度计划；②承发包模式的选择；③工程进度的风险管理；④重视信息技术在进度控制中的应用。\n",
      "\n",
      "\n",
      "施工方进度控制的管理措施包括：①施工进度控制的管理措施涉及管理的思想、管理的方法、管理的手段、承发包模式、合同管理和风险管理等；②用工程网络计划的方法编制进度计划，工程网络计划的方法有利于实现进度控制的科学化；③承发包模式的选择直接关系到工程实施的组织和协调；④为实现进度目标，不但应进行进度控制，还应注意分析影响工程进度的风险，并在分析的基础上采取风险管理措施，以减少进度失控的风险量；⑤应重视信息技术（包括相应的软件、局域网、互联网以及数据处理设备等）在进度控制中的应用。AD两项属于组织措施；C项属于技术措施。\n",
      "\n",
      "\n",
      "施工进度控制的技术措施涉及对实现施工进度目标有利的设计技术和施工技术的选用。具体包括：①不同的设计理念、设计技术路线、设计方案会对工程进度产生不同的影响，在工程进度受阻时，应分析是否存在设计技术的影响因素，为实现进度目标有无设计变更的必要和是否可能变更；②施工方案对工程进度有直接的影响，在决策其选用时，不仅应分析技术的先进性和经济合理性，还应考虑其对进度的影响。\n",
      "\n",
      "\n",
      "施工进度计划检查的内容包括：①检查工程量的完成情况；②检查工作时间的执行情况；③检查资源使用及与进度保证的情况；④前一次进度计划检查提出问题的整改情况。\n",
      "\n",
      "\n",
      "在施工方进度控制的组织措施中，进度控制工作包含了大量的组织和协调工作，而会议是组织和协调的重要手段，应进行有关进度控制会议的组织设计，以明确：①会议的类型；②各类会议的主持人和参加单位和人员；③各类会议的召开时间；④各类会议文件的整理、分发和确认等。\n",
      "\n",
      "\n",
      "施工进度控制在管理观念方面存在的主要问题是：①缺乏进度计划系统的观念；②缺乏动态控制的观念；③缺乏进度计划多方案比较和选优的观念。\n",
      "\n",
      "\n",
      "用工程网络计划的方法编制进度计划必须很严谨地分析和考虑工作之间的逻辑关系，通过工程网络的计算可发现关键工作和关键线路，也可知道非关键工作可使用的时差，工程网络计划的方法有利于实现进度控制的科学化，属于施工方进度控制的管理措施。\n",
      "\n",
      "\n",
      "为实现进度目标，不但应进行进度控制，还应注意分析影响工程进度的风险，并在分析的基础上采取风险管理措施，以减少进度失控的风险量。\n",
      "\n",
      "\n",
      "施工方进度控制的任务是依据施工任务委托合同对施工进度的要求控制施工工作进度，这是施工方履行合同的义务。施工方进度控制的主要工作环节包括：①编制施工进度计划及相关的资源需求计划；②组织施工进度计划的实施；③施工进度计划的检查与调整。\n",
      "\n",
      "\n",
      "施工进度计划检查后应按下列内容编制进度报告：①进度计划实施情况的综合描述；②实际工程进度与计划进度的比较；③进度计划在实施过程中存在的问题及其原因分析；④进度执行情况对工程质量、安全和施工成本的影响情况；⑤将采取的措施；⑥进度的预测。\n",
      "\n",
      "\n",
      "施工进度计划的调整应包括下列内容：①工程量的调整；②工作（工序）起止时间的调整；③工作关系的调整；④资源提供条件的调整；⑤必要目标的调整。\n",
      "\n",
      "\n",
      "施工方进度控制的措施主要包括组织措施、管理措施、经济措施和技术措施。\n",
      "\n",
      "\n",
      "施工进度控制的技术措施涉及对实现进度目标有利的设计技术和施工技术的选用。在工程进度受阻时，应分析：①是否存在设计技术的影响因素，为实现进度目标有无设计变更的必要和是否可能变更；②是否存在施工技术的影响因素，为实现进度目标有无改变施工技术、施工方法和施工机械的可能性。\n",
      "\n",
      "\n",
      "施工方应视项目的特点和施工进度控制的需要，编制深度不同的控制性和直接指导项目施工的进度计划，以及按不同计划周期的计划等。为确保施工进度计划能得以实施，施工方还应编制劳动力需求计划、物资需求计划以及资金需求计划等。\n",
      "\n",
      "\n",
      "施工单位组织施工进度计划实施的工作有：①跟踪检查，收集实际进度数据；②将实际进度数据与进度计划比较；③分析计划执行情况；④对产生的偏差，采取措施予以纠正或调整计划；⑤检查措施的落实情况；⑥进度计划的变更必须与有关单位和部门及时沟通。\n",
      "\n",
      "\n",
      "施工单位进度控制的组织体系包括：①设专门的进度控制工作部门；②由符合进度控制岗位资格的专人负责进度控制工作；③编制进度控制的任务分工表；④编制进度控制的管理职能分工表；⑤编制进度控制的工作流程；⑥确定进度控制的协调机制；⑦确定有关进度控制的会议组织设计等。B项属于进度控制的经济措施。\n",
      "\n",
      "\n",
      "进行有关进度控制会议的组织设计的目的是明确会议的类型，会议的主持人、参加单位和人员，会议的召开时间，会议文件的整理、分发和确认等。\n",
      "\n",
      "\n",
      "常见的影响工程进度的风险有：组织风险、管理风险、技术风险、资源（人力、物力和财力）风险、合同风险等。\n",
      "\n",
      "\n"
     ]
    }
   ],
   "source": [
    "import codecs\n",
    "single_analysis_file = codecs.open(single_baseurl + 'single_analysis_file.txt', 'w','utf-8')\n",
    "\n",
    "for s in single_analay_final:\n",
    "    print(s)\n",
    "    print(\"\\n\")\n",
    "    single_analysis_file.write(\"%s\\r\\n\" % s)\n",
    "    \n",
    "multiple_analysis_file = codecs.open(multiple_baseurl + 'multiple_analysis_file.txt', 'w','utf-8')\n",
    "\n",
    "for s in multiple_analay_final:\n",
    "    print(s)\n",
    "    print(\"\\n\")\n",
    "    multiple_analysis_file.write(\"%s\\r\\n\" % s)    \n",
    "    \n",
    "single_analysis_file.close()\n",
    "multiple_analysis_file.close()"
   ]
  },
  {
   "cell_type": "markdown",
   "metadata": {},
   "source": [
    "单选选项拼接"
   ]
  },
  {
   "cell_type": "code",
   "execution_count": 2116,
   "metadata": {
    "collapsed": true,
    "scrolled": true
   },
   "outputs": [],
   "source": [
    "\"\"\"\n",
    "question\n",
    "option_a\n",
    "option_b\n",
    "option_c\n",
    "option_d\n",
    "answer_right\n",
    "analay_final\n",
    "\"\"\"\n",
    "\n",
    "\"\"\"\n",
    "option= codecs.open(baseurl + 'option.txt', 'w','utf-8')\n",
    "\n",
    "for i in range(len(option_a)):\n",
    "    option.write(option_a[i].strip().replace(u'A\\uff0e','')\n",
    "                 +u'<br>'+option_b[i].strip().replace(u'B\\uff0e','')\n",
    "                 +u'<br>'+option_c[i].strip().replace(u'C\\uff0e','')\n",
    "                 +u'<br>'+option_d[i].replace(u'D\\uff0e','')\n",
    "                 )\n",
    "\"\"\"\n",
    "single_data = []\n",
    "for i in range(len(single_option_a)):\n",
    "    single_data_string = single_question[i].replace('（　　）','{{c1::（）}}') + \"\t\"+ single_option_a[i].strip().replace('A．','')+ '<br>' + single_option_b[i].strip().replace('B．','')+ '<br>'+ single_option_c[i].strip().replace('C．','')+ '<br>'+ single_option_d[i].replace('D．','')+ \"\t\"+ single_answer_right[i]+ \"\t\"+ single_analay_final[i]\n",
    "    single_data.append(single_data_string)\n",
    "data_single = codecs.open(single_baseurl + 'data_single.txt', 'w','utf-8')\n",
    "\n",
    "for i in range(len(single_data)):\n",
    "    data_single.write(single_data[i]+\"\\r\\n\")\n",
    "data_single.close()"
   ]
  },
  {
   "cell_type": "code",
   "execution_count": 2117,
   "metadata": {},
   "outputs": [
    {
     "data": {
      "text/plain": [
       "11"
      ]
     },
     "execution_count": 2117,
     "metadata": {},
     "output_type": "execute_result"
    }
   ],
   "source": [
    "len(single_data )"
   ]
  },
  {
   "cell_type": "markdown",
   "metadata": {},
   "source": [
    "多选选项拼接"
   ]
  },
  {
   "cell_type": "code",
   "execution_count": 2118,
   "metadata": {
    "collapsed": true
   },
   "outputs": [],
   "source": [
    "multiple_data = []\n",
    "for i in range(len(multiple_option_a)):\n",
    "    multiple_data_string = multiple_question[i].replace('（　　）','{{c1::（）}}') + \"\t\"+ multiple_option_a[i].strip().replace('A．','')+ '<br>' + multiple_option_b[i].strip().replace('B．','')+ '<br>'+ multiple_option_c[i].strip().replace('C．','')+ '<br>'+ multiple_option_d[i].replace('D．','')+ '<br>'+ multiple_option_e[i].replace('E．','')+ \"\t\"+ multiple_answer_right[i]+ \"\t\"+ multiple_analay_final[i]\n",
    "    multiple_data.append(multiple_data_string)\n",
    "data_multiple = codecs.open(multiple_baseurl + 'data_multiple.txt', 'w','utf-8')\n",
    "\n",
    "for i in range(len(multiple_data)):\n",
    "    data_multiple.write(multiple_data[i]+\"\\r\\n\")\n",
    "data_multiple.close()"
   ]
  },
  {
   "cell_type": "code",
   "execution_count": 2119,
   "metadata": {},
   "outputs": [
    {
     "data": {
      "text/plain": [
       "10"
      ]
     },
     "execution_count": 2119,
     "metadata": {},
     "output_type": "execute_result"
    }
   ],
   "source": [
    "len(multiple_data)"
   ]
  },
  {
   "cell_type": "code",
   "execution_count": null,
   "metadata": {
    "collapsed": true
   },
   "outputs": [],
   "source": []
  }
 ],
 "metadata": {
  "kernelspec": {
   "display_name": "Python 3",
   "language": "python",
   "name": "python3"
  },
  "language_info": {
   "codemirror_mode": {
    "name": "ipython",
    "version": 3
   },
   "file_extension": ".py",
   "mimetype": "text/x-python",
   "name": "python",
   "nbconvert_exporter": "python",
   "pygments_lexer": "ipython3",
   "version": "3.5.4"
  }
 },
 "nbformat": 4,
 "nbformat_minor": 2
}

{
 "cells": [
  {
   "cell_type": "markdown",
   "metadata": {},
   "source": [
    "## 处理选项 "
   ]
  },
  {
   "cell_type": "code",
   "execution_count": 1,
   "metadata": {
    "collapsed": true
   },
   "outputs": [],
   "source": [
    "import codecs\n",
    "\n",
    "baseurl = u'管理\\\\2Z101000  施工管理\\\\2Z101010　施工方的项目管理\\\\'\n",
    "option_a_file = codecs.open(baseurl+'option_a.txt', 'r','utf-8')\n",
    "option_b_file = codecs.open(baseurl+'option_b.txt', 'r','utf-8')\n",
    "option_c_file = codecs.open(baseurl+'option_c.txt', 'r','utf-8')\n",
    "option_d_file = codecs.open(baseurl+'option_d.txt', 'r','utf-8')\n",
    "\n",
    "\n",
    "option_a = option_a_file.readlines()\n",
    "option_b = option_b_file.readlines()\n",
    "option_c = option_c_file.readlines()\n",
    "option_d = option_d_file.readlines()\n",
    "\n",
    "option_a_file.close()\n",
    "option_b_file.close()\n",
    "option_c_file.close()\n",
    "option_d_file.close()"
   ]
  },
  {
   "cell_type": "code",
   "execution_count": 2,
   "metadata": {
    "scrolled": false
   },
   "outputs": [
    {
     "name": "stdout",
     "output_type": "stream",
     "text": [
      "<open file u'\\u7ba1\\u7406\\\\2Z101000  \\u65bd\\u5de5\\u7ba1\\u7406\\\\2Z101010\\u3000\\u65bd\\u5de5\\u65b9\\u7684\\u9879\\u76ee\\u7ba1\\u7406\\\\option.txt', mode 'wb' at 0x0000000005285B70>\n"
     ]
    }
   ],
   "source": [
    "import codecs\n",
    "\n",
    "option= codecs.open(baseurl + 'option.txt', 'w','utf-8')\n",
    "\n",
    "for i in range(len(option_a)):\n",
    "    option.write(option_a[i].strip().replace(u'A\\uff0e','')\n",
    "                 +u'<br>'+option_b[i].strip().replace(u'B\\uff0e','')\n",
    "                 +u'<br>'+option_c[i].strip().replace(u'C\\uff0e','')\n",
    "                 +u'<br>'+option_d[i].replace(u'D\\uff0e','')\n",
    "                 )\n",
    "print(option)\n",
    "option.close()"
   ]
  },
  {
   "cell_type": "code",
   "execution_count": 5,
   "metadata": {
    "scrolled": true
   },
   "outputs": [
    {
     "data": {
      "text/plain": [
       "u'A\\uff0e'"
      ]
     },
     "execution_count": 5,
     "metadata": {},
     "output_type": "execute_result"
    }
   ],
   "source": [
    "u'A．'"
   ]
  },
  {
   "cell_type": "markdown",
   "metadata": {},
   "source": [
    "## 处理问题"
   ]
  },
  {
   "cell_type": "code",
   "execution_count": 3,
   "metadata": {
    "collapsed": true
   },
   "outputs": [],
   "source": [
    "import codecs\n",
    "\n",
    "question_file = codecs.open(baseurl + 'question.txt', 'r','utf-8')"
   ]
  },
  {
   "cell_type": "code",
   "execution_count": 4,
   "metadata": {
    "collapsed": true
   },
   "outputs": [],
   "source": [
    "question = question_file.readlines()"
   ]
  },
  {
   "cell_type": "code",
   "execution_count": null,
   "metadata": {
    "collapsed": true
   },
   "outputs": [],
   "source": [
    "u'（　　）'"
   ]
  },
  {
   "cell_type": "code",
   "execution_count": 5,
   "metadata": {},
   "outputs": [
    {
     "data": {
      "text/plain": [
       "[u'1. \\u9879\\u76ee\\u7ba1\\u7406\\u7684\\u6838\\u5fc3\\u4efb\\u52a1\\u662f\\u9879\\u76ee\\u7684\\uff08\\u3000\\u3000\\uff09\\u3002[2010\\u5e74\\u771f\\u9898]\\r\\n',\n",
       " u'2. \\u6839\\u636e\\u5efa\\u8bbe\\u5de5\\u7a0b\\u9879\\u76ee\\u7684\\u9636\\u6bb5\\u5212\\u5206\\uff0c\\u5c5e\\u4e8e\\u8bbe\\u8ba1\\u51c6\\u5907\\u9636\\u6bb5\\u5de5\\u4f5c\\u7684\\u662f\\uff08\\u3000\\u3000\\uff09\\u3002[2013\\u5e74\\u771f\\u9898]\\r\\n',\n",
       " u'3. \\u5efa\\u8bbe\\u5de5\\u7a0b\\u9879\\u76ee\\u4f9b\\u8d27\\u65b9\\u7684\\u9879\\u76ee\\u7ba1\\u7406\\u4e3b\\u8981\\u5728\\uff08\\u3000\\u3000\\uff09\\u9636\\u6bb5\\u8fdb\\u884c\\u3002[2015\\u5e74\\u771f\\u9898]\\r\\n',\n",
       " u'4. \\u7532\\u5355\\u4f4d\\u62df\\u65b0\\u5efa\\u4e00\\u7535\\u6559\\u4e2d\\u5fc3\\uff0c\\u7ecf\\u8bbe\\u8ba1\\u62db\\u6807\\uff0c\\u7531\\u4e59\\u8bbe\\u8ba1\\u9662\\u627f\\u62c5\\u8be5\\u9879\\u76ee\\u8bbe\\u8ba1\\u4efb\\u52a1\\uff0c\\u4e0b\\u5217\\u76ee\\u6807\\u4e2d\\uff0c\\u4e0d\\u5c5e\\u4e8e\\u4e59\\u8bbe\\u8ba1\\u9662\\u9879\\u76ee\\u7ba1\\u7406\\u76ee\\u6807\\u7684\\u662f\\uff08\\u3000\\u3000\\uff09\\u3002[2011\\u5e74\\u771f\\u9898]\\r\\n',\n",
       " u'5. \\u5efa\\u8bbe\\u9879\\u76ee\\u603b\\u627f\\u5305\\u7684\\u6838\\u5fc3\\u610f\\u4e49\\u5728\\u4e8e\\uff08\\u3000\\u3000\\uff09\\u3002[2015\\u5e74\\u771f\\u9898]\\r\\n',\n",
       " u'6. \\u5173\\u4e8e\\u65bd\\u5de5\\u603b\\u627f\\u5305\\u65b9\\u9879\\u76ee\\u7ba1\\u7406\\u4efb\\u52a1\\u7684\\u8bf4\\u6cd5\\uff0c\\u6b63\\u786e\\u7684\\u662f\\uff08\\u3000\\u3000\\uff09\\u3002\\uff3b2014\\u5e74\\u771f\\u9898\\uff3d\\r\\n',\n",
       " u'7. \\u5173\\u4e8e\\u65bd\\u5de5\\u65b9\\u9879\\u76ee\\u7ba1\\u7406\\u76ee\\u6807\\u548c\\u4efb\\u52a1\\u7684\\u8bf4\\u6cd5\\uff0c\\u6b63\\u786e\\u7684\\u662f\\uff08\\u3000\\u3000\\uff09\\u3002[2013\\u5e74\\u771f\\u9898]\\r\\n',\n",
       " u'8. \\u67d0\\u5efa\\u8bbe\\u9879\\u76ee\\u91c7\\u7528\\u65bd\\u5de5\\u603b\\u627f\\u5305\\u7ba1\\u7406\\u6a21\\u5f0f\\uff0cR\\u76d1\\u7406\\u516c\\u53f8\\u627f\\u62c5\\u65bd\\u5de5\\u76d1\\u7406\\u4efb\\u52a1\\uff0cG\\u65bd\\u5de5\\u4f01\\u4e1a\\u627f\\u62c5\\u4e3b\\u8981\\u7684\\u65bd\\u5de5\\u4efb\\u52a1\\uff0c\\u4e1a\\u4e3b\\u5c06\\u5176\\u4e2d\\u7684\\u4e8c\\u6b21\\u88c5\\u4fee\\u53d1\\u5305\\u7ed9C\\u88c5\\u9970\\u516c\\u53f8\\u3002\\u5219C\\u88c5\\u9970\\u516c\\u53f8\\u5728\\u65bd\\u5de5\\u4e2d\\u5e94\\u63a5\\u53d7\\uff08\\u3000\\u3000\\uff09\\u7684\\u65bd\\u5de5\\u7ba1\\u7406\\u3002[2012\\u5e74\\u771f\\u9898]\\r\\n',\n",
       " u'9. \\u67d0\\u5de5\\u4f5c\\u9879\\u76ee\\u65bd\\u5de5\\u91c7\\u7528\\u65bd\\u5de5\\u603b\\u627f\\u5305\\u6a21\\u5f0f\\uff0c\\u5176\\u4e2d\\u7535\\u6c14\\u8bbe\\u5907\\u7531\\u4e1a\\u4e3b\\u6307\\u5b9a\\u7684\\u5206\\u5305\\u5355\\u4f4d\\u91c7\\u8d2d\\u548c\\u5b89\\u88c5\\uff0c\\u5219\\u5728\\u65bd\\u5de5\\u4e2d\\u8be5\\u5206\\u5305\\u5355\\u4f4d\\u5fc5\\u987b\\u63a5\\u53d7\\uff08\\u3000\\u3000\\uff09\\u7684\\u5de5\\u4f5c\\u6307\\u4ee4\\uff0c\\u670d\\u4ece\\u5176\\u603b\\u4f53\\u7684\\u9879\\u76ee\\u7ba1\\u7406\\u3002[2010\\u5e74\\u771f\\u9898]\\r\\n',\n",
       " u'10. \\u65bd\\u5de5\\u603b\\u627f\\u5305\\u7ba1\\u7406\\u6a21\\u5f0f\\u4e0b\\uff0c\\u5982\\u65bd\\u5de5\\u603b\\u627f\\u5305\\u7ba1\\u7406\\u5355\\u4f4d\\u60f3\\u627f\\u63a5\\u8be5\\u5de5\\u7a0b\\u90e8\\u5206\\u5de5\\u7a0b\\u7684\\u65bd\\u5de5\\u4efb\\u52a1\\uff0c\\u5219\\u5176\\u53d6\\u5f97\\u65bd\\u5de5\\u4efb\\u52a1\\u7684\\u5408\\u7406\\u9014\\u5f84\\u5e94\\u4e3a\\uff08\\u3000\\u3000\\uff09\\u3002[2015\\u5e74\\u771f\\u9898]\\r\\n',\n",
       " u'11. \\u5728\\u65bd\\u5de5\\u603b\\u627f\\u5305\\u7ba1\\u7406\\u6a21\\u5f0f\\u4e0b\\uff0c\\u5206\\u5305\\u5355\\u4f4d\\u4e00\\u822c\\u4e0e\\uff08\\u3000\\u3000\\uff09\\u7b7e\\u8ba2\\u5408\\u540c\\u3002[2013\\u5e74\\u771f\\u9898]\\r\\n',\n",
       " u'12. \\u67d0\\u5efa\\u8bbe\\u5de5\\u7a0b\\u9879\\u76ee\\u65bd\\u5de5\\u91c7\\u7528\\u65bd\\u5de5\\u603b\\u627f\\u5305\\u7ba1\\u7406\\u6a21\\u5f0f\\uff0c\\u5176\\u4e2d\\u7684\\u4e8c\\u6b21\\u88c5\\u9970\\u88c5\\u4fee\\u5de5\\u7a0b\\u7531\\u5efa\\u8bbe\\u5355\\u4f4d\\u53d1\\u5305\\u7ed9\\u4e59\\u5355\\u4f4d\\uff0c\\u5728\\u65bd\\u5de5\\u4e2d\\uff0c\\u4e59\\u5355\\u4f4d\\u5e94\\u8be5\\u76f4\\u63a5\\u63a5\\u53d7\\uff08\\u3000\\u3000\\uff09\\u7684\\u5de5\\u4f5c\\u6307\\u4ee4\\u3002[2011\\u5e74\\u771f\\u9898]\\r\\n',\n",
       " u'13. \\u5728\\u5de5\\u7a0b\\u9879\\u76ee\\u7ba1\\u7406\\u7684\\u5185\\u6db5\\u4e2d\\uff0c\\u9879\\u76ee\\u7b56\\u5212\\u6307\\u7684\\u662f\\u76ee\\u6807\\u63a7\\u5236\\u524d\\u7684\\u4e00\\u7cfb\\u5217\\uff08\\u3000\\u3000\\uff09\\u3002\\r\\n',\n",
       " u'14. \\u5efa\\u8bbe\\u5de5\\u7a0b\\u9879\\u76ee\\u7ba1\\u7406\\u4e2d\\u7684\\u8d39\\u7528\\u76ee\\u6807\\u5bf9\\u65bd\\u5de5\\u65b9\\u800c\\u8a00\\u662f\\uff08\\u3000\\u3000\\uff09\\u3002\\r\\n',\n",
       " u'15. \\u5728\\u9879\\u76ee\\u51b3\\u7b56\\u671f\\u7ba1\\u7406\\u5de5\\u4f5c\\u7684\\u4e3b\\u8981\\u4efb\\u52a1\\u662f\\uff08\\u3000\\u3000\\uff09\\u3002\\r\\n',\n",
       " u'16. \\u6309\\u5efa\\u8bbe\\u5de5\\u7a0b\\u9879\\u76ee\\u4e0d\\u540c\\u53c2\\u4e0e\\u65b9\\u7684\\u5de5\\u4f5c\\u6027\\u8d28\\u548c\\u7ec4\\u7ec7\\u7279\\u5f81\\u5212\\u5206\\uff0c\\u9879\\u76ee\\u7ba1\\u7406\\u7684\\u7c7b\\u578b\\u4e0d\\u5305\\u62ec\\uff08\\u3000\\u3000\\uff09\\u7684\\u9879\\u76ee\\u7ba1\\u7406\\u3002\\r\\n',\n",
       " u'17. \\uff08\\u3000\\u3000\\uff09\\u5305\\u62ec\\u6ee1\\u8db3\\u76f8\\u5e94\\u7684\\u6280\\u672f\\u89c4\\u8303\\u548c\\u6280\\u672f\\u6807\\u51c6\\u7684\\u89c4\\u5b9a\\uff0c\\u4ee5\\u53ca\\u6ee1\\u8db3\\u4e1a\\u4e3b\\u65b9\\u76f8\\u5e94\\u7684\\u8d28\\u91cf\\u8981\\u6c42\\u3002\\r\\n',\n",
       " u'18. \\u9879\\u76ee\\u5728\\u8fdb\\u5ea6\\u3001\\u6295\\u8d44\\u3001\\u8d28\\u91cf\\u76ee\\u6807\\u4e4b\\u95f4\\uff08\\u3000\\u3000\\uff09\\u7684\\u4e00\\u9762\\u662f\\u6307\\u8981\\u52a0\\u5feb\\u8fdb\\u5ea6\\u5f80\\u5f80\\u9700\\u8981\\u589e\\u52a0\\u6295\\u8d44\\uff0c\\u6b32\\u63d0\\u9ad8\\u8d28\\u91cf\\u5f80\\u5f80\\u4e5f\\u9700\\u8981\\u589e\\u52a0\\u6295\\u8d44\\uff0c\\u8fc7\\u5ea6\\u5730\\u7f29\\u77ed\\u8fdb\\u5ea6\\u4f1a\\u5f71\\u54cd\\u8d28\\u91cf\\u76ee\\u6807\\u7684\\u5b9e\\u73b0\\u3002\\r\\n',\n",
       " u'19. \\u7f16\\u5236\\u9879\\u76ee\\u5efa\\u8bae\\u4e66\\u5c5e\\u4e8e\\u5efa\\u8bbe\\u5de5\\u7a0b\\u9879\\u76ee\\u5168\\u5bff\\u547d\\u5468\\u671f\\uff08\\u3000\\u3000\\uff09\\u3002\\r\\n',\n",
       " u'20. \\u5728\\u4e1a\\u4e3b\\u65b9\\u9879\\u76ee\\u7ba1\\u7406\\u7684\\u4efb\\u52a1\\u4e2d\\uff0c\\u6700\\u91cd\\u8981\\u7684\\u4efb\\u52a1\\u662f\\uff08\\u3000\\u3000\\uff09\\u3002\\r\\n',\n",
       " u'21. \\u8bbe\\u8ba1\\u7684\\u6210\\u672c\\u76ee\\u6807\\u3001\\u8bbe\\u8ba1\\u7684\\u8fdb\\u5ea6\\u76ee\\u6807\\u548c\\u8bbe\\u8ba1\\u7684\\u8d28\\u91cf\\u76ee\\u6807\\uff0c\\u4ee5\\u53ca\\u9879\\u76ee\\u7684\\u6295\\u8d44\\u76ee\\u6807\\u662f\\u8bbe\\u8ba1\\u65b9\\u7684\\uff08\\u3000\\u3000\\uff09\\u6240\\u5305\\u542b\\u7684\\u5185\\u5bb9\\u3002\\r\\n',\n",
       " u'22. \\u65bd\\u5de5\\u65b9\\u7684\\u9879\\u76ee\\u7ba1\\u7406\\u4e0e\\u8bbe\\u8ba1\\u65b9\\u7684\\u9879\\u76ee\\u7ba1\\u7406\\u90fd\\u4e0d\\u6d89\\u53ca\\uff08\\u3000\\u3000\\uff09\\u3002\\r\\n',\n",
       " u'23. \\u6307\\u5b9a\\u7684\\u4f9b\\u5e94\\u5546\\u7684\\u9879\\u76ee\\u7ba1\\u7406\\u5de5\\u4f5c\\u4e3b\\u8981\\u5728\\u5efa\\u8bbe\\u5de5\\u7a0b\\u9879\\u76ee\\u7684\\uff08\\u3000\\u3000\\uff09\\u8fdb\\u884c\\u3002\\r\\n',\n",
       " u'24. \\u4f9d\\u636e\\u5efa\\u8bbe\\u5de5\\u7a0b\\u9879\\u76ee\\u7ba1\\u7406\\u7684\\u6982\\u5ff5\\uff0c\\u5efa\\u8bbe\\u5de5\\u7a0b\\u9879\\u76ee\\u603b\\u627f\\u5305\\u65b9\\u7684\\u9879\\u76ee\\u7ba1\\u7406\\u5de5\\u4f5c\\u6d89\\u53ca\\uff08\\u3000\\u3000\\uff09\\u5168\\u8fc7\\u7a0b\\u3002\\r\\n',\n",
       " u'25. \\u65bd\\u5de5\\u65b9\\u7684\\uff08\\u3000\\u3000\\uff09\\u5de5\\u4f5c\\u4e3b\\u8981\\u5728\\u65bd\\u5de5\\u9636\\u6bb5\\u8fdb\\u884c\\uff0c\\u540c\\u65f6\\u8be5\\u5de5\\u4f5c\\u4e5f\\u6d89\\u53ca\\u8bbe\\u8ba1\\u51c6\\u5907\\u9636\\u6bb5\\u3001\\u8bbe\\u8ba1\\u9636\\u6bb5\\u3001\\u52a8\\u7528\\u524d\\u51c6\\u5907\\u9636\\u6bb5\\u548c\\u4fdd\\u4fee\\u671f\\u3002\\r\\n',\n",
       " u'26. \\u65bd\\u5de5\\u603b\\u627f\\u5305\\u65b9\\u8981\\u8d1f\\u8d23\\uff08\\u3000\\u3000\\uff09\\u5206\\u5305\\u65bd\\u5de5\\u5355\\u4f4d\\u7684\\u65bd\\u5de5\\uff0c\\u5e76\\u4e3a\\u5206\\u5305\\u65bd\\u5de5\\u5355\\u4f4d\\u63d0\\u4f9b\\u548c\\u521b\\u9020\\u5fc5\\u8981\\u7684\\u65bd\\u5de5\\u6761\\u4ef6\\u3002\\r\\n',\n",
       " u'27. \\u603b\\u627f\\u5305\\u7ba1\\u7406\\u65b9\\u5bf9\\u6240\\u627f\\u5305\\u7684\\u5efa\\u8bbe\\u5de5\\u7a0b\\u65bd\\u5de5\\u8fdb\\u884c\\u603b\\u4f53\\u7ba1\\u7406\\u548c\\u534f\\u8c03\\uff0c\\u4e00\\u822c\\u60c5\\u51b5\\u4e0b\\uff08\\u3000\\u3000\\uff09\\u3002\\r\\n',\n",
       " u'28. \\u5728\\u591a\\u6570\\u6761\\u4ef6\\u4e0b\\uff0c\\u5efa\\u8bbe\\u5de5\\u7a0b\\u9879\\u76ee\\u603b\\u627f\\u5305\\u91c7\\u7528\\uff08\\u3000\\u3000\\uff09\\u3002\\r\\n',\n",
       " u'1. \\u5173\\u4e8e\\u5efa\\u8bbe\\u5de5\\u7a0b\\u9879\\u76ee\\u7ba1\\u7406\\u7684\\u8bf4\\u6cd5\\uff0c\\u6b63\\u786e\\u7684\\u6709\\uff08\\u3000\\u3000\\uff09\\u3002[2012\\u5e74\\u771f\\u9898]\\r\\n',\n",
       " u'2. \\u4e0b\\u5217\\u9879\\u76ee\\u7ba1\\u7406\\u5de5\\u4f5c\\u4e2d\\uff0c\\u5c5e\\u4e8e\\u65bd\\u5de5\\u65b9\\u9879\\u76ee\\u7ba1\\u7406\\u4efb\\u52a1\\u7684\\u6709\\uff08\\u3000\\u3000\\uff09\\u3002[2011\\u5e74\\u771f\\u9898]\\r\\n',\n",
       " u'3. \\u5173\\u4e8e\\u65bd\\u5de5\\u603b\\u627f\\u5305\\u7ba1\\u7406\\u65b9\\u8d23\\u4efb\\u7684\\u8bf4\\u6cd5\\uff0c\\u6b63\\u786e\\u7684\\u6709\\uff08\\u3000\\u3000\\uff09\\u3002[2012\\u5e74\\u771f\\u9898]\\r\\n',\n",
       " u'4. \\u4e1a\\u4e3b\\u65b9\\u9879\\u76ee\\u7ba1\\u7406\\u670d\\u52a1\\u4e8e\\u4e1a\\u4e3b\\u7684\\u5229\\u76ca\\uff0c\\u5176\\u9879\\u76ee\\u7ba1\\u7406\\u7684\\u76ee\\u6807\\u5305\\u62ec\\u9879\\u76ee\\u7684\\uff08\\u3000\\u3000\\uff09\\u3002\\r\\n',\n",
       " u'5. \\u4e0b\\u5217\\u5173\\u4e8e\\u4e1a\\u4e3b\\u65b9\\u9879\\u76ee\\u7ba1\\u7406\\u7684\\u76ee\\u6807\\u548c\\u4efb\\u52a1\\u7684\\u63cf\\u8ff0\\u6b63\\u786e\\u7684\\u6709\\uff08\\u3000\\u3000\\uff09\\u3002\\r\\n',\n",
       " u'6. \\u5efa\\u8bbe\\u5de5\\u7a0b\\u9879\\u76ee\\u7684\\u62db\\u6295\\u6807\\u5de5\\u4f5c\\u5206\\u6563\\u5728\\u8bbe\\u8ba1\\u524d\\u7684\\uff08\\u3000\\u3000\\uff09\\u8fdb\\u884c\\u3002\\r\\n',\n",
       " u'7. \\u9879\\u76ee\\u51b3\\u7b56\\u9636\\u6bb5\\u7684\\u4e3b\\u8981\\u4efb\\u52a1\\u662f\\uff08\\u3000\\u3000\\uff09\\u3002\\r\\n',\n",
       " u'8. \\u8bbe\\u8ba1\\u65b9\\u7684\\u9879\\u76ee\\u7ba1\\u7406\\u5de5\\u4f5c\\u4e3b\\u8981\\u5728\\u8bbe\\u8ba1\\u9636\\u6bb5\\u8fdb\\u884c\\uff0c\\u4f46\\u5b83\\u4e5f\\u4f1a\\u6d89\\u53ca\\uff08\\u3000\\u3000\\uff09\\u3002\\r\\n',\n",
       " u'9. \\u8bbe\\u8ba1\\u65b9\\u9879\\u76ee\\u7ba1\\u7406\\u7684\\u4efb\\u52a1\\u5305\\u62ec\\uff08\\u3000\\u3000\\uff09\\u3002\\r\\n',\n",
       " u'10. \\u5efa\\u8bbe\\u9879\\u76ee\\u603b\\u627f\\u5305\\u65b9\\u9879\\u76ee\\u7ba1\\u7406\\u7684\\u4e3b\\u8981\\u4efb\\u52a1\\u5305\\u62ec\\uff08\\u3000\\u3000\\uff09\\u3002\\r\\n',\n",
       " u'11. \\u65bd\\u5de5\\u65b9\\u9879\\u76ee\\u7ba1\\u7406\\u7684\\u76ee\\u6807\\u5305\\u62ec\\u65bd\\u5de5\\u7684\\uff08\\u3000\\u3000\\uff09\\u3002\\r\\n',\n",
       " u'12. \\u4e0b\\u5217\\u5c5e\\u4e8e\\u65bd\\u5de5\\u603b\\u627f\\u5305\\u65b9\\u4e3b\\u8981\\u7ba1\\u7406\\u4efb\\u52a1\\u7684\\u6709\\uff08\\u3000\\u3000\\uff09\\u3002\\r\\n',\n",
       " u'13. \\u5de5\\u7a0b\\u603b\\u627f\\u5305\\u548c\\u5de5\\u7a0b\\u9879\\u76ee\\u7ba1\\u7406\\u662f\\u56fd\\u9645\\u901a\\u884c\\u7684\\u5de5\\u7a0b\\u5efa\\u8bbe\\u9879\\u76ee\\u7ec4\\u7ec7\\u65b9\\u5f0f\\uff0c\\u5efa\\u8bbe\\u5de5\\u7a0b\\u9879\\u76ee\\u603b\\u627f\\u5305\\u7684\\u610f\\u4e49\\u5728\\u4e8e\\uff08\\u3000\\u3000\\uff09\\u3002\\r\\n']"
      ]
     },
     "execution_count": 5,
     "metadata": {},
     "output_type": "execute_result"
    }
   ],
   "source": [
    "question"
   ]
  }
 ],
 "metadata": {
  "kernelspec": {
   "display_name": "Python 2",
   "language": "python",
   "name": "python2"
  },
  "language_info": {
   "codemirror_mode": {
    "name": "ipython",
    "version": 2
   },
   "file_extension": ".py",
   "mimetype": "text/x-python",
   "name": "python",
   "nbconvert_exporter": "python",
   "pygments_lexer": "ipython2",
   "version": "2.7.13"
  }
 },
 "nbformat": 4,
 "nbformat_minor": 2
}
